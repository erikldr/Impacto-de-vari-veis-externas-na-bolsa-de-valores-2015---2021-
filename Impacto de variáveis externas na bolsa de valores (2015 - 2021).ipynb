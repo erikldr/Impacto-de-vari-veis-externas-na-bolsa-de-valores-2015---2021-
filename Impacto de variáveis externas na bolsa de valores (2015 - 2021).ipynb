{
 "cells": [
  {
   "cell_type": "markdown",
   "id": "7ad08aa2",
   "metadata": {},
   "source": [
    "## Observando a variação do principal Indice Brasileiro (Ibovespa) nos ultimos 6 anos"
   ]
  },
  {
   "cell_type": "markdown",
   "id": "88c7f67f",
   "metadata": {},
   "source": [
    "**Importação das bibliotécas necessárias**"
   ]
  },
  {
   "cell_type": "code",
   "execution_count": 1,
   "id": "3244600e",
   "metadata": {},
   "outputs": [
    {
     "data": {
      "text/plain": [
       "Renderers configuration\n",
       "-----------------------\n",
       "    Default renderer: 'plotly_mimetype+notebook'\n",
       "    Available renderers:\n",
       "        ['plotly_mimetype', 'jupyterlab', 'nteract', 'vscode',\n",
       "         'notebook', 'notebook_connected', 'kaggle', 'azure', 'colab',\n",
       "         'cocalc', 'databricks', 'json', 'png', 'jpeg', 'jpg', 'svg',\n",
       "         'pdf', 'browser', 'firefox', 'chrome', 'chromium', 'iframe',\n",
       "         'iframe_connected', 'sphinx_gallery', 'sphinx_gallery_png']"
      ]
     },
     "execution_count": 1,
     "metadata": {},
     "output_type": "execute_result"
    }
   ],
   "source": [
    "import plotly\n",
    "import plotly.offline as py\n",
    "import pandas as pd\n",
    "import matplotlib.pyplot as plt\n",
    "import plotly.graph_objs as go\n",
    "import plotly.io as pio\n",
    "pio.renderers"
   ]
  },
  {
   "cell_type": "markdown",
   "id": "c153c25e",
   "metadata": {},
   "source": [
    "**Definindo o modo de plot do plotly para offline**"
   ]
  },
  {
   "cell_type": "code",
   "execution_count": 2,
   "id": "066f9fa1",
   "metadata": {},
   "outputs": [
    {
     "data": {
      "text/html": [
       "        <script type=\"text/javascript\">\n",
       "        window.PlotlyConfig = {MathJaxConfig: 'local'};\n",
       "        if (window.MathJax) {MathJax.Hub.Config({SVG: {font: \"STIX-Web\"}});}\n",
       "        if (typeof require !== 'undefined') {\n",
       "        require.undef(\"plotly\");\n",
       "        requirejs.config({\n",
       "            paths: {\n",
       "                'plotly': ['https://cdn.plot.ly/plotly-latest.min']\n",
       "            }\n",
       "        });\n",
       "        require(['plotly'], function(Plotly) {\n",
       "            window._Plotly = Plotly;\n",
       "        });\n",
       "        }\n",
       "        </script>\n",
       "        "
      ]
     },
     "metadata": {},
     "output_type": "display_data"
    }
   ],
   "source": [
    "plotly.offline.init_notebook_mode(connected=True)"
   ]
  },
  {
   "cell_type": "markdown",
   "id": "76eeb2d5",
   "metadata": {},
   "source": [
    "**Escolhendo o estilo dos plots**"
   ]
  },
  {
   "cell_type": "code",
   "execution_count": 3,
   "id": "7a0d795e",
   "metadata": {},
   "outputs": [],
   "source": [
    "plt.style.use('classic')"
   ]
  },
  {
   "cell_type": "markdown",
   "id": "58298a9c",
   "metadata": {},
   "source": [
    "**Carregando a base de dados, nesse caso, utilizaremos os dados do Ibovespa.**"
   ]
  },
  {
   "cell_type": "code",
   "execution_count": 4,
   "id": "52798069",
   "metadata": {},
   "outputs": [],
   "source": [
    "df = pd.read_csv('IBOV.csv')"
   ]
  },
  {
   "cell_type": "code",
   "execution_count": 5,
   "id": "27cb2e92",
   "metadata": {},
   "outputs": [
    {
     "data": {
      "text/html": [
       "<div>\n",
       "<style scoped>\n",
       "    .dataframe tbody tr th:only-of-type {\n",
       "        vertical-align: middle;\n",
       "    }\n",
       "\n",
       "    .dataframe tbody tr th {\n",
       "        vertical-align: top;\n",
       "    }\n",
       "\n",
       "    .dataframe thead th {\n",
       "        text-align: right;\n",
       "    }\n",
       "</style>\n",
       "<table border=\"1\" class=\"dataframe\">\n",
       "  <thead>\n",
       "    <tr style=\"text-align: right;\">\n",
       "      <th></th>\n",
       "      <th>Date</th>\n",
       "      <th>Open</th>\n",
       "      <th>High</th>\n",
       "      <th>Low</th>\n",
       "      <th>Close</th>\n",
       "      <th>Adj Close</th>\n",
       "      <th>Volume</th>\n",
       "    </tr>\n",
       "  </thead>\n",
       "  <tbody>\n",
       "    <tr>\n",
       "      <th>311</th>\n",
       "      <td>2021-06-21</td>\n",
       "      <td>128405.0</td>\n",
       "      <td>129901.0</td>\n",
       "      <td>126697.0</td>\n",
       "      <td>127256.0</td>\n",
       "      <td>127256.0</td>\n",
       "      <td>41251300</td>\n",
       "    </tr>\n",
       "    <tr>\n",
       "      <th>312</th>\n",
       "      <td>2021-06-28</td>\n",
       "      <td>127255.0</td>\n",
       "      <td>128067.0</td>\n",
       "      <td>124994.0</td>\n",
       "      <td>127622.0</td>\n",
       "      <td>127622.0</td>\n",
       "      <td>41758900</td>\n",
       "    </tr>\n",
       "  </tbody>\n",
       "</table>\n",
       "</div>"
      ],
      "text/plain": [
       "           Date      Open      High       Low     Close  Adj Close    Volume\n",
       "311  2021-06-21  128405.0  129901.0  126697.0  127256.0   127256.0  41251300\n",
       "312  2021-06-28  127255.0  128067.0  124994.0  127622.0   127622.0  41758900"
      ]
     },
     "execution_count": 5,
     "metadata": {},
     "output_type": "execute_result"
    }
   ],
   "source": [
    "df.tail(2)"
   ]
  },
  {
   "cell_type": "markdown",
   "id": "409bb5d6",
   "metadata": {},
   "source": [
    "* Nossa base de dados possui uma coluna \"Date\" que agrupa os dados das outras 6 colunas referentes a preços.\n",
    "* Cada linha representa dados de uma semana, sendo assim cada candlestick agrupara os dados de todos os 5 dias de operação do indice."
   ]
  },
  {
   "cell_type": "code",
   "execution_count": 6,
   "id": "6638eb07",
   "metadata": {},
   "outputs": [
    {
     "name": "stdout",
     "output_type": "stream",
     "text": [
      "<class 'pandas.core.frame.DataFrame'>\n",
      "RangeIndex: 313 entries, 0 to 312\n",
      "Data columns (total 7 columns):\n",
      " #   Column     Non-Null Count  Dtype  \n",
      "---  ------     --------------  -----  \n",
      " 0   Date       313 non-null    object \n",
      " 1   Open       313 non-null    float64\n",
      " 2   High       313 non-null    float64\n",
      " 3   Low        313 non-null    float64\n",
      " 4   Close      313 non-null    float64\n",
      " 5   Adj Close  313 non-null    float64\n",
      " 6   Volume     313 non-null    int64  \n",
      "dtypes: float64(5), int64(1), object(1)\n",
      "memory usage: 17.2+ KB\n"
     ]
    }
   ],
   "source": [
    "df.info()"
   ]
  },
  {
   "cell_type": "code",
   "execution_count": 7,
   "id": "9202dd5c",
   "metadata": {},
   "outputs": [
    {
     "data": {
      "application/vnd.plotly.v1+json": {
       "config": {
        "linkText": "Export to plotly.com",
        "plotlyServerURL": "https://plotly.com",
        "showLink": false
       },
       "data": [
        {
         "line": {
          "color": "#17BECF"
         },
         "name": "IBOV High",
         "opacity": 0.8,
         "type": "scatter",
         "x": [
          "2015-07-06",
          "2015-07-13",
          "2015-07-20",
          "2015-07-27",
          "2015-08-03",
          "2015-08-10",
          "2015-08-17",
          "2015-08-24",
          "2015-08-31",
          "2015-09-07",
          "2015-09-14",
          "2015-09-21",
          "2015-09-28",
          "2015-10-05",
          "2015-10-12",
          "2015-10-19",
          "2015-10-26",
          "2015-11-02",
          "2015-11-09",
          "2015-11-16",
          "2015-11-23",
          "2015-11-30",
          "2015-12-07",
          "2015-12-14",
          "2015-12-21",
          "2015-12-28",
          "2016-01-04",
          "2016-01-11",
          "2016-01-18",
          "2016-01-25",
          "2016-02-01",
          "2016-02-08",
          "2016-02-15",
          "2016-02-22",
          "2016-02-29",
          "2016-03-07",
          "2016-03-14",
          "2016-03-21",
          "2016-03-28",
          "2016-04-04",
          "2016-04-11",
          "2016-04-18",
          "2016-04-25",
          "2016-05-02",
          "2016-05-09",
          "2016-05-16",
          "2016-05-23",
          "2016-05-30",
          "2016-06-06",
          "2016-06-13",
          "2016-06-20",
          "2016-06-27",
          "2016-07-04",
          "2016-07-11",
          "2016-07-18",
          "2016-07-25",
          "2016-08-01",
          "2016-08-08",
          "2016-08-15",
          "2016-08-22",
          "2016-08-29",
          "2016-09-05",
          "2016-09-12",
          "2016-09-19",
          "2016-09-26",
          "2016-10-03",
          "2016-10-10",
          "2016-10-17",
          "2016-10-24",
          "2016-10-31",
          "2016-11-07",
          "2016-11-14",
          "2016-11-21",
          "2016-11-28",
          "2016-12-05",
          "2016-12-12",
          "2016-12-19",
          "2016-12-26",
          "2017-01-02",
          "2017-01-09",
          "2017-01-16",
          "2017-01-23",
          "2017-01-30",
          "2017-02-06",
          "2017-02-13",
          "2017-02-20",
          "2017-02-27",
          "2017-03-06",
          "2017-03-13",
          "2017-03-20",
          "2017-03-27",
          "2017-04-03",
          "2017-04-10",
          "2017-04-17",
          "2017-04-24",
          "2017-05-01",
          "2017-05-08",
          "2017-05-15",
          "2017-05-22",
          "2017-05-29",
          "2017-06-05",
          "2017-06-12",
          "2017-06-19",
          "2017-06-26",
          "2017-07-03",
          "2017-07-10",
          "2017-07-17",
          "2017-07-24",
          "2017-07-31",
          "2017-08-07",
          "2017-08-14",
          "2017-08-21",
          "2017-08-28",
          "2017-09-04",
          "2017-09-11",
          "2017-09-18",
          "2017-09-25",
          "2017-10-02",
          "2017-10-09",
          "2017-10-16",
          "2017-10-23",
          "2017-10-30",
          "2017-11-06",
          "2017-11-13",
          "2017-11-20",
          "2017-11-27",
          "2017-12-04",
          "2017-12-11",
          "2017-12-18",
          "2017-12-25",
          "2018-01-01",
          "2018-01-08",
          "2018-01-15",
          "2018-01-22",
          "2018-01-29",
          "2018-02-05",
          "2018-02-12",
          "2018-02-19",
          "2018-02-26",
          "2018-03-05",
          "2018-03-12",
          "2018-03-19",
          "2018-03-26",
          "2018-04-02",
          "2018-04-09",
          "2018-04-16",
          "2018-04-23",
          "2018-04-30",
          "2018-05-07",
          "2018-05-14",
          "2018-05-21",
          "2018-05-28",
          "2018-06-04",
          "2018-06-11",
          "2018-06-18",
          "2018-06-25",
          "2018-07-02",
          "2018-07-09",
          "2018-07-16",
          "2018-07-23",
          "2018-07-30",
          "2018-08-06",
          "2018-08-13",
          "2018-08-20",
          "2018-08-27",
          "2018-09-03",
          "2018-09-10",
          "2018-09-17",
          "2018-09-24",
          "2018-10-01",
          "2018-10-08",
          "2018-10-15",
          "2018-10-22",
          "2018-10-29",
          "2018-11-05",
          "2018-11-12",
          "2018-11-19",
          "2018-11-26",
          "2018-12-03",
          "2018-12-10",
          "2018-12-17",
          "2018-12-24",
          "2018-12-31",
          "2019-01-07",
          "2019-01-14",
          "2019-01-21",
          "2019-01-28",
          "2019-02-04",
          "2019-02-11",
          "2019-02-18",
          "2019-02-25",
          "2019-03-04",
          "2019-03-11",
          "2019-03-18",
          "2019-03-25",
          "2019-04-01",
          "2019-04-08",
          "2019-04-15",
          "2019-04-22",
          "2019-04-29",
          "2019-05-06",
          "2019-05-13",
          "2019-05-20",
          "2019-05-27",
          "2019-06-03",
          "2019-06-10",
          "2019-06-17",
          "2019-06-24",
          "2019-07-01",
          "2019-07-08",
          "2019-07-15",
          "2019-07-22",
          "2019-07-29",
          "2019-08-05",
          "2019-08-12",
          "2019-08-19",
          "2019-08-26",
          "2019-09-02",
          "2019-09-09",
          "2019-09-16",
          "2019-09-23",
          "2019-09-30",
          "2019-10-07",
          "2019-10-14",
          "2019-10-21",
          "2019-10-28",
          "2019-11-04",
          "2019-11-11",
          "2019-11-18",
          "2019-11-25",
          "2019-12-02",
          "2019-12-09",
          "2019-12-16",
          "2019-12-23",
          "2019-12-30",
          "2020-01-06",
          "2020-01-13",
          "2020-01-20",
          "2020-01-27",
          "2020-02-03",
          "2020-02-10",
          "2020-02-17",
          "2020-02-24",
          "2020-03-02",
          "2020-03-09",
          "2020-03-16",
          "2020-03-23",
          "2020-03-30",
          "2020-04-06",
          "2020-04-13",
          "2020-04-20",
          "2020-04-27",
          "2020-05-04",
          "2020-05-11",
          "2020-05-18",
          "2020-05-25",
          "2020-06-01",
          "2020-06-08",
          "2020-06-15",
          "2020-06-22",
          "2020-06-29",
          "2020-07-06",
          "2020-07-13",
          "2020-07-20",
          "2020-07-27",
          "2020-08-03",
          "2020-08-10",
          "2020-08-17",
          "2020-08-24",
          "2020-08-31",
          "2020-09-07",
          "2020-09-14",
          "2020-09-21",
          "2020-09-28",
          "2020-10-05",
          "2020-10-12",
          "2020-10-19",
          "2020-10-26",
          "2020-11-02",
          "2020-11-09",
          "2020-11-16",
          "2020-11-23",
          "2020-11-30",
          "2020-12-07",
          "2020-12-14",
          "2020-12-21",
          "2020-12-28",
          "2021-01-04",
          "2021-01-11",
          "2021-01-18",
          "2021-01-25",
          "2021-02-01",
          "2021-02-08",
          "2021-02-15",
          "2021-02-22",
          "2021-03-01",
          "2021-03-08",
          "2021-03-15",
          "2021-03-22",
          "2021-03-29",
          "2021-04-05",
          "2021-04-12",
          "2021-04-19",
          "2021-04-26",
          "2021-05-03",
          "2021-05-10",
          "2021-05-17",
          "2021-05-24",
          "2021-05-31",
          "2021-06-07",
          "2021-06-14",
          "2021-06-21",
          "2021-06-28"
         ],
         "y": [
          52591,
          52342,
          49246,
          50865,
          48577,
          47508,
          45720,
          47154,
          46498,
          46401,
          47264,
          44831,
          47033,
          49338,
          47236,
          47597,
          45869,
          46919,
          46517,
          48139,
          45873,
          45361,
          45263,
          43911,
          44015,
          43350,
          40612,
          38569,
          38031,
          40406,
          40592,
          39808,
          41543,
          41593,
          49085,
          49639,
          50815,
          49657,
          50562,
          50293,
          53228,
          52908,
          53911,
          51718,
          51804,
          49723,
          49051,
          50619,
          49422,
          49534,
          50105,
          52233,
          53141,
          55578,
          57002,
          57308,
          57661,
          58298,
          59099,
          57716,
          59616,
          58000,
          57080,
          58697,
          58367,
          61109,
          61767,
          64108,
          64308,
          61598,
          59184,
          59962,
          61559,
          60316,
          60501,
          58389,
          57937,
          60227,
          61665,
          63652,
          64521,
          66034,
          64954,
          66125,
          67748,
          66662,
          66786,
          64675,
          64210,
          63854,
          64984,
          64593,
          62826,
          63761,
          65403,
          65710,
          68222,
          62639,
          64085,
          62511,
          62211,
          61626,
          61087,
          62900,
          62322,
          65436,
          64684,
          65497,
          66898,
          67359,
          68715,
          71074,
          71923,
          73079,
          75757,
          75390,
          74294,
          76055,
          76990,
          76391,
          75976,
          73915,
          72166,
          73437,
          74157,
          72264,
          72732,
          72608,
          75187,
          76402,
          79071,
          79349,
          81220,
          85531,
          84041,
          80899,
          84525,
          87293,
          85761,
          86371,
          84886,
          84377,
          85366,
          84820,
          84334,
          85550,
          86445,
          83118,
          85220,
          83082,
          78898,
          77240,
          72942,
          70758,
          70641,
          72763,
          75010,
          76594,
          78571,
          79866,
          81435,
          76514,
          76029,
          76262,
          76678,
          76416,
          75429,
          79444,
          79342,
          82322,
          82921,
          84220,
          85720,
          88419,
          85641,
          88515,
          86230,
          89504,
          88115,
          87450,
          85697,
          87887,
          91841,
          93658,
          96097,
          97677,
          97861,
          95343,
          97526,
          97886,
          94604,
          95365,
          99137,
          93735,
          95415,
          97108,
          92875,
          94578,
          96236,
          96008,
          94258,
          89993,
          93628,
          97030,
          97821,
          98040,
          102013,
          100967,
          104089,
          103906,
          103452,
          102819,
          102674,
          103996,
          99806,
          97667,
          101135,
          102935,
          103501,
          104817,
          105078,
          102551,
          103832,
          104729,
          107364,
          108196,
          107629,
          106557,
          108692,
          108233,
          111126,
          112565,
          115121,
          116534,
          117707,
          115503,
          118478,
          118376,
          113761,
          113770,
          114381,
          113681,
          104172,
          97997,
          82678,
          67069,
          73429,
          69538,
          77682,
          78990,
          75331,
          80506,
          80263,
          77557,
          82173,
          87403,
          94637,
          92795,
          96572,
          93834,
          96765,
          100032,
          102888,
          102382,
          102912,
          102776,
          101353,
          101521,
          102143,
          101242,
          98363,
          98290,
          96999,
          94016,
          97483,
          98309,
          101260,
          93952,
          100799,
          104512,
          106042,
          110575,
          113682,
          115323,
          117679,
          117857,
          119306,
          125077,
          120502,
          117172,
          116007,
          119925,
          119116,
          118748,
          110035,
          115202,
          114160,
          116222,
          114781,
          115253,
          117670,
          121114,
          120530,
          118894,
          122038,
          121881,
          122592,
          125561,
          130126,
          129441,
          128405,
          127256,
          127622
         ]
        }
       ],
       "layout": {
        "template": {
         "data": {
          "bar": [
           {
            "error_x": {
             "color": "#2a3f5f"
            },
            "error_y": {
             "color": "#2a3f5f"
            },
            "marker": {
             "line": {
              "color": "#E5ECF6",
              "width": 0.5
             }
            },
            "type": "bar"
           }
          ],
          "barpolar": [
           {
            "marker": {
             "line": {
              "color": "#E5ECF6",
              "width": 0.5
             }
            },
            "type": "barpolar"
           }
          ],
          "carpet": [
           {
            "aaxis": {
             "endlinecolor": "#2a3f5f",
             "gridcolor": "white",
             "linecolor": "white",
             "minorgridcolor": "white",
             "startlinecolor": "#2a3f5f"
            },
            "baxis": {
             "endlinecolor": "#2a3f5f",
             "gridcolor": "white",
             "linecolor": "white",
             "minorgridcolor": "white",
             "startlinecolor": "#2a3f5f"
            },
            "type": "carpet"
           }
          ],
          "choropleth": [
           {
            "colorbar": {
             "outlinewidth": 0,
             "ticks": ""
            },
            "type": "choropleth"
           }
          ],
          "contour": [
           {
            "colorbar": {
             "outlinewidth": 0,
             "ticks": ""
            },
            "colorscale": [
             [
              0,
              "#0d0887"
             ],
             [
              0.1111111111111111,
              "#46039f"
             ],
             [
              0.2222222222222222,
              "#7201a8"
             ],
             [
              0.3333333333333333,
              "#9c179e"
             ],
             [
              0.4444444444444444,
              "#bd3786"
             ],
             [
              0.5555555555555556,
              "#d8576b"
             ],
             [
              0.6666666666666666,
              "#ed7953"
             ],
             [
              0.7777777777777778,
              "#fb9f3a"
             ],
             [
              0.8888888888888888,
              "#fdca26"
             ],
             [
              1,
              "#f0f921"
             ]
            ],
            "type": "contour"
           }
          ],
          "contourcarpet": [
           {
            "colorbar": {
             "outlinewidth": 0,
             "ticks": ""
            },
            "type": "contourcarpet"
           }
          ],
          "heatmap": [
           {
            "colorbar": {
             "outlinewidth": 0,
             "ticks": ""
            },
            "colorscale": [
             [
              0,
              "#0d0887"
             ],
             [
              0.1111111111111111,
              "#46039f"
             ],
             [
              0.2222222222222222,
              "#7201a8"
             ],
             [
              0.3333333333333333,
              "#9c179e"
             ],
             [
              0.4444444444444444,
              "#bd3786"
             ],
             [
              0.5555555555555556,
              "#d8576b"
             ],
             [
              0.6666666666666666,
              "#ed7953"
             ],
             [
              0.7777777777777778,
              "#fb9f3a"
             ],
             [
              0.8888888888888888,
              "#fdca26"
             ],
             [
              1,
              "#f0f921"
             ]
            ],
            "type": "heatmap"
           }
          ],
          "heatmapgl": [
           {
            "colorbar": {
             "outlinewidth": 0,
             "ticks": ""
            },
            "colorscale": [
             [
              0,
              "#0d0887"
             ],
             [
              0.1111111111111111,
              "#46039f"
             ],
             [
              0.2222222222222222,
              "#7201a8"
             ],
             [
              0.3333333333333333,
              "#9c179e"
             ],
             [
              0.4444444444444444,
              "#bd3786"
             ],
             [
              0.5555555555555556,
              "#d8576b"
             ],
             [
              0.6666666666666666,
              "#ed7953"
             ],
             [
              0.7777777777777778,
              "#fb9f3a"
             ],
             [
              0.8888888888888888,
              "#fdca26"
             ],
             [
              1,
              "#f0f921"
             ]
            ],
            "type": "heatmapgl"
           }
          ],
          "histogram": [
           {
            "marker": {
             "colorbar": {
              "outlinewidth": 0,
              "ticks": ""
             }
            },
            "type": "histogram"
           }
          ],
          "histogram2d": [
           {
            "colorbar": {
             "outlinewidth": 0,
             "ticks": ""
            },
            "colorscale": [
             [
              0,
              "#0d0887"
             ],
             [
              0.1111111111111111,
              "#46039f"
             ],
             [
              0.2222222222222222,
              "#7201a8"
             ],
             [
              0.3333333333333333,
              "#9c179e"
             ],
             [
              0.4444444444444444,
              "#bd3786"
             ],
             [
              0.5555555555555556,
              "#d8576b"
             ],
             [
              0.6666666666666666,
              "#ed7953"
             ],
             [
              0.7777777777777778,
              "#fb9f3a"
             ],
             [
              0.8888888888888888,
              "#fdca26"
             ],
             [
              1,
              "#f0f921"
             ]
            ],
            "type": "histogram2d"
           }
          ],
          "histogram2dcontour": [
           {
            "colorbar": {
             "outlinewidth": 0,
             "ticks": ""
            },
            "colorscale": [
             [
              0,
              "#0d0887"
             ],
             [
              0.1111111111111111,
              "#46039f"
             ],
             [
              0.2222222222222222,
              "#7201a8"
             ],
             [
              0.3333333333333333,
              "#9c179e"
             ],
             [
              0.4444444444444444,
              "#bd3786"
             ],
             [
              0.5555555555555556,
              "#d8576b"
             ],
             [
              0.6666666666666666,
              "#ed7953"
             ],
             [
              0.7777777777777778,
              "#fb9f3a"
             ],
             [
              0.8888888888888888,
              "#fdca26"
             ],
             [
              1,
              "#f0f921"
             ]
            ],
            "type": "histogram2dcontour"
           }
          ],
          "mesh3d": [
           {
            "colorbar": {
             "outlinewidth": 0,
             "ticks": ""
            },
            "type": "mesh3d"
           }
          ],
          "parcoords": [
           {
            "line": {
             "colorbar": {
              "outlinewidth": 0,
              "ticks": ""
             }
            },
            "type": "parcoords"
           }
          ],
          "pie": [
           {
            "automargin": true,
            "type": "pie"
           }
          ],
          "scatter": [
           {
            "marker": {
             "colorbar": {
              "outlinewidth": 0,
              "ticks": ""
             }
            },
            "type": "scatter"
           }
          ],
          "scatter3d": [
           {
            "line": {
             "colorbar": {
              "outlinewidth": 0,
              "ticks": ""
             }
            },
            "marker": {
             "colorbar": {
              "outlinewidth": 0,
              "ticks": ""
             }
            },
            "type": "scatter3d"
           }
          ],
          "scattercarpet": [
           {
            "marker": {
             "colorbar": {
              "outlinewidth": 0,
              "ticks": ""
             }
            },
            "type": "scattercarpet"
           }
          ],
          "scattergeo": [
           {
            "marker": {
             "colorbar": {
              "outlinewidth": 0,
              "ticks": ""
             }
            },
            "type": "scattergeo"
           }
          ],
          "scattergl": [
           {
            "marker": {
             "colorbar": {
              "outlinewidth": 0,
              "ticks": ""
             }
            },
            "type": "scattergl"
           }
          ],
          "scattermapbox": [
           {
            "marker": {
             "colorbar": {
              "outlinewidth": 0,
              "ticks": ""
             }
            },
            "type": "scattermapbox"
           }
          ],
          "scatterpolar": [
           {
            "marker": {
             "colorbar": {
              "outlinewidth": 0,
              "ticks": ""
             }
            },
            "type": "scatterpolar"
           }
          ],
          "scatterpolargl": [
           {
            "marker": {
             "colorbar": {
              "outlinewidth": 0,
              "ticks": ""
             }
            },
            "type": "scatterpolargl"
           }
          ],
          "scatterternary": [
           {
            "marker": {
             "colorbar": {
              "outlinewidth": 0,
              "ticks": ""
             }
            },
            "type": "scatterternary"
           }
          ],
          "surface": [
           {
            "colorbar": {
             "outlinewidth": 0,
             "ticks": ""
            },
            "colorscale": [
             [
              0,
              "#0d0887"
             ],
             [
              0.1111111111111111,
              "#46039f"
             ],
             [
              0.2222222222222222,
              "#7201a8"
             ],
             [
              0.3333333333333333,
              "#9c179e"
             ],
             [
              0.4444444444444444,
              "#bd3786"
             ],
             [
              0.5555555555555556,
              "#d8576b"
             ],
             [
              0.6666666666666666,
              "#ed7953"
             ],
             [
              0.7777777777777778,
              "#fb9f3a"
             ],
             [
              0.8888888888888888,
              "#fdca26"
             ],
             [
              1,
              "#f0f921"
             ]
            ],
            "type": "surface"
           }
          ],
          "table": [
           {
            "cells": {
             "fill": {
              "color": "#EBF0F8"
             },
             "line": {
              "color": "white"
             }
            },
            "header": {
             "fill": {
              "color": "#C8D4E3"
             },
             "line": {
              "color": "white"
             }
            },
            "type": "table"
           }
          ]
         },
         "layout": {
          "annotationdefaults": {
           "arrowcolor": "#2a3f5f",
           "arrowhead": 0,
           "arrowwidth": 1
          },
          "autotypenumbers": "strict",
          "coloraxis": {
           "colorbar": {
            "outlinewidth": 0,
            "ticks": ""
           }
          },
          "colorscale": {
           "diverging": [
            [
             0,
             "#8e0152"
            ],
            [
             0.1,
             "#c51b7d"
            ],
            [
             0.2,
             "#de77ae"
            ],
            [
             0.3,
             "#f1b6da"
            ],
            [
             0.4,
             "#fde0ef"
            ],
            [
             0.5,
             "#f7f7f7"
            ],
            [
             0.6,
             "#e6f5d0"
            ],
            [
             0.7,
             "#b8e186"
            ],
            [
             0.8,
             "#7fbc41"
            ],
            [
             0.9,
             "#4d9221"
            ],
            [
             1,
             "#276419"
            ]
           ],
           "sequential": [
            [
             0,
             "#0d0887"
            ],
            [
             0.1111111111111111,
             "#46039f"
            ],
            [
             0.2222222222222222,
             "#7201a8"
            ],
            [
             0.3333333333333333,
             "#9c179e"
            ],
            [
             0.4444444444444444,
             "#bd3786"
            ],
            [
             0.5555555555555556,
             "#d8576b"
            ],
            [
             0.6666666666666666,
             "#ed7953"
            ],
            [
             0.7777777777777778,
             "#fb9f3a"
            ],
            [
             0.8888888888888888,
             "#fdca26"
            ],
            [
             1,
             "#f0f921"
            ]
           ],
           "sequentialminus": [
            [
             0,
             "#0d0887"
            ],
            [
             0.1111111111111111,
             "#46039f"
            ],
            [
             0.2222222222222222,
             "#7201a8"
            ],
            [
             0.3333333333333333,
             "#9c179e"
            ],
            [
             0.4444444444444444,
             "#bd3786"
            ],
            [
             0.5555555555555556,
             "#d8576b"
            ],
            [
             0.6666666666666666,
             "#ed7953"
            ],
            [
             0.7777777777777778,
             "#fb9f3a"
            ],
            [
             0.8888888888888888,
             "#fdca26"
            ],
            [
             1,
             "#f0f921"
            ]
           ]
          },
          "colorway": [
           "#636efa",
           "#EF553B",
           "#00cc96",
           "#ab63fa",
           "#FFA15A",
           "#19d3f3",
           "#FF6692",
           "#B6E880",
           "#FF97FF",
           "#FECB52"
          ],
          "font": {
           "color": "#2a3f5f"
          },
          "geo": {
           "bgcolor": "white",
           "lakecolor": "white",
           "landcolor": "#E5ECF6",
           "showlakes": true,
           "showland": true,
           "subunitcolor": "white"
          },
          "hoverlabel": {
           "align": "left"
          },
          "hovermode": "closest",
          "mapbox": {
           "style": "light"
          },
          "paper_bgcolor": "white",
          "plot_bgcolor": "#E5ECF6",
          "polar": {
           "angularaxis": {
            "gridcolor": "white",
            "linecolor": "white",
            "ticks": ""
           },
           "bgcolor": "#E5ECF6",
           "radialaxis": {
            "gridcolor": "white",
            "linecolor": "white",
            "ticks": ""
           }
          },
          "scene": {
           "xaxis": {
            "backgroundcolor": "#E5ECF6",
            "gridcolor": "white",
            "gridwidth": 2,
            "linecolor": "white",
            "showbackground": true,
            "ticks": "",
            "zerolinecolor": "white"
           },
           "yaxis": {
            "backgroundcolor": "#E5ECF6",
            "gridcolor": "white",
            "gridwidth": 2,
            "linecolor": "white",
            "showbackground": true,
            "ticks": "",
            "zerolinecolor": "white"
           },
           "zaxis": {
            "backgroundcolor": "#E5ECF6",
            "gridcolor": "white",
            "gridwidth": 2,
            "linecolor": "white",
            "showbackground": true,
            "ticks": "",
            "zerolinecolor": "white"
           }
          },
          "shapedefaults": {
           "line": {
            "color": "#2a3f5f"
           }
          },
          "ternary": {
           "aaxis": {
            "gridcolor": "white",
            "linecolor": "white",
            "ticks": ""
           },
           "baxis": {
            "gridcolor": "white",
            "linecolor": "white",
            "ticks": ""
           },
           "bgcolor": "#E5ECF6",
           "caxis": {
            "gridcolor": "white",
            "linecolor": "white",
            "ticks": ""
           }
          },
          "title": {
           "x": 0.05
          },
          "xaxis": {
           "automargin": true,
           "gridcolor": "white",
           "linecolor": "white",
           "ticks": "",
           "title": {
            "standoff": 15
           },
           "zerolinecolor": "white",
           "zerolinewidth": 2
          },
          "yaxis": {
           "automargin": true,
           "gridcolor": "white",
           "linecolor": "white",
           "ticks": "",
           "title": {
            "standoff": 15
           },
           "zerolinecolor": "white",
           "zerolinewidth": 2
          }
         }
        },
        "title": {
         "text": "Rangeslider e Botoes",
         "x": 0.5
        },
        "xaxis": {
         "rangeselector": {
          "buttons": [
           {
            "count": 1,
            "label": "1m",
            "step": "month",
            "stepmode": "backward"
           },
           {
            "count": 6,
            "label": "6m",
            "step": "month",
            "stepmode": "backward"
           },
           {
            "step": "all"
           }
          ]
         },
         "rangeslider": {
          "visible": true
         },
         "type": "date"
        }
       }
      },
      "text/html": [
       "<div>                            <div id=\"e3b8606a-1150-4ff0-b86e-ae6c8fd56e67\" class=\"plotly-graph-div\" style=\"height:525px; width:100%;\"></div>            <script type=\"text/javascript\">                require([\"plotly\"], function(Plotly) {                    window.PLOTLYENV=window.PLOTLYENV || {};                                    if (document.getElementById(\"e3b8606a-1150-4ff0-b86e-ae6c8fd56e67\")) {                    Plotly.newPlot(                        \"e3b8606a-1150-4ff0-b86e-ae6c8fd56e67\",                        [{\"line\": {\"color\": \"#17BECF\"}, \"name\": \"IBOV High\", \"opacity\": 0.8, \"type\": \"scatter\", \"x\": [\"2015-07-06\", \"2015-07-13\", \"2015-07-20\", \"2015-07-27\", \"2015-08-03\", \"2015-08-10\", \"2015-08-17\", \"2015-08-24\", \"2015-08-31\", \"2015-09-07\", \"2015-09-14\", \"2015-09-21\", \"2015-09-28\", \"2015-10-05\", \"2015-10-12\", \"2015-10-19\", \"2015-10-26\", \"2015-11-02\", \"2015-11-09\", \"2015-11-16\", \"2015-11-23\", \"2015-11-30\", \"2015-12-07\", \"2015-12-14\", \"2015-12-21\", \"2015-12-28\", \"2016-01-04\", \"2016-01-11\", \"2016-01-18\", \"2016-01-25\", \"2016-02-01\", \"2016-02-08\", \"2016-02-15\", \"2016-02-22\", \"2016-02-29\", \"2016-03-07\", \"2016-03-14\", \"2016-03-21\", \"2016-03-28\", \"2016-04-04\", \"2016-04-11\", \"2016-04-18\", \"2016-04-25\", \"2016-05-02\", \"2016-05-09\", \"2016-05-16\", \"2016-05-23\", \"2016-05-30\", \"2016-06-06\", \"2016-06-13\", \"2016-06-20\", \"2016-06-27\", \"2016-07-04\", \"2016-07-11\", \"2016-07-18\", \"2016-07-25\", \"2016-08-01\", \"2016-08-08\", \"2016-08-15\", \"2016-08-22\", \"2016-08-29\", \"2016-09-05\", \"2016-09-12\", \"2016-09-19\", \"2016-09-26\", \"2016-10-03\", \"2016-10-10\", \"2016-10-17\", \"2016-10-24\", \"2016-10-31\", \"2016-11-07\", \"2016-11-14\", \"2016-11-21\", \"2016-11-28\", \"2016-12-05\", \"2016-12-12\", \"2016-12-19\", \"2016-12-26\", \"2017-01-02\", \"2017-01-09\", \"2017-01-16\", \"2017-01-23\", \"2017-01-30\", \"2017-02-06\", \"2017-02-13\", \"2017-02-20\", \"2017-02-27\", \"2017-03-06\", \"2017-03-13\", \"2017-03-20\", \"2017-03-27\", \"2017-04-03\", \"2017-04-10\", \"2017-04-17\", \"2017-04-24\", \"2017-05-01\", \"2017-05-08\", \"2017-05-15\", \"2017-05-22\", \"2017-05-29\", \"2017-06-05\", \"2017-06-12\", \"2017-06-19\", \"2017-06-26\", \"2017-07-03\", \"2017-07-10\", \"2017-07-17\", \"2017-07-24\", \"2017-07-31\", \"2017-08-07\", \"2017-08-14\", \"2017-08-21\", \"2017-08-28\", \"2017-09-04\", \"2017-09-11\", \"2017-09-18\", \"2017-09-25\", \"2017-10-02\", \"2017-10-09\", \"2017-10-16\", \"2017-10-23\", \"2017-10-30\", \"2017-11-06\", \"2017-11-13\", \"2017-11-20\", \"2017-11-27\", \"2017-12-04\", \"2017-12-11\", \"2017-12-18\", \"2017-12-25\", \"2018-01-01\", \"2018-01-08\", \"2018-01-15\", \"2018-01-22\", \"2018-01-29\", \"2018-02-05\", \"2018-02-12\", \"2018-02-19\", \"2018-02-26\", \"2018-03-05\", \"2018-03-12\", \"2018-03-19\", \"2018-03-26\", \"2018-04-02\", \"2018-04-09\", \"2018-04-16\", \"2018-04-23\", \"2018-04-30\", \"2018-05-07\", \"2018-05-14\", \"2018-05-21\", \"2018-05-28\", \"2018-06-04\", \"2018-06-11\", \"2018-06-18\", \"2018-06-25\", \"2018-07-02\", \"2018-07-09\", \"2018-07-16\", \"2018-07-23\", \"2018-07-30\", \"2018-08-06\", \"2018-08-13\", \"2018-08-20\", \"2018-08-27\", \"2018-09-03\", \"2018-09-10\", \"2018-09-17\", \"2018-09-24\", \"2018-10-01\", \"2018-10-08\", \"2018-10-15\", \"2018-10-22\", \"2018-10-29\", \"2018-11-05\", \"2018-11-12\", \"2018-11-19\", \"2018-11-26\", \"2018-12-03\", \"2018-12-10\", \"2018-12-17\", \"2018-12-24\", \"2018-12-31\", \"2019-01-07\", \"2019-01-14\", \"2019-01-21\", \"2019-01-28\", \"2019-02-04\", \"2019-02-11\", \"2019-02-18\", \"2019-02-25\", \"2019-03-04\", \"2019-03-11\", \"2019-03-18\", \"2019-03-25\", \"2019-04-01\", \"2019-04-08\", \"2019-04-15\", \"2019-04-22\", \"2019-04-29\", \"2019-05-06\", \"2019-05-13\", \"2019-05-20\", \"2019-05-27\", \"2019-06-03\", \"2019-06-10\", \"2019-06-17\", \"2019-06-24\", \"2019-07-01\", \"2019-07-08\", \"2019-07-15\", \"2019-07-22\", \"2019-07-29\", \"2019-08-05\", \"2019-08-12\", \"2019-08-19\", \"2019-08-26\", \"2019-09-02\", \"2019-09-09\", \"2019-09-16\", \"2019-09-23\", \"2019-09-30\", \"2019-10-07\", \"2019-10-14\", \"2019-10-21\", \"2019-10-28\", \"2019-11-04\", \"2019-11-11\", \"2019-11-18\", \"2019-11-25\", \"2019-12-02\", \"2019-12-09\", \"2019-12-16\", \"2019-12-23\", \"2019-12-30\", \"2020-01-06\", \"2020-01-13\", \"2020-01-20\", \"2020-01-27\", \"2020-02-03\", \"2020-02-10\", \"2020-02-17\", \"2020-02-24\", \"2020-03-02\", \"2020-03-09\", \"2020-03-16\", \"2020-03-23\", \"2020-03-30\", \"2020-04-06\", \"2020-04-13\", \"2020-04-20\", \"2020-04-27\", \"2020-05-04\", \"2020-05-11\", \"2020-05-18\", \"2020-05-25\", \"2020-06-01\", \"2020-06-08\", \"2020-06-15\", \"2020-06-22\", \"2020-06-29\", \"2020-07-06\", \"2020-07-13\", \"2020-07-20\", \"2020-07-27\", \"2020-08-03\", \"2020-08-10\", \"2020-08-17\", \"2020-08-24\", \"2020-08-31\", \"2020-09-07\", \"2020-09-14\", \"2020-09-21\", \"2020-09-28\", \"2020-10-05\", \"2020-10-12\", \"2020-10-19\", \"2020-10-26\", \"2020-11-02\", \"2020-11-09\", \"2020-11-16\", \"2020-11-23\", \"2020-11-30\", \"2020-12-07\", \"2020-12-14\", \"2020-12-21\", \"2020-12-28\", \"2021-01-04\", \"2021-01-11\", \"2021-01-18\", \"2021-01-25\", \"2021-02-01\", \"2021-02-08\", \"2021-02-15\", \"2021-02-22\", \"2021-03-01\", \"2021-03-08\", \"2021-03-15\", \"2021-03-22\", \"2021-03-29\", \"2021-04-05\", \"2021-04-12\", \"2021-04-19\", \"2021-04-26\", \"2021-05-03\", \"2021-05-10\", \"2021-05-17\", \"2021-05-24\", \"2021-05-31\", \"2021-06-07\", \"2021-06-14\", \"2021-06-21\", \"2021-06-28\"], \"y\": [52591.0, 52342.0, 49246.0, 50865.0, 48577.0, 47508.0, 45720.0, 47154.0, 46498.0, 46401.0, 47264.0, 44831.0, 47033.0, 49338.0, 47236.0, 47597.0, 45869.0, 46919.0, 46517.0, 48139.0, 45873.0, 45361.0, 45263.0, 43911.0, 44015.0, 43350.0, 40612.0, 38569.0, 38031.0, 40406.0, 40592.0, 39808.0, 41543.0, 41593.0, 49085.0, 49639.0, 50815.0, 49657.0, 50562.0, 50293.0, 53228.0, 52908.0, 53911.0, 51718.0, 51804.0, 49723.0, 49051.0, 50619.0, 49422.0, 49534.0, 50105.0, 52233.0, 53141.0, 55578.0, 57002.0, 57308.0, 57661.0, 58298.0, 59099.0, 57716.0, 59616.0, 58000.0, 57080.0, 58697.0, 58367.0, 61109.0, 61767.0, 64108.0, 64308.0, 61598.0, 59184.0, 59962.0, 61559.0, 60316.0, 60501.0, 58389.0, 57937.0, 60227.0, 61665.0, 63652.0, 64521.0, 66034.0, 64954.0, 66125.0, 67748.0, 66662.0, 66786.0, 64675.0, 64210.0, 63854.0, 64984.0, 64593.0, 62826.0, 63761.0, 65403.0, 65710.0, 68222.0, 62639.0, 64085.0, 62511.0, 62211.0, 61626.0, 61087.0, 62900.0, 62322.0, 65436.0, 64684.0, 65497.0, 66898.0, 67359.0, 68715.0, 71074.0, 71923.0, 73079.0, 75757.0, 75390.0, 74294.0, 76055.0, 76990.0, 76391.0, 75976.0, 73915.0, 72166.0, 73437.0, 74157.0, 72264.0, 72732.0, 72608.0, 75187.0, 76402.0, 79071.0, 79349.0, 81220.0, 85531.0, 84041.0, 80899.0, 84525.0, 87293.0, 85761.0, 86371.0, 84886.0, 84377.0, 85366.0, 84820.0, 84334.0, 85550.0, 86445.0, 83118.0, 85220.0, 83082.0, 78898.0, 77240.0, 72942.0, 70758.0, 70641.0, 72763.0, 75010.0, 76594.0, 78571.0, 79866.0, 81435.0, 76514.0, 76029.0, 76262.0, 76678.0, 76416.0, 75429.0, 79444.0, 79342.0, 82322.0, 82921.0, 84220.0, 85720.0, 88419.0, 85641.0, 88515.0, 86230.0, 89504.0, 88115.0, 87450.0, 85697.0, 87887.0, 91841.0, 93658.0, 96097.0, 97677.0, 97861.0, 95343.0, 97526.0, 97886.0, 94604.0, 95365.0, 99137.0, 93735.0, 95415.0, 97108.0, 92875.0, 94578.0, 96236.0, 96008.0, 94258.0, 89993.0, 93628.0, 97030.0, 97821.0, 98040.0, 102013.0, 100967.0, 104089.0, 103906.0, 103452.0, 102819.0, 102674.0, 103996.0, 99806.0, 97667.0, 101135.0, 102935.0, 103501.0, 104817.0, 105078.0, 102551.0, 103832.0, 104729.0, 107364.0, 108196.0, 107629.0, 106557.0, 108692.0, 108233.0, 111126.0, 112565.0, 115121.0, 116534.0, 117707.0, 115503.0, 118478.0, 118376.0, 113761.0, 113770.0, 114381.0, 113681.0, 104172.0, 97997.0, 82678.0, 67069.0, 73429.0, 69538.0, 77682.0, 78990.0, 75331.0, 80506.0, 80263.0, 77557.0, 82173.0, 87403.0, 94637.0, 92795.0, 96572.0, 93834.0, 96765.0, 100032.0, 102888.0, 102382.0, 102912.0, 102776.0, 101353.0, 101521.0, 102143.0, 101242.0, 98363.0, 98290.0, 96999.0, 94016.0, 97483.0, 98309.0, 101260.0, 93952.0, 100799.0, 104512.0, 106042.0, 110575.0, 113682.0, 115323.0, 117679.0, 117857.0, 119306.0, 125077.0, 120502.0, 117172.0, 116007.0, 119925.0, 119116.0, 118748.0, 110035.0, 115202.0, 114160.0, 116222.0, 114781.0, 115253.0, 117670.0, 121114.0, 120530.0, 118894.0, 122038.0, 121881.0, 122592.0, 125561.0, 130126.0, 129441.0, 128405.0, 127256.0, 127622.0]}],                        {\"template\": {\"data\": {\"bar\": [{\"error_x\": {\"color\": \"#2a3f5f\"}, \"error_y\": {\"color\": \"#2a3f5f\"}, \"marker\": {\"line\": {\"color\": \"#E5ECF6\", \"width\": 0.5}}, \"type\": \"bar\"}], \"barpolar\": [{\"marker\": {\"line\": {\"color\": \"#E5ECF6\", \"width\": 0.5}}, \"type\": \"barpolar\"}], \"carpet\": [{\"aaxis\": {\"endlinecolor\": \"#2a3f5f\", \"gridcolor\": \"white\", \"linecolor\": \"white\", \"minorgridcolor\": \"white\", \"startlinecolor\": \"#2a3f5f\"}, \"baxis\": {\"endlinecolor\": \"#2a3f5f\", \"gridcolor\": \"white\", \"linecolor\": \"white\", \"minorgridcolor\": \"white\", \"startlinecolor\": \"#2a3f5f\"}, \"type\": \"carpet\"}], \"choropleth\": [{\"colorbar\": {\"outlinewidth\": 0, \"ticks\": \"\"}, \"type\": \"choropleth\"}], \"contour\": [{\"colorbar\": {\"outlinewidth\": 0, \"ticks\": \"\"}, \"colorscale\": [[0.0, \"#0d0887\"], [0.1111111111111111, \"#46039f\"], [0.2222222222222222, \"#7201a8\"], [0.3333333333333333, \"#9c179e\"], [0.4444444444444444, \"#bd3786\"], [0.5555555555555556, \"#d8576b\"], [0.6666666666666666, \"#ed7953\"], [0.7777777777777778, \"#fb9f3a\"], [0.8888888888888888, \"#fdca26\"], [1.0, \"#f0f921\"]], \"type\": \"contour\"}], \"contourcarpet\": [{\"colorbar\": {\"outlinewidth\": 0, \"ticks\": \"\"}, \"type\": \"contourcarpet\"}], \"heatmap\": [{\"colorbar\": {\"outlinewidth\": 0, \"ticks\": \"\"}, \"colorscale\": [[0.0, \"#0d0887\"], [0.1111111111111111, \"#46039f\"], [0.2222222222222222, \"#7201a8\"], [0.3333333333333333, \"#9c179e\"], [0.4444444444444444, \"#bd3786\"], [0.5555555555555556, \"#d8576b\"], [0.6666666666666666, \"#ed7953\"], [0.7777777777777778, \"#fb9f3a\"], [0.8888888888888888, \"#fdca26\"], [1.0, \"#f0f921\"]], \"type\": \"heatmap\"}], \"heatmapgl\": [{\"colorbar\": {\"outlinewidth\": 0, \"ticks\": \"\"}, \"colorscale\": [[0.0, \"#0d0887\"], [0.1111111111111111, \"#46039f\"], [0.2222222222222222, \"#7201a8\"], [0.3333333333333333, \"#9c179e\"], [0.4444444444444444, \"#bd3786\"], [0.5555555555555556, \"#d8576b\"], [0.6666666666666666, \"#ed7953\"], [0.7777777777777778, \"#fb9f3a\"], [0.8888888888888888, \"#fdca26\"], [1.0, \"#f0f921\"]], \"type\": \"heatmapgl\"}], \"histogram\": [{\"marker\": {\"colorbar\": {\"outlinewidth\": 0, \"ticks\": \"\"}}, \"type\": \"histogram\"}], \"histogram2d\": [{\"colorbar\": {\"outlinewidth\": 0, \"ticks\": \"\"}, \"colorscale\": [[0.0, \"#0d0887\"], [0.1111111111111111, \"#46039f\"], [0.2222222222222222, \"#7201a8\"], [0.3333333333333333, \"#9c179e\"], [0.4444444444444444, \"#bd3786\"], [0.5555555555555556, \"#d8576b\"], [0.6666666666666666, \"#ed7953\"], [0.7777777777777778, \"#fb9f3a\"], [0.8888888888888888, \"#fdca26\"], [1.0, \"#f0f921\"]], \"type\": \"histogram2d\"}], \"histogram2dcontour\": [{\"colorbar\": {\"outlinewidth\": 0, \"ticks\": \"\"}, \"colorscale\": [[0.0, \"#0d0887\"], [0.1111111111111111, \"#46039f\"], [0.2222222222222222, \"#7201a8\"], [0.3333333333333333, \"#9c179e\"], [0.4444444444444444, \"#bd3786\"], [0.5555555555555556, \"#d8576b\"], [0.6666666666666666, \"#ed7953\"], [0.7777777777777778, \"#fb9f3a\"], [0.8888888888888888, \"#fdca26\"], [1.0, \"#f0f921\"]], \"type\": \"histogram2dcontour\"}], \"mesh3d\": [{\"colorbar\": {\"outlinewidth\": 0, \"ticks\": \"\"}, \"type\": \"mesh3d\"}], \"parcoords\": [{\"line\": {\"colorbar\": {\"outlinewidth\": 0, \"ticks\": \"\"}}, \"type\": \"parcoords\"}], \"pie\": [{\"automargin\": true, \"type\": \"pie\"}], \"scatter\": [{\"marker\": {\"colorbar\": {\"outlinewidth\": 0, \"ticks\": \"\"}}, \"type\": \"scatter\"}], \"scatter3d\": [{\"line\": {\"colorbar\": {\"outlinewidth\": 0, \"ticks\": \"\"}}, \"marker\": {\"colorbar\": {\"outlinewidth\": 0, \"ticks\": \"\"}}, \"type\": \"scatter3d\"}], \"scattercarpet\": [{\"marker\": {\"colorbar\": {\"outlinewidth\": 0, \"ticks\": \"\"}}, \"type\": \"scattercarpet\"}], \"scattergeo\": [{\"marker\": {\"colorbar\": {\"outlinewidth\": 0, \"ticks\": \"\"}}, \"type\": \"scattergeo\"}], \"scattergl\": [{\"marker\": {\"colorbar\": {\"outlinewidth\": 0, \"ticks\": \"\"}}, \"type\": \"scattergl\"}], \"scattermapbox\": [{\"marker\": {\"colorbar\": {\"outlinewidth\": 0, \"ticks\": \"\"}}, \"type\": \"scattermapbox\"}], \"scatterpolar\": [{\"marker\": {\"colorbar\": {\"outlinewidth\": 0, \"ticks\": \"\"}}, \"type\": \"scatterpolar\"}], \"scatterpolargl\": [{\"marker\": {\"colorbar\": {\"outlinewidth\": 0, \"ticks\": \"\"}}, \"type\": \"scatterpolargl\"}], \"scatterternary\": [{\"marker\": {\"colorbar\": {\"outlinewidth\": 0, \"ticks\": \"\"}}, \"type\": \"scatterternary\"}], \"surface\": [{\"colorbar\": {\"outlinewidth\": 0, \"ticks\": \"\"}, \"colorscale\": [[0.0, \"#0d0887\"], [0.1111111111111111, \"#46039f\"], [0.2222222222222222, \"#7201a8\"], [0.3333333333333333, \"#9c179e\"], [0.4444444444444444, \"#bd3786\"], [0.5555555555555556, \"#d8576b\"], [0.6666666666666666, \"#ed7953\"], [0.7777777777777778, \"#fb9f3a\"], [0.8888888888888888, \"#fdca26\"], [1.0, \"#f0f921\"]], \"type\": \"surface\"}], \"table\": [{\"cells\": {\"fill\": {\"color\": \"#EBF0F8\"}, \"line\": {\"color\": \"white\"}}, \"header\": {\"fill\": {\"color\": \"#C8D4E3\"}, \"line\": {\"color\": \"white\"}}, \"type\": \"table\"}]}, \"layout\": {\"annotationdefaults\": {\"arrowcolor\": \"#2a3f5f\", \"arrowhead\": 0, \"arrowwidth\": 1}, \"autotypenumbers\": \"strict\", \"coloraxis\": {\"colorbar\": {\"outlinewidth\": 0, \"ticks\": \"\"}}, \"colorscale\": {\"diverging\": [[0, \"#8e0152\"], [0.1, \"#c51b7d\"], [0.2, \"#de77ae\"], [0.3, \"#f1b6da\"], [0.4, \"#fde0ef\"], [0.5, \"#f7f7f7\"], [0.6, \"#e6f5d0\"], [0.7, \"#b8e186\"], [0.8, \"#7fbc41\"], [0.9, \"#4d9221\"], [1, \"#276419\"]], \"sequential\": [[0.0, \"#0d0887\"], [0.1111111111111111, \"#46039f\"], [0.2222222222222222, \"#7201a8\"], [0.3333333333333333, \"#9c179e\"], [0.4444444444444444, \"#bd3786\"], [0.5555555555555556, \"#d8576b\"], [0.6666666666666666, \"#ed7953\"], [0.7777777777777778, \"#fb9f3a\"], [0.8888888888888888, \"#fdca26\"], [1.0, \"#f0f921\"]], \"sequentialminus\": [[0.0, \"#0d0887\"], [0.1111111111111111, \"#46039f\"], [0.2222222222222222, \"#7201a8\"], [0.3333333333333333, \"#9c179e\"], [0.4444444444444444, \"#bd3786\"], [0.5555555555555556, \"#d8576b\"], [0.6666666666666666, \"#ed7953\"], [0.7777777777777778, \"#fb9f3a\"], [0.8888888888888888, \"#fdca26\"], [1.0, \"#f0f921\"]]}, \"colorway\": [\"#636efa\", \"#EF553B\", \"#00cc96\", \"#ab63fa\", \"#FFA15A\", \"#19d3f3\", \"#FF6692\", \"#B6E880\", \"#FF97FF\", \"#FECB52\"], \"font\": {\"color\": \"#2a3f5f\"}, \"geo\": {\"bgcolor\": \"white\", \"lakecolor\": \"white\", \"landcolor\": \"#E5ECF6\", \"showlakes\": true, \"showland\": true, \"subunitcolor\": \"white\"}, \"hoverlabel\": {\"align\": \"left\"}, \"hovermode\": \"closest\", \"mapbox\": {\"style\": \"light\"}, \"paper_bgcolor\": \"white\", \"plot_bgcolor\": \"#E5ECF6\", \"polar\": {\"angularaxis\": {\"gridcolor\": \"white\", \"linecolor\": \"white\", \"ticks\": \"\"}, \"bgcolor\": \"#E5ECF6\", \"radialaxis\": {\"gridcolor\": \"white\", \"linecolor\": \"white\", \"ticks\": \"\"}}, \"scene\": {\"xaxis\": {\"backgroundcolor\": \"#E5ECF6\", \"gridcolor\": \"white\", \"gridwidth\": 2, \"linecolor\": \"white\", \"showbackground\": true, \"ticks\": \"\", \"zerolinecolor\": \"white\"}, \"yaxis\": {\"backgroundcolor\": \"#E5ECF6\", \"gridcolor\": \"white\", \"gridwidth\": 2, \"linecolor\": \"white\", \"showbackground\": true, \"ticks\": \"\", \"zerolinecolor\": \"white\"}, \"zaxis\": {\"backgroundcolor\": \"#E5ECF6\", \"gridcolor\": \"white\", \"gridwidth\": 2, \"linecolor\": \"white\", \"showbackground\": true, \"ticks\": \"\", \"zerolinecolor\": \"white\"}}, \"shapedefaults\": {\"line\": {\"color\": \"#2a3f5f\"}}, \"ternary\": {\"aaxis\": {\"gridcolor\": \"white\", \"linecolor\": \"white\", \"ticks\": \"\"}, \"baxis\": {\"gridcolor\": \"white\", \"linecolor\": \"white\", \"ticks\": \"\"}, \"bgcolor\": \"#E5ECF6\", \"caxis\": {\"gridcolor\": \"white\", \"linecolor\": \"white\", \"ticks\": \"\"}}, \"title\": {\"x\": 0.05}, \"xaxis\": {\"automargin\": true, \"gridcolor\": \"white\", \"linecolor\": \"white\", \"ticks\": \"\", \"title\": {\"standoff\": 15}, \"zerolinecolor\": \"white\", \"zerolinewidth\": 2}, \"yaxis\": {\"automargin\": true, \"gridcolor\": \"white\", \"linecolor\": \"white\", \"ticks\": \"\", \"title\": {\"standoff\": 15}, \"zerolinecolor\": \"white\", \"zerolinewidth\": 2}}}, \"title\": {\"text\": \"Rangeslider e Botoes\", \"x\": 0.5}, \"xaxis\": {\"rangeselector\": {\"buttons\": [{\"count\": 1, \"label\": \"1m\", \"step\": \"month\", \"stepmode\": \"backward\"}, {\"count\": 6, \"label\": \"6m\", \"step\": \"month\", \"stepmode\": \"backward\"}, {\"step\": \"all\"}]}, \"rangeslider\": {\"visible\": true}, \"type\": \"date\"}},                        {\"responsive\": true}                    ).then(function(){\n",
       "                            \n",
       "var gd = document.getElementById('e3b8606a-1150-4ff0-b86e-ae6c8fd56e67');\n",
       "var x = new MutationObserver(function (mutations, observer) {{\n",
       "        var display = window.getComputedStyle(gd).display;\n",
       "        if (!display || display === 'none') {{\n",
       "            console.log([gd, 'removed!']);\n",
       "            Plotly.purge(gd);\n",
       "            observer.disconnect();\n",
       "        }}\n",
       "}});\n",
       "\n",
       "// Listen for the removal of the full notebook cells\n",
       "var notebookContainer = gd.closest('#notebook-container');\n",
       "if (notebookContainer) {{\n",
       "    x.observe(notebookContainer, {childList: true});\n",
       "}}\n",
       "\n",
       "// Listen for the clearing of the current output cell\n",
       "var outputEl = gd.closest('.output');\n",
       "if (outputEl) {{\n",
       "    x.observe(outputEl, {childList: true});\n",
       "}}\n",
       "\n",
       "                        })                };                });            </script>        </div>"
      ]
     },
     "metadata": {},
     "output_type": "display_data"
    }
   ],
   "source": [
    "Close = go.Scatter(x=df.Date, \n",
    "                   y=df.Close, \n",
    "                   name = \"IBOV High\", \n",
    "                   line = dict(color = '#17BECF'), \n",
    "                   opacity = 0.8)\n",
    "\n",
    "data = [Close]\n",
    "\n",
    "layout = dict(title=\"Rangeslider e Botoes\", \n",
    "              title_x=0.5, \n",
    "              xaxis=dict( \n",
    "                  rangeselector=dict(\n",
    "                      buttons=list([ \n",
    "                          dict(count=1,\n",
    "                               label='1m',\n",
    "                               step='month',\n",
    "                               stepmode='backward'),\n",
    "                          dict(count=6,\n",
    "                               label='6m',\n",
    "                               step='month',\n",
    "                               stepmode='backward'),\n",
    "                          dict(step='all')\n",
    "                      ])\n",
    "                  ),\n",
    "                  rangeslider=dict(\n",
    "                      visible = True\n",
    "                  ),\n",
    "                  type='date'\n",
    "              )\n",
    "             )\n",
    "\n",
    "fig = dict(data=data, layout=layout)\n",
    "\n",
    "py.iplot(fig)"
   ]
  },
  {
   "cell_type": "code",
   "execution_count": 8,
   "id": "e26ba58b",
   "metadata": {},
   "outputs": [
    {
     "data": {
      "application/vnd.plotly.v1+json": {
       "config": {
        "linkText": "Export to plotly.com",
        "plotlyServerURL": "https://plotly.com",
        "showLink": false
       },
       "data": [
        {
         "close": [
          52591,
          52342,
          49246,
          50865,
          48577,
          47508,
          45720,
          47154,
          46498,
          46401,
          47264,
          44831,
          47033,
          49338,
          47236,
          47597,
          45869,
          46919,
          46517,
          48139,
          45873,
          45361,
          45263,
          43911,
          44015,
          43350,
          40612,
          38569,
          38031,
          40406,
          40592,
          39808,
          41543,
          41593,
          49085,
          49639,
          50815,
          49657,
          50562,
          50293,
          53228,
          52908,
          53911,
          51718,
          51804,
          49723,
          49051,
          50619,
          49422,
          49534,
          50105,
          52233,
          53141,
          55578,
          57002,
          57308,
          57661,
          58298,
          59099,
          57716,
          59616,
          58000,
          57080,
          58697,
          58367,
          61109,
          61767,
          64108,
          64308,
          61598,
          59184,
          59962,
          61559,
          60316,
          60501,
          58389,
          57937,
          60227,
          61665,
          63652,
          64521,
          66034,
          64954,
          66125,
          67748,
          66662,
          66786,
          64675,
          64210,
          63854,
          64984,
          64593,
          62826,
          63761,
          65403,
          65710,
          68222,
          62639,
          64085,
          62511,
          62211,
          61626,
          61087,
          62900,
          62322,
          65436,
          64684,
          65497,
          66898,
          67359,
          68715,
          71074,
          71923,
          73079,
          75757,
          75390,
          74294,
          76055,
          76990,
          76391,
          75976,
          73915,
          72166,
          73437,
          74157,
          72264,
          72732,
          72608,
          75187,
          76402,
          79071,
          79349,
          81220,
          85531,
          84041,
          80899,
          84525,
          87293,
          85761,
          86371,
          84886,
          84377,
          85366,
          84820,
          84334,
          85550,
          86445,
          83118,
          85220,
          83082,
          78898,
          77240,
          72942,
          70758,
          70641,
          72763,
          75010,
          76594,
          78571,
          79866,
          81435,
          76514,
          76029,
          76262,
          76678,
          76416,
          75429,
          79444,
          79342,
          82322,
          82921,
          84220,
          85720,
          88419,
          85641,
          88515,
          86230,
          89504,
          88115,
          87450,
          85697,
          87887,
          91841,
          93658,
          96097,
          97677,
          97861,
          95343,
          97526,
          97886,
          94604,
          95365,
          99137,
          93735,
          95415,
          97108,
          92875,
          94578,
          96236,
          96008,
          94258,
          89993,
          93628,
          97030,
          97821,
          98040,
          102013,
          100967,
          104089,
          103906,
          103452,
          102819,
          102674,
          103996,
          99806,
          97667,
          101135,
          102935,
          103501,
          104817,
          105078,
          102551,
          103832,
          104729,
          107364,
          108196,
          107629,
          106557,
          108692,
          108233,
          111126,
          112565,
          115121,
          116534,
          117707,
          115503,
          118478,
          118376,
          113761,
          113770,
          114381,
          113681,
          104172,
          97997,
          82678,
          67069,
          73429,
          69538,
          77682,
          78990,
          75331,
          80506,
          80263,
          77557,
          82173,
          87403,
          94637,
          92795,
          96572,
          93834,
          96765,
          100032,
          102888,
          102382,
          102912,
          102776,
          101353,
          101521,
          102143,
          101242,
          98363,
          98290,
          96999,
          94016,
          97483,
          98309,
          101260,
          93952,
          100799,
          104512,
          106042,
          110575,
          113682,
          115323,
          117679,
          117857,
          119306,
          125077,
          120502,
          117172,
          116007,
          119925,
          119116,
          118748,
          110035,
          115202,
          114160,
          116222,
          114781,
          115253,
          117670,
          121114,
          120530,
          118894,
          122038,
          121881,
          122592,
          125561,
          130126,
          129441,
          128405,
          127256,
          127622
         ],
         "high": [
          52786,
          53417,
          52424,
          50895,
          50867,
          49512,
          48084,
          47997,
          47532,
          47840,
          49396,
          47391,
          47033,
          49752,
          49339,
          48837,
          47875,
          49054,
          47460,
          48227,
          48745,
          47142,
          46438,
          46251,
          44233,
          44087,
          43349,
          40974,
          38857,
          40406,
          41444,
          40592,
          42436,
          43601,
          50024,
          50038,
          51308,
          51370,
          52262,
          50556,
          53844,
          54054,
          54978,
          54113,
          53976,
          52305,
          50357,
          50634,
          51812,
          50191,
          51673,
          52346,
          53166,
          55649,
          57171,
          57474,
          58030,
          58753,
          59418,
          59099,
          59655,
          60310,
          58595,
          59462,
          59621,
          61275,
          62039,
          64372,
          64728,
          65291,
          64767,
          61493,
          62550,
          62934,
          61936,
          60517,
          58600,
          60248,
          62409,
          64342,
          64694,
          66594,
          66025,
          66292,
          68456,
          69488,
          67398,
          66892,
          66554,
          65136,
          65775,
          66211,
          64928,
          64591,
          65436,
          66877,
          68429,
          68792,
          64170,
          64107,
          63637,
          62475,
          62272,
          63038,
          63485,
          65624,
          65604,
          65873,
          67277,
          68500,
          68950,
          71506,
          72217,
          73646,
          75820,
          76420,
          75470,
          78024,
          77319,
          77382,
          77061,
          75973,
          74481,
          73632,
          75073,
          74989,
          74166,
          74622,
          75227,
          76437,
          79135,
          79440,
          81429,
          85531,
          86213,
          84410,
          84686,
          87358,
          88318,
          86931,
          87333,
          85499,
          85708,
          86148,
          85577,
          86149,
          87179,
          86739,
          86406,
          86678,
          83883,
          78886,
          78892,
          73716,
          72617,
          73020,
          75127,
          76682,
          79489,
          80589,
          81792,
          81765,
          78742,
          77232,
          78783,
          76675,
          77293,
          80002,
          80107,
          85442,
          87333,
          86167,
          85786,
          89017,
          89598,
          88516,
          88484,
          90246,
          91242,
          88384,
          88101,
          88044,
          92701,
          93987,
          96396,
          97677,
          98405,
          98589,
          98238,
          98544,
          98190,
          95476,
          99393,
          100439,
          95863,
          97493,
          97610,
          95140,
          96563,
          97123,
          96312,
          94252,
          95212,
          97992,
          98326,
          99364,
          102100,
          102617,
          104176,
          106650,
          104773,
          104570,
          104056,
          104848,
          103946,
          101469,
          101551,
          103258,
          104699,
          106001,
          105633,
          105178,
          104381,
          105891,
          108083,
          108496,
          109672,
          108368,
          108692,
          108915,
          111430,
          112829,
          115171,
          117803,
          118792,
          117707,
          118479,
          119593,
          118347,
          117701,
          117581,
          116552,
          113647,
          108804,
          97982,
          82565,
          78846,
          75511,
          80428,
          81668,
          81934,
          83598,
          81066,
          80723,
          83309,
          88091,
          97356,
          97693,
          97540,
          97486,
          97864,
          100191,
          103017,
          105449,
          105704,
          104523,
          104409,
          102334,
          102708,
          103226,
          101578,
          100949,
          98283,
          98314,
          98642,
          99571,
          102218,
          101784,
          100928,
          105758,
          107810,
          111603,
          113864,
          115527,
          119370,
          118311,
          120150,
          125324,
          125075,
          122586,
          119314,
          121117,
          120844,
          120845,
          118388,
          115504,
          115202,
          116751,
          116225,
          117249,
          118850,
          121409,
          121974,
          121498,
          122038,
          122964,
          123544,
          125698,
          130137,
          131190,
          131084,
          129901,
          128067
         ],
         "low": [
          51130,
          52221,
          48624,
          48640,
          48512,
          47508,
          45677,
          42749,
          45278,
          45592,
          46218,
          44183,
          43767,
          47019,
          46321,
          46623,
          45401,
          45866,
          45397,
          46399,
          45812,
          44579,
          44232,
          43690,
          43137,
          43217,
          40463,
          37986,
          37046,
          37112,
          38596,
          38928,
          39808,
          41211,
          41599,
          47922,
          46521,
          48778,
          49361,
          47874,
          50078,
          52305,
          51748,
          51204,
          49908,
          49588,
          48695,
          48200,
          49421,
          48067,
          49539,
          48954,
          50825,
          53143,
          55355,
          55993,
          55696,
          56735,
          58081,
          57259,
          57506,
          57961,
          56459,
          57083,
          57411,
          58367,
          60243,
          61719,
          63084,
          61491,
          58921,
          58322,
          59963,
          58092,
          59396,
          57575,
          56829,
          57941,
          59371,
          61307,
          63456,
          64500,
          64163,
          63740,
          66125,
          66452,
          65594,
          64203,
          64152,
          62496,
          63030,
          63762,
          62826,
          62828,
          63761,
          64721,
          65295,
          60315,
          60925,
          62161,
          62010,
          61269,
          60544,
          61088,
          62035,
          62322,
          64599,
          64678,
          65503,
          66650,
          67226,
          68514,
          70516,
          71671,
          73096,
          75029,
          73125,
          73845,
          75181,
          75366,
          75315,
          73094,
          71920,
          70825,
          73439,
          71215,
          71356,
          71798,
          72347,
          74924,
          76403,
          78164,
          79349,
          80524,
          83804,
          79690,
          80901,
          84261,
          83897,
          84397,
          84525,
          83678,
          82889,
          82826,
          83155,
          82762,
          84349,
          82746,
          82201,
          81391,
          78622,
          75337,
          71162,
          69583,
          69069,
          69779,
          71935,
          74196,
          75890,
          77871,
          78573,
          76043,
          75633,
          74876,
          76026,
          74276,
          74275,
          75227,
          77005,
          78091,
          82324,
          82922,
          83035,
          82783,
          84030,
          84071,
          85763,
          84905,
          87025,
          85583,
          84756,
          83892,
          87536,
          91064,
          93335,
          94662,
          94783,
          93424,
          93737,
          95793,
          94394,
          93305,
          95384,
          93380,
          91584,
          94124,
          92516,
          92338,
          93721,
          95312,
          92750,
          89409,
          89822,
          93626,
          95686,
          96782,
          97623,
          99421,
          100073,
          103903,
          103361,
          102196,
          100950,
          99630,
          98200,
          97085,
          95855,
          99406,
          102231,
          102782,
          103034,
          99826,
          99868,
          103438,
          104696,
          106356,
          107127,
          105261,
          105367,
          106312,
          108190,
          110133,
          111896,
          114964,
          115645,
          114952,
          115503,
          116906,
          112825,
          113467,
          112134,
          112661,
          99951,
          96886,
          68488,
          61691,
          62161,
          67802,
          69556,
          76405,
          72041,
          75327,
          77640,
          75697,
          77571,
          82193,
          86837,
          90811,
          90148,
          93259,
          93825,
          96768,
          98289,
          100859,
          102381,
          100005,
          100187,
          98513,
          99359,
          98961,
          97758,
          98045,
          95632,
          93408,
          93984,
          97336,
          98310,
          93387,
          93968,
          100954,
          104729,
          106050,
          108829,
          112567,
          114431,
          114730,
          117805,
          116756,
          120374,
          116109,
          114887,
          115093,
          117970,
          117867,
          109827,
          107319,
          109343,
          113370,
          110927,
          114096,
          115262,
          117661,
          119203,
          118894,
          117631,
          119458,
          121595,
          122526,
          125540,
          128678,
          127576,
          126697,
          124994
         ],
         "open": [
          52511,
          52591,
          52341,
          49246,
          50867,
          48578,
          47509,
          45715,
          47151,
          46501,
          46400,
          47263,
          44832,
          47033,
          49339,
          47242,
          47607,
          45869,
          46915,
          46519,
          48138,
          45871,
          45361,
          45258,
          43912,
          44016,
          43349,
          40612,
          38572,
          38031,
          40397,
          40592,
          39808,
          41544,
          41599,
          49089,
          49639,
          50816,
          49687,
          50556,
          50303,
          53229,
          52911,
          53910,
          51717,
          51803,
          49709,
          49051,
          50627,
          49419,
          49539,
          50106,
          52241,
          53143,
          55573,
          57006,
          57309,
          57655,
          58316,
          59080,
          57717,
          59616,
          57998,
          57083,
          58697,
          58370,
          61130,
          61768,
          64141,
          64312,
          61601,
          59183,
          59963,
          61559,
          60322,
          60517,
          58390,
          57941,
          60227,
          61680,
          63652,
          64519,
          66025,
          64957,
          66125,
          67756,
          66661,
          66786,
          64674,
          64232,
          63829,
          64989,
          64593,
          62828,
          63761,
          65404,
          65705,
          68227,
          62638,
          64055,
          62503,
          62219,
          61620,
          61088,
          62901,
          62322,
          65431,
          64695,
          65503,
          66898,
          67364,
          68713,
          71074,
          71921,
          73096,
          75758,
          75381,
          74295,
          76055,
          76985,
          76398,
          75973,
          73911,
          72167,
          73439,
          74157,
          72266,
          72775,
          72621,
          75187,
          76403,
          79070,
          79349,
          81220,
          85531,
          84040,
          80901,
          84525,
          87296,
          85292,
          86386,
          84886,
          84377,
          85365,
          84832,
          84328,
          85520,
          86443,
          83199,
          85222,
          83095,
          78886,
          77244,
          72943,
          70757,
          70642,
          72763,
          75015,
          76587,
          78571,
          79866,
          81445,
          76513,
          76029,
          76264,
          76675,
          76416,
          75428,
          79447,
          79350,
          82324,
          82922,
          84222,
          85728,
          88418,
          85644,
          88472,
          86237,
          89511,
          88115,
          87448,
          85684,
          87887,
          91845,
          93645,
          96093,
          97674,
          97861,
          95351,
          97527,
          97881,
          94604,
          95384,
          99141,
          93735,
          95423,
          97110,
          92875,
          94578,
          96254,
          95992,
          94252,
          90006,
          93626,
          97036,
          97828,
          98038,
          102018,
          100973,
          104090,
          103909,
          103452,
          102817,
          102658,
          103946,
          99810,
          97687,
          101133,
          102937,
          103496,
          104817,
          105077,
          102546,
          103834,
          104729,
          107366,
          108196,
          107622,
          106566,
          108692,
          108246,
          111125,
          112565,
          115119,
          116530,
          117707,
          115503,
          118478,
          118347,
          113761,
          113771,
          114381,
          113647,
          104260,
          97982,
          82565,
          67067,
          73431,
          69556,
          77682,
          78989,
          75334,
          80501,
          80263,
          77576,
          82198,
          87395,
          94640,
          92780,
          96572,
          93837,
          96776,
          100027,
          102888,
          102381,
          102913,
          102776,
          101348,
          101525,
          102142,
          101239,
          98367,
          98283,
          97005,
          94019,
          97483,
          98310,
          101260,
          93968,
          100954,
          104729,
          106050,
          110598,
          113751,
          115137,
          118021,
          117806,
          119024,
          125075,
          120351,
          117381,
          115093,
          120239,
          119421,
          118388,
          110036,
          115202,
          114093,
          116222,
          114776,
          115262,
          117661,
          121116,
          120534,
          118951,
          122038,
          121880,
          122592,
          125561,
          130125,
          129441,
          128405,
          127255
         ],
         "type": "candlestick",
         "x": [
          "2015-07-06",
          "2015-07-13",
          "2015-07-20",
          "2015-07-27",
          "2015-08-03",
          "2015-08-10",
          "2015-08-17",
          "2015-08-24",
          "2015-08-31",
          "2015-09-07",
          "2015-09-14",
          "2015-09-21",
          "2015-09-28",
          "2015-10-05",
          "2015-10-12",
          "2015-10-19",
          "2015-10-26",
          "2015-11-02",
          "2015-11-09",
          "2015-11-16",
          "2015-11-23",
          "2015-11-30",
          "2015-12-07",
          "2015-12-14",
          "2015-12-21",
          "2015-12-28",
          "2016-01-04",
          "2016-01-11",
          "2016-01-18",
          "2016-01-25",
          "2016-02-01",
          "2016-02-08",
          "2016-02-15",
          "2016-02-22",
          "2016-02-29",
          "2016-03-07",
          "2016-03-14",
          "2016-03-21",
          "2016-03-28",
          "2016-04-04",
          "2016-04-11",
          "2016-04-18",
          "2016-04-25",
          "2016-05-02",
          "2016-05-09",
          "2016-05-16",
          "2016-05-23",
          "2016-05-30",
          "2016-06-06",
          "2016-06-13",
          "2016-06-20",
          "2016-06-27",
          "2016-07-04",
          "2016-07-11",
          "2016-07-18",
          "2016-07-25",
          "2016-08-01",
          "2016-08-08",
          "2016-08-15",
          "2016-08-22",
          "2016-08-29",
          "2016-09-05",
          "2016-09-12",
          "2016-09-19",
          "2016-09-26",
          "2016-10-03",
          "2016-10-10",
          "2016-10-17",
          "2016-10-24",
          "2016-10-31",
          "2016-11-07",
          "2016-11-14",
          "2016-11-21",
          "2016-11-28",
          "2016-12-05",
          "2016-12-12",
          "2016-12-19",
          "2016-12-26",
          "2017-01-02",
          "2017-01-09",
          "2017-01-16",
          "2017-01-23",
          "2017-01-30",
          "2017-02-06",
          "2017-02-13",
          "2017-02-20",
          "2017-02-27",
          "2017-03-06",
          "2017-03-13",
          "2017-03-20",
          "2017-03-27",
          "2017-04-03",
          "2017-04-10",
          "2017-04-17",
          "2017-04-24",
          "2017-05-01",
          "2017-05-08",
          "2017-05-15",
          "2017-05-22",
          "2017-05-29",
          "2017-06-05",
          "2017-06-12",
          "2017-06-19",
          "2017-06-26",
          "2017-07-03",
          "2017-07-10",
          "2017-07-17",
          "2017-07-24",
          "2017-07-31",
          "2017-08-07",
          "2017-08-14",
          "2017-08-21",
          "2017-08-28",
          "2017-09-04",
          "2017-09-11",
          "2017-09-18",
          "2017-09-25",
          "2017-10-02",
          "2017-10-09",
          "2017-10-16",
          "2017-10-23",
          "2017-10-30",
          "2017-11-06",
          "2017-11-13",
          "2017-11-20",
          "2017-11-27",
          "2017-12-04",
          "2017-12-11",
          "2017-12-18",
          "2017-12-25",
          "2018-01-01",
          "2018-01-08",
          "2018-01-15",
          "2018-01-22",
          "2018-01-29",
          "2018-02-05",
          "2018-02-12",
          "2018-02-19",
          "2018-02-26",
          "2018-03-05",
          "2018-03-12",
          "2018-03-19",
          "2018-03-26",
          "2018-04-02",
          "2018-04-09",
          "2018-04-16",
          "2018-04-23",
          "2018-04-30",
          "2018-05-07",
          "2018-05-14",
          "2018-05-21",
          "2018-05-28",
          "2018-06-04",
          "2018-06-11",
          "2018-06-18",
          "2018-06-25",
          "2018-07-02",
          "2018-07-09",
          "2018-07-16",
          "2018-07-23",
          "2018-07-30",
          "2018-08-06",
          "2018-08-13",
          "2018-08-20",
          "2018-08-27",
          "2018-09-03",
          "2018-09-10",
          "2018-09-17",
          "2018-09-24",
          "2018-10-01",
          "2018-10-08",
          "2018-10-15",
          "2018-10-22",
          "2018-10-29",
          "2018-11-05",
          "2018-11-12",
          "2018-11-19",
          "2018-11-26",
          "2018-12-03",
          "2018-12-10",
          "2018-12-17",
          "2018-12-24",
          "2018-12-31",
          "2019-01-07",
          "2019-01-14",
          "2019-01-21",
          "2019-01-28",
          "2019-02-04",
          "2019-02-11",
          "2019-02-18",
          "2019-02-25",
          "2019-03-04",
          "2019-03-11",
          "2019-03-18",
          "2019-03-25",
          "2019-04-01",
          "2019-04-08",
          "2019-04-15",
          "2019-04-22",
          "2019-04-29",
          "2019-05-06",
          "2019-05-13",
          "2019-05-20",
          "2019-05-27",
          "2019-06-03",
          "2019-06-10",
          "2019-06-17",
          "2019-06-24",
          "2019-07-01",
          "2019-07-08",
          "2019-07-15",
          "2019-07-22",
          "2019-07-29",
          "2019-08-05",
          "2019-08-12",
          "2019-08-19",
          "2019-08-26",
          "2019-09-02",
          "2019-09-09",
          "2019-09-16",
          "2019-09-23",
          "2019-09-30",
          "2019-10-07",
          "2019-10-14",
          "2019-10-21",
          "2019-10-28",
          "2019-11-04",
          "2019-11-11",
          "2019-11-18",
          "2019-11-25",
          "2019-12-02",
          "2019-12-09",
          "2019-12-16",
          "2019-12-23",
          "2019-12-30",
          "2020-01-06",
          "2020-01-13",
          "2020-01-20",
          "2020-01-27",
          "2020-02-03",
          "2020-02-10",
          "2020-02-17",
          "2020-02-24",
          "2020-03-02",
          "2020-03-09",
          "2020-03-16",
          "2020-03-23",
          "2020-03-30",
          "2020-04-06",
          "2020-04-13",
          "2020-04-20",
          "2020-04-27",
          "2020-05-04",
          "2020-05-11",
          "2020-05-18",
          "2020-05-25",
          "2020-06-01",
          "2020-06-08",
          "2020-06-15",
          "2020-06-22",
          "2020-06-29",
          "2020-07-06",
          "2020-07-13",
          "2020-07-20",
          "2020-07-27",
          "2020-08-03",
          "2020-08-10",
          "2020-08-17",
          "2020-08-24",
          "2020-08-31",
          "2020-09-07",
          "2020-09-14",
          "2020-09-21",
          "2020-09-28",
          "2020-10-05",
          "2020-10-12",
          "2020-10-19",
          "2020-10-26",
          "2020-11-02",
          "2020-11-09",
          "2020-11-16",
          "2020-11-23",
          "2020-11-30",
          "2020-12-07",
          "2020-12-14",
          "2020-12-21",
          "2020-12-28",
          "2021-01-04",
          "2021-01-11",
          "2021-01-18",
          "2021-01-25",
          "2021-02-01",
          "2021-02-08",
          "2021-02-15",
          "2021-02-22",
          "2021-03-01",
          "2021-03-08",
          "2021-03-15",
          "2021-03-22",
          "2021-03-29",
          "2021-04-05",
          "2021-04-12",
          "2021-04-19",
          "2021-04-26",
          "2021-05-03",
          "2021-05-10",
          "2021-05-17",
          "2021-05-24",
          "2021-05-31",
          "2021-06-07",
          "2021-06-14",
          "2021-06-21",
          "2021-06-28"
         ]
        }
       ],
       "layout": {
        "template": {
         "data": {
          "bar": [
           {
            "error_x": {
             "color": "#2a3f5f"
            },
            "error_y": {
             "color": "#2a3f5f"
            },
            "marker": {
             "line": {
              "color": "#E5ECF6",
              "width": 0.5
             }
            },
            "type": "bar"
           }
          ],
          "barpolar": [
           {
            "marker": {
             "line": {
              "color": "#E5ECF6",
              "width": 0.5
             }
            },
            "type": "barpolar"
           }
          ],
          "carpet": [
           {
            "aaxis": {
             "endlinecolor": "#2a3f5f",
             "gridcolor": "white",
             "linecolor": "white",
             "minorgridcolor": "white",
             "startlinecolor": "#2a3f5f"
            },
            "baxis": {
             "endlinecolor": "#2a3f5f",
             "gridcolor": "white",
             "linecolor": "white",
             "minorgridcolor": "white",
             "startlinecolor": "#2a3f5f"
            },
            "type": "carpet"
           }
          ],
          "choropleth": [
           {
            "colorbar": {
             "outlinewidth": 0,
             "ticks": ""
            },
            "type": "choropleth"
           }
          ],
          "contour": [
           {
            "colorbar": {
             "outlinewidth": 0,
             "ticks": ""
            },
            "colorscale": [
             [
              0,
              "#0d0887"
             ],
             [
              0.1111111111111111,
              "#46039f"
             ],
             [
              0.2222222222222222,
              "#7201a8"
             ],
             [
              0.3333333333333333,
              "#9c179e"
             ],
             [
              0.4444444444444444,
              "#bd3786"
             ],
             [
              0.5555555555555556,
              "#d8576b"
             ],
             [
              0.6666666666666666,
              "#ed7953"
             ],
             [
              0.7777777777777778,
              "#fb9f3a"
             ],
             [
              0.8888888888888888,
              "#fdca26"
             ],
             [
              1,
              "#f0f921"
             ]
            ],
            "type": "contour"
           }
          ],
          "contourcarpet": [
           {
            "colorbar": {
             "outlinewidth": 0,
             "ticks": ""
            },
            "type": "contourcarpet"
           }
          ],
          "heatmap": [
           {
            "colorbar": {
             "outlinewidth": 0,
             "ticks": ""
            },
            "colorscale": [
             [
              0,
              "#0d0887"
             ],
             [
              0.1111111111111111,
              "#46039f"
             ],
             [
              0.2222222222222222,
              "#7201a8"
             ],
             [
              0.3333333333333333,
              "#9c179e"
             ],
             [
              0.4444444444444444,
              "#bd3786"
             ],
             [
              0.5555555555555556,
              "#d8576b"
             ],
             [
              0.6666666666666666,
              "#ed7953"
             ],
             [
              0.7777777777777778,
              "#fb9f3a"
             ],
             [
              0.8888888888888888,
              "#fdca26"
             ],
             [
              1,
              "#f0f921"
             ]
            ],
            "type": "heatmap"
           }
          ],
          "heatmapgl": [
           {
            "colorbar": {
             "outlinewidth": 0,
             "ticks": ""
            },
            "colorscale": [
             [
              0,
              "#0d0887"
             ],
             [
              0.1111111111111111,
              "#46039f"
             ],
             [
              0.2222222222222222,
              "#7201a8"
             ],
             [
              0.3333333333333333,
              "#9c179e"
             ],
             [
              0.4444444444444444,
              "#bd3786"
             ],
             [
              0.5555555555555556,
              "#d8576b"
             ],
             [
              0.6666666666666666,
              "#ed7953"
             ],
             [
              0.7777777777777778,
              "#fb9f3a"
             ],
             [
              0.8888888888888888,
              "#fdca26"
             ],
             [
              1,
              "#f0f921"
             ]
            ],
            "type": "heatmapgl"
           }
          ],
          "histogram": [
           {
            "marker": {
             "colorbar": {
              "outlinewidth": 0,
              "ticks": ""
             }
            },
            "type": "histogram"
           }
          ],
          "histogram2d": [
           {
            "colorbar": {
             "outlinewidth": 0,
             "ticks": ""
            },
            "colorscale": [
             [
              0,
              "#0d0887"
             ],
             [
              0.1111111111111111,
              "#46039f"
             ],
             [
              0.2222222222222222,
              "#7201a8"
             ],
             [
              0.3333333333333333,
              "#9c179e"
             ],
             [
              0.4444444444444444,
              "#bd3786"
             ],
             [
              0.5555555555555556,
              "#d8576b"
             ],
             [
              0.6666666666666666,
              "#ed7953"
             ],
             [
              0.7777777777777778,
              "#fb9f3a"
             ],
             [
              0.8888888888888888,
              "#fdca26"
             ],
             [
              1,
              "#f0f921"
             ]
            ],
            "type": "histogram2d"
           }
          ],
          "histogram2dcontour": [
           {
            "colorbar": {
             "outlinewidth": 0,
             "ticks": ""
            },
            "colorscale": [
             [
              0,
              "#0d0887"
             ],
             [
              0.1111111111111111,
              "#46039f"
             ],
             [
              0.2222222222222222,
              "#7201a8"
             ],
             [
              0.3333333333333333,
              "#9c179e"
             ],
             [
              0.4444444444444444,
              "#bd3786"
             ],
             [
              0.5555555555555556,
              "#d8576b"
             ],
             [
              0.6666666666666666,
              "#ed7953"
             ],
             [
              0.7777777777777778,
              "#fb9f3a"
             ],
             [
              0.8888888888888888,
              "#fdca26"
             ],
             [
              1,
              "#f0f921"
             ]
            ],
            "type": "histogram2dcontour"
           }
          ],
          "mesh3d": [
           {
            "colorbar": {
             "outlinewidth": 0,
             "ticks": ""
            },
            "type": "mesh3d"
           }
          ],
          "parcoords": [
           {
            "line": {
             "colorbar": {
              "outlinewidth": 0,
              "ticks": ""
             }
            },
            "type": "parcoords"
           }
          ],
          "pie": [
           {
            "automargin": true,
            "type": "pie"
           }
          ],
          "scatter": [
           {
            "marker": {
             "colorbar": {
              "outlinewidth": 0,
              "ticks": ""
             }
            },
            "type": "scatter"
           }
          ],
          "scatter3d": [
           {
            "line": {
             "colorbar": {
              "outlinewidth": 0,
              "ticks": ""
             }
            },
            "marker": {
             "colorbar": {
              "outlinewidth": 0,
              "ticks": ""
             }
            },
            "type": "scatter3d"
           }
          ],
          "scattercarpet": [
           {
            "marker": {
             "colorbar": {
              "outlinewidth": 0,
              "ticks": ""
             }
            },
            "type": "scattercarpet"
           }
          ],
          "scattergeo": [
           {
            "marker": {
             "colorbar": {
              "outlinewidth": 0,
              "ticks": ""
             }
            },
            "type": "scattergeo"
           }
          ],
          "scattergl": [
           {
            "marker": {
             "colorbar": {
              "outlinewidth": 0,
              "ticks": ""
             }
            },
            "type": "scattergl"
           }
          ],
          "scattermapbox": [
           {
            "marker": {
             "colorbar": {
              "outlinewidth": 0,
              "ticks": ""
             }
            },
            "type": "scattermapbox"
           }
          ],
          "scatterpolar": [
           {
            "marker": {
             "colorbar": {
              "outlinewidth": 0,
              "ticks": ""
             }
            },
            "type": "scatterpolar"
           }
          ],
          "scatterpolargl": [
           {
            "marker": {
             "colorbar": {
              "outlinewidth": 0,
              "ticks": ""
             }
            },
            "type": "scatterpolargl"
           }
          ],
          "scatterternary": [
           {
            "marker": {
             "colorbar": {
              "outlinewidth": 0,
              "ticks": ""
             }
            },
            "type": "scatterternary"
           }
          ],
          "surface": [
           {
            "colorbar": {
             "outlinewidth": 0,
             "ticks": ""
            },
            "colorscale": [
             [
              0,
              "#0d0887"
             ],
             [
              0.1111111111111111,
              "#46039f"
             ],
             [
              0.2222222222222222,
              "#7201a8"
             ],
             [
              0.3333333333333333,
              "#9c179e"
             ],
             [
              0.4444444444444444,
              "#bd3786"
             ],
             [
              0.5555555555555556,
              "#d8576b"
             ],
             [
              0.6666666666666666,
              "#ed7953"
             ],
             [
              0.7777777777777778,
              "#fb9f3a"
             ],
             [
              0.8888888888888888,
              "#fdca26"
             ],
             [
              1,
              "#f0f921"
             ]
            ],
            "type": "surface"
           }
          ],
          "table": [
           {
            "cells": {
             "fill": {
              "color": "#EBF0F8"
             },
             "line": {
              "color": "white"
             }
            },
            "header": {
             "fill": {
              "color": "#C8D4E3"
             },
             "line": {
              "color": "white"
             }
            },
            "type": "table"
           }
          ]
         },
         "layout": {
          "annotationdefaults": {
           "arrowcolor": "#2a3f5f",
           "arrowhead": 0,
           "arrowwidth": 1
          },
          "autotypenumbers": "strict",
          "coloraxis": {
           "colorbar": {
            "outlinewidth": 0,
            "ticks": ""
           }
          },
          "colorscale": {
           "diverging": [
            [
             0,
             "#8e0152"
            ],
            [
             0.1,
             "#c51b7d"
            ],
            [
             0.2,
             "#de77ae"
            ],
            [
             0.3,
             "#f1b6da"
            ],
            [
             0.4,
             "#fde0ef"
            ],
            [
             0.5,
             "#f7f7f7"
            ],
            [
             0.6,
             "#e6f5d0"
            ],
            [
             0.7,
             "#b8e186"
            ],
            [
             0.8,
             "#7fbc41"
            ],
            [
             0.9,
             "#4d9221"
            ],
            [
             1,
             "#276419"
            ]
           ],
           "sequential": [
            [
             0,
             "#0d0887"
            ],
            [
             0.1111111111111111,
             "#46039f"
            ],
            [
             0.2222222222222222,
             "#7201a8"
            ],
            [
             0.3333333333333333,
             "#9c179e"
            ],
            [
             0.4444444444444444,
             "#bd3786"
            ],
            [
             0.5555555555555556,
             "#d8576b"
            ],
            [
             0.6666666666666666,
             "#ed7953"
            ],
            [
             0.7777777777777778,
             "#fb9f3a"
            ],
            [
             0.8888888888888888,
             "#fdca26"
            ],
            [
             1,
             "#f0f921"
            ]
           ],
           "sequentialminus": [
            [
             0,
             "#0d0887"
            ],
            [
             0.1111111111111111,
             "#46039f"
            ],
            [
             0.2222222222222222,
             "#7201a8"
            ],
            [
             0.3333333333333333,
             "#9c179e"
            ],
            [
             0.4444444444444444,
             "#bd3786"
            ],
            [
             0.5555555555555556,
             "#d8576b"
            ],
            [
             0.6666666666666666,
             "#ed7953"
            ],
            [
             0.7777777777777778,
             "#fb9f3a"
            ],
            [
             0.8888888888888888,
             "#fdca26"
            ],
            [
             1,
             "#f0f921"
            ]
           ]
          },
          "colorway": [
           "#636efa",
           "#EF553B",
           "#00cc96",
           "#ab63fa",
           "#FFA15A",
           "#19d3f3",
           "#FF6692",
           "#B6E880",
           "#FF97FF",
           "#FECB52"
          ],
          "font": {
           "color": "#2a3f5f"
          },
          "geo": {
           "bgcolor": "white",
           "lakecolor": "white",
           "landcolor": "#E5ECF6",
           "showlakes": true,
           "showland": true,
           "subunitcolor": "white"
          },
          "hoverlabel": {
           "align": "left"
          },
          "hovermode": "closest",
          "mapbox": {
           "style": "light"
          },
          "paper_bgcolor": "white",
          "plot_bgcolor": "#E5ECF6",
          "polar": {
           "angularaxis": {
            "gridcolor": "white",
            "linecolor": "white",
            "ticks": ""
           },
           "bgcolor": "#E5ECF6",
           "radialaxis": {
            "gridcolor": "white",
            "linecolor": "white",
            "ticks": ""
           }
          },
          "scene": {
           "xaxis": {
            "backgroundcolor": "#E5ECF6",
            "gridcolor": "white",
            "gridwidth": 2,
            "linecolor": "white",
            "showbackground": true,
            "ticks": "",
            "zerolinecolor": "white"
           },
           "yaxis": {
            "backgroundcolor": "#E5ECF6",
            "gridcolor": "white",
            "gridwidth": 2,
            "linecolor": "white",
            "showbackground": true,
            "ticks": "",
            "zerolinecolor": "white"
           },
           "zaxis": {
            "backgroundcolor": "#E5ECF6",
            "gridcolor": "white",
            "gridwidth": 2,
            "linecolor": "white",
            "showbackground": true,
            "ticks": "",
            "zerolinecolor": "white"
           }
          },
          "shapedefaults": {
           "line": {
            "color": "#2a3f5f"
           }
          },
          "ternary": {
           "aaxis": {
            "gridcolor": "white",
            "linecolor": "white",
            "ticks": ""
           },
           "baxis": {
            "gridcolor": "white",
            "linecolor": "white",
            "ticks": ""
           },
           "bgcolor": "#E5ECF6",
           "caxis": {
            "gridcolor": "white",
            "linecolor": "white",
            "ticks": ""
           }
          },
          "title": {
           "x": 0.05
          },
          "xaxis": {
           "automargin": true,
           "gridcolor": "white",
           "linecolor": "white",
           "ticks": "",
           "title": {
            "standoff": 15
           },
           "zerolinecolor": "white",
           "zerolinewidth": 2
          },
          "yaxis": {
           "automargin": true,
           "gridcolor": "white",
           "linecolor": "white",
           "ticks": "",
           "title": {
            "standoff": 15
           },
           "zerolinecolor": "white",
           "zerolinewidth": 2
          }
         }
        }
       }
      },
      "text/html": [
       "<div>                            <div id=\"6e94fa83-47d1-4f0b-8379-a70b10035b12\" class=\"plotly-graph-div\" style=\"height:525px; width:100%;\"></div>            <script type=\"text/javascript\">                require([\"plotly\"], function(Plotly) {                    window.PLOTLYENV=window.PLOTLYENV || {};                                    if (document.getElementById(\"6e94fa83-47d1-4f0b-8379-a70b10035b12\")) {                    Plotly.newPlot(                        \"6e94fa83-47d1-4f0b-8379-a70b10035b12\",                        [{\"close\": [52591.0, 52342.0, 49246.0, 50865.0, 48577.0, 47508.0, 45720.0, 47154.0, 46498.0, 46401.0, 47264.0, 44831.0, 47033.0, 49338.0, 47236.0, 47597.0, 45869.0, 46919.0, 46517.0, 48139.0, 45873.0, 45361.0, 45263.0, 43911.0, 44015.0, 43350.0, 40612.0, 38569.0, 38031.0, 40406.0, 40592.0, 39808.0, 41543.0, 41593.0, 49085.0, 49639.0, 50815.0, 49657.0, 50562.0, 50293.0, 53228.0, 52908.0, 53911.0, 51718.0, 51804.0, 49723.0, 49051.0, 50619.0, 49422.0, 49534.0, 50105.0, 52233.0, 53141.0, 55578.0, 57002.0, 57308.0, 57661.0, 58298.0, 59099.0, 57716.0, 59616.0, 58000.0, 57080.0, 58697.0, 58367.0, 61109.0, 61767.0, 64108.0, 64308.0, 61598.0, 59184.0, 59962.0, 61559.0, 60316.0, 60501.0, 58389.0, 57937.0, 60227.0, 61665.0, 63652.0, 64521.0, 66034.0, 64954.0, 66125.0, 67748.0, 66662.0, 66786.0, 64675.0, 64210.0, 63854.0, 64984.0, 64593.0, 62826.0, 63761.0, 65403.0, 65710.0, 68222.0, 62639.0, 64085.0, 62511.0, 62211.0, 61626.0, 61087.0, 62900.0, 62322.0, 65436.0, 64684.0, 65497.0, 66898.0, 67359.0, 68715.0, 71074.0, 71923.0, 73079.0, 75757.0, 75390.0, 74294.0, 76055.0, 76990.0, 76391.0, 75976.0, 73915.0, 72166.0, 73437.0, 74157.0, 72264.0, 72732.0, 72608.0, 75187.0, 76402.0, 79071.0, 79349.0, 81220.0, 85531.0, 84041.0, 80899.0, 84525.0, 87293.0, 85761.0, 86371.0, 84886.0, 84377.0, 85366.0, 84820.0, 84334.0, 85550.0, 86445.0, 83118.0, 85220.0, 83082.0, 78898.0, 77240.0, 72942.0, 70758.0, 70641.0, 72763.0, 75010.0, 76594.0, 78571.0, 79866.0, 81435.0, 76514.0, 76029.0, 76262.0, 76678.0, 76416.0, 75429.0, 79444.0, 79342.0, 82322.0, 82921.0, 84220.0, 85720.0, 88419.0, 85641.0, 88515.0, 86230.0, 89504.0, 88115.0, 87450.0, 85697.0, 87887.0, 91841.0, 93658.0, 96097.0, 97677.0, 97861.0, 95343.0, 97526.0, 97886.0, 94604.0, 95365.0, 99137.0, 93735.0, 95415.0, 97108.0, 92875.0, 94578.0, 96236.0, 96008.0, 94258.0, 89993.0, 93628.0, 97030.0, 97821.0, 98040.0, 102013.0, 100967.0, 104089.0, 103906.0, 103452.0, 102819.0, 102674.0, 103996.0, 99806.0, 97667.0, 101135.0, 102935.0, 103501.0, 104817.0, 105078.0, 102551.0, 103832.0, 104729.0, 107364.0, 108196.0, 107629.0, 106557.0, 108692.0, 108233.0, 111126.0, 112565.0, 115121.0, 116534.0, 117707.0, 115503.0, 118478.0, 118376.0, 113761.0, 113770.0, 114381.0, 113681.0, 104172.0, 97997.0, 82678.0, 67069.0, 73429.0, 69538.0, 77682.0, 78990.0, 75331.0, 80506.0, 80263.0, 77557.0, 82173.0, 87403.0, 94637.0, 92795.0, 96572.0, 93834.0, 96765.0, 100032.0, 102888.0, 102382.0, 102912.0, 102776.0, 101353.0, 101521.0, 102143.0, 101242.0, 98363.0, 98290.0, 96999.0, 94016.0, 97483.0, 98309.0, 101260.0, 93952.0, 100799.0, 104512.0, 106042.0, 110575.0, 113682.0, 115323.0, 117679.0, 117857.0, 119306.0, 125077.0, 120502.0, 117172.0, 116007.0, 119925.0, 119116.0, 118748.0, 110035.0, 115202.0, 114160.0, 116222.0, 114781.0, 115253.0, 117670.0, 121114.0, 120530.0, 118894.0, 122038.0, 121881.0, 122592.0, 125561.0, 130126.0, 129441.0, 128405.0, 127256.0, 127622.0], \"high\": [52786.0, 53417.0, 52424.0, 50895.0, 50867.0, 49512.0, 48084.0, 47997.0, 47532.0, 47840.0, 49396.0, 47391.0, 47033.0, 49752.0, 49339.0, 48837.0, 47875.0, 49054.0, 47460.0, 48227.0, 48745.0, 47142.0, 46438.0, 46251.0, 44233.0, 44087.0, 43349.0, 40974.0, 38857.0, 40406.0, 41444.0, 40592.0, 42436.0, 43601.0, 50024.0, 50038.0, 51308.0, 51370.0, 52262.0, 50556.0, 53844.0, 54054.0, 54978.0, 54113.0, 53976.0, 52305.0, 50357.0, 50634.0, 51812.0, 50191.0, 51673.0, 52346.0, 53166.0, 55649.0, 57171.0, 57474.0, 58030.0, 58753.0, 59418.0, 59099.0, 59655.0, 60310.0, 58595.0, 59462.0, 59621.0, 61275.0, 62039.0, 64372.0, 64728.0, 65291.0, 64767.0, 61493.0, 62550.0, 62934.0, 61936.0, 60517.0, 58600.0, 60248.0, 62409.0, 64342.0, 64694.0, 66594.0, 66025.0, 66292.0, 68456.0, 69488.0, 67398.0, 66892.0, 66554.0, 65136.0, 65775.0, 66211.0, 64928.0, 64591.0, 65436.0, 66877.0, 68429.0, 68792.0, 64170.0, 64107.0, 63637.0, 62475.0, 62272.0, 63038.0, 63485.0, 65624.0, 65604.0, 65873.0, 67277.0, 68500.0, 68950.0, 71506.0, 72217.0, 73646.0, 75820.0, 76420.0, 75470.0, 78024.0, 77319.0, 77382.0, 77061.0, 75973.0, 74481.0, 73632.0, 75073.0, 74989.0, 74166.0, 74622.0, 75227.0, 76437.0, 79135.0, 79440.0, 81429.0, 85531.0, 86213.0, 84410.0, 84686.0, 87358.0, 88318.0, 86931.0, 87333.0, 85499.0, 85708.0, 86148.0, 85577.0, 86149.0, 87179.0, 86739.0, 86406.0, 86678.0, 83883.0, 78886.0, 78892.0, 73716.0, 72617.0, 73020.0, 75127.0, 76682.0, 79489.0, 80589.0, 81792.0, 81765.0, 78742.0, 77232.0, 78783.0, 76675.0, 77293.0, 80002.0, 80107.0, 85442.0, 87333.0, 86167.0, 85786.0, 89017.0, 89598.0, 88516.0, 88484.0, 90246.0, 91242.0, 88384.0, 88101.0, 88044.0, 92701.0, 93987.0, 96396.0, 97677.0, 98405.0, 98589.0, 98238.0, 98544.0, 98190.0, 95476.0, 99393.0, 100439.0, 95863.0, 97493.0, 97610.0, 95140.0, 96563.0, 97123.0, 96312.0, 94252.0, 95212.0, 97992.0, 98326.0, 99364.0, 102100.0, 102617.0, 104176.0, 106650.0, 104773.0, 104570.0, 104056.0, 104848.0, 103946.0, 101469.0, 101551.0, 103258.0, 104699.0, 106001.0, 105633.0, 105178.0, 104381.0, 105891.0, 108083.0, 108496.0, 109672.0, 108368.0, 108692.0, 108915.0, 111430.0, 112829.0, 115171.0, 117803.0, 118792.0, 117707.0, 118479.0, 119593.0, 118347.0, 117701.0, 117581.0, 116552.0, 113647.0, 108804.0, 97982.0, 82565.0, 78846.0, 75511.0, 80428.0, 81668.0, 81934.0, 83598.0, 81066.0, 80723.0, 83309.0, 88091.0, 97356.0, 97693.0, 97540.0, 97486.0, 97864.0, 100191.0, 103017.0, 105449.0, 105704.0, 104523.0, 104409.0, 102334.0, 102708.0, 103226.0, 101578.0, 100949.0, 98283.0, 98314.0, 98642.0, 99571.0, 102218.0, 101784.0, 100928.0, 105758.0, 107810.0, 111603.0, 113864.0, 115527.0, 119370.0, 118311.0, 120150.0, 125324.0, 125075.0, 122586.0, 119314.0, 121117.0, 120844.0, 120845.0, 118388.0, 115504.0, 115202.0, 116751.0, 116225.0, 117249.0, 118850.0, 121409.0, 121974.0, 121498.0, 122038.0, 122964.0, 123544.0, 125698.0, 130137.0, 131190.0, 131084.0, 129901.0, 128067.0], \"low\": [51130.0, 52221.0, 48624.0, 48640.0, 48512.0, 47508.0, 45677.0, 42749.0, 45278.0, 45592.0, 46218.0, 44183.0, 43767.0, 47019.0, 46321.0, 46623.0, 45401.0, 45866.0, 45397.0, 46399.0, 45812.0, 44579.0, 44232.0, 43690.0, 43137.0, 43217.0, 40463.0, 37986.0, 37046.0, 37112.0, 38596.0, 38928.0, 39808.0, 41211.0, 41599.0, 47922.0, 46521.0, 48778.0, 49361.0, 47874.0, 50078.0, 52305.0, 51748.0, 51204.0, 49908.0, 49588.0, 48695.0, 48200.0, 49421.0, 48067.0, 49539.0, 48954.0, 50825.0, 53143.0, 55355.0, 55993.0, 55696.0, 56735.0, 58081.0, 57259.0, 57506.0, 57961.0, 56459.0, 57083.0, 57411.0, 58367.0, 60243.0, 61719.0, 63084.0, 61491.0, 58921.0, 58322.0, 59963.0, 58092.0, 59396.0, 57575.0, 56829.0, 57941.0, 59371.0, 61307.0, 63456.0, 64500.0, 64163.0, 63740.0, 66125.0, 66452.0, 65594.0, 64203.0, 64152.0, 62496.0, 63030.0, 63762.0, 62826.0, 62828.0, 63761.0, 64721.0, 65295.0, 60315.0, 60925.0, 62161.0, 62010.0, 61269.0, 60544.0, 61088.0, 62035.0, 62322.0, 64599.0, 64678.0, 65503.0, 66650.0, 67226.0, 68514.0, 70516.0, 71671.0, 73096.0, 75029.0, 73125.0, 73845.0, 75181.0, 75366.0, 75315.0, 73094.0, 71920.0, 70825.0, 73439.0, 71215.0, 71356.0, 71798.0, 72347.0, 74924.0, 76403.0, 78164.0, 79349.0, 80524.0, 83804.0, 79690.0, 80901.0, 84261.0, 83897.0, 84397.0, 84525.0, 83678.0, 82889.0, 82826.0, 83155.0, 82762.0, 84349.0, 82746.0, 82201.0, 81391.0, 78622.0, 75337.0, 71162.0, 69583.0, 69069.0, 69779.0, 71935.0, 74196.0, 75890.0, 77871.0, 78573.0, 76043.0, 75633.0, 74876.0, 76026.0, 74276.0, 74275.0, 75227.0, 77005.0, 78091.0, 82324.0, 82922.0, 83035.0, 82783.0, 84030.0, 84071.0, 85763.0, 84905.0, 87025.0, 85583.0, 84756.0, 83892.0, 87536.0, 91064.0, 93335.0, 94662.0, 94783.0, 93424.0, 93737.0, 95793.0, 94394.0, 93305.0, 95384.0, 93380.0, 91584.0, 94124.0, 92516.0, 92338.0, 93721.0, 95312.0, 92750.0, 89409.0, 89822.0, 93626.0, 95686.0, 96782.0, 97623.0, 99421.0, 100073.0, 103903.0, 103361.0, 102196.0, 100950.0, 99630.0, 98200.0, 97085.0, 95855.0, 99406.0, 102231.0, 102782.0, 103034.0, 99826.0, 99868.0, 103438.0, 104696.0, 106356.0, 107127.0, 105261.0, 105367.0, 106312.0, 108190.0, 110133.0, 111896.0, 114964.0, 115645.0, 114952.0, 115503.0, 116906.0, 112825.0, 113467.0, 112134.0, 112661.0, 99951.0, 96886.0, 68488.0, 61691.0, 62161.0, 67802.0, 69556.0, 76405.0, 72041.0, 75327.0, 77640.0, 75697.0, 77571.0, 82193.0, 86837.0, 90811.0, 90148.0, 93259.0, 93825.0, 96768.0, 98289.0, 100859.0, 102381.0, 100005.0, 100187.0, 98513.0, 99359.0, 98961.0, 97758.0, 98045.0, 95632.0, 93408.0, 93984.0, 97336.0, 98310.0, 93387.0, 93968.0, 100954.0, 104729.0, 106050.0, 108829.0, 112567.0, 114431.0, 114730.0, 117805.0, 116756.0, 120374.0, 116109.0, 114887.0, 115093.0, 117970.0, 117867.0, 109827.0, 107319.0, 109343.0, 113370.0, 110927.0, 114096.0, 115262.0, 117661.0, 119203.0, 118894.0, 117631.0, 119458.0, 121595.0, 122526.0, 125540.0, 128678.0, 127576.0, 126697.0, 124994.0], \"open\": [52511.0, 52591.0, 52341.0, 49246.0, 50867.0, 48578.0, 47509.0, 45715.0, 47151.0, 46501.0, 46400.0, 47263.0, 44832.0, 47033.0, 49339.0, 47242.0, 47607.0, 45869.0, 46915.0, 46519.0, 48138.0, 45871.0, 45361.0, 45258.0, 43912.0, 44016.0, 43349.0, 40612.0, 38572.0, 38031.0, 40397.0, 40592.0, 39808.0, 41544.0, 41599.0, 49089.0, 49639.0, 50816.0, 49687.0, 50556.0, 50303.0, 53229.0, 52911.0, 53910.0, 51717.0, 51803.0, 49709.0, 49051.0, 50627.0, 49419.0, 49539.0, 50106.0, 52241.0, 53143.0, 55573.0, 57006.0, 57309.0, 57655.0, 58316.0, 59080.0, 57717.0, 59616.0, 57998.0, 57083.0, 58697.0, 58370.0, 61130.0, 61768.0, 64141.0, 64312.0, 61601.0, 59183.0, 59963.0, 61559.0, 60322.0, 60517.0, 58390.0, 57941.0, 60227.0, 61680.0, 63652.0, 64519.0, 66025.0, 64957.0, 66125.0, 67756.0, 66661.0, 66786.0, 64674.0, 64232.0, 63829.0, 64989.0, 64593.0, 62828.0, 63761.0, 65404.0, 65705.0, 68227.0, 62638.0, 64055.0, 62503.0, 62219.0, 61620.0, 61088.0, 62901.0, 62322.0, 65431.0, 64695.0, 65503.0, 66898.0, 67364.0, 68713.0, 71074.0, 71921.0, 73096.0, 75758.0, 75381.0, 74295.0, 76055.0, 76985.0, 76398.0, 75973.0, 73911.0, 72167.0, 73439.0, 74157.0, 72266.0, 72775.0, 72621.0, 75187.0, 76403.0, 79070.0, 79349.0, 81220.0, 85531.0, 84040.0, 80901.0, 84525.0, 87296.0, 85292.0, 86386.0, 84886.0, 84377.0, 85365.0, 84832.0, 84328.0, 85520.0, 86443.0, 83199.0, 85222.0, 83095.0, 78886.0, 77244.0, 72943.0, 70757.0, 70642.0, 72763.0, 75015.0, 76587.0, 78571.0, 79866.0, 81445.0, 76513.0, 76029.0, 76264.0, 76675.0, 76416.0, 75428.0, 79447.0, 79350.0, 82324.0, 82922.0, 84222.0, 85728.0, 88418.0, 85644.0, 88472.0, 86237.0, 89511.0, 88115.0, 87448.0, 85684.0, 87887.0, 91845.0, 93645.0, 96093.0, 97674.0, 97861.0, 95351.0, 97527.0, 97881.0, 94604.0, 95384.0, 99141.0, 93735.0, 95423.0, 97110.0, 92875.0, 94578.0, 96254.0, 95992.0, 94252.0, 90006.0, 93626.0, 97036.0, 97828.0, 98038.0, 102018.0, 100973.0, 104090.0, 103909.0, 103452.0, 102817.0, 102658.0, 103946.0, 99810.0, 97687.0, 101133.0, 102937.0, 103496.0, 104817.0, 105077.0, 102546.0, 103834.0, 104729.0, 107366.0, 108196.0, 107622.0, 106566.0, 108692.0, 108246.0, 111125.0, 112565.0, 115119.0, 116530.0, 117707.0, 115503.0, 118478.0, 118347.0, 113761.0, 113771.0, 114381.0, 113647.0, 104260.0, 97982.0, 82565.0, 67067.0, 73431.0, 69556.0, 77682.0, 78989.0, 75334.0, 80501.0, 80263.0, 77576.0, 82198.0, 87395.0, 94640.0, 92780.0, 96572.0, 93837.0, 96776.0, 100027.0, 102888.0, 102381.0, 102913.0, 102776.0, 101348.0, 101525.0, 102142.0, 101239.0, 98367.0, 98283.0, 97005.0, 94019.0, 97483.0, 98310.0, 101260.0, 93968.0, 100954.0, 104729.0, 106050.0, 110598.0, 113751.0, 115137.0, 118021.0, 117806.0, 119024.0, 125075.0, 120351.0, 117381.0, 115093.0, 120239.0, 119421.0, 118388.0, 110036.0, 115202.0, 114093.0, 116222.0, 114776.0, 115262.0, 117661.0, 121116.0, 120534.0, 118951.0, 122038.0, 121880.0, 122592.0, 125561.0, 130125.0, 129441.0, 128405.0, 127255.0], \"type\": \"candlestick\", \"x\": [\"2015-07-06\", \"2015-07-13\", \"2015-07-20\", \"2015-07-27\", \"2015-08-03\", \"2015-08-10\", \"2015-08-17\", \"2015-08-24\", \"2015-08-31\", \"2015-09-07\", \"2015-09-14\", \"2015-09-21\", \"2015-09-28\", \"2015-10-05\", \"2015-10-12\", \"2015-10-19\", \"2015-10-26\", \"2015-11-02\", \"2015-11-09\", \"2015-11-16\", \"2015-11-23\", \"2015-11-30\", \"2015-12-07\", \"2015-12-14\", \"2015-12-21\", \"2015-12-28\", \"2016-01-04\", \"2016-01-11\", \"2016-01-18\", \"2016-01-25\", \"2016-02-01\", \"2016-02-08\", \"2016-02-15\", \"2016-02-22\", \"2016-02-29\", \"2016-03-07\", \"2016-03-14\", \"2016-03-21\", \"2016-03-28\", \"2016-04-04\", \"2016-04-11\", \"2016-04-18\", \"2016-04-25\", \"2016-05-02\", \"2016-05-09\", \"2016-05-16\", \"2016-05-23\", \"2016-05-30\", \"2016-06-06\", \"2016-06-13\", \"2016-06-20\", \"2016-06-27\", \"2016-07-04\", \"2016-07-11\", \"2016-07-18\", \"2016-07-25\", \"2016-08-01\", \"2016-08-08\", \"2016-08-15\", \"2016-08-22\", \"2016-08-29\", \"2016-09-05\", \"2016-09-12\", \"2016-09-19\", \"2016-09-26\", \"2016-10-03\", \"2016-10-10\", \"2016-10-17\", \"2016-10-24\", \"2016-10-31\", \"2016-11-07\", \"2016-11-14\", \"2016-11-21\", \"2016-11-28\", \"2016-12-05\", \"2016-12-12\", \"2016-12-19\", \"2016-12-26\", \"2017-01-02\", \"2017-01-09\", \"2017-01-16\", \"2017-01-23\", \"2017-01-30\", \"2017-02-06\", \"2017-02-13\", \"2017-02-20\", \"2017-02-27\", \"2017-03-06\", \"2017-03-13\", \"2017-03-20\", \"2017-03-27\", \"2017-04-03\", \"2017-04-10\", \"2017-04-17\", \"2017-04-24\", \"2017-05-01\", \"2017-05-08\", \"2017-05-15\", \"2017-05-22\", \"2017-05-29\", \"2017-06-05\", \"2017-06-12\", \"2017-06-19\", \"2017-06-26\", \"2017-07-03\", \"2017-07-10\", \"2017-07-17\", \"2017-07-24\", \"2017-07-31\", \"2017-08-07\", \"2017-08-14\", \"2017-08-21\", \"2017-08-28\", \"2017-09-04\", \"2017-09-11\", \"2017-09-18\", \"2017-09-25\", \"2017-10-02\", \"2017-10-09\", \"2017-10-16\", \"2017-10-23\", \"2017-10-30\", \"2017-11-06\", \"2017-11-13\", \"2017-11-20\", \"2017-11-27\", \"2017-12-04\", \"2017-12-11\", \"2017-12-18\", \"2017-12-25\", \"2018-01-01\", \"2018-01-08\", \"2018-01-15\", \"2018-01-22\", \"2018-01-29\", \"2018-02-05\", \"2018-02-12\", \"2018-02-19\", \"2018-02-26\", \"2018-03-05\", \"2018-03-12\", \"2018-03-19\", \"2018-03-26\", \"2018-04-02\", \"2018-04-09\", \"2018-04-16\", \"2018-04-23\", \"2018-04-30\", \"2018-05-07\", \"2018-05-14\", \"2018-05-21\", \"2018-05-28\", \"2018-06-04\", \"2018-06-11\", \"2018-06-18\", \"2018-06-25\", \"2018-07-02\", \"2018-07-09\", \"2018-07-16\", \"2018-07-23\", \"2018-07-30\", \"2018-08-06\", \"2018-08-13\", \"2018-08-20\", \"2018-08-27\", \"2018-09-03\", \"2018-09-10\", \"2018-09-17\", \"2018-09-24\", \"2018-10-01\", \"2018-10-08\", \"2018-10-15\", \"2018-10-22\", \"2018-10-29\", \"2018-11-05\", \"2018-11-12\", \"2018-11-19\", \"2018-11-26\", \"2018-12-03\", \"2018-12-10\", \"2018-12-17\", \"2018-12-24\", \"2018-12-31\", \"2019-01-07\", \"2019-01-14\", \"2019-01-21\", \"2019-01-28\", \"2019-02-04\", \"2019-02-11\", \"2019-02-18\", \"2019-02-25\", \"2019-03-04\", \"2019-03-11\", \"2019-03-18\", \"2019-03-25\", \"2019-04-01\", \"2019-04-08\", \"2019-04-15\", \"2019-04-22\", \"2019-04-29\", \"2019-05-06\", \"2019-05-13\", \"2019-05-20\", \"2019-05-27\", \"2019-06-03\", \"2019-06-10\", \"2019-06-17\", \"2019-06-24\", \"2019-07-01\", \"2019-07-08\", \"2019-07-15\", \"2019-07-22\", \"2019-07-29\", \"2019-08-05\", \"2019-08-12\", \"2019-08-19\", \"2019-08-26\", \"2019-09-02\", \"2019-09-09\", \"2019-09-16\", \"2019-09-23\", \"2019-09-30\", \"2019-10-07\", \"2019-10-14\", \"2019-10-21\", \"2019-10-28\", \"2019-11-04\", \"2019-11-11\", \"2019-11-18\", \"2019-11-25\", \"2019-12-02\", \"2019-12-09\", \"2019-12-16\", \"2019-12-23\", \"2019-12-30\", \"2020-01-06\", \"2020-01-13\", \"2020-01-20\", \"2020-01-27\", \"2020-02-03\", \"2020-02-10\", \"2020-02-17\", \"2020-02-24\", \"2020-03-02\", \"2020-03-09\", \"2020-03-16\", \"2020-03-23\", \"2020-03-30\", \"2020-04-06\", \"2020-04-13\", \"2020-04-20\", \"2020-04-27\", \"2020-05-04\", \"2020-05-11\", \"2020-05-18\", \"2020-05-25\", \"2020-06-01\", \"2020-06-08\", \"2020-06-15\", \"2020-06-22\", \"2020-06-29\", \"2020-07-06\", \"2020-07-13\", \"2020-07-20\", \"2020-07-27\", \"2020-08-03\", \"2020-08-10\", \"2020-08-17\", \"2020-08-24\", \"2020-08-31\", \"2020-09-07\", \"2020-09-14\", \"2020-09-21\", \"2020-09-28\", \"2020-10-05\", \"2020-10-12\", \"2020-10-19\", \"2020-10-26\", \"2020-11-02\", \"2020-11-09\", \"2020-11-16\", \"2020-11-23\", \"2020-11-30\", \"2020-12-07\", \"2020-12-14\", \"2020-12-21\", \"2020-12-28\", \"2021-01-04\", \"2021-01-11\", \"2021-01-18\", \"2021-01-25\", \"2021-02-01\", \"2021-02-08\", \"2021-02-15\", \"2021-02-22\", \"2021-03-01\", \"2021-03-08\", \"2021-03-15\", \"2021-03-22\", \"2021-03-29\", \"2021-04-05\", \"2021-04-12\", \"2021-04-19\", \"2021-04-26\", \"2021-05-03\", \"2021-05-10\", \"2021-05-17\", \"2021-05-24\", \"2021-05-31\", \"2021-06-07\", \"2021-06-14\", \"2021-06-21\", \"2021-06-28\"]}],                        {\"template\": {\"data\": {\"bar\": [{\"error_x\": {\"color\": \"#2a3f5f\"}, \"error_y\": {\"color\": \"#2a3f5f\"}, \"marker\": {\"line\": {\"color\": \"#E5ECF6\", \"width\": 0.5}}, \"type\": \"bar\"}], \"barpolar\": [{\"marker\": {\"line\": {\"color\": \"#E5ECF6\", \"width\": 0.5}}, \"type\": \"barpolar\"}], \"carpet\": [{\"aaxis\": {\"endlinecolor\": \"#2a3f5f\", \"gridcolor\": \"white\", \"linecolor\": \"white\", \"minorgridcolor\": \"white\", \"startlinecolor\": \"#2a3f5f\"}, \"baxis\": {\"endlinecolor\": \"#2a3f5f\", \"gridcolor\": \"white\", \"linecolor\": \"white\", \"minorgridcolor\": \"white\", \"startlinecolor\": \"#2a3f5f\"}, \"type\": \"carpet\"}], \"choropleth\": [{\"colorbar\": {\"outlinewidth\": 0, \"ticks\": \"\"}, \"type\": \"choropleth\"}], \"contour\": [{\"colorbar\": {\"outlinewidth\": 0, \"ticks\": \"\"}, \"colorscale\": [[0.0, \"#0d0887\"], [0.1111111111111111, \"#46039f\"], [0.2222222222222222, \"#7201a8\"], [0.3333333333333333, \"#9c179e\"], [0.4444444444444444, \"#bd3786\"], [0.5555555555555556, \"#d8576b\"], [0.6666666666666666, \"#ed7953\"], [0.7777777777777778, \"#fb9f3a\"], [0.8888888888888888, \"#fdca26\"], [1.0, \"#f0f921\"]], \"type\": \"contour\"}], \"contourcarpet\": [{\"colorbar\": {\"outlinewidth\": 0, \"ticks\": \"\"}, \"type\": \"contourcarpet\"}], \"heatmap\": [{\"colorbar\": {\"outlinewidth\": 0, \"ticks\": \"\"}, \"colorscale\": [[0.0, \"#0d0887\"], [0.1111111111111111, \"#46039f\"], [0.2222222222222222, \"#7201a8\"], [0.3333333333333333, \"#9c179e\"], [0.4444444444444444, \"#bd3786\"], [0.5555555555555556, \"#d8576b\"], [0.6666666666666666, \"#ed7953\"], [0.7777777777777778, \"#fb9f3a\"], [0.8888888888888888, \"#fdca26\"], [1.0, \"#f0f921\"]], \"type\": \"heatmap\"}], \"heatmapgl\": [{\"colorbar\": {\"outlinewidth\": 0, \"ticks\": \"\"}, \"colorscale\": [[0.0, \"#0d0887\"], [0.1111111111111111, \"#46039f\"], [0.2222222222222222, \"#7201a8\"], [0.3333333333333333, \"#9c179e\"], [0.4444444444444444, \"#bd3786\"], [0.5555555555555556, \"#d8576b\"], [0.6666666666666666, \"#ed7953\"], [0.7777777777777778, \"#fb9f3a\"], [0.8888888888888888, \"#fdca26\"], [1.0, \"#f0f921\"]], \"type\": \"heatmapgl\"}], \"histogram\": [{\"marker\": {\"colorbar\": {\"outlinewidth\": 0, \"ticks\": \"\"}}, \"type\": \"histogram\"}], \"histogram2d\": [{\"colorbar\": {\"outlinewidth\": 0, \"ticks\": \"\"}, \"colorscale\": [[0.0, \"#0d0887\"], [0.1111111111111111, \"#46039f\"], [0.2222222222222222, \"#7201a8\"], [0.3333333333333333, \"#9c179e\"], [0.4444444444444444, \"#bd3786\"], [0.5555555555555556, \"#d8576b\"], [0.6666666666666666, \"#ed7953\"], [0.7777777777777778, \"#fb9f3a\"], [0.8888888888888888, \"#fdca26\"], [1.0, \"#f0f921\"]], \"type\": \"histogram2d\"}], \"histogram2dcontour\": [{\"colorbar\": {\"outlinewidth\": 0, \"ticks\": \"\"}, \"colorscale\": [[0.0, \"#0d0887\"], [0.1111111111111111, \"#46039f\"], [0.2222222222222222, \"#7201a8\"], [0.3333333333333333, \"#9c179e\"], [0.4444444444444444, \"#bd3786\"], [0.5555555555555556, \"#d8576b\"], [0.6666666666666666, \"#ed7953\"], [0.7777777777777778, \"#fb9f3a\"], [0.8888888888888888, \"#fdca26\"], [1.0, \"#f0f921\"]], \"type\": \"histogram2dcontour\"}], \"mesh3d\": [{\"colorbar\": {\"outlinewidth\": 0, \"ticks\": \"\"}, \"type\": \"mesh3d\"}], \"parcoords\": [{\"line\": {\"colorbar\": {\"outlinewidth\": 0, \"ticks\": \"\"}}, \"type\": \"parcoords\"}], \"pie\": [{\"automargin\": true, \"type\": \"pie\"}], \"scatter\": [{\"marker\": {\"colorbar\": {\"outlinewidth\": 0, \"ticks\": \"\"}}, \"type\": \"scatter\"}], \"scatter3d\": [{\"line\": {\"colorbar\": {\"outlinewidth\": 0, \"ticks\": \"\"}}, \"marker\": {\"colorbar\": {\"outlinewidth\": 0, \"ticks\": \"\"}}, \"type\": \"scatter3d\"}], \"scattercarpet\": [{\"marker\": {\"colorbar\": {\"outlinewidth\": 0, \"ticks\": \"\"}}, \"type\": \"scattercarpet\"}], \"scattergeo\": [{\"marker\": {\"colorbar\": {\"outlinewidth\": 0, \"ticks\": \"\"}}, \"type\": \"scattergeo\"}], \"scattergl\": [{\"marker\": {\"colorbar\": {\"outlinewidth\": 0, \"ticks\": \"\"}}, \"type\": \"scattergl\"}], \"scattermapbox\": [{\"marker\": {\"colorbar\": {\"outlinewidth\": 0, \"ticks\": \"\"}}, \"type\": \"scattermapbox\"}], \"scatterpolar\": [{\"marker\": {\"colorbar\": {\"outlinewidth\": 0, \"ticks\": \"\"}}, \"type\": \"scatterpolar\"}], \"scatterpolargl\": [{\"marker\": {\"colorbar\": {\"outlinewidth\": 0, \"ticks\": \"\"}}, \"type\": \"scatterpolargl\"}], \"scatterternary\": [{\"marker\": {\"colorbar\": {\"outlinewidth\": 0, \"ticks\": \"\"}}, \"type\": \"scatterternary\"}], \"surface\": [{\"colorbar\": {\"outlinewidth\": 0, \"ticks\": \"\"}, \"colorscale\": [[0.0, \"#0d0887\"], [0.1111111111111111, \"#46039f\"], [0.2222222222222222, \"#7201a8\"], [0.3333333333333333, \"#9c179e\"], [0.4444444444444444, \"#bd3786\"], [0.5555555555555556, \"#d8576b\"], [0.6666666666666666, \"#ed7953\"], [0.7777777777777778, \"#fb9f3a\"], [0.8888888888888888, \"#fdca26\"], [1.0, \"#f0f921\"]], \"type\": \"surface\"}], \"table\": [{\"cells\": {\"fill\": {\"color\": \"#EBF0F8\"}, \"line\": {\"color\": \"white\"}}, \"header\": {\"fill\": {\"color\": \"#C8D4E3\"}, \"line\": {\"color\": \"white\"}}, \"type\": \"table\"}]}, \"layout\": {\"annotationdefaults\": {\"arrowcolor\": \"#2a3f5f\", \"arrowhead\": 0, \"arrowwidth\": 1}, \"autotypenumbers\": \"strict\", \"coloraxis\": {\"colorbar\": {\"outlinewidth\": 0, \"ticks\": \"\"}}, \"colorscale\": {\"diverging\": [[0, \"#8e0152\"], [0.1, \"#c51b7d\"], [0.2, \"#de77ae\"], [0.3, \"#f1b6da\"], [0.4, \"#fde0ef\"], [0.5, \"#f7f7f7\"], [0.6, \"#e6f5d0\"], [0.7, \"#b8e186\"], [0.8, \"#7fbc41\"], [0.9, \"#4d9221\"], [1, \"#276419\"]], \"sequential\": [[0.0, \"#0d0887\"], [0.1111111111111111, \"#46039f\"], [0.2222222222222222, \"#7201a8\"], [0.3333333333333333, \"#9c179e\"], [0.4444444444444444, \"#bd3786\"], [0.5555555555555556, \"#d8576b\"], [0.6666666666666666, \"#ed7953\"], [0.7777777777777778, \"#fb9f3a\"], [0.8888888888888888, \"#fdca26\"], [1.0, \"#f0f921\"]], \"sequentialminus\": [[0.0, \"#0d0887\"], [0.1111111111111111, \"#46039f\"], [0.2222222222222222, \"#7201a8\"], [0.3333333333333333, \"#9c179e\"], [0.4444444444444444, \"#bd3786\"], [0.5555555555555556, \"#d8576b\"], [0.6666666666666666, \"#ed7953\"], [0.7777777777777778, \"#fb9f3a\"], [0.8888888888888888, \"#fdca26\"], [1.0, \"#f0f921\"]]}, \"colorway\": [\"#636efa\", \"#EF553B\", \"#00cc96\", \"#ab63fa\", \"#FFA15A\", \"#19d3f3\", \"#FF6692\", \"#B6E880\", \"#FF97FF\", \"#FECB52\"], \"font\": {\"color\": \"#2a3f5f\"}, \"geo\": {\"bgcolor\": \"white\", \"lakecolor\": \"white\", \"landcolor\": \"#E5ECF6\", \"showlakes\": true, \"showland\": true, \"subunitcolor\": \"white\"}, \"hoverlabel\": {\"align\": \"left\"}, \"hovermode\": \"closest\", \"mapbox\": {\"style\": \"light\"}, \"paper_bgcolor\": \"white\", \"plot_bgcolor\": \"#E5ECF6\", \"polar\": {\"angularaxis\": {\"gridcolor\": \"white\", \"linecolor\": \"white\", \"ticks\": \"\"}, \"bgcolor\": \"#E5ECF6\", \"radialaxis\": {\"gridcolor\": \"white\", \"linecolor\": \"white\", \"ticks\": \"\"}}, \"scene\": {\"xaxis\": {\"backgroundcolor\": \"#E5ECF6\", \"gridcolor\": \"white\", \"gridwidth\": 2, \"linecolor\": \"white\", \"showbackground\": true, \"ticks\": \"\", \"zerolinecolor\": \"white\"}, \"yaxis\": {\"backgroundcolor\": \"#E5ECF6\", \"gridcolor\": \"white\", \"gridwidth\": 2, \"linecolor\": \"white\", \"showbackground\": true, \"ticks\": \"\", \"zerolinecolor\": \"white\"}, \"zaxis\": {\"backgroundcolor\": \"#E5ECF6\", \"gridcolor\": \"white\", \"gridwidth\": 2, \"linecolor\": \"white\", \"showbackground\": true, \"ticks\": \"\", \"zerolinecolor\": \"white\"}}, \"shapedefaults\": {\"line\": {\"color\": \"#2a3f5f\"}}, \"ternary\": {\"aaxis\": {\"gridcolor\": \"white\", \"linecolor\": \"white\", \"ticks\": \"\"}, \"baxis\": {\"gridcolor\": \"white\", \"linecolor\": \"white\", \"ticks\": \"\"}, \"bgcolor\": \"#E5ECF6\", \"caxis\": {\"gridcolor\": \"white\", \"linecolor\": \"white\", \"ticks\": \"\"}}, \"title\": {\"x\": 0.05}, \"xaxis\": {\"automargin\": true, \"gridcolor\": \"white\", \"linecolor\": \"white\", \"ticks\": \"\", \"title\": {\"standoff\": 15}, \"zerolinecolor\": \"white\", \"zerolinewidth\": 2}, \"yaxis\": {\"automargin\": true, \"gridcolor\": \"white\", \"linecolor\": \"white\", \"ticks\": \"\", \"title\": {\"standoff\": 15}, \"zerolinecolor\": \"white\", \"zerolinewidth\": 2}}}},                        {\"responsive\": true}                    ).then(function(){\n",
       "                            \n",
       "var gd = document.getElementById('6e94fa83-47d1-4f0b-8379-a70b10035b12');\n",
       "var x = new MutationObserver(function (mutations, observer) {{\n",
       "        var display = window.getComputedStyle(gd).display;\n",
       "        if (!display || display === 'none') {{\n",
       "            console.log([gd, 'removed!']);\n",
       "            Plotly.purge(gd);\n",
       "            observer.disconnect();\n",
       "        }}\n",
       "}});\n",
       "\n",
       "// Listen for the removal of the full notebook cells\n",
       "var notebookContainer = gd.closest('#notebook-container');\n",
       "if (notebookContainer) {{\n",
       "    x.observe(notebookContainer, {childList: true});\n",
       "}}\n",
       "\n",
       "// Listen for the clearing of the current output cell\n",
       "var outputEl = gd.closest('.output');\n",
       "if (outputEl) {{\n",
       "    x.observe(outputEl, {childList: true});\n",
       "}}\n",
       "\n",
       "                        })                };                });            </script>        </div>"
      ]
     },
     "metadata": {},
     "output_type": "display_data"
    }
   ],
   "source": [
    "trace = go.Candlestick(x=df['Date'], \n",
    "                       open=df['Open'], \n",
    "                       high=df['High'],\n",
    "                       low=df['Low'],\n",
    "                       close=df['Close'])\n",
    "data = [trace]\n",
    "\n",
    "py.iplot(data, filename='simple_candlestick')"
   ]
  },
  {
   "cell_type": "markdown",
   "id": "673a53cf",
   "metadata": {},
   "source": [
    "**Alterando as cores dos candlesticks**"
   ]
  },
  {
   "cell_type": "code",
   "execution_count": 9,
   "id": "ef6761dd",
   "metadata": {},
   "outputs": [
    {
     "data": {
      "application/vnd.plotly.v1+json": {
       "config": {
        "linkText": "Export to plotly.com",
        "plotlyServerURL": "https://plotly.com",
        "showLink": false
       },
       "data": [
        {
         "close": [
          52591,
          52342,
          49246,
          50865,
          48577,
          47508,
          45720,
          47154,
          46498,
          46401,
          47264,
          44831,
          47033,
          49338,
          47236,
          47597,
          45869,
          46919,
          46517,
          48139,
          45873,
          45361,
          45263,
          43911,
          44015,
          43350,
          40612,
          38569,
          38031,
          40406,
          40592,
          39808,
          41543,
          41593,
          49085,
          49639,
          50815,
          49657,
          50562,
          50293,
          53228,
          52908,
          53911,
          51718,
          51804,
          49723,
          49051,
          50619,
          49422,
          49534,
          50105,
          52233,
          53141,
          55578,
          57002,
          57308,
          57661,
          58298,
          59099,
          57716,
          59616,
          58000,
          57080,
          58697,
          58367,
          61109,
          61767,
          64108,
          64308,
          61598,
          59184,
          59962,
          61559,
          60316,
          60501,
          58389,
          57937,
          60227,
          61665,
          63652,
          64521,
          66034,
          64954,
          66125,
          67748,
          66662,
          66786,
          64675,
          64210,
          63854,
          64984,
          64593,
          62826,
          63761,
          65403,
          65710,
          68222,
          62639,
          64085,
          62511,
          62211,
          61626,
          61087,
          62900,
          62322,
          65436,
          64684,
          65497,
          66898,
          67359,
          68715,
          71074,
          71923,
          73079,
          75757,
          75390,
          74294,
          76055,
          76990,
          76391,
          75976,
          73915,
          72166,
          73437,
          74157,
          72264,
          72732,
          72608,
          75187,
          76402,
          79071,
          79349,
          81220,
          85531,
          84041,
          80899,
          84525,
          87293,
          85761,
          86371,
          84886,
          84377,
          85366,
          84820,
          84334,
          85550,
          86445,
          83118,
          85220,
          83082,
          78898,
          77240,
          72942,
          70758,
          70641,
          72763,
          75010,
          76594,
          78571,
          79866,
          81435,
          76514,
          76029,
          76262,
          76678,
          76416,
          75429,
          79444,
          79342,
          82322,
          82921,
          84220,
          85720,
          88419,
          85641,
          88515,
          86230,
          89504,
          88115,
          87450,
          85697,
          87887,
          91841,
          93658,
          96097,
          97677,
          97861,
          95343,
          97526,
          97886,
          94604,
          95365,
          99137,
          93735,
          95415,
          97108,
          92875,
          94578,
          96236,
          96008,
          94258,
          89993,
          93628,
          97030,
          97821,
          98040,
          102013,
          100967,
          104089,
          103906,
          103452,
          102819,
          102674,
          103996,
          99806,
          97667,
          101135,
          102935,
          103501,
          104817,
          105078,
          102551,
          103832,
          104729,
          107364,
          108196,
          107629,
          106557,
          108692,
          108233,
          111126,
          112565,
          115121,
          116534,
          117707,
          115503,
          118478,
          118376,
          113761,
          113770,
          114381,
          113681,
          104172,
          97997,
          82678,
          67069,
          73429,
          69538,
          77682,
          78990,
          75331,
          80506,
          80263,
          77557,
          82173,
          87403,
          94637,
          92795,
          96572,
          93834,
          96765,
          100032,
          102888,
          102382,
          102912,
          102776,
          101353,
          101521,
          102143,
          101242,
          98363,
          98290,
          96999,
          94016,
          97483,
          98309,
          101260,
          93952,
          100799,
          104512,
          106042,
          110575,
          113682,
          115323,
          117679,
          117857,
          119306,
          125077,
          120502,
          117172,
          116007,
          119925,
          119116,
          118748,
          110035,
          115202,
          114160,
          116222,
          114781,
          115253,
          117670,
          121114,
          120530,
          118894,
          122038,
          121881,
          122592,
          125561,
          130126,
          129441,
          128405,
          127256,
          127622
         ],
         "decreasing": {
          "line": {
           "color": "#7F7F7F"
          }
         },
         "high": [
          52786,
          53417,
          52424,
          50895,
          50867,
          49512,
          48084,
          47997,
          47532,
          47840,
          49396,
          47391,
          47033,
          49752,
          49339,
          48837,
          47875,
          49054,
          47460,
          48227,
          48745,
          47142,
          46438,
          46251,
          44233,
          44087,
          43349,
          40974,
          38857,
          40406,
          41444,
          40592,
          42436,
          43601,
          50024,
          50038,
          51308,
          51370,
          52262,
          50556,
          53844,
          54054,
          54978,
          54113,
          53976,
          52305,
          50357,
          50634,
          51812,
          50191,
          51673,
          52346,
          53166,
          55649,
          57171,
          57474,
          58030,
          58753,
          59418,
          59099,
          59655,
          60310,
          58595,
          59462,
          59621,
          61275,
          62039,
          64372,
          64728,
          65291,
          64767,
          61493,
          62550,
          62934,
          61936,
          60517,
          58600,
          60248,
          62409,
          64342,
          64694,
          66594,
          66025,
          66292,
          68456,
          69488,
          67398,
          66892,
          66554,
          65136,
          65775,
          66211,
          64928,
          64591,
          65436,
          66877,
          68429,
          68792,
          64170,
          64107,
          63637,
          62475,
          62272,
          63038,
          63485,
          65624,
          65604,
          65873,
          67277,
          68500,
          68950,
          71506,
          72217,
          73646,
          75820,
          76420,
          75470,
          78024,
          77319,
          77382,
          77061,
          75973,
          74481,
          73632,
          75073,
          74989,
          74166,
          74622,
          75227,
          76437,
          79135,
          79440,
          81429,
          85531,
          86213,
          84410,
          84686,
          87358,
          88318,
          86931,
          87333,
          85499,
          85708,
          86148,
          85577,
          86149,
          87179,
          86739,
          86406,
          86678,
          83883,
          78886,
          78892,
          73716,
          72617,
          73020,
          75127,
          76682,
          79489,
          80589,
          81792,
          81765,
          78742,
          77232,
          78783,
          76675,
          77293,
          80002,
          80107,
          85442,
          87333,
          86167,
          85786,
          89017,
          89598,
          88516,
          88484,
          90246,
          91242,
          88384,
          88101,
          88044,
          92701,
          93987,
          96396,
          97677,
          98405,
          98589,
          98238,
          98544,
          98190,
          95476,
          99393,
          100439,
          95863,
          97493,
          97610,
          95140,
          96563,
          97123,
          96312,
          94252,
          95212,
          97992,
          98326,
          99364,
          102100,
          102617,
          104176,
          106650,
          104773,
          104570,
          104056,
          104848,
          103946,
          101469,
          101551,
          103258,
          104699,
          106001,
          105633,
          105178,
          104381,
          105891,
          108083,
          108496,
          109672,
          108368,
          108692,
          108915,
          111430,
          112829,
          115171,
          117803,
          118792,
          117707,
          118479,
          119593,
          118347,
          117701,
          117581,
          116552,
          113647,
          108804,
          97982,
          82565,
          78846,
          75511,
          80428,
          81668,
          81934,
          83598,
          81066,
          80723,
          83309,
          88091,
          97356,
          97693,
          97540,
          97486,
          97864,
          100191,
          103017,
          105449,
          105704,
          104523,
          104409,
          102334,
          102708,
          103226,
          101578,
          100949,
          98283,
          98314,
          98642,
          99571,
          102218,
          101784,
          100928,
          105758,
          107810,
          111603,
          113864,
          115527,
          119370,
          118311,
          120150,
          125324,
          125075,
          122586,
          119314,
          121117,
          120844,
          120845,
          118388,
          115504,
          115202,
          116751,
          116225,
          117249,
          118850,
          121409,
          121974,
          121498,
          122038,
          122964,
          123544,
          125698,
          130137,
          131190,
          131084,
          129901,
          128067
         ],
         "increasing": {
          "line": {
           "color": "#17BECF"
          }
         },
         "low": [
          51130,
          52221,
          48624,
          48640,
          48512,
          47508,
          45677,
          42749,
          45278,
          45592,
          46218,
          44183,
          43767,
          47019,
          46321,
          46623,
          45401,
          45866,
          45397,
          46399,
          45812,
          44579,
          44232,
          43690,
          43137,
          43217,
          40463,
          37986,
          37046,
          37112,
          38596,
          38928,
          39808,
          41211,
          41599,
          47922,
          46521,
          48778,
          49361,
          47874,
          50078,
          52305,
          51748,
          51204,
          49908,
          49588,
          48695,
          48200,
          49421,
          48067,
          49539,
          48954,
          50825,
          53143,
          55355,
          55993,
          55696,
          56735,
          58081,
          57259,
          57506,
          57961,
          56459,
          57083,
          57411,
          58367,
          60243,
          61719,
          63084,
          61491,
          58921,
          58322,
          59963,
          58092,
          59396,
          57575,
          56829,
          57941,
          59371,
          61307,
          63456,
          64500,
          64163,
          63740,
          66125,
          66452,
          65594,
          64203,
          64152,
          62496,
          63030,
          63762,
          62826,
          62828,
          63761,
          64721,
          65295,
          60315,
          60925,
          62161,
          62010,
          61269,
          60544,
          61088,
          62035,
          62322,
          64599,
          64678,
          65503,
          66650,
          67226,
          68514,
          70516,
          71671,
          73096,
          75029,
          73125,
          73845,
          75181,
          75366,
          75315,
          73094,
          71920,
          70825,
          73439,
          71215,
          71356,
          71798,
          72347,
          74924,
          76403,
          78164,
          79349,
          80524,
          83804,
          79690,
          80901,
          84261,
          83897,
          84397,
          84525,
          83678,
          82889,
          82826,
          83155,
          82762,
          84349,
          82746,
          82201,
          81391,
          78622,
          75337,
          71162,
          69583,
          69069,
          69779,
          71935,
          74196,
          75890,
          77871,
          78573,
          76043,
          75633,
          74876,
          76026,
          74276,
          74275,
          75227,
          77005,
          78091,
          82324,
          82922,
          83035,
          82783,
          84030,
          84071,
          85763,
          84905,
          87025,
          85583,
          84756,
          83892,
          87536,
          91064,
          93335,
          94662,
          94783,
          93424,
          93737,
          95793,
          94394,
          93305,
          95384,
          93380,
          91584,
          94124,
          92516,
          92338,
          93721,
          95312,
          92750,
          89409,
          89822,
          93626,
          95686,
          96782,
          97623,
          99421,
          100073,
          103903,
          103361,
          102196,
          100950,
          99630,
          98200,
          97085,
          95855,
          99406,
          102231,
          102782,
          103034,
          99826,
          99868,
          103438,
          104696,
          106356,
          107127,
          105261,
          105367,
          106312,
          108190,
          110133,
          111896,
          114964,
          115645,
          114952,
          115503,
          116906,
          112825,
          113467,
          112134,
          112661,
          99951,
          96886,
          68488,
          61691,
          62161,
          67802,
          69556,
          76405,
          72041,
          75327,
          77640,
          75697,
          77571,
          82193,
          86837,
          90811,
          90148,
          93259,
          93825,
          96768,
          98289,
          100859,
          102381,
          100005,
          100187,
          98513,
          99359,
          98961,
          97758,
          98045,
          95632,
          93408,
          93984,
          97336,
          98310,
          93387,
          93968,
          100954,
          104729,
          106050,
          108829,
          112567,
          114431,
          114730,
          117805,
          116756,
          120374,
          116109,
          114887,
          115093,
          117970,
          117867,
          109827,
          107319,
          109343,
          113370,
          110927,
          114096,
          115262,
          117661,
          119203,
          118894,
          117631,
          119458,
          121595,
          122526,
          125540,
          128678,
          127576,
          126697,
          124994
         ],
         "open": [
          52511,
          52591,
          52341,
          49246,
          50867,
          48578,
          47509,
          45715,
          47151,
          46501,
          46400,
          47263,
          44832,
          47033,
          49339,
          47242,
          47607,
          45869,
          46915,
          46519,
          48138,
          45871,
          45361,
          45258,
          43912,
          44016,
          43349,
          40612,
          38572,
          38031,
          40397,
          40592,
          39808,
          41544,
          41599,
          49089,
          49639,
          50816,
          49687,
          50556,
          50303,
          53229,
          52911,
          53910,
          51717,
          51803,
          49709,
          49051,
          50627,
          49419,
          49539,
          50106,
          52241,
          53143,
          55573,
          57006,
          57309,
          57655,
          58316,
          59080,
          57717,
          59616,
          57998,
          57083,
          58697,
          58370,
          61130,
          61768,
          64141,
          64312,
          61601,
          59183,
          59963,
          61559,
          60322,
          60517,
          58390,
          57941,
          60227,
          61680,
          63652,
          64519,
          66025,
          64957,
          66125,
          67756,
          66661,
          66786,
          64674,
          64232,
          63829,
          64989,
          64593,
          62828,
          63761,
          65404,
          65705,
          68227,
          62638,
          64055,
          62503,
          62219,
          61620,
          61088,
          62901,
          62322,
          65431,
          64695,
          65503,
          66898,
          67364,
          68713,
          71074,
          71921,
          73096,
          75758,
          75381,
          74295,
          76055,
          76985,
          76398,
          75973,
          73911,
          72167,
          73439,
          74157,
          72266,
          72775,
          72621,
          75187,
          76403,
          79070,
          79349,
          81220,
          85531,
          84040,
          80901,
          84525,
          87296,
          85292,
          86386,
          84886,
          84377,
          85365,
          84832,
          84328,
          85520,
          86443,
          83199,
          85222,
          83095,
          78886,
          77244,
          72943,
          70757,
          70642,
          72763,
          75015,
          76587,
          78571,
          79866,
          81445,
          76513,
          76029,
          76264,
          76675,
          76416,
          75428,
          79447,
          79350,
          82324,
          82922,
          84222,
          85728,
          88418,
          85644,
          88472,
          86237,
          89511,
          88115,
          87448,
          85684,
          87887,
          91845,
          93645,
          96093,
          97674,
          97861,
          95351,
          97527,
          97881,
          94604,
          95384,
          99141,
          93735,
          95423,
          97110,
          92875,
          94578,
          96254,
          95992,
          94252,
          90006,
          93626,
          97036,
          97828,
          98038,
          102018,
          100973,
          104090,
          103909,
          103452,
          102817,
          102658,
          103946,
          99810,
          97687,
          101133,
          102937,
          103496,
          104817,
          105077,
          102546,
          103834,
          104729,
          107366,
          108196,
          107622,
          106566,
          108692,
          108246,
          111125,
          112565,
          115119,
          116530,
          117707,
          115503,
          118478,
          118347,
          113761,
          113771,
          114381,
          113647,
          104260,
          97982,
          82565,
          67067,
          73431,
          69556,
          77682,
          78989,
          75334,
          80501,
          80263,
          77576,
          82198,
          87395,
          94640,
          92780,
          96572,
          93837,
          96776,
          100027,
          102888,
          102381,
          102913,
          102776,
          101348,
          101525,
          102142,
          101239,
          98367,
          98283,
          97005,
          94019,
          97483,
          98310,
          101260,
          93968,
          100954,
          104729,
          106050,
          110598,
          113751,
          115137,
          118021,
          117806,
          119024,
          125075,
          120351,
          117381,
          115093,
          120239,
          119421,
          118388,
          110036,
          115202,
          114093,
          116222,
          114776,
          115262,
          117661,
          121116,
          120534,
          118951,
          122038,
          121880,
          122592,
          125561,
          130125,
          129441,
          128405,
          127255
         ],
         "type": "candlestick",
         "x": [
          "2015-07-06",
          "2015-07-13",
          "2015-07-20",
          "2015-07-27",
          "2015-08-03",
          "2015-08-10",
          "2015-08-17",
          "2015-08-24",
          "2015-08-31",
          "2015-09-07",
          "2015-09-14",
          "2015-09-21",
          "2015-09-28",
          "2015-10-05",
          "2015-10-12",
          "2015-10-19",
          "2015-10-26",
          "2015-11-02",
          "2015-11-09",
          "2015-11-16",
          "2015-11-23",
          "2015-11-30",
          "2015-12-07",
          "2015-12-14",
          "2015-12-21",
          "2015-12-28",
          "2016-01-04",
          "2016-01-11",
          "2016-01-18",
          "2016-01-25",
          "2016-02-01",
          "2016-02-08",
          "2016-02-15",
          "2016-02-22",
          "2016-02-29",
          "2016-03-07",
          "2016-03-14",
          "2016-03-21",
          "2016-03-28",
          "2016-04-04",
          "2016-04-11",
          "2016-04-18",
          "2016-04-25",
          "2016-05-02",
          "2016-05-09",
          "2016-05-16",
          "2016-05-23",
          "2016-05-30",
          "2016-06-06",
          "2016-06-13",
          "2016-06-20",
          "2016-06-27",
          "2016-07-04",
          "2016-07-11",
          "2016-07-18",
          "2016-07-25",
          "2016-08-01",
          "2016-08-08",
          "2016-08-15",
          "2016-08-22",
          "2016-08-29",
          "2016-09-05",
          "2016-09-12",
          "2016-09-19",
          "2016-09-26",
          "2016-10-03",
          "2016-10-10",
          "2016-10-17",
          "2016-10-24",
          "2016-10-31",
          "2016-11-07",
          "2016-11-14",
          "2016-11-21",
          "2016-11-28",
          "2016-12-05",
          "2016-12-12",
          "2016-12-19",
          "2016-12-26",
          "2017-01-02",
          "2017-01-09",
          "2017-01-16",
          "2017-01-23",
          "2017-01-30",
          "2017-02-06",
          "2017-02-13",
          "2017-02-20",
          "2017-02-27",
          "2017-03-06",
          "2017-03-13",
          "2017-03-20",
          "2017-03-27",
          "2017-04-03",
          "2017-04-10",
          "2017-04-17",
          "2017-04-24",
          "2017-05-01",
          "2017-05-08",
          "2017-05-15",
          "2017-05-22",
          "2017-05-29",
          "2017-06-05",
          "2017-06-12",
          "2017-06-19",
          "2017-06-26",
          "2017-07-03",
          "2017-07-10",
          "2017-07-17",
          "2017-07-24",
          "2017-07-31",
          "2017-08-07",
          "2017-08-14",
          "2017-08-21",
          "2017-08-28",
          "2017-09-04",
          "2017-09-11",
          "2017-09-18",
          "2017-09-25",
          "2017-10-02",
          "2017-10-09",
          "2017-10-16",
          "2017-10-23",
          "2017-10-30",
          "2017-11-06",
          "2017-11-13",
          "2017-11-20",
          "2017-11-27",
          "2017-12-04",
          "2017-12-11",
          "2017-12-18",
          "2017-12-25",
          "2018-01-01",
          "2018-01-08",
          "2018-01-15",
          "2018-01-22",
          "2018-01-29",
          "2018-02-05",
          "2018-02-12",
          "2018-02-19",
          "2018-02-26",
          "2018-03-05",
          "2018-03-12",
          "2018-03-19",
          "2018-03-26",
          "2018-04-02",
          "2018-04-09",
          "2018-04-16",
          "2018-04-23",
          "2018-04-30",
          "2018-05-07",
          "2018-05-14",
          "2018-05-21",
          "2018-05-28",
          "2018-06-04",
          "2018-06-11",
          "2018-06-18",
          "2018-06-25",
          "2018-07-02",
          "2018-07-09",
          "2018-07-16",
          "2018-07-23",
          "2018-07-30",
          "2018-08-06",
          "2018-08-13",
          "2018-08-20",
          "2018-08-27",
          "2018-09-03",
          "2018-09-10",
          "2018-09-17",
          "2018-09-24",
          "2018-10-01",
          "2018-10-08",
          "2018-10-15",
          "2018-10-22",
          "2018-10-29",
          "2018-11-05",
          "2018-11-12",
          "2018-11-19",
          "2018-11-26",
          "2018-12-03",
          "2018-12-10",
          "2018-12-17",
          "2018-12-24",
          "2018-12-31",
          "2019-01-07",
          "2019-01-14",
          "2019-01-21",
          "2019-01-28",
          "2019-02-04",
          "2019-02-11",
          "2019-02-18",
          "2019-02-25",
          "2019-03-04",
          "2019-03-11",
          "2019-03-18",
          "2019-03-25",
          "2019-04-01",
          "2019-04-08",
          "2019-04-15",
          "2019-04-22",
          "2019-04-29",
          "2019-05-06",
          "2019-05-13",
          "2019-05-20",
          "2019-05-27",
          "2019-06-03",
          "2019-06-10",
          "2019-06-17",
          "2019-06-24",
          "2019-07-01",
          "2019-07-08",
          "2019-07-15",
          "2019-07-22",
          "2019-07-29",
          "2019-08-05",
          "2019-08-12",
          "2019-08-19",
          "2019-08-26",
          "2019-09-02",
          "2019-09-09",
          "2019-09-16",
          "2019-09-23",
          "2019-09-30",
          "2019-10-07",
          "2019-10-14",
          "2019-10-21",
          "2019-10-28",
          "2019-11-04",
          "2019-11-11",
          "2019-11-18",
          "2019-11-25",
          "2019-12-02",
          "2019-12-09",
          "2019-12-16",
          "2019-12-23",
          "2019-12-30",
          "2020-01-06",
          "2020-01-13",
          "2020-01-20",
          "2020-01-27",
          "2020-02-03",
          "2020-02-10",
          "2020-02-17",
          "2020-02-24",
          "2020-03-02",
          "2020-03-09",
          "2020-03-16",
          "2020-03-23",
          "2020-03-30",
          "2020-04-06",
          "2020-04-13",
          "2020-04-20",
          "2020-04-27",
          "2020-05-04",
          "2020-05-11",
          "2020-05-18",
          "2020-05-25",
          "2020-06-01",
          "2020-06-08",
          "2020-06-15",
          "2020-06-22",
          "2020-06-29",
          "2020-07-06",
          "2020-07-13",
          "2020-07-20",
          "2020-07-27",
          "2020-08-03",
          "2020-08-10",
          "2020-08-17",
          "2020-08-24",
          "2020-08-31",
          "2020-09-07",
          "2020-09-14",
          "2020-09-21",
          "2020-09-28",
          "2020-10-05",
          "2020-10-12",
          "2020-10-19",
          "2020-10-26",
          "2020-11-02",
          "2020-11-09",
          "2020-11-16",
          "2020-11-23",
          "2020-11-30",
          "2020-12-07",
          "2020-12-14",
          "2020-12-21",
          "2020-12-28",
          "2021-01-04",
          "2021-01-11",
          "2021-01-18",
          "2021-01-25",
          "2021-02-01",
          "2021-02-08",
          "2021-02-15",
          "2021-02-22",
          "2021-03-01",
          "2021-03-08",
          "2021-03-15",
          "2021-03-22",
          "2021-03-29",
          "2021-04-05",
          "2021-04-12",
          "2021-04-19",
          "2021-04-26",
          "2021-05-03",
          "2021-05-10",
          "2021-05-17",
          "2021-05-24",
          "2021-05-31",
          "2021-06-07",
          "2021-06-14",
          "2021-06-21",
          "2021-06-28"
         ]
        }
       ],
       "layout": {
        "template": {
         "data": {
          "bar": [
           {
            "error_x": {
             "color": "#2a3f5f"
            },
            "error_y": {
             "color": "#2a3f5f"
            },
            "marker": {
             "line": {
              "color": "#E5ECF6",
              "width": 0.5
             }
            },
            "type": "bar"
           }
          ],
          "barpolar": [
           {
            "marker": {
             "line": {
              "color": "#E5ECF6",
              "width": 0.5
             }
            },
            "type": "barpolar"
           }
          ],
          "carpet": [
           {
            "aaxis": {
             "endlinecolor": "#2a3f5f",
             "gridcolor": "white",
             "linecolor": "white",
             "minorgridcolor": "white",
             "startlinecolor": "#2a3f5f"
            },
            "baxis": {
             "endlinecolor": "#2a3f5f",
             "gridcolor": "white",
             "linecolor": "white",
             "minorgridcolor": "white",
             "startlinecolor": "#2a3f5f"
            },
            "type": "carpet"
           }
          ],
          "choropleth": [
           {
            "colorbar": {
             "outlinewidth": 0,
             "ticks": ""
            },
            "type": "choropleth"
           }
          ],
          "contour": [
           {
            "colorbar": {
             "outlinewidth": 0,
             "ticks": ""
            },
            "colorscale": [
             [
              0,
              "#0d0887"
             ],
             [
              0.1111111111111111,
              "#46039f"
             ],
             [
              0.2222222222222222,
              "#7201a8"
             ],
             [
              0.3333333333333333,
              "#9c179e"
             ],
             [
              0.4444444444444444,
              "#bd3786"
             ],
             [
              0.5555555555555556,
              "#d8576b"
             ],
             [
              0.6666666666666666,
              "#ed7953"
             ],
             [
              0.7777777777777778,
              "#fb9f3a"
             ],
             [
              0.8888888888888888,
              "#fdca26"
             ],
             [
              1,
              "#f0f921"
             ]
            ],
            "type": "contour"
           }
          ],
          "contourcarpet": [
           {
            "colorbar": {
             "outlinewidth": 0,
             "ticks": ""
            },
            "type": "contourcarpet"
           }
          ],
          "heatmap": [
           {
            "colorbar": {
             "outlinewidth": 0,
             "ticks": ""
            },
            "colorscale": [
             [
              0,
              "#0d0887"
             ],
             [
              0.1111111111111111,
              "#46039f"
             ],
             [
              0.2222222222222222,
              "#7201a8"
             ],
             [
              0.3333333333333333,
              "#9c179e"
             ],
             [
              0.4444444444444444,
              "#bd3786"
             ],
             [
              0.5555555555555556,
              "#d8576b"
             ],
             [
              0.6666666666666666,
              "#ed7953"
             ],
             [
              0.7777777777777778,
              "#fb9f3a"
             ],
             [
              0.8888888888888888,
              "#fdca26"
             ],
             [
              1,
              "#f0f921"
             ]
            ],
            "type": "heatmap"
           }
          ],
          "heatmapgl": [
           {
            "colorbar": {
             "outlinewidth": 0,
             "ticks": ""
            },
            "colorscale": [
             [
              0,
              "#0d0887"
             ],
             [
              0.1111111111111111,
              "#46039f"
             ],
             [
              0.2222222222222222,
              "#7201a8"
             ],
             [
              0.3333333333333333,
              "#9c179e"
             ],
             [
              0.4444444444444444,
              "#bd3786"
             ],
             [
              0.5555555555555556,
              "#d8576b"
             ],
             [
              0.6666666666666666,
              "#ed7953"
             ],
             [
              0.7777777777777778,
              "#fb9f3a"
             ],
             [
              0.8888888888888888,
              "#fdca26"
             ],
             [
              1,
              "#f0f921"
             ]
            ],
            "type": "heatmapgl"
           }
          ],
          "histogram": [
           {
            "marker": {
             "colorbar": {
              "outlinewidth": 0,
              "ticks": ""
             }
            },
            "type": "histogram"
           }
          ],
          "histogram2d": [
           {
            "colorbar": {
             "outlinewidth": 0,
             "ticks": ""
            },
            "colorscale": [
             [
              0,
              "#0d0887"
             ],
             [
              0.1111111111111111,
              "#46039f"
             ],
             [
              0.2222222222222222,
              "#7201a8"
             ],
             [
              0.3333333333333333,
              "#9c179e"
             ],
             [
              0.4444444444444444,
              "#bd3786"
             ],
             [
              0.5555555555555556,
              "#d8576b"
             ],
             [
              0.6666666666666666,
              "#ed7953"
             ],
             [
              0.7777777777777778,
              "#fb9f3a"
             ],
             [
              0.8888888888888888,
              "#fdca26"
             ],
             [
              1,
              "#f0f921"
             ]
            ],
            "type": "histogram2d"
           }
          ],
          "histogram2dcontour": [
           {
            "colorbar": {
             "outlinewidth": 0,
             "ticks": ""
            },
            "colorscale": [
             [
              0,
              "#0d0887"
             ],
             [
              0.1111111111111111,
              "#46039f"
             ],
             [
              0.2222222222222222,
              "#7201a8"
             ],
             [
              0.3333333333333333,
              "#9c179e"
             ],
             [
              0.4444444444444444,
              "#bd3786"
             ],
             [
              0.5555555555555556,
              "#d8576b"
             ],
             [
              0.6666666666666666,
              "#ed7953"
             ],
             [
              0.7777777777777778,
              "#fb9f3a"
             ],
             [
              0.8888888888888888,
              "#fdca26"
             ],
             [
              1,
              "#f0f921"
             ]
            ],
            "type": "histogram2dcontour"
           }
          ],
          "mesh3d": [
           {
            "colorbar": {
             "outlinewidth": 0,
             "ticks": ""
            },
            "type": "mesh3d"
           }
          ],
          "parcoords": [
           {
            "line": {
             "colorbar": {
              "outlinewidth": 0,
              "ticks": ""
             }
            },
            "type": "parcoords"
           }
          ],
          "pie": [
           {
            "automargin": true,
            "type": "pie"
           }
          ],
          "scatter": [
           {
            "marker": {
             "colorbar": {
              "outlinewidth": 0,
              "ticks": ""
             }
            },
            "type": "scatter"
           }
          ],
          "scatter3d": [
           {
            "line": {
             "colorbar": {
              "outlinewidth": 0,
              "ticks": ""
             }
            },
            "marker": {
             "colorbar": {
              "outlinewidth": 0,
              "ticks": ""
             }
            },
            "type": "scatter3d"
           }
          ],
          "scattercarpet": [
           {
            "marker": {
             "colorbar": {
              "outlinewidth": 0,
              "ticks": ""
             }
            },
            "type": "scattercarpet"
           }
          ],
          "scattergeo": [
           {
            "marker": {
             "colorbar": {
              "outlinewidth": 0,
              "ticks": ""
             }
            },
            "type": "scattergeo"
           }
          ],
          "scattergl": [
           {
            "marker": {
             "colorbar": {
              "outlinewidth": 0,
              "ticks": ""
             }
            },
            "type": "scattergl"
           }
          ],
          "scattermapbox": [
           {
            "marker": {
             "colorbar": {
              "outlinewidth": 0,
              "ticks": ""
             }
            },
            "type": "scattermapbox"
           }
          ],
          "scatterpolar": [
           {
            "marker": {
             "colorbar": {
              "outlinewidth": 0,
              "ticks": ""
             }
            },
            "type": "scatterpolar"
           }
          ],
          "scatterpolargl": [
           {
            "marker": {
             "colorbar": {
              "outlinewidth": 0,
              "ticks": ""
             }
            },
            "type": "scatterpolargl"
           }
          ],
          "scatterternary": [
           {
            "marker": {
             "colorbar": {
              "outlinewidth": 0,
              "ticks": ""
             }
            },
            "type": "scatterternary"
           }
          ],
          "surface": [
           {
            "colorbar": {
             "outlinewidth": 0,
             "ticks": ""
            },
            "colorscale": [
             [
              0,
              "#0d0887"
             ],
             [
              0.1111111111111111,
              "#46039f"
             ],
             [
              0.2222222222222222,
              "#7201a8"
             ],
             [
              0.3333333333333333,
              "#9c179e"
             ],
             [
              0.4444444444444444,
              "#bd3786"
             ],
             [
              0.5555555555555556,
              "#d8576b"
             ],
             [
              0.6666666666666666,
              "#ed7953"
             ],
             [
              0.7777777777777778,
              "#fb9f3a"
             ],
             [
              0.8888888888888888,
              "#fdca26"
             ],
             [
              1,
              "#f0f921"
             ]
            ],
            "type": "surface"
           }
          ],
          "table": [
           {
            "cells": {
             "fill": {
              "color": "#EBF0F8"
             },
             "line": {
              "color": "white"
             }
            },
            "header": {
             "fill": {
              "color": "#C8D4E3"
             },
             "line": {
              "color": "white"
             }
            },
            "type": "table"
           }
          ]
         },
         "layout": {
          "annotationdefaults": {
           "arrowcolor": "#2a3f5f",
           "arrowhead": 0,
           "arrowwidth": 1
          },
          "autotypenumbers": "strict",
          "coloraxis": {
           "colorbar": {
            "outlinewidth": 0,
            "ticks": ""
           }
          },
          "colorscale": {
           "diverging": [
            [
             0,
             "#8e0152"
            ],
            [
             0.1,
             "#c51b7d"
            ],
            [
             0.2,
             "#de77ae"
            ],
            [
             0.3,
             "#f1b6da"
            ],
            [
             0.4,
             "#fde0ef"
            ],
            [
             0.5,
             "#f7f7f7"
            ],
            [
             0.6,
             "#e6f5d0"
            ],
            [
             0.7,
             "#b8e186"
            ],
            [
             0.8,
             "#7fbc41"
            ],
            [
             0.9,
             "#4d9221"
            ],
            [
             1,
             "#276419"
            ]
           ],
           "sequential": [
            [
             0,
             "#0d0887"
            ],
            [
             0.1111111111111111,
             "#46039f"
            ],
            [
             0.2222222222222222,
             "#7201a8"
            ],
            [
             0.3333333333333333,
             "#9c179e"
            ],
            [
             0.4444444444444444,
             "#bd3786"
            ],
            [
             0.5555555555555556,
             "#d8576b"
            ],
            [
             0.6666666666666666,
             "#ed7953"
            ],
            [
             0.7777777777777778,
             "#fb9f3a"
            ],
            [
             0.8888888888888888,
             "#fdca26"
            ],
            [
             1,
             "#f0f921"
            ]
           ],
           "sequentialminus": [
            [
             0,
             "#0d0887"
            ],
            [
             0.1111111111111111,
             "#46039f"
            ],
            [
             0.2222222222222222,
             "#7201a8"
            ],
            [
             0.3333333333333333,
             "#9c179e"
            ],
            [
             0.4444444444444444,
             "#bd3786"
            ],
            [
             0.5555555555555556,
             "#d8576b"
            ],
            [
             0.6666666666666666,
             "#ed7953"
            ],
            [
             0.7777777777777778,
             "#fb9f3a"
            ],
            [
             0.8888888888888888,
             "#fdca26"
            ],
            [
             1,
             "#f0f921"
            ]
           ]
          },
          "colorway": [
           "#636efa",
           "#EF553B",
           "#00cc96",
           "#ab63fa",
           "#FFA15A",
           "#19d3f3",
           "#FF6692",
           "#B6E880",
           "#FF97FF",
           "#FECB52"
          ],
          "font": {
           "color": "#2a3f5f"
          },
          "geo": {
           "bgcolor": "white",
           "lakecolor": "white",
           "landcolor": "#E5ECF6",
           "showlakes": true,
           "showland": true,
           "subunitcolor": "white"
          },
          "hoverlabel": {
           "align": "left"
          },
          "hovermode": "closest",
          "mapbox": {
           "style": "light"
          },
          "paper_bgcolor": "white",
          "plot_bgcolor": "#E5ECF6",
          "polar": {
           "angularaxis": {
            "gridcolor": "white",
            "linecolor": "white",
            "ticks": ""
           },
           "bgcolor": "#E5ECF6",
           "radialaxis": {
            "gridcolor": "white",
            "linecolor": "white",
            "ticks": ""
           }
          },
          "scene": {
           "xaxis": {
            "backgroundcolor": "#E5ECF6",
            "gridcolor": "white",
            "gridwidth": 2,
            "linecolor": "white",
            "showbackground": true,
            "ticks": "",
            "zerolinecolor": "white"
           },
           "yaxis": {
            "backgroundcolor": "#E5ECF6",
            "gridcolor": "white",
            "gridwidth": 2,
            "linecolor": "white",
            "showbackground": true,
            "ticks": "",
            "zerolinecolor": "white"
           },
           "zaxis": {
            "backgroundcolor": "#E5ECF6",
            "gridcolor": "white",
            "gridwidth": 2,
            "linecolor": "white",
            "showbackground": true,
            "ticks": "",
            "zerolinecolor": "white"
           }
          },
          "shapedefaults": {
           "line": {
            "color": "#2a3f5f"
           }
          },
          "ternary": {
           "aaxis": {
            "gridcolor": "white",
            "linecolor": "white",
            "ticks": ""
           },
           "baxis": {
            "gridcolor": "white",
            "linecolor": "white",
            "ticks": ""
           },
           "bgcolor": "#E5ECF6",
           "caxis": {
            "gridcolor": "white",
            "linecolor": "white",
            "ticks": ""
           }
          },
          "title": {
           "x": 0.05
          },
          "xaxis": {
           "automargin": true,
           "gridcolor": "white",
           "linecolor": "white",
           "ticks": "",
           "title": {
            "standoff": 15
           },
           "zerolinecolor": "white",
           "zerolinewidth": 2
          },
          "yaxis": {
           "automargin": true,
           "gridcolor": "white",
           "linecolor": "white",
           "ticks": "",
           "title": {
            "standoff": 15
           },
           "zerolinecolor": "white",
           "zerolinewidth": 2
          }
         }
        },
        "title": {
         "text": "Preços em Candlesticks",
         "x": 0.5
        },
        "xaxis": {
         "rangeslider": {
          "visible": false
         }
        }
       }
      },
      "text/html": [
       "<div>                            <div id=\"ded27815-628c-4186-9271-73a7d95d6837\" class=\"plotly-graph-div\" style=\"height:525px; width:100%;\"></div>            <script type=\"text/javascript\">                require([\"plotly\"], function(Plotly) {                    window.PLOTLYENV=window.PLOTLYENV || {};                                    if (document.getElementById(\"ded27815-628c-4186-9271-73a7d95d6837\")) {                    Plotly.newPlot(                        \"ded27815-628c-4186-9271-73a7d95d6837\",                        [{\"close\": [52591.0, 52342.0, 49246.0, 50865.0, 48577.0, 47508.0, 45720.0, 47154.0, 46498.0, 46401.0, 47264.0, 44831.0, 47033.0, 49338.0, 47236.0, 47597.0, 45869.0, 46919.0, 46517.0, 48139.0, 45873.0, 45361.0, 45263.0, 43911.0, 44015.0, 43350.0, 40612.0, 38569.0, 38031.0, 40406.0, 40592.0, 39808.0, 41543.0, 41593.0, 49085.0, 49639.0, 50815.0, 49657.0, 50562.0, 50293.0, 53228.0, 52908.0, 53911.0, 51718.0, 51804.0, 49723.0, 49051.0, 50619.0, 49422.0, 49534.0, 50105.0, 52233.0, 53141.0, 55578.0, 57002.0, 57308.0, 57661.0, 58298.0, 59099.0, 57716.0, 59616.0, 58000.0, 57080.0, 58697.0, 58367.0, 61109.0, 61767.0, 64108.0, 64308.0, 61598.0, 59184.0, 59962.0, 61559.0, 60316.0, 60501.0, 58389.0, 57937.0, 60227.0, 61665.0, 63652.0, 64521.0, 66034.0, 64954.0, 66125.0, 67748.0, 66662.0, 66786.0, 64675.0, 64210.0, 63854.0, 64984.0, 64593.0, 62826.0, 63761.0, 65403.0, 65710.0, 68222.0, 62639.0, 64085.0, 62511.0, 62211.0, 61626.0, 61087.0, 62900.0, 62322.0, 65436.0, 64684.0, 65497.0, 66898.0, 67359.0, 68715.0, 71074.0, 71923.0, 73079.0, 75757.0, 75390.0, 74294.0, 76055.0, 76990.0, 76391.0, 75976.0, 73915.0, 72166.0, 73437.0, 74157.0, 72264.0, 72732.0, 72608.0, 75187.0, 76402.0, 79071.0, 79349.0, 81220.0, 85531.0, 84041.0, 80899.0, 84525.0, 87293.0, 85761.0, 86371.0, 84886.0, 84377.0, 85366.0, 84820.0, 84334.0, 85550.0, 86445.0, 83118.0, 85220.0, 83082.0, 78898.0, 77240.0, 72942.0, 70758.0, 70641.0, 72763.0, 75010.0, 76594.0, 78571.0, 79866.0, 81435.0, 76514.0, 76029.0, 76262.0, 76678.0, 76416.0, 75429.0, 79444.0, 79342.0, 82322.0, 82921.0, 84220.0, 85720.0, 88419.0, 85641.0, 88515.0, 86230.0, 89504.0, 88115.0, 87450.0, 85697.0, 87887.0, 91841.0, 93658.0, 96097.0, 97677.0, 97861.0, 95343.0, 97526.0, 97886.0, 94604.0, 95365.0, 99137.0, 93735.0, 95415.0, 97108.0, 92875.0, 94578.0, 96236.0, 96008.0, 94258.0, 89993.0, 93628.0, 97030.0, 97821.0, 98040.0, 102013.0, 100967.0, 104089.0, 103906.0, 103452.0, 102819.0, 102674.0, 103996.0, 99806.0, 97667.0, 101135.0, 102935.0, 103501.0, 104817.0, 105078.0, 102551.0, 103832.0, 104729.0, 107364.0, 108196.0, 107629.0, 106557.0, 108692.0, 108233.0, 111126.0, 112565.0, 115121.0, 116534.0, 117707.0, 115503.0, 118478.0, 118376.0, 113761.0, 113770.0, 114381.0, 113681.0, 104172.0, 97997.0, 82678.0, 67069.0, 73429.0, 69538.0, 77682.0, 78990.0, 75331.0, 80506.0, 80263.0, 77557.0, 82173.0, 87403.0, 94637.0, 92795.0, 96572.0, 93834.0, 96765.0, 100032.0, 102888.0, 102382.0, 102912.0, 102776.0, 101353.0, 101521.0, 102143.0, 101242.0, 98363.0, 98290.0, 96999.0, 94016.0, 97483.0, 98309.0, 101260.0, 93952.0, 100799.0, 104512.0, 106042.0, 110575.0, 113682.0, 115323.0, 117679.0, 117857.0, 119306.0, 125077.0, 120502.0, 117172.0, 116007.0, 119925.0, 119116.0, 118748.0, 110035.0, 115202.0, 114160.0, 116222.0, 114781.0, 115253.0, 117670.0, 121114.0, 120530.0, 118894.0, 122038.0, 121881.0, 122592.0, 125561.0, 130126.0, 129441.0, 128405.0, 127256.0, 127622.0], \"decreasing\": {\"line\": {\"color\": \"#7F7F7F\"}}, \"high\": [52786.0, 53417.0, 52424.0, 50895.0, 50867.0, 49512.0, 48084.0, 47997.0, 47532.0, 47840.0, 49396.0, 47391.0, 47033.0, 49752.0, 49339.0, 48837.0, 47875.0, 49054.0, 47460.0, 48227.0, 48745.0, 47142.0, 46438.0, 46251.0, 44233.0, 44087.0, 43349.0, 40974.0, 38857.0, 40406.0, 41444.0, 40592.0, 42436.0, 43601.0, 50024.0, 50038.0, 51308.0, 51370.0, 52262.0, 50556.0, 53844.0, 54054.0, 54978.0, 54113.0, 53976.0, 52305.0, 50357.0, 50634.0, 51812.0, 50191.0, 51673.0, 52346.0, 53166.0, 55649.0, 57171.0, 57474.0, 58030.0, 58753.0, 59418.0, 59099.0, 59655.0, 60310.0, 58595.0, 59462.0, 59621.0, 61275.0, 62039.0, 64372.0, 64728.0, 65291.0, 64767.0, 61493.0, 62550.0, 62934.0, 61936.0, 60517.0, 58600.0, 60248.0, 62409.0, 64342.0, 64694.0, 66594.0, 66025.0, 66292.0, 68456.0, 69488.0, 67398.0, 66892.0, 66554.0, 65136.0, 65775.0, 66211.0, 64928.0, 64591.0, 65436.0, 66877.0, 68429.0, 68792.0, 64170.0, 64107.0, 63637.0, 62475.0, 62272.0, 63038.0, 63485.0, 65624.0, 65604.0, 65873.0, 67277.0, 68500.0, 68950.0, 71506.0, 72217.0, 73646.0, 75820.0, 76420.0, 75470.0, 78024.0, 77319.0, 77382.0, 77061.0, 75973.0, 74481.0, 73632.0, 75073.0, 74989.0, 74166.0, 74622.0, 75227.0, 76437.0, 79135.0, 79440.0, 81429.0, 85531.0, 86213.0, 84410.0, 84686.0, 87358.0, 88318.0, 86931.0, 87333.0, 85499.0, 85708.0, 86148.0, 85577.0, 86149.0, 87179.0, 86739.0, 86406.0, 86678.0, 83883.0, 78886.0, 78892.0, 73716.0, 72617.0, 73020.0, 75127.0, 76682.0, 79489.0, 80589.0, 81792.0, 81765.0, 78742.0, 77232.0, 78783.0, 76675.0, 77293.0, 80002.0, 80107.0, 85442.0, 87333.0, 86167.0, 85786.0, 89017.0, 89598.0, 88516.0, 88484.0, 90246.0, 91242.0, 88384.0, 88101.0, 88044.0, 92701.0, 93987.0, 96396.0, 97677.0, 98405.0, 98589.0, 98238.0, 98544.0, 98190.0, 95476.0, 99393.0, 100439.0, 95863.0, 97493.0, 97610.0, 95140.0, 96563.0, 97123.0, 96312.0, 94252.0, 95212.0, 97992.0, 98326.0, 99364.0, 102100.0, 102617.0, 104176.0, 106650.0, 104773.0, 104570.0, 104056.0, 104848.0, 103946.0, 101469.0, 101551.0, 103258.0, 104699.0, 106001.0, 105633.0, 105178.0, 104381.0, 105891.0, 108083.0, 108496.0, 109672.0, 108368.0, 108692.0, 108915.0, 111430.0, 112829.0, 115171.0, 117803.0, 118792.0, 117707.0, 118479.0, 119593.0, 118347.0, 117701.0, 117581.0, 116552.0, 113647.0, 108804.0, 97982.0, 82565.0, 78846.0, 75511.0, 80428.0, 81668.0, 81934.0, 83598.0, 81066.0, 80723.0, 83309.0, 88091.0, 97356.0, 97693.0, 97540.0, 97486.0, 97864.0, 100191.0, 103017.0, 105449.0, 105704.0, 104523.0, 104409.0, 102334.0, 102708.0, 103226.0, 101578.0, 100949.0, 98283.0, 98314.0, 98642.0, 99571.0, 102218.0, 101784.0, 100928.0, 105758.0, 107810.0, 111603.0, 113864.0, 115527.0, 119370.0, 118311.0, 120150.0, 125324.0, 125075.0, 122586.0, 119314.0, 121117.0, 120844.0, 120845.0, 118388.0, 115504.0, 115202.0, 116751.0, 116225.0, 117249.0, 118850.0, 121409.0, 121974.0, 121498.0, 122038.0, 122964.0, 123544.0, 125698.0, 130137.0, 131190.0, 131084.0, 129901.0, 128067.0], \"increasing\": {\"line\": {\"color\": \"#17BECF\"}}, \"low\": [51130.0, 52221.0, 48624.0, 48640.0, 48512.0, 47508.0, 45677.0, 42749.0, 45278.0, 45592.0, 46218.0, 44183.0, 43767.0, 47019.0, 46321.0, 46623.0, 45401.0, 45866.0, 45397.0, 46399.0, 45812.0, 44579.0, 44232.0, 43690.0, 43137.0, 43217.0, 40463.0, 37986.0, 37046.0, 37112.0, 38596.0, 38928.0, 39808.0, 41211.0, 41599.0, 47922.0, 46521.0, 48778.0, 49361.0, 47874.0, 50078.0, 52305.0, 51748.0, 51204.0, 49908.0, 49588.0, 48695.0, 48200.0, 49421.0, 48067.0, 49539.0, 48954.0, 50825.0, 53143.0, 55355.0, 55993.0, 55696.0, 56735.0, 58081.0, 57259.0, 57506.0, 57961.0, 56459.0, 57083.0, 57411.0, 58367.0, 60243.0, 61719.0, 63084.0, 61491.0, 58921.0, 58322.0, 59963.0, 58092.0, 59396.0, 57575.0, 56829.0, 57941.0, 59371.0, 61307.0, 63456.0, 64500.0, 64163.0, 63740.0, 66125.0, 66452.0, 65594.0, 64203.0, 64152.0, 62496.0, 63030.0, 63762.0, 62826.0, 62828.0, 63761.0, 64721.0, 65295.0, 60315.0, 60925.0, 62161.0, 62010.0, 61269.0, 60544.0, 61088.0, 62035.0, 62322.0, 64599.0, 64678.0, 65503.0, 66650.0, 67226.0, 68514.0, 70516.0, 71671.0, 73096.0, 75029.0, 73125.0, 73845.0, 75181.0, 75366.0, 75315.0, 73094.0, 71920.0, 70825.0, 73439.0, 71215.0, 71356.0, 71798.0, 72347.0, 74924.0, 76403.0, 78164.0, 79349.0, 80524.0, 83804.0, 79690.0, 80901.0, 84261.0, 83897.0, 84397.0, 84525.0, 83678.0, 82889.0, 82826.0, 83155.0, 82762.0, 84349.0, 82746.0, 82201.0, 81391.0, 78622.0, 75337.0, 71162.0, 69583.0, 69069.0, 69779.0, 71935.0, 74196.0, 75890.0, 77871.0, 78573.0, 76043.0, 75633.0, 74876.0, 76026.0, 74276.0, 74275.0, 75227.0, 77005.0, 78091.0, 82324.0, 82922.0, 83035.0, 82783.0, 84030.0, 84071.0, 85763.0, 84905.0, 87025.0, 85583.0, 84756.0, 83892.0, 87536.0, 91064.0, 93335.0, 94662.0, 94783.0, 93424.0, 93737.0, 95793.0, 94394.0, 93305.0, 95384.0, 93380.0, 91584.0, 94124.0, 92516.0, 92338.0, 93721.0, 95312.0, 92750.0, 89409.0, 89822.0, 93626.0, 95686.0, 96782.0, 97623.0, 99421.0, 100073.0, 103903.0, 103361.0, 102196.0, 100950.0, 99630.0, 98200.0, 97085.0, 95855.0, 99406.0, 102231.0, 102782.0, 103034.0, 99826.0, 99868.0, 103438.0, 104696.0, 106356.0, 107127.0, 105261.0, 105367.0, 106312.0, 108190.0, 110133.0, 111896.0, 114964.0, 115645.0, 114952.0, 115503.0, 116906.0, 112825.0, 113467.0, 112134.0, 112661.0, 99951.0, 96886.0, 68488.0, 61691.0, 62161.0, 67802.0, 69556.0, 76405.0, 72041.0, 75327.0, 77640.0, 75697.0, 77571.0, 82193.0, 86837.0, 90811.0, 90148.0, 93259.0, 93825.0, 96768.0, 98289.0, 100859.0, 102381.0, 100005.0, 100187.0, 98513.0, 99359.0, 98961.0, 97758.0, 98045.0, 95632.0, 93408.0, 93984.0, 97336.0, 98310.0, 93387.0, 93968.0, 100954.0, 104729.0, 106050.0, 108829.0, 112567.0, 114431.0, 114730.0, 117805.0, 116756.0, 120374.0, 116109.0, 114887.0, 115093.0, 117970.0, 117867.0, 109827.0, 107319.0, 109343.0, 113370.0, 110927.0, 114096.0, 115262.0, 117661.0, 119203.0, 118894.0, 117631.0, 119458.0, 121595.0, 122526.0, 125540.0, 128678.0, 127576.0, 126697.0, 124994.0], \"open\": [52511.0, 52591.0, 52341.0, 49246.0, 50867.0, 48578.0, 47509.0, 45715.0, 47151.0, 46501.0, 46400.0, 47263.0, 44832.0, 47033.0, 49339.0, 47242.0, 47607.0, 45869.0, 46915.0, 46519.0, 48138.0, 45871.0, 45361.0, 45258.0, 43912.0, 44016.0, 43349.0, 40612.0, 38572.0, 38031.0, 40397.0, 40592.0, 39808.0, 41544.0, 41599.0, 49089.0, 49639.0, 50816.0, 49687.0, 50556.0, 50303.0, 53229.0, 52911.0, 53910.0, 51717.0, 51803.0, 49709.0, 49051.0, 50627.0, 49419.0, 49539.0, 50106.0, 52241.0, 53143.0, 55573.0, 57006.0, 57309.0, 57655.0, 58316.0, 59080.0, 57717.0, 59616.0, 57998.0, 57083.0, 58697.0, 58370.0, 61130.0, 61768.0, 64141.0, 64312.0, 61601.0, 59183.0, 59963.0, 61559.0, 60322.0, 60517.0, 58390.0, 57941.0, 60227.0, 61680.0, 63652.0, 64519.0, 66025.0, 64957.0, 66125.0, 67756.0, 66661.0, 66786.0, 64674.0, 64232.0, 63829.0, 64989.0, 64593.0, 62828.0, 63761.0, 65404.0, 65705.0, 68227.0, 62638.0, 64055.0, 62503.0, 62219.0, 61620.0, 61088.0, 62901.0, 62322.0, 65431.0, 64695.0, 65503.0, 66898.0, 67364.0, 68713.0, 71074.0, 71921.0, 73096.0, 75758.0, 75381.0, 74295.0, 76055.0, 76985.0, 76398.0, 75973.0, 73911.0, 72167.0, 73439.0, 74157.0, 72266.0, 72775.0, 72621.0, 75187.0, 76403.0, 79070.0, 79349.0, 81220.0, 85531.0, 84040.0, 80901.0, 84525.0, 87296.0, 85292.0, 86386.0, 84886.0, 84377.0, 85365.0, 84832.0, 84328.0, 85520.0, 86443.0, 83199.0, 85222.0, 83095.0, 78886.0, 77244.0, 72943.0, 70757.0, 70642.0, 72763.0, 75015.0, 76587.0, 78571.0, 79866.0, 81445.0, 76513.0, 76029.0, 76264.0, 76675.0, 76416.0, 75428.0, 79447.0, 79350.0, 82324.0, 82922.0, 84222.0, 85728.0, 88418.0, 85644.0, 88472.0, 86237.0, 89511.0, 88115.0, 87448.0, 85684.0, 87887.0, 91845.0, 93645.0, 96093.0, 97674.0, 97861.0, 95351.0, 97527.0, 97881.0, 94604.0, 95384.0, 99141.0, 93735.0, 95423.0, 97110.0, 92875.0, 94578.0, 96254.0, 95992.0, 94252.0, 90006.0, 93626.0, 97036.0, 97828.0, 98038.0, 102018.0, 100973.0, 104090.0, 103909.0, 103452.0, 102817.0, 102658.0, 103946.0, 99810.0, 97687.0, 101133.0, 102937.0, 103496.0, 104817.0, 105077.0, 102546.0, 103834.0, 104729.0, 107366.0, 108196.0, 107622.0, 106566.0, 108692.0, 108246.0, 111125.0, 112565.0, 115119.0, 116530.0, 117707.0, 115503.0, 118478.0, 118347.0, 113761.0, 113771.0, 114381.0, 113647.0, 104260.0, 97982.0, 82565.0, 67067.0, 73431.0, 69556.0, 77682.0, 78989.0, 75334.0, 80501.0, 80263.0, 77576.0, 82198.0, 87395.0, 94640.0, 92780.0, 96572.0, 93837.0, 96776.0, 100027.0, 102888.0, 102381.0, 102913.0, 102776.0, 101348.0, 101525.0, 102142.0, 101239.0, 98367.0, 98283.0, 97005.0, 94019.0, 97483.0, 98310.0, 101260.0, 93968.0, 100954.0, 104729.0, 106050.0, 110598.0, 113751.0, 115137.0, 118021.0, 117806.0, 119024.0, 125075.0, 120351.0, 117381.0, 115093.0, 120239.0, 119421.0, 118388.0, 110036.0, 115202.0, 114093.0, 116222.0, 114776.0, 115262.0, 117661.0, 121116.0, 120534.0, 118951.0, 122038.0, 121880.0, 122592.0, 125561.0, 130125.0, 129441.0, 128405.0, 127255.0], \"type\": \"candlestick\", \"x\": [\"2015-07-06\", \"2015-07-13\", \"2015-07-20\", \"2015-07-27\", \"2015-08-03\", \"2015-08-10\", \"2015-08-17\", \"2015-08-24\", \"2015-08-31\", \"2015-09-07\", \"2015-09-14\", \"2015-09-21\", \"2015-09-28\", \"2015-10-05\", \"2015-10-12\", \"2015-10-19\", \"2015-10-26\", \"2015-11-02\", \"2015-11-09\", \"2015-11-16\", \"2015-11-23\", \"2015-11-30\", \"2015-12-07\", \"2015-12-14\", \"2015-12-21\", \"2015-12-28\", \"2016-01-04\", \"2016-01-11\", \"2016-01-18\", \"2016-01-25\", \"2016-02-01\", \"2016-02-08\", \"2016-02-15\", \"2016-02-22\", \"2016-02-29\", \"2016-03-07\", \"2016-03-14\", \"2016-03-21\", \"2016-03-28\", \"2016-04-04\", \"2016-04-11\", \"2016-04-18\", \"2016-04-25\", \"2016-05-02\", \"2016-05-09\", \"2016-05-16\", \"2016-05-23\", \"2016-05-30\", \"2016-06-06\", \"2016-06-13\", \"2016-06-20\", \"2016-06-27\", \"2016-07-04\", \"2016-07-11\", \"2016-07-18\", \"2016-07-25\", \"2016-08-01\", \"2016-08-08\", \"2016-08-15\", \"2016-08-22\", \"2016-08-29\", \"2016-09-05\", \"2016-09-12\", \"2016-09-19\", \"2016-09-26\", \"2016-10-03\", \"2016-10-10\", \"2016-10-17\", \"2016-10-24\", \"2016-10-31\", \"2016-11-07\", \"2016-11-14\", \"2016-11-21\", \"2016-11-28\", \"2016-12-05\", \"2016-12-12\", \"2016-12-19\", \"2016-12-26\", \"2017-01-02\", \"2017-01-09\", \"2017-01-16\", \"2017-01-23\", \"2017-01-30\", \"2017-02-06\", \"2017-02-13\", \"2017-02-20\", \"2017-02-27\", \"2017-03-06\", \"2017-03-13\", \"2017-03-20\", \"2017-03-27\", \"2017-04-03\", \"2017-04-10\", \"2017-04-17\", \"2017-04-24\", \"2017-05-01\", \"2017-05-08\", \"2017-05-15\", \"2017-05-22\", \"2017-05-29\", \"2017-06-05\", \"2017-06-12\", \"2017-06-19\", \"2017-06-26\", \"2017-07-03\", \"2017-07-10\", \"2017-07-17\", \"2017-07-24\", \"2017-07-31\", \"2017-08-07\", \"2017-08-14\", \"2017-08-21\", \"2017-08-28\", \"2017-09-04\", \"2017-09-11\", \"2017-09-18\", \"2017-09-25\", \"2017-10-02\", \"2017-10-09\", \"2017-10-16\", \"2017-10-23\", \"2017-10-30\", \"2017-11-06\", \"2017-11-13\", \"2017-11-20\", \"2017-11-27\", \"2017-12-04\", \"2017-12-11\", \"2017-12-18\", \"2017-12-25\", \"2018-01-01\", \"2018-01-08\", \"2018-01-15\", \"2018-01-22\", \"2018-01-29\", \"2018-02-05\", \"2018-02-12\", \"2018-02-19\", \"2018-02-26\", \"2018-03-05\", \"2018-03-12\", \"2018-03-19\", \"2018-03-26\", \"2018-04-02\", \"2018-04-09\", \"2018-04-16\", \"2018-04-23\", \"2018-04-30\", \"2018-05-07\", \"2018-05-14\", \"2018-05-21\", \"2018-05-28\", \"2018-06-04\", \"2018-06-11\", \"2018-06-18\", \"2018-06-25\", \"2018-07-02\", \"2018-07-09\", \"2018-07-16\", \"2018-07-23\", \"2018-07-30\", \"2018-08-06\", \"2018-08-13\", \"2018-08-20\", \"2018-08-27\", \"2018-09-03\", \"2018-09-10\", \"2018-09-17\", \"2018-09-24\", \"2018-10-01\", \"2018-10-08\", \"2018-10-15\", \"2018-10-22\", \"2018-10-29\", \"2018-11-05\", \"2018-11-12\", \"2018-11-19\", \"2018-11-26\", \"2018-12-03\", \"2018-12-10\", \"2018-12-17\", \"2018-12-24\", \"2018-12-31\", \"2019-01-07\", \"2019-01-14\", \"2019-01-21\", \"2019-01-28\", \"2019-02-04\", \"2019-02-11\", \"2019-02-18\", \"2019-02-25\", \"2019-03-04\", \"2019-03-11\", \"2019-03-18\", \"2019-03-25\", \"2019-04-01\", \"2019-04-08\", \"2019-04-15\", \"2019-04-22\", \"2019-04-29\", \"2019-05-06\", \"2019-05-13\", \"2019-05-20\", \"2019-05-27\", \"2019-06-03\", \"2019-06-10\", \"2019-06-17\", \"2019-06-24\", \"2019-07-01\", \"2019-07-08\", \"2019-07-15\", \"2019-07-22\", \"2019-07-29\", \"2019-08-05\", \"2019-08-12\", \"2019-08-19\", \"2019-08-26\", \"2019-09-02\", \"2019-09-09\", \"2019-09-16\", \"2019-09-23\", \"2019-09-30\", \"2019-10-07\", \"2019-10-14\", \"2019-10-21\", \"2019-10-28\", \"2019-11-04\", \"2019-11-11\", \"2019-11-18\", \"2019-11-25\", \"2019-12-02\", \"2019-12-09\", \"2019-12-16\", \"2019-12-23\", \"2019-12-30\", \"2020-01-06\", \"2020-01-13\", \"2020-01-20\", \"2020-01-27\", \"2020-02-03\", \"2020-02-10\", \"2020-02-17\", \"2020-02-24\", \"2020-03-02\", \"2020-03-09\", \"2020-03-16\", \"2020-03-23\", \"2020-03-30\", \"2020-04-06\", \"2020-04-13\", \"2020-04-20\", \"2020-04-27\", \"2020-05-04\", \"2020-05-11\", \"2020-05-18\", \"2020-05-25\", \"2020-06-01\", \"2020-06-08\", \"2020-06-15\", \"2020-06-22\", \"2020-06-29\", \"2020-07-06\", \"2020-07-13\", \"2020-07-20\", \"2020-07-27\", \"2020-08-03\", \"2020-08-10\", \"2020-08-17\", \"2020-08-24\", \"2020-08-31\", \"2020-09-07\", \"2020-09-14\", \"2020-09-21\", \"2020-09-28\", \"2020-10-05\", \"2020-10-12\", \"2020-10-19\", \"2020-10-26\", \"2020-11-02\", \"2020-11-09\", \"2020-11-16\", \"2020-11-23\", \"2020-11-30\", \"2020-12-07\", \"2020-12-14\", \"2020-12-21\", \"2020-12-28\", \"2021-01-04\", \"2021-01-11\", \"2021-01-18\", \"2021-01-25\", \"2021-02-01\", \"2021-02-08\", \"2021-02-15\", \"2021-02-22\", \"2021-03-01\", \"2021-03-08\", \"2021-03-15\", \"2021-03-22\", \"2021-03-29\", \"2021-04-05\", \"2021-04-12\", \"2021-04-19\", \"2021-04-26\", \"2021-05-03\", \"2021-05-10\", \"2021-05-17\", \"2021-05-24\", \"2021-05-31\", \"2021-06-07\", \"2021-06-14\", \"2021-06-21\", \"2021-06-28\"]}],                        {\"template\": {\"data\": {\"bar\": [{\"error_x\": {\"color\": \"#2a3f5f\"}, \"error_y\": {\"color\": \"#2a3f5f\"}, \"marker\": {\"line\": {\"color\": \"#E5ECF6\", \"width\": 0.5}}, \"type\": \"bar\"}], \"barpolar\": [{\"marker\": {\"line\": {\"color\": \"#E5ECF6\", \"width\": 0.5}}, \"type\": \"barpolar\"}], \"carpet\": [{\"aaxis\": {\"endlinecolor\": \"#2a3f5f\", \"gridcolor\": \"white\", \"linecolor\": \"white\", \"minorgridcolor\": \"white\", \"startlinecolor\": \"#2a3f5f\"}, \"baxis\": {\"endlinecolor\": \"#2a3f5f\", \"gridcolor\": \"white\", \"linecolor\": \"white\", \"minorgridcolor\": \"white\", \"startlinecolor\": \"#2a3f5f\"}, \"type\": \"carpet\"}], \"choropleth\": [{\"colorbar\": {\"outlinewidth\": 0, \"ticks\": \"\"}, \"type\": \"choropleth\"}], \"contour\": [{\"colorbar\": {\"outlinewidth\": 0, \"ticks\": \"\"}, \"colorscale\": [[0.0, \"#0d0887\"], [0.1111111111111111, \"#46039f\"], [0.2222222222222222, \"#7201a8\"], [0.3333333333333333, \"#9c179e\"], [0.4444444444444444, \"#bd3786\"], [0.5555555555555556, \"#d8576b\"], [0.6666666666666666, \"#ed7953\"], [0.7777777777777778, \"#fb9f3a\"], [0.8888888888888888, \"#fdca26\"], [1.0, \"#f0f921\"]], \"type\": \"contour\"}], \"contourcarpet\": [{\"colorbar\": {\"outlinewidth\": 0, \"ticks\": \"\"}, \"type\": \"contourcarpet\"}], \"heatmap\": [{\"colorbar\": {\"outlinewidth\": 0, \"ticks\": \"\"}, \"colorscale\": [[0.0, \"#0d0887\"], [0.1111111111111111, \"#46039f\"], [0.2222222222222222, \"#7201a8\"], [0.3333333333333333, \"#9c179e\"], [0.4444444444444444, \"#bd3786\"], [0.5555555555555556, \"#d8576b\"], [0.6666666666666666, \"#ed7953\"], [0.7777777777777778, \"#fb9f3a\"], [0.8888888888888888, \"#fdca26\"], [1.0, \"#f0f921\"]], \"type\": \"heatmap\"}], \"heatmapgl\": [{\"colorbar\": {\"outlinewidth\": 0, \"ticks\": \"\"}, \"colorscale\": [[0.0, \"#0d0887\"], [0.1111111111111111, \"#46039f\"], [0.2222222222222222, \"#7201a8\"], [0.3333333333333333, \"#9c179e\"], [0.4444444444444444, \"#bd3786\"], [0.5555555555555556, \"#d8576b\"], [0.6666666666666666, \"#ed7953\"], [0.7777777777777778, \"#fb9f3a\"], [0.8888888888888888, \"#fdca26\"], [1.0, \"#f0f921\"]], \"type\": \"heatmapgl\"}], \"histogram\": [{\"marker\": {\"colorbar\": {\"outlinewidth\": 0, \"ticks\": \"\"}}, \"type\": \"histogram\"}], \"histogram2d\": [{\"colorbar\": {\"outlinewidth\": 0, \"ticks\": \"\"}, \"colorscale\": [[0.0, \"#0d0887\"], [0.1111111111111111, \"#46039f\"], [0.2222222222222222, \"#7201a8\"], [0.3333333333333333, \"#9c179e\"], [0.4444444444444444, \"#bd3786\"], [0.5555555555555556, \"#d8576b\"], [0.6666666666666666, \"#ed7953\"], [0.7777777777777778, \"#fb9f3a\"], [0.8888888888888888, \"#fdca26\"], [1.0, \"#f0f921\"]], \"type\": \"histogram2d\"}], \"histogram2dcontour\": [{\"colorbar\": {\"outlinewidth\": 0, \"ticks\": \"\"}, \"colorscale\": [[0.0, \"#0d0887\"], [0.1111111111111111, \"#46039f\"], [0.2222222222222222, \"#7201a8\"], [0.3333333333333333, \"#9c179e\"], [0.4444444444444444, \"#bd3786\"], [0.5555555555555556, \"#d8576b\"], [0.6666666666666666, \"#ed7953\"], [0.7777777777777778, \"#fb9f3a\"], [0.8888888888888888, \"#fdca26\"], [1.0, \"#f0f921\"]], \"type\": \"histogram2dcontour\"}], \"mesh3d\": [{\"colorbar\": {\"outlinewidth\": 0, \"ticks\": \"\"}, \"type\": \"mesh3d\"}], \"parcoords\": [{\"line\": {\"colorbar\": {\"outlinewidth\": 0, \"ticks\": \"\"}}, \"type\": \"parcoords\"}], \"pie\": [{\"automargin\": true, \"type\": \"pie\"}], \"scatter\": [{\"marker\": {\"colorbar\": {\"outlinewidth\": 0, \"ticks\": \"\"}}, \"type\": \"scatter\"}], \"scatter3d\": [{\"line\": {\"colorbar\": {\"outlinewidth\": 0, \"ticks\": \"\"}}, \"marker\": {\"colorbar\": {\"outlinewidth\": 0, \"ticks\": \"\"}}, \"type\": \"scatter3d\"}], \"scattercarpet\": [{\"marker\": {\"colorbar\": {\"outlinewidth\": 0, \"ticks\": \"\"}}, \"type\": \"scattercarpet\"}], \"scattergeo\": [{\"marker\": {\"colorbar\": {\"outlinewidth\": 0, \"ticks\": \"\"}}, \"type\": \"scattergeo\"}], \"scattergl\": [{\"marker\": {\"colorbar\": {\"outlinewidth\": 0, \"ticks\": \"\"}}, \"type\": \"scattergl\"}], \"scattermapbox\": [{\"marker\": {\"colorbar\": {\"outlinewidth\": 0, \"ticks\": \"\"}}, \"type\": \"scattermapbox\"}], \"scatterpolar\": [{\"marker\": {\"colorbar\": {\"outlinewidth\": 0, \"ticks\": \"\"}}, \"type\": \"scatterpolar\"}], \"scatterpolargl\": [{\"marker\": {\"colorbar\": {\"outlinewidth\": 0, \"ticks\": \"\"}}, \"type\": \"scatterpolargl\"}], \"scatterternary\": [{\"marker\": {\"colorbar\": {\"outlinewidth\": 0, \"ticks\": \"\"}}, \"type\": \"scatterternary\"}], \"surface\": [{\"colorbar\": {\"outlinewidth\": 0, \"ticks\": \"\"}, \"colorscale\": [[0.0, \"#0d0887\"], [0.1111111111111111, \"#46039f\"], [0.2222222222222222, \"#7201a8\"], [0.3333333333333333, \"#9c179e\"], [0.4444444444444444, \"#bd3786\"], [0.5555555555555556, \"#d8576b\"], [0.6666666666666666, \"#ed7953\"], [0.7777777777777778, \"#fb9f3a\"], [0.8888888888888888, \"#fdca26\"], [1.0, \"#f0f921\"]], \"type\": \"surface\"}], \"table\": [{\"cells\": {\"fill\": {\"color\": \"#EBF0F8\"}, \"line\": {\"color\": \"white\"}}, \"header\": {\"fill\": {\"color\": \"#C8D4E3\"}, \"line\": {\"color\": \"white\"}}, \"type\": \"table\"}]}, \"layout\": {\"annotationdefaults\": {\"arrowcolor\": \"#2a3f5f\", \"arrowhead\": 0, \"arrowwidth\": 1}, \"autotypenumbers\": \"strict\", \"coloraxis\": {\"colorbar\": {\"outlinewidth\": 0, \"ticks\": \"\"}}, \"colorscale\": {\"diverging\": [[0, \"#8e0152\"], [0.1, \"#c51b7d\"], [0.2, \"#de77ae\"], [0.3, \"#f1b6da\"], [0.4, \"#fde0ef\"], [0.5, \"#f7f7f7\"], [0.6, \"#e6f5d0\"], [0.7, \"#b8e186\"], [0.8, \"#7fbc41\"], [0.9, \"#4d9221\"], [1, \"#276419\"]], \"sequential\": [[0.0, \"#0d0887\"], [0.1111111111111111, \"#46039f\"], [0.2222222222222222, \"#7201a8\"], [0.3333333333333333, \"#9c179e\"], [0.4444444444444444, \"#bd3786\"], [0.5555555555555556, \"#d8576b\"], [0.6666666666666666, \"#ed7953\"], [0.7777777777777778, \"#fb9f3a\"], [0.8888888888888888, \"#fdca26\"], [1.0, \"#f0f921\"]], \"sequentialminus\": [[0.0, \"#0d0887\"], [0.1111111111111111, \"#46039f\"], [0.2222222222222222, \"#7201a8\"], [0.3333333333333333, \"#9c179e\"], [0.4444444444444444, \"#bd3786\"], [0.5555555555555556, \"#d8576b\"], [0.6666666666666666, \"#ed7953\"], [0.7777777777777778, \"#fb9f3a\"], [0.8888888888888888, \"#fdca26\"], [1.0, \"#f0f921\"]]}, \"colorway\": [\"#636efa\", \"#EF553B\", \"#00cc96\", \"#ab63fa\", \"#FFA15A\", \"#19d3f3\", \"#FF6692\", \"#B6E880\", \"#FF97FF\", \"#FECB52\"], \"font\": {\"color\": \"#2a3f5f\"}, \"geo\": {\"bgcolor\": \"white\", \"lakecolor\": \"white\", \"landcolor\": \"#E5ECF6\", \"showlakes\": true, \"showland\": true, \"subunitcolor\": \"white\"}, \"hoverlabel\": {\"align\": \"left\"}, \"hovermode\": \"closest\", \"mapbox\": {\"style\": \"light\"}, \"paper_bgcolor\": \"white\", \"plot_bgcolor\": \"#E5ECF6\", \"polar\": {\"angularaxis\": {\"gridcolor\": \"white\", \"linecolor\": \"white\", \"ticks\": \"\"}, \"bgcolor\": \"#E5ECF6\", \"radialaxis\": {\"gridcolor\": \"white\", \"linecolor\": \"white\", \"ticks\": \"\"}}, \"scene\": {\"xaxis\": {\"backgroundcolor\": \"#E5ECF6\", \"gridcolor\": \"white\", \"gridwidth\": 2, \"linecolor\": \"white\", \"showbackground\": true, \"ticks\": \"\", \"zerolinecolor\": \"white\"}, \"yaxis\": {\"backgroundcolor\": \"#E5ECF6\", \"gridcolor\": \"white\", \"gridwidth\": 2, \"linecolor\": \"white\", \"showbackground\": true, \"ticks\": \"\", \"zerolinecolor\": \"white\"}, \"zaxis\": {\"backgroundcolor\": \"#E5ECF6\", \"gridcolor\": \"white\", \"gridwidth\": 2, \"linecolor\": \"white\", \"showbackground\": true, \"ticks\": \"\", \"zerolinecolor\": \"white\"}}, \"shapedefaults\": {\"line\": {\"color\": \"#2a3f5f\"}}, \"ternary\": {\"aaxis\": {\"gridcolor\": \"white\", \"linecolor\": \"white\", \"ticks\": \"\"}, \"baxis\": {\"gridcolor\": \"white\", \"linecolor\": \"white\", \"ticks\": \"\"}, \"bgcolor\": \"#E5ECF6\", \"caxis\": {\"gridcolor\": \"white\", \"linecolor\": \"white\", \"ticks\": \"\"}}, \"title\": {\"x\": 0.05}, \"xaxis\": {\"automargin\": true, \"gridcolor\": \"white\", \"linecolor\": \"white\", \"ticks\": \"\", \"title\": {\"standoff\": 15}, \"zerolinecolor\": \"white\", \"zerolinewidth\": 2}, \"yaxis\": {\"automargin\": true, \"gridcolor\": \"white\", \"linecolor\": \"white\", \"ticks\": \"\", \"title\": {\"standoff\": 15}, \"zerolinecolor\": \"white\", \"zerolinewidth\": 2}}}, \"title\": {\"text\": \"Pre\\u00e7os em Candlesticks\", \"x\": 0.5}, \"xaxis\": {\"rangeslider\": {\"visible\": false}}},                        {\"responsive\": true}                    ).then(function(){\n",
       "                            \n",
       "var gd = document.getElementById('ded27815-628c-4186-9271-73a7d95d6837');\n",
       "var x = new MutationObserver(function (mutations, observer) {{\n",
       "        var display = window.getComputedStyle(gd).display;\n",
       "        if (!display || display === 'none') {{\n",
       "            console.log([gd, 'removed!']);\n",
       "            Plotly.purge(gd);\n",
       "            observer.disconnect();\n",
       "        }}\n",
       "}});\n",
       "\n",
       "// Listen for the removal of the full notebook cells\n",
       "var notebookContainer = gd.closest('#notebook-container');\n",
       "if (notebookContainer) {{\n",
       "    x.observe(notebookContainer, {childList: true});\n",
       "}}\n",
       "\n",
       "// Listen for the clearing of the current output cell\n",
       "var outputEl = gd.closest('.output');\n",
       "if (outputEl) {{\n",
       "    x.observe(outputEl, {childList: true});\n",
       "}}\n",
       "\n",
       "                        })                };                });            </script>        </div>"
      ]
     },
     "metadata": {},
     "output_type": "display_data"
    }
   ],
   "source": [
    "trace = go.Candlestick(x=df['Date'],\n",
    "                       open=df['Open'],\n",
    "                       high=df['High'],\n",
    "                       low=df['Low'],\n",
    "                       close=df['Close'],\n",
    "                       increasing=dict(line=dict(color= '#17BECF')),\n",
    "                       decreasing=dict(line=dict(color= '#7F7F7F'))\n",
    "                      )\n",
    "\n",
    "layout = go.Layout(title ='Preços em Candlesticks',\n",
    "                   title_x = 0.5,\n",
    "                   xaxis = dict(rangeslider = dict(visible = False))\n",
    "                  )\n",
    "\n",
    "data = [trace]\n",
    "\n",
    "fig = go.Figure(data=data,layout=layout)\n",
    "\n",
    "py.iplot(fig)"
   ]
  },
  {
   "cell_type": "markdown",
   "id": "bf08c547",
   "metadata": {},
   "source": [
    "**Adicionando alguns dados interessantes ao gráfico**"
   ]
  },
  {
   "cell_type": "code",
   "execution_count": 10,
   "id": "7bf187d5",
   "metadata": {
    "scrolled": false
   },
   "outputs": [
    {
     "data": {
      "application/vnd.plotly.v1+json": {
       "config": {
        "linkText": "Export to plotly.com",
        "plotlyServerURL": "https://plotly.com",
        "showLink": false
       },
       "data": [
        {
         "close": [
          52591,
          52342,
          49246,
          50865,
          48577,
          47508,
          45720,
          47154,
          46498,
          46401,
          47264,
          44831,
          47033,
          49338,
          47236,
          47597,
          45869,
          46919,
          46517,
          48139,
          45873,
          45361,
          45263,
          43911,
          44015,
          43350,
          40612,
          38569,
          38031,
          40406,
          40592,
          39808,
          41543,
          41593,
          49085,
          49639,
          50815,
          49657,
          50562,
          50293,
          53228,
          52908,
          53911,
          51718,
          51804,
          49723,
          49051,
          50619,
          49422,
          49534,
          50105,
          52233,
          53141,
          55578,
          57002,
          57308,
          57661,
          58298,
          59099,
          57716,
          59616,
          58000,
          57080,
          58697,
          58367,
          61109,
          61767,
          64108,
          64308,
          61598,
          59184,
          59962,
          61559,
          60316,
          60501,
          58389,
          57937,
          60227,
          61665,
          63652,
          64521,
          66034,
          64954,
          66125,
          67748,
          66662,
          66786,
          64675,
          64210,
          63854,
          64984,
          64593,
          62826,
          63761,
          65403,
          65710,
          68222,
          62639,
          64085,
          62511,
          62211,
          61626,
          61087,
          62900,
          62322,
          65436,
          64684,
          65497,
          66898,
          67359,
          68715,
          71074,
          71923,
          73079,
          75757,
          75390,
          74294,
          76055,
          76990,
          76391,
          75976,
          73915,
          72166,
          73437,
          74157,
          72264,
          72732,
          72608,
          75187,
          76402,
          79071,
          79349,
          81220,
          85531,
          84041,
          80899,
          84525,
          87293,
          85761,
          86371,
          84886,
          84377,
          85366,
          84820,
          84334,
          85550,
          86445,
          83118,
          85220,
          83082,
          78898,
          77240,
          72942,
          70758,
          70641,
          72763,
          75010,
          76594,
          78571,
          79866,
          81435,
          76514,
          76029,
          76262,
          76678,
          76416,
          75429,
          79444,
          79342,
          82322,
          82921,
          84220,
          85720,
          88419,
          85641,
          88515,
          86230,
          89504,
          88115,
          87450,
          85697,
          87887,
          91841,
          93658,
          96097,
          97677,
          97861,
          95343,
          97526,
          97886,
          94604,
          95365,
          99137,
          93735,
          95415,
          97108,
          92875,
          94578,
          96236,
          96008,
          94258,
          89993,
          93628,
          97030,
          97821,
          98040,
          102013,
          100967,
          104089,
          103906,
          103452,
          102819,
          102674,
          103996,
          99806,
          97667,
          101135,
          102935,
          103501,
          104817,
          105078,
          102551,
          103832,
          104729,
          107364,
          108196,
          107629,
          106557,
          108692,
          108233,
          111126,
          112565,
          115121,
          116534,
          117707,
          115503,
          118478,
          118376,
          113761,
          113770,
          114381,
          113681,
          104172,
          97997,
          82678,
          67069,
          73429,
          69538,
          77682,
          78990,
          75331,
          80506,
          80263,
          77557,
          82173,
          87403,
          94637,
          92795,
          96572,
          93834,
          96765,
          100032,
          102888,
          102382,
          102912,
          102776,
          101353,
          101521,
          102143,
          101242,
          98363,
          98290,
          96999,
          94016,
          97483,
          98309,
          101260,
          93952,
          100799,
          104512,
          106042,
          110575,
          113682,
          115323,
          117679,
          117857,
          119306,
          125077,
          120502,
          117172,
          116007,
          119925,
          119116,
          118748,
          110035,
          115202,
          114160,
          116222,
          114781,
          115253,
          117670,
          121114,
          120530,
          118894,
          122038,
          121881,
          122592,
          125561,
          130126,
          129441,
          128405,
          127256,
          127622
         ],
         "high": [
          52786,
          53417,
          52424,
          50895,
          50867,
          49512,
          48084,
          47997,
          47532,
          47840,
          49396,
          47391,
          47033,
          49752,
          49339,
          48837,
          47875,
          49054,
          47460,
          48227,
          48745,
          47142,
          46438,
          46251,
          44233,
          44087,
          43349,
          40974,
          38857,
          40406,
          41444,
          40592,
          42436,
          43601,
          50024,
          50038,
          51308,
          51370,
          52262,
          50556,
          53844,
          54054,
          54978,
          54113,
          53976,
          52305,
          50357,
          50634,
          51812,
          50191,
          51673,
          52346,
          53166,
          55649,
          57171,
          57474,
          58030,
          58753,
          59418,
          59099,
          59655,
          60310,
          58595,
          59462,
          59621,
          61275,
          62039,
          64372,
          64728,
          65291,
          64767,
          61493,
          62550,
          62934,
          61936,
          60517,
          58600,
          60248,
          62409,
          64342,
          64694,
          66594,
          66025,
          66292,
          68456,
          69488,
          67398,
          66892,
          66554,
          65136,
          65775,
          66211,
          64928,
          64591,
          65436,
          66877,
          68429,
          68792,
          64170,
          64107,
          63637,
          62475,
          62272,
          63038,
          63485,
          65624,
          65604,
          65873,
          67277,
          68500,
          68950,
          71506,
          72217,
          73646,
          75820,
          76420,
          75470,
          78024,
          77319,
          77382,
          77061,
          75973,
          74481,
          73632,
          75073,
          74989,
          74166,
          74622,
          75227,
          76437,
          79135,
          79440,
          81429,
          85531,
          86213,
          84410,
          84686,
          87358,
          88318,
          86931,
          87333,
          85499,
          85708,
          86148,
          85577,
          86149,
          87179,
          86739,
          86406,
          86678,
          83883,
          78886,
          78892,
          73716,
          72617,
          73020,
          75127,
          76682,
          79489,
          80589,
          81792,
          81765,
          78742,
          77232,
          78783,
          76675,
          77293,
          80002,
          80107,
          85442,
          87333,
          86167,
          85786,
          89017,
          89598,
          88516,
          88484,
          90246,
          91242,
          88384,
          88101,
          88044,
          92701,
          93987,
          96396,
          97677,
          98405,
          98589,
          98238,
          98544,
          98190,
          95476,
          99393,
          100439,
          95863,
          97493,
          97610,
          95140,
          96563,
          97123,
          96312,
          94252,
          95212,
          97992,
          98326,
          99364,
          102100,
          102617,
          104176,
          106650,
          104773,
          104570,
          104056,
          104848,
          103946,
          101469,
          101551,
          103258,
          104699,
          106001,
          105633,
          105178,
          104381,
          105891,
          108083,
          108496,
          109672,
          108368,
          108692,
          108915,
          111430,
          112829,
          115171,
          117803,
          118792,
          117707,
          118479,
          119593,
          118347,
          117701,
          117581,
          116552,
          113647,
          108804,
          97982,
          82565,
          78846,
          75511,
          80428,
          81668,
          81934,
          83598,
          81066,
          80723,
          83309,
          88091,
          97356,
          97693,
          97540,
          97486,
          97864,
          100191,
          103017,
          105449,
          105704,
          104523,
          104409,
          102334,
          102708,
          103226,
          101578,
          100949,
          98283,
          98314,
          98642,
          99571,
          102218,
          101784,
          100928,
          105758,
          107810,
          111603,
          113864,
          115527,
          119370,
          118311,
          120150,
          125324,
          125075,
          122586,
          119314,
          121117,
          120844,
          120845,
          118388,
          115504,
          115202,
          116751,
          116225,
          117249,
          118850,
          121409,
          121974,
          121498,
          122038,
          122964,
          123544,
          125698,
          130137,
          131190,
          131084,
          129901,
          128067
         ],
         "low": [
          51130,
          52221,
          48624,
          48640,
          48512,
          47508,
          45677,
          42749,
          45278,
          45592,
          46218,
          44183,
          43767,
          47019,
          46321,
          46623,
          45401,
          45866,
          45397,
          46399,
          45812,
          44579,
          44232,
          43690,
          43137,
          43217,
          40463,
          37986,
          37046,
          37112,
          38596,
          38928,
          39808,
          41211,
          41599,
          47922,
          46521,
          48778,
          49361,
          47874,
          50078,
          52305,
          51748,
          51204,
          49908,
          49588,
          48695,
          48200,
          49421,
          48067,
          49539,
          48954,
          50825,
          53143,
          55355,
          55993,
          55696,
          56735,
          58081,
          57259,
          57506,
          57961,
          56459,
          57083,
          57411,
          58367,
          60243,
          61719,
          63084,
          61491,
          58921,
          58322,
          59963,
          58092,
          59396,
          57575,
          56829,
          57941,
          59371,
          61307,
          63456,
          64500,
          64163,
          63740,
          66125,
          66452,
          65594,
          64203,
          64152,
          62496,
          63030,
          63762,
          62826,
          62828,
          63761,
          64721,
          65295,
          60315,
          60925,
          62161,
          62010,
          61269,
          60544,
          61088,
          62035,
          62322,
          64599,
          64678,
          65503,
          66650,
          67226,
          68514,
          70516,
          71671,
          73096,
          75029,
          73125,
          73845,
          75181,
          75366,
          75315,
          73094,
          71920,
          70825,
          73439,
          71215,
          71356,
          71798,
          72347,
          74924,
          76403,
          78164,
          79349,
          80524,
          83804,
          79690,
          80901,
          84261,
          83897,
          84397,
          84525,
          83678,
          82889,
          82826,
          83155,
          82762,
          84349,
          82746,
          82201,
          81391,
          78622,
          75337,
          71162,
          69583,
          69069,
          69779,
          71935,
          74196,
          75890,
          77871,
          78573,
          76043,
          75633,
          74876,
          76026,
          74276,
          74275,
          75227,
          77005,
          78091,
          82324,
          82922,
          83035,
          82783,
          84030,
          84071,
          85763,
          84905,
          87025,
          85583,
          84756,
          83892,
          87536,
          91064,
          93335,
          94662,
          94783,
          93424,
          93737,
          95793,
          94394,
          93305,
          95384,
          93380,
          91584,
          94124,
          92516,
          92338,
          93721,
          95312,
          92750,
          89409,
          89822,
          93626,
          95686,
          96782,
          97623,
          99421,
          100073,
          103903,
          103361,
          102196,
          100950,
          99630,
          98200,
          97085,
          95855,
          99406,
          102231,
          102782,
          103034,
          99826,
          99868,
          103438,
          104696,
          106356,
          107127,
          105261,
          105367,
          106312,
          108190,
          110133,
          111896,
          114964,
          115645,
          114952,
          115503,
          116906,
          112825,
          113467,
          112134,
          112661,
          99951,
          96886,
          68488,
          61691,
          62161,
          67802,
          69556,
          76405,
          72041,
          75327,
          77640,
          75697,
          77571,
          82193,
          86837,
          90811,
          90148,
          93259,
          93825,
          96768,
          98289,
          100859,
          102381,
          100005,
          100187,
          98513,
          99359,
          98961,
          97758,
          98045,
          95632,
          93408,
          93984,
          97336,
          98310,
          93387,
          93968,
          100954,
          104729,
          106050,
          108829,
          112567,
          114431,
          114730,
          117805,
          116756,
          120374,
          116109,
          114887,
          115093,
          117970,
          117867,
          109827,
          107319,
          109343,
          113370,
          110927,
          114096,
          115262,
          117661,
          119203,
          118894,
          117631,
          119458,
          121595,
          122526,
          125540,
          128678,
          127576,
          126697,
          124994
         ],
         "open": [
          52511,
          52591,
          52341,
          49246,
          50867,
          48578,
          47509,
          45715,
          47151,
          46501,
          46400,
          47263,
          44832,
          47033,
          49339,
          47242,
          47607,
          45869,
          46915,
          46519,
          48138,
          45871,
          45361,
          45258,
          43912,
          44016,
          43349,
          40612,
          38572,
          38031,
          40397,
          40592,
          39808,
          41544,
          41599,
          49089,
          49639,
          50816,
          49687,
          50556,
          50303,
          53229,
          52911,
          53910,
          51717,
          51803,
          49709,
          49051,
          50627,
          49419,
          49539,
          50106,
          52241,
          53143,
          55573,
          57006,
          57309,
          57655,
          58316,
          59080,
          57717,
          59616,
          57998,
          57083,
          58697,
          58370,
          61130,
          61768,
          64141,
          64312,
          61601,
          59183,
          59963,
          61559,
          60322,
          60517,
          58390,
          57941,
          60227,
          61680,
          63652,
          64519,
          66025,
          64957,
          66125,
          67756,
          66661,
          66786,
          64674,
          64232,
          63829,
          64989,
          64593,
          62828,
          63761,
          65404,
          65705,
          68227,
          62638,
          64055,
          62503,
          62219,
          61620,
          61088,
          62901,
          62322,
          65431,
          64695,
          65503,
          66898,
          67364,
          68713,
          71074,
          71921,
          73096,
          75758,
          75381,
          74295,
          76055,
          76985,
          76398,
          75973,
          73911,
          72167,
          73439,
          74157,
          72266,
          72775,
          72621,
          75187,
          76403,
          79070,
          79349,
          81220,
          85531,
          84040,
          80901,
          84525,
          87296,
          85292,
          86386,
          84886,
          84377,
          85365,
          84832,
          84328,
          85520,
          86443,
          83199,
          85222,
          83095,
          78886,
          77244,
          72943,
          70757,
          70642,
          72763,
          75015,
          76587,
          78571,
          79866,
          81445,
          76513,
          76029,
          76264,
          76675,
          76416,
          75428,
          79447,
          79350,
          82324,
          82922,
          84222,
          85728,
          88418,
          85644,
          88472,
          86237,
          89511,
          88115,
          87448,
          85684,
          87887,
          91845,
          93645,
          96093,
          97674,
          97861,
          95351,
          97527,
          97881,
          94604,
          95384,
          99141,
          93735,
          95423,
          97110,
          92875,
          94578,
          96254,
          95992,
          94252,
          90006,
          93626,
          97036,
          97828,
          98038,
          102018,
          100973,
          104090,
          103909,
          103452,
          102817,
          102658,
          103946,
          99810,
          97687,
          101133,
          102937,
          103496,
          104817,
          105077,
          102546,
          103834,
          104729,
          107366,
          108196,
          107622,
          106566,
          108692,
          108246,
          111125,
          112565,
          115119,
          116530,
          117707,
          115503,
          118478,
          118347,
          113761,
          113771,
          114381,
          113647,
          104260,
          97982,
          82565,
          67067,
          73431,
          69556,
          77682,
          78989,
          75334,
          80501,
          80263,
          77576,
          82198,
          87395,
          94640,
          92780,
          96572,
          93837,
          96776,
          100027,
          102888,
          102381,
          102913,
          102776,
          101348,
          101525,
          102142,
          101239,
          98367,
          98283,
          97005,
          94019,
          97483,
          98310,
          101260,
          93968,
          100954,
          104729,
          106050,
          110598,
          113751,
          115137,
          118021,
          117806,
          119024,
          125075,
          120351,
          117381,
          115093,
          120239,
          119421,
          118388,
          110036,
          115202,
          114093,
          116222,
          114776,
          115262,
          117661,
          121116,
          120534,
          118951,
          122038,
          121880,
          122592,
          125561,
          130125,
          129441,
          128405,
          127255
         ],
         "type": "candlestick",
         "x": [
          "2015-07-06",
          "2015-07-13",
          "2015-07-20",
          "2015-07-27",
          "2015-08-03",
          "2015-08-10",
          "2015-08-17",
          "2015-08-24",
          "2015-08-31",
          "2015-09-07",
          "2015-09-14",
          "2015-09-21",
          "2015-09-28",
          "2015-10-05",
          "2015-10-12",
          "2015-10-19",
          "2015-10-26",
          "2015-11-02",
          "2015-11-09",
          "2015-11-16",
          "2015-11-23",
          "2015-11-30",
          "2015-12-07",
          "2015-12-14",
          "2015-12-21",
          "2015-12-28",
          "2016-01-04",
          "2016-01-11",
          "2016-01-18",
          "2016-01-25",
          "2016-02-01",
          "2016-02-08",
          "2016-02-15",
          "2016-02-22",
          "2016-02-29",
          "2016-03-07",
          "2016-03-14",
          "2016-03-21",
          "2016-03-28",
          "2016-04-04",
          "2016-04-11",
          "2016-04-18",
          "2016-04-25",
          "2016-05-02",
          "2016-05-09",
          "2016-05-16",
          "2016-05-23",
          "2016-05-30",
          "2016-06-06",
          "2016-06-13",
          "2016-06-20",
          "2016-06-27",
          "2016-07-04",
          "2016-07-11",
          "2016-07-18",
          "2016-07-25",
          "2016-08-01",
          "2016-08-08",
          "2016-08-15",
          "2016-08-22",
          "2016-08-29",
          "2016-09-05",
          "2016-09-12",
          "2016-09-19",
          "2016-09-26",
          "2016-10-03",
          "2016-10-10",
          "2016-10-17",
          "2016-10-24",
          "2016-10-31",
          "2016-11-07",
          "2016-11-14",
          "2016-11-21",
          "2016-11-28",
          "2016-12-05",
          "2016-12-12",
          "2016-12-19",
          "2016-12-26",
          "2017-01-02",
          "2017-01-09",
          "2017-01-16",
          "2017-01-23",
          "2017-01-30",
          "2017-02-06",
          "2017-02-13",
          "2017-02-20",
          "2017-02-27",
          "2017-03-06",
          "2017-03-13",
          "2017-03-20",
          "2017-03-27",
          "2017-04-03",
          "2017-04-10",
          "2017-04-17",
          "2017-04-24",
          "2017-05-01",
          "2017-05-08",
          "2017-05-15",
          "2017-05-22",
          "2017-05-29",
          "2017-06-05",
          "2017-06-12",
          "2017-06-19",
          "2017-06-26",
          "2017-07-03",
          "2017-07-10",
          "2017-07-17",
          "2017-07-24",
          "2017-07-31",
          "2017-08-07",
          "2017-08-14",
          "2017-08-21",
          "2017-08-28",
          "2017-09-04",
          "2017-09-11",
          "2017-09-18",
          "2017-09-25",
          "2017-10-02",
          "2017-10-09",
          "2017-10-16",
          "2017-10-23",
          "2017-10-30",
          "2017-11-06",
          "2017-11-13",
          "2017-11-20",
          "2017-11-27",
          "2017-12-04",
          "2017-12-11",
          "2017-12-18",
          "2017-12-25",
          "2018-01-01",
          "2018-01-08",
          "2018-01-15",
          "2018-01-22",
          "2018-01-29",
          "2018-02-05",
          "2018-02-12",
          "2018-02-19",
          "2018-02-26",
          "2018-03-05",
          "2018-03-12",
          "2018-03-19",
          "2018-03-26",
          "2018-04-02",
          "2018-04-09",
          "2018-04-16",
          "2018-04-23",
          "2018-04-30",
          "2018-05-07",
          "2018-05-14",
          "2018-05-21",
          "2018-05-28",
          "2018-06-04",
          "2018-06-11",
          "2018-06-18",
          "2018-06-25",
          "2018-07-02",
          "2018-07-09",
          "2018-07-16",
          "2018-07-23",
          "2018-07-30",
          "2018-08-06",
          "2018-08-13",
          "2018-08-20",
          "2018-08-27",
          "2018-09-03",
          "2018-09-10",
          "2018-09-17",
          "2018-09-24",
          "2018-10-01",
          "2018-10-08",
          "2018-10-15",
          "2018-10-22",
          "2018-10-29",
          "2018-11-05",
          "2018-11-12",
          "2018-11-19",
          "2018-11-26",
          "2018-12-03",
          "2018-12-10",
          "2018-12-17",
          "2018-12-24",
          "2018-12-31",
          "2019-01-07",
          "2019-01-14",
          "2019-01-21",
          "2019-01-28",
          "2019-02-04",
          "2019-02-11",
          "2019-02-18",
          "2019-02-25",
          "2019-03-04",
          "2019-03-11",
          "2019-03-18",
          "2019-03-25",
          "2019-04-01",
          "2019-04-08",
          "2019-04-15",
          "2019-04-22",
          "2019-04-29",
          "2019-05-06",
          "2019-05-13",
          "2019-05-20",
          "2019-05-27",
          "2019-06-03",
          "2019-06-10",
          "2019-06-17",
          "2019-06-24",
          "2019-07-01",
          "2019-07-08",
          "2019-07-15",
          "2019-07-22",
          "2019-07-29",
          "2019-08-05",
          "2019-08-12",
          "2019-08-19",
          "2019-08-26",
          "2019-09-02",
          "2019-09-09",
          "2019-09-16",
          "2019-09-23",
          "2019-09-30",
          "2019-10-07",
          "2019-10-14",
          "2019-10-21",
          "2019-10-28",
          "2019-11-04",
          "2019-11-11",
          "2019-11-18",
          "2019-11-25",
          "2019-12-02",
          "2019-12-09",
          "2019-12-16",
          "2019-12-23",
          "2019-12-30",
          "2020-01-06",
          "2020-01-13",
          "2020-01-20",
          "2020-01-27",
          "2020-02-03",
          "2020-02-10",
          "2020-02-17",
          "2020-02-24",
          "2020-03-02",
          "2020-03-09",
          "2020-03-16",
          "2020-03-23",
          "2020-03-30",
          "2020-04-06",
          "2020-04-13",
          "2020-04-20",
          "2020-04-27",
          "2020-05-04",
          "2020-05-11",
          "2020-05-18",
          "2020-05-25",
          "2020-06-01",
          "2020-06-08",
          "2020-06-15",
          "2020-06-22",
          "2020-06-29",
          "2020-07-06",
          "2020-07-13",
          "2020-07-20",
          "2020-07-27",
          "2020-08-03",
          "2020-08-10",
          "2020-08-17",
          "2020-08-24",
          "2020-08-31",
          "2020-09-07",
          "2020-09-14",
          "2020-09-21",
          "2020-09-28",
          "2020-10-05",
          "2020-10-12",
          "2020-10-19",
          "2020-10-26",
          "2020-11-02",
          "2020-11-09",
          "2020-11-16",
          "2020-11-23",
          "2020-11-30",
          "2020-12-07",
          "2020-12-14",
          "2020-12-21",
          "2020-12-28",
          "2021-01-04",
          "2021-01-11",
          "2021-01-18",
          "2021-01-25",
          "2021-02-01",
          "2021-02-08",
          "2021-02-15",
          "2021-02-22",
          "2021-03-01",
          "2021-03-08",
          "2021-03-15",
          "2021-03-22",
          "2021-03-29",
          "2021-04-05",
          "2021-04-12",
          "2021-04-19",
          "2021-04-26",
          "2021-05-03",
          "2021-05-10",
          "2021-05-17",
          "2021-05-24",
          "2021-05-31",
          "2021-06-07",
          "2021-06-14",
          "2021-06-21",
          "2021-06-28"
         ]
        }
       ],
       "layout": {
        "annotations": [
         {
          "align": "center",
          "arrowhead": 2,
          "arrowsize": 1,
          "arrowwidth": 2,
          "bordercolor": "#c7c7c7",
          "borderpad": 4,
          "borderwidth": 2,
          "font": {
           "family": "Courier New, monospace",
           "size": 12
          },
          "showarrow": true,
          "text": "Audio Joesley",
          "x": "2017-05-14",
          "xref": "x",
          "y": 69000,
          "yref": "y"
         },
         {
          "align": "center",
          "arrowhead": 2,
          "arrowsize": 1,
          "arrowwidth": 2,
          "bordercolor": "#c7c7c7",
          "borderpad": 4,
          "borderwidth": 2,
          "font": {
           "family": "Courier New, monospace",
           "size": 12
          },
          "showarrow": true,
          "text": "Impeachment Dilma",
          "x": "2016-01-01",
          "xref": "x",
          "y": 47000,
          "yref": "y"
         },
         {
          "align": "center",
          "arrowhead": 2,
          "arrowsize": 1,
          "arrowwidth": 2,
          "bordercolor": "#c7c7c7",
          "borderpad": 4,
          "borderwidth": 2,
          "font": {
           "family": "Courier New, monospace",
           "size": 12
          },
          "showarrow": true,
          "text": "Greve dos Caminhoneiros",
          "x": "2018-05-20",
          "xref": "x",
          "y": 88000,
          "yref": "y"
         },
         {
          "align": "center",
          "arrowhead": 2,
          "arrowsize": 1,
          "arrowwidth": 2,
          "bordercolor": "#c7c7c7",
          "borderpad": 4,
          "borderwidth": 2,
          "font": {
           "family": "Courier New, monospace",
           "size": 12.5
          },
          "showarrow": true,
          "text": "Corona Crash",
          "x": "2020-02-17",
          "xref": "x",
          "y": 118000,
          "yref": "y"
         }
        ],
        "template": {
         "data": {
          "bar": [
           {
            "error_x": {
             "color": "#2a3f5f"
            },
            "error_y": {
             "color": "#2a3f5f"
            },
            "marker": {
             "line": {
              "color": "#E5ECF6",
              "width": 0.5
             }
            },
            "type": "bar"
           }
          ],
          "barpolar": [
           {
            "marker": {
             "line": {
              "color": "#E5ECF6",
              "width": 0.5
             }
            },
            "type": "barpolar"
           }
          ],
          "carpet": [
           {
            "aaxis": {
             "endlinecolor": "#2a3f5f",
             "gridcolor": "white",
             "linecolor": "white",
             "minorgridcolor": "white",
             "startlinecolor": "#2a3f5f"
            },
            "baxis": {
             "endlinecolor": "#2a3f5f",
             "gridcolor": "white",
             "linecolor": "white",
             "minorgridcolor": "white",
             "startlinecolor": "#2a3f5f"
            },
            "type": "carpet"
           }
          ],
          "choropleth": [
           {
            "colorbar": {
             "outlinewidth": 0,
             "ticks": ""
            },
            "type": "choropleth"
           }
          ],
          "contour": [
           {
            "colorbar": {
             "outlinewidth": 0,
             "ticks": ""
            },
            "colorscale": [
             [
              0,
              "#0d0887"
             ],
             [
              0.1111111111111111,
              "#46039f"
             ],
             [
              0.2222222222222222,
              "#7201a8"
             ],
             [
              0.3333333333333333,
              "#9c179e"
             ],
             [
              0.4444444444444444,
              "#bd3786"
             ],
             [
              0.5555555555555556,
              "#d8576b"
             ],
             [
              0.6666666666666666,
              "#ed7953"
             ],
             [
              0.7777777777777778,
              "#fb9f3a"
             ],
             [
              0.8888888888888888,
              "#fdca26"
             ],
             [
              1,
              "#f0f921"
             ]
            ],
            "type": "contour"
           }
          ],
          "contourcarpet": [
           {
            "colorbar": {
             "outlinewidth": 0,
             "ticks": ""
            },
            "type": "contourcarpet"
           }
          ],
          "heatmap": [
           {
            "colorbar": {
             "outlinewidth": 0,
             "ticks": ""
            },
            "colorscale": [
             [
              0,
              "#0d0887"
             ],
             [
              0.1111111111111111,
              "#46039f"
             ],
             [
              0.2222222222222222,
              "#7201a8"
             ],
             [
              0.3333333333333333,
              "#9c179e"
             ],
             [
              0.4444444444444444,
              "#bd3786"
             ],
             [
              0.5555555555555556,
              "#d8576b"
             ],
             [
              0.6666666666666666,
              "#ed7953"
             ],
             [
              0.7777777777777778,
              "#fb9f3a"
             ],
             [
              0.8888888888888888,
              "#fdca26"
             ],
             [
              1,
              "#f0f921"
             ]
            ],
            "type": "heatmap"
           }
          ],
          "heatmapgl": [
           {
            "colorbar": {
             "outlinewidth": 0,
             "ticks": ""
            },
            "colorscale": [
             [
              0,
              "#0d0887"
             ],
             [
              0.1111111111111111,
              "#46039f"
             ],
             [
              0.2222222222222222,
              "#7201a8"
             ],
             [
              0.3333333333333333,
              "#9c179e"
             ],
             [
              0.4444444444444444,
              "#bd3786"
             ],
             [
              0.5555555555555556,
              "#d8576b"
             ],
             [
              0.6666666666666666,
              "#ed7953"
             ],
             [
              0.7777777777777778,
              "#fb9f3a"
             ],
             [
              0.8888888888888888,
              "#fdca26"
             ],
             [
              1,
              "#f0f921"
             ]
            ],
            "type": "heatmapgl"
           }
          ],
          "histogram": [
           {
            "marker": {
             "colorbar": {
              "outlinewidth": 0,
              "ticks": ""
             }
            },
            "type": "histogram"
           }
          ],
          "histogram2d": [
           {
            "colorbar": {
             "outlinewidth": 0,
             "ticks": ""
            },
            "colorscale": [
             [
              0,
              "#0d0887"
             ],
             [
              0.1111111111111111,
              "#46039f"
             ],
             [
              0.2222222222222222,
              "#7201a8"
             ],
             [
              0.3333333333333333,
              "#9c179e"
             ],
             [
              0.4444444444444444,
              "#bd3786"
             ],
             [
              0.5555555555555556,
              "#d8576b"
             ],
             [
              0.6666666666666666,
              "#ed7953"
             ],
             [
              0.7777777777777778,
              "#fb9f3a"
             ],
             [
              0.8888888888888888,
              "#fdca26"
             ],
             [
              1,
              "#f0f921"
             ]
            ],
            "type": "histogram2d"
           }
          ],
          "histogram2dcontour": [
           {
            "colorbar": {
             "outlinewidth": 0,
             "ticks": ""
            },
            "colorscale": [
             [
              0,
              "#0d0887"
             ],
             [
              0.1111111111111111,
              "#46039f"
             ],
             [
              0.2222222222222222,
              "#7201a8"
             ],
             [
              0.3333333333333333,
              "#9c179e"
             ],
             [
              0.4444444444444444,
              "#bd3786"
             ],
             [
              0.5555555555555556,
              "#d8576b"
             ],
             [
              0.6666666666666666,
              "#ed7953"
             ],
             [
              0.7777777777777778,
              "#fb9f3a"
             ],
             [
              0.8888888888888888,
              "#fdca26"
             ],
             [
              1,
              "#f0f921"
             ]
            ],
            "type": "histogram2dcontour"
           }
          ],
          "mesh3d": [
           {
            "colorbar": {
             "outlinewidth": 0,
             "ticks": ""
            },
            "type": "mesh3d"
           }
          ],
          "parcoords": [
           {
            "line": {
             "colorbar": {
              "outlinewidth": 0,
              "ticks": ""
             }
            },
            "type": "parcoords"
           }
          ],
          "pie": [
           {
            "automargin": true,
            "type": "pie"
           }
          ],
          "scatter": [
           {
            "marker": {
             "colorbar": {
              "outlinewidth": 0,
              "ticks": ""
             }
            },
            "type": "scatter"
           }
          ],
          "scatter3d": [
           {
            "line": {
             "colorbar": {
              "outlinewidth": 0,
              "ticks": ""
             }
            },
            "marker": {
             "colorbar": {
              "outlinewidth": 0,
              "ticks": ""
             }
            },
            "type": "scatter3d"
           }
          ],
          "scattercarpet": [
           {
            "marker": {
             "colorbar": {
              "outlinewidth": 0,
              "ticks": ""
             }
            },
            "type": "scattercarpet"
           }
          ],
          "scattergeo": [
           {
            "marker": {
             "colorbar": {
              "outlinewidth": 0,
              "ticks": ""
             }
            },
            "type": "scattergeo"
           }
          ],
          "scattergl": [
           {
            "marker": {
             "colorbar": {
              "outlinewidth": 0,
              "ticks": ""
             }
            },
            "type": "scattergl"
           }
          ],
          "scattermapbox": [
           {
            "marker": {
             "colorbar": {
              "outlinewidth": 0,
              "ticks": ""
             }
            },
            "type": "scattermapbox"
           }
          ],
          "scatterpolar": [
           {
            "marker": {
             "colorbar": {
              "outlinewidth": 0,
              "ticks": ""
             }
            },
            "type": "scatterpolar"
           }
          ],
          "scatterpolargl": [
           {
            "marker": {
             "colorbar": {
              "outlinewidth": 0,
              "ticks": ""
             }
            },
            "type": "scatterpolargl"
           }
          ],
          "scatterternary": [
           {
            "marker": {
             "colorbar": {
              "outlinewidth": 0,
              "ticks": ""
             }
            },
            "type": "scatterternary"
           }
          ],
          "surface": [
           {
            "colorbar": {
             "outlinewidth": 0,
             "ticks": ""
            },
            "colorscale": [
             [
              0,
              "#0d0887"
             ],
             [
              0.1111111111111111,
              "#46039f"
             ],
             [
              0.2222222222222222,
              "#7201a8"
             ],
             [
              0.3333333333333333,
              "#9c179e"
             ],
             [
              0.4444444444444444,
              "#bd3786"
             ],
             [
              0.5555555555555556,
              "#d8576b"
             ],
             [
              0.6666666666666666,
              "#ed7953"
             ],
             [
              0.7777777777777778,
              "#fb9f3a"
             ],
             [
              0.8888888888888888,
              "#fdca26"
             ],
             [
              1,
              "#f0f921"
             ]
            ],
            "type": "surface"
           }
          ],
          "table": [
           {
            "cells": {
             "fill": {
              "color": "#EBF0F8"
             },
             "line": {
              "color": "white"
             }
            },
            "header": {
             "fill": {
              "color": "#C8D4E3"
             },
             "line": {
              "color": "white"
             }
            },
            "type": "table"
           }
          ]
         },
         "layout": {
          "annotationdefaults": {
           "arrowcolor": "#2a3f5f",
           "arrowhead": 0,
           "arrowwidth": 1
          },
          "autotypenumbers": "strict",
          "coloraxis": {
           "colorbar": {
            "outlinewidth": 0,
            "ticks": ""
           }
          },
          "colorscale": {
           "diverging": [
            [
             0,
             "#8e0152"
            ],
            [
             0.1,
             "#c51b7d"
            ],
            [
             0.2,
             "#de77ae"
            ],
            [
             0.3,
             "#f1b6da"
            ],
            [
             0.4,
             "#fde0ef"
            ],
            [
             0.5,
             "#f7f7f7"
            ],
            [
             0.6,
             "#e6f5d0"
            ],
            [
             0.7,
             "#b8e186"
            ],
            [
             0.8,
             "#7fbc41"
            ],
            [
             0.9,
             "#4d9221"
            ],
            [
             1,
             "#276419"
            ]
           ],
           "sequential": [
            [
             0,
             "#0d0887"
            ],
            [
             0.1111111111111111,
             "#46039f"
            ],
            [
             0.2222222222222222,
             "#7201a8"
            ],
            [
             0.3333333333333333,
             "#9c179e"
            ],
            [
             0.4444444444444444,
             "#bd3786"
            ],
            [
             0.5555555555555556,
             "#d8576b"
            ],
            [
             0.6666666666666666,
             "#ed7953"
            ],
            [
             0.7777777777777778,
             "#fb9f3a"
            ],
            [
             0.8888888888888888,
             "#fdca26"
            ],
            [
             1,
             "#f0f921"
            ]
           ],
           "sequentialminus": [
            [
             0,
             "#0d0887"
            ],
            [
             0.1111111111111111,
             "#46039f"
            ],
            [
             0.2222222222222222,
             "#7201a8"
            ],
            [
             0.3333333333333333,
             "#9c179e"
            ],
            [
             0.4444444444444444,
             "#bd3786"
            ],
            [
             0.5555555555555556,
             "#d8576b"
            ],
            [
             0.6666666666666666,
             "#ed7953"
            ],
            [
             0.7777777777777778,
             "#fb9f3a"
            ],
            [
             0.8888888888888888,
             "#fdca26"
            ],
            [
             1,
             "#f0f921"
            ]
           ]
          },
          "colorway": [
           "#636efa",
           "#EF553B",
           "#00cc96",
           "#ab63fa",
           "#FFA15A",
           "#19d3f3",
           "#FF6692",
           "#B6E880",
           "#FF97FF",
           "#FECB52"
          ],
          "font": {
           "color": "#2a3f5f"
          },
          "geo": {
           "bgcolor": "white",
           "lakecolor": "white",
           "landcolor": "#E5ECF6",
           "showlakes": true,
           "showland": true,
           "subunitcolor": "white"
          },
          "hoverlabel": {
           "align": "left"
          },
          "hovermode": "closest",
          "mapbox": {
           "style": "light"
          },
          "paper_bgcolor": "white",
          "plot_bgcolor": "#E5ECF6",
          "polar": {
           "angularaxis": {
            "gridcolor": "white",
            "linecolor": "white",
            "ticks": ""
           },
           "bgcolor": "#E5ECF6",
           "radialaxis": {
            "gridcolor": "white",
            "linecolor": "white",
            "ticks": ""
           }
          },
          "scene": {
           "xaxis": {
            "backgroundcolor": "#E5ECF6",
            "gridcolor": "white",
            "gridwidth": 2,
            "linecolor": "white",
            "showbackground": true,
            "ticks": "",
            "zerolinecolor": "white"
           },
           "yaxis": {
            "backgroundcolor": "#E5ECF6",
            "gridcolor": "white",
            "gridwidth": 2,
            "linecolor": "white",
            "showbackground": true,
            "ticks": "",
            "zerolinecolor": "white"
           },
           "zaxis": {
            "backgroundcolor": "#E5ECF6",
            "gridcolor": "white",
            "gridwidth": 2,
            "linecolor": "white",
            "showbackground": true,
            "ticks": "",
            "zerolinecolor": "white"
           }
          },
          "shapedefaults": {
           "line": {
            "color": "#2a3f5f"
           }
          },
          "ternary": {
           "aaxis": {
            "gridcolor": "white",
            "linecolor": "white",
            "ticks": ""
           },
           "baxis": {
            "gridcolor": "white",
            "linecolor": "white",
            "ticks": ""
           },
           "bgcolor": "#E5ECF6",
           "caxis": {
            "gridcolor": "white",
            "linecolor": "white",
            "ticks": ""
           }
          },
          "title": {
           "x": 0.05
          },
          "xaxis": {
           "automargin": true,
           "gridcolor": "white",
           "linecolor": "white",
           "ticks": "",
           "title": {
            "standoff": 15
           },
           "zerolinecolor": "white",
           "zerolinewidth": 2
          },
          "yaxis": {
           "automargin": true,
           "gridcolor": "white",
           "linecolor": "white",
           "ticks": "",
           "title": {
            "standoff": 15
           },
           "zerolinecolor": "white",
           "zerolinewidth": 2
          }
         }
        },
        "title": {
         "text": "IBOV Preços no Periodo",
         "x": 0.5
        },
        "yaxis": {
         "title": {
          "text": "IBOV Preço"
         }
        }
       }
      },
      "text/html": [
       "<div>                            <div id=\"883e9a7c-cdcc-40f7-9e0e-8e8cb711dc9e\" class=\"plotly-graph-div\" style=\"height:525px; width:100%;\"></div>            <script type=\"text/javascript\">                require([\"plotly\"], function(Plotly) {                    window.PLOTLYENV=window.PLOTLYENV || {};                                    if (document.getElementById(\"883e9a7c-cdcc-40f7-9e0e-8e8cb711dc9e\")) {                    Plotly.newPlot(                        \"883e9a7c-cdcc-40f7-9e0e-8e8cb711dc9e\",                        [{\"close\": [52591.0, 52342.0, 49246.0, 50865.0, 48577.0, 47508.0, 45720.0, 47154.0, 46498.0, 46401.0, 47264.0, 44831.0, 47033.0, 49338.0, 47236.0, 47597.0, 45869.0, 46919.0, 46517.0, 48139.0, 45873.0, 45361.0, 45263.0, 43911.0, 44015.0, 43350.0, 40612.0, 38569.0, 38031.0, 40406.0, 40592.0, 39808.0, 41543.0, 41593.0, 49085.0, 49639.0, 50815.0, 49657.0, 50562.0, 50293.0, 53228.0, 52908.0, 53911.0, 51718.0, 51804.0, 49723.0, 49051.0, 50619.0, 49422.0, 49534.0, 50105.0, 52233.0, 53141.0, 55578.0, 57002.0, 57308.0, 57661.0, 58298.0, 59099.0, 57716.0, 59616.0, 58000.0, 57080.0, 58697.0, 58367.0, 61109.0, 61767.0, 64108.0, 64308.0, 61598.0, 59184.0, 59962.0, 61559.0, 60316.0, 60501.0, 58389.0, 57937.0, 60227.0, 61665.0, 63652.0, 64521.0, 66034.0, 64954.0, 66125.0, 67748.0, 66662.0, 66786.0, 64675.0, 64210.0, 63854.0, 64984.0, 64593.0, 62826.0, 63761.0, 65403.0, 65710.0, 68222.0, 62639.0, 64085.0, 62511.0, 62211.0, 61626.0, 61087.0, 62900.0, 62322.0, 65436.0, 64684.0, 65497.0, 66898.0, 67359.0, 68715.0, 71074.0, 71923.0, 73079.0, 75757.0, 75390.0, 74294.0, 76055.0, 76990.0, 76391.0, 75976.0, 73915.0, 72166.0, 73437.0, 74157.0, 72264.0, 72732.0, 72608.0, 75187.0, 76402.0, 79071.0, 79349.0, 81220.0, 85531.0, 84041.0, 80899.0, 84525.0, 87293.0, 85761.0, 86371.0, 84886.0, 84377.0, 85366.0, 84820.0, 84334.0, 85550.0, 86445.0, 83118.0, 85220.0, 83082.0, 78898.0, 77240.0, 72942.0, 70758.0, 70641.0, 72763.0, 75010.0, 76594.0, 78571.0, 79866.0, 81435.0, 76514.0, 76029.0, 76262.0, 76678.0, 76416.0, 75429.0, 79444.0, 79342.0, 82322.0, 82921.0, 84220.0, 85720.0, 88419.0, 85641.0, 88515.0, 86230.0, 89504.0, 88115.0, 87450.0, 85697.0, 87887.0, 91841.0, 93658.0, 96097.0, 97677.0, 97861.0, 95343.0, 97526.0, 97886.0, 94604.0, 95365.0, 99137.0, 93735.0, 95415.0, 97108.0, 92875.0, 94578.0, 96236.0, 96008.0, 94258.0, 89993.0, 93628.0, 97030.0, 97821.0, 98040.0, 102013.0, 100967.0, 104089.0, 103906.0, 103452.0, 102819.0, 102674.0, 103996.0, 99806.0, 97667.0, 101135.0, 102935.0, 103501.0, 104817.0, 105078.0, 102551.0, 103832.0, 104729.0, 107364.0, 108196.0, 107629.0, 106557.0, 108692.0, 108233.0, 111126.0, 112565.0, 115121.0, 116534.0, 117707.0, 115503.0, 118478.0, 118376.0, 113761.0, 113770.0, 114381.0, 113681.0, 104172.0, 97997.0, 82678.0, 67069.0, 73429.0, 69538.0, 77682.0, 78990.0, 75331.0, 80506.0, 80263.0, 77557.0, 82173.0, 87403.0, 94637.0, 92795.0, 96572.0, 93834.0, 96765.0, 100032.0, 102888.0, 102382.0, 102912.0, 102776.0, 101353.0, 101521.0, 102143.0, 101242.0, 98363.0, 98290.0, 96999.0, 94016.0, 97483.0, 98309.0, 101260.0, 93952.0, 100799.0, 104512.0, 106042.0, 110575.0, 113682.0, 115323.0, 117679.0, 117857.0, 119306.0, 125077.0, 120502.0, 117172.0, 116007.0, 119925.0, 119116.0, 118748.0, 110035.0, 115202.0, 114160.0, 116222.0, 114781.0, 115253.0, 117670.0, 121114.0, 120530.0, 118894.0, 122038.0, 121881.0, 122592.0, 125561.0, 130126.0, 129441.0, 128405.0, 127256.0, 127622.0], \"high\": [52786.0, 53417.0, 52424.0, 50895.0, 50867.0, 49512.0, 48084.0, 47997.0, 47532.0, 47840.0, 49396.0, 47391.0, 47033.0, 49752.0, 49339.0, 48837.0, 47875.0, 49054.0, 47460.0, 48227.0, 48745.0, 47142.0, 46438.0, 46251.0, 44233.0, 44087.0, 43349.0, 40974.0, 38857.0, 40406.0, 41444.0, 40592.0, 42436.0, 43601.0, 50024.0, 50038.0, 51308.0, 51370.0, 52262.0, 50556.0, 53844.0, 54054.0, 54978.0, 54113.0, 53976.0, 52305.0, 50357.0, 50634.0, 51812.0, 50191.0, 51673.0, 52346.0, 53166.0, 55649.0, 57171.0, 57474.0, 58030.0, 58753.0, 59418.0, 59099.0, 59655.0, 60310.0, 58595.0, 59462.0, 59621.0, 61275.0, 62039.0, 64372.0, 64728.0, 65291.0, 64767.0, 61493.0, 62550.0, 62934.0, 61936.0, 60517.0, 58600.0, 60248.0, 62409.0, 64342.0, 64694.0, 66594.0, 66025.0, 66292.0, 68456.0, 69488.0, 67398.0, 66892.0, 66554.0, 65136.0, 65775.0, 66211.0, 64928.0, 64591.0, 65436.0, 66877.0, 68429.0, 68792.0, 64170.0, 64107.0, 63637.0, 62475.0, 62272.0, 63038.0, 63485.0, 65624.0, 65604.0, 65873.0, 67277.0, 68500.0, 68950.0, 71506.0, 72217.0, 73646.0, 75820.0, 76420.0, 75470.0, 78024.0, 77319.0, 77382.0, 77061.0, 75973.0, 74481.0, 73632.0, 75073.0, 74989.0, 74166.0, 74622.0, 75227.0, 76437.0, 79135.0, 79440.0, 81429.0, 85531.0, 86213.0, 84410.0, 84686.0, 87358.0, 88318.0, 86931.0, 87333.0, 85499.0, 85708.0, 86148.0, 85577.0, 86149.0, 87179.0, 86739.0, 86406.0, 86678.0, 83883.0, 78886.0, 78892.0, 73716.0, 72617.0, 73020.0, 75127.0, 76682.0, 79489.0, 80589.0, 81792.0, 81765.0, 78742.0, 77232.0, 78783.0, 76675.0, 77293.0, 80002.0, 80107.0, 85442.0, 87333.0, 86167.0, 85786.0, 89017.0, 89598.0, 88516.0, 88484.0, 90246.0, 91242.0, 88384.0, 88101.0, 88044.0, 92701.0, 93987.0, 96396.0, 97677.0, 98405.0, 98589.0, 98238.0, 98544.0, 98190.0, 95476.0, 99393.0, 100439.0, 95863.0, 97493.0, 97610.0, 95140.0, 96563.0, 97123.0, 96312.0, 94252.0, 95212.0, 97992.0, 98326.0, 99364.0, 102100.0, 102617.0, 104176.0, 106650.0, 104773.0, 104570.0, 104056.0, 104848.0, 103946.0, 101469.0, 101551.0, 103258.0, 104699.0, 106001.0, 105633.0, 105178.0, 104381.0, 105891.0, 108083.0, 108496.0, 109672.0, 108368.0, 108692.0, 108915.0, 111430.0, 112829.0, 115171.0, 117803.0, 118792.0, 117707.0, 118479.0, 119593.0, 118347.0, 117701.0, 117581.0, 116552.0, 113647.0, 108804.0, 97982.0, 82565.0, 78846.0, 75511.0, 80428.0, 81668.0, 81934.0, 83598.0, 81066.0, 80723.0, 83309.0, 88091.0, 97356.0, 97693.0, 97540.0, 97486.0, 97864.0, 100191.0, 103017.0, 105449.0, 105704.0, 104523.0, 104409.0, 102334.0, 102708.0, 103226.0, 101578.0, 100949.0, 98283.0, 98314.0, 98642.0, 99571.0, 102218.0, 101784.0, 100928.0, 105758.0, 107810.0, 111603.0, 113864.0, 115527.0, 119370.0, 118311.0, 120150.0, 125324.0, 125075.0, 122586.0, 119314.0, 121117.0, 120844.0, 120845.0, 118388.0, 115504.0, 115202.0, 116751.0, 116225.0, 117249.0, 118850.0, 121409.0, 121974.0, 121498.0, 122038.0, 122964.0, 123544.0, 125698.0, 130137.0, 131190.0, 131084.0, 129901.0, 128067.0], \"low\": [51130.0, 52221.0, 48624.0, 48640.0, 48512.0, 47508.0, 45677.0, 42749.0, 45278.0, 45592.0, 46218.0, 44183.0, 43767.0, 47019.0, 46321.0, 46623.0, 45401.0, 45866.0, 45397.0, 46399.0, 45812.0, 44579.0, 44232.0, 43690.0, 43137.0, 43217.0, 40463.0, 37986.0, 37046.0, 37112.0, 38596.0, 38928.0, 39808.0, 41211.0, 41599.0, 47922.0, 46521.0, 48778.0, 49361.0, 47874.0, 50078.0, 52305.0, 51748.0, 51204.0, 49908.0, 49588.0, 48695.0, 48200.0, 49421.0, 48067.0, 49539.0, 48954.0, 50825.0, 53143.0, 55355.0, 55993.0, 55696.0, 56735.0, 58081.0, 57259.0, 57506.0, 57961.0, 56459.0, 57083.0, 57411.0, 58367.0, 60243.0, 61719.0, 63084.0, 61491.0, 58921.0, 58322.0, 59963.0, 58092.0, 59396.0, 57575.0, 56829.0, 57941.0, 59371.0, 61307.0, 63456.0, 64500.0, 64163.0, 63740.0, 66125.0, 66452.0, 65594.0, 64203.0, 64152.0, 62496.0, 63030.0, 63762.0, 62826.0, 62828.0, 63761.0, 64721.0, 65295.0, 60315.0, 60925.0, 62161.0, 62010.0, 61269.0, 60544.0, 61088.0, 62035.0, 62322.0, 64599.0, 64678.0, 65503.0, 66650.0, 67226.0, 68514.0, 70516.0, 71671.0, 73096.0, 75029.0, 73125.0, 73845.0, 75181.0, 75366.0, 75315.0, 73094.0, 71920.0, 70825.0, 73439.0, 71215.0, 71356.0, 71798.0, 72347.0, 74924.0, 76403.0, 78164.0, 79349.0, 80524.0, 83804.0, 79690.0, 80901.0, 84261.0, 83897.0, 84397.0, 84525.0, 83678.0, 82889.0, 82826.0, 83155.0, 82762.0, 84349.0, 82746.0, 82201.0, 81391.0, 78622.0, 75337.0, 71162.0, 69583.0, 69069.0, 69779.0, 71935.0, 74196.0, 75890.0, 77871.0, 78573.0, 76043.0, 75633.0, 74876.0, 76026.0, 74276.0, 74275.0, 75227.0, 77005.0, 78091.0, 82324.0, 82922.0, 83035.0, 82783.0, 84030.0, 84071.0, 85763.0, 84905.0, 87025.0, 85583.0, 84756.0, 83892.0, 87536.0, 91064.0, 93335.0, 94662.0, 94783.0, 93424.0, 93737.0, 95793.0, 94394.0, 93305.0, 95384.0, 93380.0, 91584.0, 94124.0, 92516.0, 92338.0, 93721.0, 95312.0, 92750.0, 89409.0, 89822.0, 93626.0, 95686.0, 96782.0, 97623.0, 99421.0, 100073.0, 103903.0, 103361.0, 102196.0, 100950.0, 99630.0, 98200.0, 97085.0, 95855.0, 99406.0, 102231.0, 102782.0, 103034.0, 99826.0, 99868.0, 103438.0, 104696.0, 106356.0, 107127.0, 105261.0, 105367.0, 106312.0, 108190.0, 110133.0, 111896.0, 114964.0, 115645.0, 114952.0, 115503.0, 116906.0, 112825.0, 113467.0, 112134.0, 112661.0, 99951.0, 96886.0, 68488.0, 61691.0, 62161.0, 67802.0, 69556.0, 76405.0, 72041.0, 75327.0, 77640.0, 75697.0, 77571.0, 82193.0, 86837.0, 90811.0, 90148.0, 93259.0, 93825.0, 96768.0, 98289.0, 100859.0, 102381.0, 100005.0, 100187.0, 98513.0, 99359.0, 98961.0, 97758.0, 98045.0, 95632.0, 93408.0, 93984.0, 97336.0, 98310.0, 93387.0, 93968.0, 100954.0, 104729.0, 106050.0, 108829.0, 112567.0, 114431.0, 114730.0, 117805.0, 116756.0, 120374.0, 116109.0, 114887.0, 115093.0, 117970.0, 117867.0, 109827.0, 107319.0, 109343.0, 113370.0, 110927.0, 114096.0, 115262.0, 117661.0, 119203.0, 118894.0, 117631.0, 119458.0, 121595.0, 122526.0, 125540.0, 128678.0, 127576.0, 126697.0, 124994.0], \"open\": [52511.0, 52591.0, 52341.0, 49246.0, 50867.0, 48578.0, 47509.0, 45715.0, 47151.0, 46501.0, 46400.0, 47263.0, 44832.0, 47033.0, 49339.0, 47242.0, 47607.0, 45869.0, 46915.0, 46519.0, 48138.0, 45871.0, 45361.0, 45258.0, 43912.0, 44016.0, 43349.0, 40612.0, 38572.0, 38031.0, 40397.0, 40592.0, 39808.0, 41544.0, 41599.0, 49089.0, 49639.0, 50816.0, 49687.0, 50556.0, 50303.0, 53229.0, 52911.0, 53910.0, 51717.0, 51803.0, 49709.0, 49051.0, 50627.0, 49419.0, 49539.0, 50106.0, 52241.0, 53143.0, 55573.0, 57006.0, 57309.0, 57655.0, 58316.0, 59080.0, 57717.0, 59616.0, 57998.0, 57083.0, 58697.0, 58370.0, 61130.0, 61768.0, 64141.0, 64312.0, 61601.0, 59183.0, 59963.0, 61559.0, 60322.0, 60517.0, 58390.0, 57941.0, 60227.0, 61680.0, 63652.0, 64519.0, 66025.0, 64957.0, 66125.0, 67756.0, 66661.0, 66786.0, 64674.0, 64232.0, 63829.0, 64989.0, 64593.0, 62828.0, 63761.0, 65404.0, 65705.0, 68227.0, 62638.0, 64055.0, 62503.0, 62219.0, 61620.0, 61088.0, 62901.0, 62322.0, 65431.0, 64695.0, 65503.0, 66898.0, 67364.0, 68713.0, 71074.0, 71921.0, 73096.0, 75758.0, 75381.0, 74295.0, 76055.0, 76985.0, 76398.0, 75973.0, 73911.0, 72167.0, 73439.0, 74157.0, 72266.0, 72775.0, 72621.0, 75187.0, 76403.0, 79070.0, 79349.0, 81220.0, 85531.0, 84040.0, 80901.0, 84525.0, 87296.0, 85292.0, 86386.0, 84886.0, 84377.0, 85365.0, 84832.0, 84328.0, 85520.0, 86443.0, 83199.0, 85222.0, 83095.0, 78886.0, 77244.0, 72943.0, 70757.0, 70642.0, 72763.0, 75015.0, 76587.0, 78571.0, 79866.0, 81445.0, 76513.0, 76029.0, 76264.0, 76675.0, 76416.0, 75428.0, 79447.0, 79350.0, 82324.0, 82922.0, 84222.0, 85728.0, 88418.0, 85644.0, 88472.0, 86237.0, 89511.0, 88115.0, 87448.0, 85684.0, 87887.0, 91845.0, 93645.0, 96093.0, 97674.0, 97861.0, 95351.0, 97527.0, 97881.0, 94604.0, 95384.0, 99141.0, 93735.0, 95423.0, 97110.0, 92875.0, 94578.0, 96254.0, 95992.0, 94252.0, 90006.0, 93626.0, 97036.0, 97828.0, 98038.0, 102018.0, 100973.0, 104090.0, 103909.0, 103452.0, 102817.0, 102658.0, 103946.0, 99810.0, 97687.0, 101133.0, 102937.0, 103496.0, 104817.0, 105077.0, 102546.0, 103834.0, 104729.0, 107366.0, 108196.0, 107622.0, 106566.0, 108692.0, 108246.0, 111125.0, 112565.0, 115119.0, 116530.0, 117707.0, 115503.0, 118478.0, 118347.0, 113761.0, 113771.0, 114381.0, 113647.0, 104260.0, 97982.0, 82565.0, 67067.0, 73431.0, 69556.0, 77682.0, 78989.0, 75334.0, 80501.0, 80263.0, 77576.0, 82198.0, 87395.0, 94640.0, 92780.0, 96572.0, 93837.0, 96776.0, 100027.0, 102888.0, 102381.0, 102913.0, 102776.0, 101348.0, 101525.0, 102142.0, 101239.0, 98367.0, 98283.0, 97005.0, 94019.0, 97483.0, 98310.0, 101260.0, 93968.0, 100954.0, 104729.0, 106050.0, 110598.0, 113751.0, 115137.0, 118021.0, 117806.0, 119024.0, 125075.0, 120351.0, 117381.0, 115093.0, 120239.0, 119421.0, 118388.0, 110036.0, 115202.0, 114093.0, 116222.0, 114776.0, 115262.0, 117661.0, 121116.0, 120534.0, 118951.0, 122038.0, 121880.0, 122592.0, 125561.0, 130125.0, 129441.0, 128405.0, 127255.0], \"type\": \"candlestick\", \"x\": [\"2015-07-06\", \"2015-07-13\", \"2015-07-20\", \"2015-07-27\", \"2015-08-03\", \"2015-08-10\", \"2015-08-17\", \"2015-08-24\", \"2015-08-31\", \"2015-09-07\", \"2015-09-14\", \"2015-09-21\", \"2015-09-28\", \"2015-10-05\", \"2015-10-12\", \"2015-10-19\", \"2015-10-26\", \"2015-11-02\", \"2015-11-09\", \"2015-11-16\", \"2015-11-23\", \"2015-11-30\", \"2015-12-07\", \"2015-12-14\", \"2015-12-21\", \"2015-12-28\", \"2016-01-04\", \"2016-01-11\", \"2016-01-18\", \"2016-01-25\", \"2016-02-01\", \"2016-02-08\", \"2016-02-15\", \"2016-02-22\", \"2016-02-29\", \"2016-03-07\", \"2016-03-14\", \"2016-03-21\", \"2016-03-28\", \"2016-04-04\", \"2016-04-11\", \"2016-04-18\", \"2016-04-25\", \"2016-05-02\", \"2016-05-09\", \"2016-05-16\", \"2016-05-23\", \"2016-05-30\", \"2016-06-06\", \"2016-06-13\", \"2016-06-20\", \"2016-06-27\", \"2016-07-04\", \"2016-07-11\", \"2016-07-18\", \"2016-07-25\", \"2016-08-01\", \"2016-08-08\", \"2016-08-15\", \"2016-08-22\", \"2016-08-29\", \"2016-09-05\", \"2016-09-12\", \"2016-09-19\", \"2016-09-26\", \"2016-10-03\", \"2016-10-10\", \"2016-10-17\", \"2016-10-24\", \"2016-10-31\", \"2016-11-07\", \"2016-11-14\", \"2016-11-21\", \"2016-11-28\", \"2016-12-05\", \"2016-12-12\", \"2016-12-19\", \"2016-12-26\", \"2017-01-02\", \"2017-01-09\", \"2017-01-16\", \"2017-01-23\", \"2017-01-30\", \"2017-02-06\", \"2017-02-13\", \"2017-02-20\", \"2017-02-27\", \"2017-03-06\", \"2017-03-13\", \"2017-03-20\", \"2017-03-27\", \"2017-04-03\", \"2017-04-10\", \"2017-04-17\", \"2017-04-24\", \"2017-05-01\", \"2017-05-08\", \"2017-05-15\", \"2017-05-22\", \"2017-05-29\", \"2017-06-05\", \"2017-06-12\", \"2017-06-19\", \"2017-06-26\", \"2017-07-03\", \"2017-07-10\", \"2017-07-17\", \"2017-07-24\", \"2017-07-31\", \"2017-08-07\", \"2017-08-14\", \"2017-08-21\", \"2017-08-28\", \"2017-09-04\", \"2017-09-11\", \"2017-09-18\", \"2017-09-25\", \"2017-10-02\", \"2017-10-09\", \"2017-10-16\", \"2017-10-23\", \"2017-10-30\", \"2017-11-06\", \"2017-11-13\", \"2017-11-20\", \"2017-11-27\", \"2017-12-04\", \"2017-12-11\", \"2017-12-18\", \"2017-12-25\", \"2018-01-01\", \"2018-01-08\", \"2018-01-15\", \"2018-01-22\", \"2018-01-29\", \"2018-02-05\", \"2018-02-12\", \"2018-02-19\", \"2018-02-26\", \"2018-03-05\", \"2018-03-12\", \"2018-03-19\", \"2018-03-26\", \"2018-04-02\", \"2018-04-09\", \"2018-04-16\", \"2018-04-23\", \"2018-04-30\", \"2018-05-07\", \"2018-05-14\", \"2018-05-21\", \"2018-05-28\", \"2018-06-04\", \"2018-06-11\", \"2018-06-18\", \"2018-06-25\", \"2018-07-02\", \"2018-07-09\", \"2018-07-16\", \"2018-07-23\", \"2018-07-30\", \"2018-08-06\", \"2018-08-13\", \"2018-08-20\", \"2018-08-27\", \"2018-09-03\", \"2018-09-10\", \"2018-09-17\", \"2018-09-24\", \"2018-10-01\", \"2018-10-08\", \"2018-10-15\", \"2018-10-22\", \"2018-10-29\", \"2018-11-05\", \"2018-11-12\", \"2018-11-19\", \"2018-11-26\", \"2018-12-03\", \"2018-12-10\", \"2018-12-17\", \"2018-12-24\", \"2018-12-31\", \"2019-01-07\", \"2019-01-14\", \"2019-01-21\", \"2019-01-28\", \"2019-02-04\", \"2019-02-11\", \"2019-02-18\", \"2019-02-25\", \"2019-03-04\", \"2019-03-11\", \"2019-03-18\", \"2019-03-25\", \"2019-04-01\", \"2019-04-08\", \"2019-04-15\", \"2019-04-22\", \"2019-04-29\", \"2019-05-06\", \"2019-05-13\", \"2019-05-20\", \"2019-05-27\", \"2019-06-03\", \"2019-06-10\", \"2019-06-17\", \"2019-06-24\", \"2019-07-01\", \"2019-07-08\", \"2019-07-15\", \"2019-07-22\", \"2019-07-29\", \"2019-08-05\", \"2019-08-12\", \"2019-08-19\", \"2019-08-26\", \"2019-09-02\", \"2019-09-09\", \"2019-09-16\", \"2019-09-23\", \"2019-09-30\", \"2019-10-07\", \"2019-10-14\", \"2019-10-21\", \"2019-10-28\", \"2019-11-04\", \"2019-11-11\", \"2019-11-18\", \"2019-11-25\", \"2019-12-02\", \"2019-12-09\", \"2019-12-16\", \"2019-12-23\", \"2019-12-30\", \"2020-01-06\", \"2020-01-13\", \"2020-01-20\", \"2020-01-27\", \"2020-02-03\", \"2020-02-10\", \"2020-02-17\", \"2020-02-24\", \"2020-03-02\", \"2020-03-09\", \"2020-03-16\", \"2020-03-23\", \"2020-03-30\", \"2020-04-06\", \"2020-04-13\", \"2020-04-20\", \"2020-04-27\", \"2020-05-04\", \"2020-05-11\", \"2020-05-18\", \"2020-05-25\", \"2020-06-01\", \"2020-06-08\", \"2020-06-15\", \"2020-06-22\", \"2020-06-29\", \"2020-07-06\", \"2020-07-13\", \"2020-07-20\", \"2020-07-27\", \"2020-08-03\", \"2020-08-10\", \"2020-08-17\", \"2020-08-24\", \"2020-08-31\", \"2020-09-07\", \"2020-09-14\", \"2020-09-21\", \"2020-09-28\", \"2020-10-05\", \"2020-10-12\", \"2020-10-19\", \"2020-10-26\", \"2020-11-02\", \"2020-11-09\", \"2020-11-16\", \"2020-11-23\", \"2020-11-30\", \"2020-12-07\", \"2020-12-14\", \"2020-12-21\", \"2020-12-28\", \"2021-01-04\", \"2021-01-11\", \"2021-01-18\", \"2021-01-25\", \"2021-02-01\", \"2021-02-08\", \"2021-02-15\", \"2021-02-22\", \"2021-03-01\", \"2021-03-08\", \"2021-03-15\", \"2021-03-22\", \"2021-03-29\", \"2021-04-05\", \"2021-04-12\", \"2021-04-19\", \"2021-04-26\", \"2021-05-03\", \"2021-05-10\", \"2021-05-17\", \"2021-05-24\", \"2021-05-31\", \"2021-06-07\", \"2021-06-14\", \"2021-06-21\", \"2021-06-28\"]}],                        {\"annotations\": [{\"align\": \"center\", \"arrowhead\": 2, \"arrowsize\": 1, \"arrowwidth\": 2, \"bordercolor\": \"#c7c7c7\", \"borderpad\": 4, \"borderwidth\": 2, \"font\": {\"family\": \"Courier New, monospace\", \"size\": 12}, \"showarrow\": true, \"text\": \"Audio Joesley\", \"x\": \"2017-05-14\", \"xref\": \"x\", \"y\": 69000, \"yref\": \"y\"}, {\"align\": \"center\", \"arrowhead\": 2, \"arrowsize\": 1, \"arrowwidth\": 2, \"bordercolor\": \"#c7c7c7\", \"borderpad\": 4, \"borderwidth\": 2, \"font\": {\"family\": \"Courier New, monospace\", \"size\": 12}, \"showarrow\": true, \"text\": \"Impeachment Dilma\", \"x\": \"2016-01-01\", \"xref\": \"x\", \"y\": 47000, \"yref\": \"y\"}, {\"align\": \"center\", \"arrowhead\": 2, \"arrowsize\": 1, \"arrowwidth\": 2, \"bordercolor\": \"#c7c7c7\", \"borderpad\": 4, \"borderwidth\": 2, \"font\": {\"family\": \"Courier New, monospace\", \"size\": 12}, \"showarrow\": true, \"text\": \"Greve dos Caminhoneiros\", \"x\": \"2018-05-20\", \"xref\": \"x\", \"y\": 88000, \"yref\": \"y\"}, {\"align\": \"center\", \"arrowhead\": 2, \"arrowsize\": 1, \"arrowwidth\": 2, \"bordercolor\": \"#c7c7c7\", \"borderpad\": 4, \"borderwidth\": 2, \"font\": {\"family\": \"Courier New, monospace\", \"size\": 12.5}, \"showarrow\": true, \"text\": \"Corona Crash\", \"x\": \"2020-02-17\", \"xref\": \"x\", \"y\": 118000, \"yref\": \"y\"}], \"template\": {\"data\": {\"bar\": [{\"error_x\": {\"color\": \"#2a3f5f\"}, \"error_y\": {\"color\": \"#2a3f5f\"}, \"marker\": {\"line\": {\"color\": \"#E5ECF6\", \"width\": 0.5}}, \"type\": \"bar\"}], \"barpolar\": [{\"marker\": {\"line\": {\"color\": \"#E5ECF6\", \"width\": 0.5}}, \"type\": \"barpolar\"}], \"carpet\": [{\"aaxis\": {\"endlinecolor\": \"#2a3f5f\", \"gridcolor\": \"white\", \"linecolor\": \"white\", \"minorgridcolor\": \"white\", \"startlinecolor\": \"#2a3f5f\"}, \"baxis\": {\"endlinecolor\": \"#2a3f5f\", \"gridcolor\": \"white\", \"linecolor\": \"white\", \"minorgridcolor\": \"white\", \"startlinecolor\": \"#2a3f5f\"}, \"type\": \"carpet\"}], \"choropleth\": [{\"colorbar\": {\"outlinewidth\": 0, \"ticks\": \"\"}, \"type\": \"choropleth\"}], \"contour\": [{\"colorbar\": {\"outlinewidth\": 0, \"ticks\": \"\"}, \"colorscale\": [[0.0, \"#0d0887\"], [0.1111111111111111, \"#46039f\"], [0.2222222222222222, \"#7201a8\"], [0.3333333333333333, \"#9c179e\"], [0.4444444444444444, \"#bd3786\"], [0.5555555555555556, \"#d8576b\"], [0.6666666666666666, \"#ed7953\"], [0.7777777777777778, \"#fb9f3a\"], [0.8888888888888888, \"#fdca26\"], [1.0, \"#f0f921\"]], \"type\": \"contour\"}], \"contourcarpet\": [{\"colorbar\": {\"outlinewidth\": 0, \"ticks\": \"\"}, \"type\": \"contourcarpet\"}], \"heatmap\": [{\"colorbar\": {\"outlinewidth\": 0, \"ticks\": \"\"}, \"colorscale\": [[0.0, \"#0d0887\"], [0.1111111111111111, \"#46039f\"], [0.2222222222222222, \"#7201a8\"], [0.3333333333333333, \"#9c179e\"], [0.4444444444444444, \"#bd3786\"], [0.5555555555555556, \"#d8576b\"], [0.6666666666666666, \"#ed7953\"], [0.7777777777777778, \"#fb9f3a\"], [0.8888888888888888, \"#fdca26\"], [1.0, \"#f0f921\"]], \"type\": \"heatmap\"}], \"heatmapgl\": [{\"colorbar\": {\"outlinewidth\": 0, \"ticks\": \"\"}, \"colorscale\": [[0.0, \"#0d0887\"], [0.1111111111111111, \"#46039f\"], [0.2222222222222222, \"#7201a8\"], [0.3333333333333333, \"#9c179e\"], [0.4444444444444444, \"#bd3786\"], [0.5555555555555556, \"#d8576b\"], [0.6666666666666666, \"#ed7953\"], [0.7777777777777778, \"#fb9f3a\"], [0.8888888888888888, \"#fdca26\"], [1.0, \"#f0f921\"]], \"type\": \"heatmapgl\"}], \"histogram\": [{\"marker\": {\"colorbar\": {\"outlinewidth\": 0, \"ticks\": \"\"}}, \"type\": \"histogram\"}], \"histogram2d\": [{\"colorbar\": {\"outlinewidth\": 0, \"ticks\": \"\"}, \"colorscale\": [[0.0, \"#0d0887\"], [0.1111111111111111, \"#46039f\"], [0.2222222222222222, \"#7201a8\"], [0.3333333333333333, \"#9c179e\"], [0.4444444444444444, \"#bd3786\"], [0.5555555555555556, \"#d8576b\"], [0.6666666666666666, \"#ed7953\"], [0.7777777777777778, \"#fb9f3a\"], [0.8888888888888888, \"#fdca26\"], [1.0, \"#f0f921\"]], \"type\": \"histogram2d\"}], \"histogram2dcontour\": [{\"colorbar\": {\"outlinewidth\": 0, \"ticks\": \"\"}, \"colorscale\": [[0.0, \"#0d0887\"], [0.1111111111111111, \"#46039f\"], [0.2222222222222222, \"#7201a8\"], [0.3333333333333333, \"#9c179e\"], [0.4444444444444444, \"#bd3786\"], [0.5555555555555556, \"#d8576b\"], [0.6666666666666666, \"#ed7953\"], [0.7777777777777778, \"#fb9f3a\"], [0.8888888888888888, \"#fdca26\"], [1.0, \"#f0f921\"]], \"type\": \"histogram2dcontour\"}], \"mesh3d\": [{\"colorbar\": {\"outlinewidth\": 0, \"ticks\": \"\"}, \"type\": \"mesh3d\"}], \"parcoords\": [{\"line\": {\"colorbar\": {\"outlinewidth\": 0, \"ticks\": \"\"}}, \"type\": \"parcoords\"}], \"pie\": [{\"automargin\": true, \"type\": \"pie\"}], \"scatter\": [{\"marker\": {\"colorbar\": {\"outlinewidth\": 0, \"ticks\": \"\"}}, \"type\": \"scatter\"}], \"scatter3d\": [{\"line\": {\"colorbar\": {\"outlinewidth\": 0, \"ticks\": \"\"}}, \"marker\": {\"colorbar\": {\"outlinewidth\": 0, \"ticks\": \"\"}}, \"type\": \"scatter3d\"}], \"scattercarpet\": [{\"marker\": {\"colorbar\": {\"outlinewidth\": 0, \"ticks\": \"\"}}, \"type\": \"scattercarpet\"}], \"scattergeo\": [{\"marker\": {\"colorbar\": {\"outlinewidth\": 0, \"ticks\": \"\"}}, \"type\": \"scattergeo\"}], \"scattergl\": [{\"marker\": {\"colorbar\": {\"outlinewidth\": 0, \"ticks\": \"\"}}, \"type\": \"scattergl\"}], \"scattermapbox\": [{\"marker\": {\"colorbar\": {\"outlinewidth\": 0, \"ticks\": \"\"}}, \"type\": \"scattermapbox\"}], \"scatterpolar\": [{\"marker\": {\"colorbar\": {\"outlinewidth\": 0, \"ticks\": \"\"}}, \"type\": \"scatterpolar\"}], \"scatterpolargl\": [{\"marker\": {\"colorbar\": {\"outlinewidth\": 0, \"ticks\": \"\"}}, \"type\": \"scatterpolargl\"}], \"scatterternary\": [{\"marker\": {\"colorbar\": {\"outlinewidth\": 0, \"ticks\": \"\"}}, \"type\": \"scatterternary\"}], \"surface\": [{\"colorbar\": {\"outlinewidth\": 0, \"ticks\": \"\"}, \"colorscale\": [[0.0, \"#0d0887\"], [0.1111111111111111, \"#46039f\"], [0.2222222222222222, \"#7201a8\"], [0.3333333333333333, \"#9c179e\"], [0.4444444444444444, \"#bd3786\"], [0.5555555555555556, \"#d8576b\"], [0.6666666666666666, \"#ed7953\"], [0.7777777777777778, \"#fb9f3a\"], [0.8888888888888888, \"#fdca26\"], [1.0, \"#f0f921\"]], \"type\": \"surface\"}], \"table\": [{\"cells\": {\"fill\": {\"color\": \"#EBF0F8\"}, \"line\": {\"color\": \"white\"}}, \"header\": {\"fill\": {\"color\": \"#C8D4E3\"}, \"line\": {\"color\": \"white\"}}, \"type\": \"table\"}]}, \"layout\": {\"annotationdefaults\": {\"arrowcolor\": \"#2a3f5f\", \"arrowhead\": 0, \"arrowwidth\": 1}, \"autotypenumbers\": \"strict\", \"coloraxis\": {\"colorbar\": {\"outlinewidth\": 0, \"ticks\": \"\"}}, \"colorscale\": {\"diverging\": [[0, \"#8e0152\"], [0.1, \"#c51b7d\"], [0.2, \"#de77ae\"], [0.3, \"#f1b6da\"], [0.4, \"#fde0ef\"], [0.5, \"#f7f7f7\"], [0.6, \"#e6f5d0\"], [0.7, \"#b8e186\"], [0.8, \"#7fbc41\"], [0.9, \"#4d9221\"], [1, \"#276419\"]], \"sequential\": [[0.0, \"#0d0887\"], [0.1111111111111111, \"#46039f\"], [0.2222222222222222, \"#7201a8\"], [0.3333333333333333, \"#9c179e\"], [0.4444444444444444, \"#bd3786\"], [0.5555555555555556, \"#d8576b\"], [0.6666666666666666, \"#ed7953\"], [0.7777777777777778, \"#fb9f3a\"], [0.8888888888888888, \"#fdca26\"], [1.0, \"#f0f921\"]], \"sequentialminus\": [[0.0, \"#0d0887\"], [0.1111111111111111, \"#46039f\"], [0.2222222222222222, \"#7201a8\"], [0.3333333333333333, \"#9c179e\"], [0.4444444444444444, \"#bd3786\"], [0.5555555555555556, \"#d8576b\"], [0.6666666666666666, \"#ed7953\"], [0.7777777777777778, \"#fb9f3a\"], [0.8888888888888888, \"#fdca26\"], [1.0, \"#f0f921\"]]}, \"colorway\": [\"#636efa\", \"#EF553B\", \"#00cc96\", \"#ab63fa\", \"#FFA15A\", \"#19d3f3\", \"#FF6692\", \"#B6E880\", \"#FF97FF\", \"#FECB52\"], \"font\": {\"color\": \"#2a3f5f\"}, \"geo\": {\"bgcolor\": \"white\", \"lakecolor\": \"white\", \"landcolor\": \"#E5ECF6\", \"showlakes\": true, \"showland\": true, \"subunitcolor\": \"white\"}, \"hoverlabel\": {\"align\": \"left\"}, \"hovermode\": \"closest\", \"mapbox\": {\"style\": \"light\"}, \"paper_bgcolor\": \"white\", \"plot_bgcolor\": \"#E5ECF6\", \"polar\": {\"angularaxis\": {\"gridcolor\": \"white\", \"linecolor\": \"white\", \"ticks\": \"\"}, \"bgcolor\": \"#E5ECF6\", \"radialaxis\": {\"gridcolor\": \"white\", \"linecolor\": \"white\", \"ticks\": \"\"}}, \"scene\": {\"xaxis\": {\"backgroundcolor\": \"#E5ECF6\", \"gridcolor\": \"white\", \"gridwidth\": 2, \"linecolor\": \"white\", \"showbackground\": true, \"ticks\": \"\", \"zerolinecolor\": \"white\"}, \"yaxis\": {\"backgroundcolor\": \"#E5ECF6\", \"gridcolor\": \"white\", \"gridwidth\": 2, \"linecolor\": \"white\", \"showbackground\": true, \"ticks\": \"\", \"zerolinecolor\": \"white\"}, \"zaxis\": {\"backgroundcolor\": \"#E5ECF6\", \"gridcolor\": \"white\", \"gridwidth\": 2, \"linecolor\": \"white\", \"showbackground\": true, \"ticks\": \"\", \"zerolinecolor\": \"white\"}}, \"shapedefaults\": {\"line\": {\"color\": \"#2a3f5f\"}}, \"ternary\": {\"aaxis\": {\"gridcolor\": \"white\", \"linecolor\": \"white\", \"ticks\": \"\"}, \"baxis\": {\"gridcolor\": \"white\", \"linecolor\": \"white\", \"ticks\": \"\"}, \"bgcolor\": \"#E5ECF6\", \"caxis\": {\"gridcolor\": \"white\", \"linecolor\": \"white\", \"ticks\": \"\"}}, \"title\": {\"x\": 0.05}, \"xaxis\": {\"automargin\": true, \"gridcolor\": \"white\", \"linecolor\": \"white\", \"ticks\": \"\", \"title\": {\"standoff\": 15}, \"zerolinecolor\": \"white\", \"zerolinewidth\": 2}, \"yaxis\": {\"automargin\": true, \"gridcolor\": \"white\", \"linecolor\": \"white\", \"ticks\": \"\", \"title\": {\"standoff\": 15}, \"zerolinecolor\": \"white\", \"zerolinewidth\": 2}}}, \"title\": {\"text\": \"IBOV Pre\\u00e7os no Periodo\", \"x\": 0.5}, \"yaxis\": {\"title\": {\"text\": \"IBOV Pre\\u00e7o\"}}},                        {\"responsive\": true}                    ).then(function(){\n",
       "                            \n",
       "var gd = document.getElementById('883e9a7c-cdcc-40f7-9e0e-8e8cb711dc9e');\n",
       "var x = new MutationObserver(function (mutations, observer) {{\n",
       "        var display = window.getComputedStyle(gd).display;\n",
       "        if (!display || display === 'none') {{\n",
       "            console.log([gd, 'removed!']);\n",
       "            Plotly.purge(gd);\n",
       "            observer.disconnect();\n",
       "        }}\n",
       "}});\n",
       "\n",
       "// Listen for the removal of the full notebook cells\n",
       "var notebookContainer = gd.closest('#notebook-container');\n",
       "if (notebookContainer) {{\n",
       "    x.observe(notebookContainer, {childList: true});\n",
       "}}\n",
       "\n",
       "// Listen for the clearing of the current output cell\n",
       "var outputEl = gd.closest('.output');\n",
       "if (outputEl) {{\n",
       "    x.observe(outputEl, {childList: true});\n",
       "}}\n",
       "\n",
       "                        })                };                });            </script>        </div>"
      ]
     },
     "metadata": {},
     "output_type": "display_data"
    }
   ],
   "source": [
    "trace = go.Candlestick(x=df['Date'],\n",
    "                       open=df['Open'],\n",
    "                       high=df['High'],\n",
    "                       low=df['Low'],\n",
    "                       close=df['Close']\n",
    "                      )\n",
    "\n",
    "data = [trace]\n",
    "\n",
    "layout ={'title': 'IBOV Preços no Periodo',\n",
    "         'title_x': 0.5,\n",
    "         'yaxis': {'title': 'IBOV Preço'},\n",
    "         'annotations': [{'x': '2017-05-14',\n",
    "                          'y': 69000,\n",
    "                          'xref': 'x',\n",
    "                          'yref': 'y',\n",
    "                          'showarrow': True,\n",
    "                          'font':dict(family=\"Courier New, monospace\",size=12),\n",
    "                          'text': 'Audio Joesley',\n",
    "                          'align':\"center\",\n",
    "                          'arrowhead':2,\n",
    "                          'arrowsize':1,\n",
    "                          'arrowwidth':2,\n",
    "                          'bordercolor':\"#c7c7c7\",\n",
    "                          'borderwidth':2,\n",
    "                          'borderpad':4},\n",
    "                         \n",
    "                         {'x': '2016-01-01',\n",
    "                          'y': 47000,\n",
    "                          'xref': 'x',\n",
    "                          'yref': 'y',\n",
    "                          'showarrow': True,\n",
    "                          'font':dict(family=\"Courier New, monospace\", size=12),\n",
    "                          'text': 'Impeachment Dilma',\n",
    "                          'align':\"center\",\n",
    "                          'arrowhead':2,\n",
    "                          'arrowsize':1,\n",
    "                          'arrowwidth':2,\n",
    "                          'bordercolor':\"#c7c7c7\",\n",
    "                          'borderwidth':2,\n",
    "                          'borderpad':4},\n",
    "                         \n",
    "                         {'x': '2018-05-20',\n",
    "                          'y': 88000,\n",
    "                          'xref': 'x',\n",
    "                          'yref': 'y',\n",
    "                          'showarrow': True,\n",
    "                          'font':dict(family=\"Courier New, monospace\", size=12),\n",
    "                          'text': 'Greve dos Caminhoneiros',\n",
    "                          'align':\"center\",\n",
    "                          'arrowhead':2,\n",
    "                          'arrowsize':1,\n",
    "                          'arrowwidth':2,\n",
    "                          'bordercolor':\"#c7c7c7\",\n",
    "                          'borderwidth':2,\n",
    "                          'borderpad':4},\n",
    "                         \n",
    "                         {'x': '2020-02-17',\n",
    "                          'y': 118000,\n",
    "                          'xref': 'x',\n",
    "                          'yref': 'y',\n",
    "                          'showarrow': True,\n",
    "                          'font':dict(family=\"Courier New, monospace\", size=12.5),\n",
    "                          'text': 'Corona Crash',\n",
    "                          'align':\"center\",\n",
    "                          'arrowhead':2,\n",
    "                          'arrowsize':1,\n",
    "                          'arrowwidth':2,\n",
    "                          'bordercolor':\"#c7c7c7\",\n",
    "                          'borderwidth':2,\n",
    "                          'borderpad':4}]\n",
    "        }\n",
    "\n",
    "fig = dict(data=data, layout=layout)\n",
    "\n",
    "py.iplot(fig)"
   ]
  },
  {
   "cell_type": "markdown",
   "id": "85a3732b",
   "metadata": {},
   "source": [
    "**Calculo das médias para adiciona-las ao gráfico**"
   ]
  },
  {
   "cell_type": "code",
   "execution_count": 11,
   "id": "ee2bd793",
   "metadata": {},
   "outputs": [],
   "source": [
    "# Média simples de 9 dias\n",
    "df['MM_9'] = df.Close.rolling(window=9).mean()\n",
    "\n",
    "# Média simples de 17 dias\n",
    "df['MM_17'] = df.Close.rolling(window=17).mean()"
   ]
  },
  {
   "cell_type": "markdown",
   "id": "4a68f572",
   "metadata": {},
   "source": [
    "**Gráfico de linha juntamente com as duas médias**"
   ]
  },
  {
   "cell_type": "code",
   "execution_count": 12,
   "id": "bce55263",
   "metadata": {},
   "outputs": [
    {
     "data": {
      "application/vnd.plotly.v1+json": {
       "config": {
        "linkText": "Export to plotly.com",
        "plotlyServerURL": "https://plotly.com",
        "showLink": false
       },
       "data": [
        {
         "line": {
          "color": "#330000"
         },
         "name": "IBOV Close",
         "opacity": 0.8,
         "type": "scatter",
         "x": [
          "2015-07-06",
          "2015-07-13",
          "2015-07-20",
          "2015-07-27",
          "2015-08-03",
          "2015-08-10",
          "2015-08-17",
          "2015-08-24",
          "2015-08-31",
          "2015-09-07",
          "2015-09-14",
          "2015-09-21",
          "2015-09-28",
          "2015-10-05",
          "2015-10-12",
          "2015-10-19",
          "2015-10-26",
          "2015-11-02",
          "2015-11-09",
          "2015-11-16",
          "2015-11-23",
          "2015-11-30",
          "2015-12-07",
          "2015-12-14",
          "2015-12-21",
          "2015-12-28",
          "2016-01-04",
          "2016-01-11",
          "2016-01-18",
          "2016-01-25",
          "2016-02-01",
          "2016-02-08",
          "2016-02-15",
          "2016-02-22",
          "2016-02-29",
          "2016-03-07",
          "2016-03-14",
          "2016-03-21",
          "2016-03-28",
          "2016-04-04",
          "2016-04-11",
          "2016-04-18",
          "2016-04-25",
          "2016-05-02",
          "2016-05-09",
          "2016-05-16",
          "2016-05-23",
          "2016-05-30",
          "2016-06-06",
          "2016-06-13",
          "2016-06-20",
          "2016-06-27",
          "2016-07-04",
          "2016-07-11",
          "2016-07-18",
          "2016-07-25",
          "2016-08-01",
          "2016-08-08",
          "2016-08-15",
          "2016-08-22",
          "2016-08-29",
          "2016-09-05",
          "2016-09-12",
          "2016-09-19",
          "2016-09-26",
          "2016-10-03",
          "2016-10-10",
          "2016-10-17",
          "2016-10-24",
          "2016-10-31",
          "2016-11-07",
          "2016-11-14",
          "2016-11-21",
          "2016-11-28",
          "2016-12-05",
          "2016-12-12",
          "2016-12-19",
          "2016-12-26",
          "2017-01-02",
          "2017-01-09",
          "2017-01-16",
          "2017-01-23",
          "2017-01-30",
          "2017-02-06",
          "2017-02-13",
          "2017-02-20",
          "2017-02-27",
          "2017-03-06",
          "2017-03-13",
          "2017-03-20",
          "2017-03-27",
          "2017-04-03",
          "2017-04-10",
          "2017-04-17",
          "2017-04-24",
          "2017-05-01",
          "2017-05-08",
          "2017-05-15",
          "2017-05-22",
          "2017-05-29",
          "2017-06-05",
          "2017-06-12",
          "2017-06-19",
          "2017-06-26",
          "2017-07-03",
          "2017-07-10",
          "2017-07-17",
          "2017-07-24",
          "2017-07-31",
          "2017-08-07",
          "2017-08-14",
          "2017-08-21",
          "2017-08-28",
          "2017-09-04",
          "2017-09-11",
          "2017-09-18",
          "2017-09-25",
          "2017-10-02",
          "2017-10-09",
          "2017-10-16",
          "2017-10-23",
          "2017-10-30",
          "2017-11-06",
          "2017-11-13",
          "2017-11-20",
          "2017-11-27",
          "2017-12-04",
          "2017-12-11",
          "2017-12-18",
          "2017-12-25",
          "2018-01-01",
          "2018-01-08",
          "2018-01-15",
          "2018-01-22",
          "2018-01-29",
          "2018-02-05",
          "2018-02-12",
          "2018-02-19",
          "2018-02-26",
          "2018-03-05",
          "2018-03-12",
          "2018-03-19",
          "2018-03-26",
          "2018-04-02",
          "2018-04-09",
          "2018-04-16",
          "2018-04-23",
          "2018-04-30",
          "2018-05-07",
          "2018-05-14",
          "2018-05-21",
          "2018-05-28",
          "2018-06-04",
          "2018-06-11",
          "2018-06-18",
          "2018-06-25",
          "2018-07-02",
          "2018-07-09",
          "2018-07-16",
          "2018-07-23",
          "2018-07-30",
          "2018-08-06",
          "2018-08-13",
          "2018-08-20",
          "2018-08-27",
          "2018-09-03",
          "2018-09-10",
          "2018-09-17",
          "2018-09-24",
          "2018-10-01",
          "2018-10-08",
          "2018-10-15",
          "2018-10-22",
          "2018-10-29",
          "2018-11-05",
          "2018-11-12",
          "2018-11-19",
          "2018-11-26",
          "2018-12-03",
          "2018-12-10",
          "2018-12-17",
          "2018-12-24",
          "2018-12-31",
          "2019-01-07",
          "2019-01-14",
          "2019-01-21",
          "2019-01-28",
          "2019-02-04",
          "2019-02-11",
          "2019-02-18",
          "2019-02-25",
          "2019-03-04",
          "2019-03-11",
          "2019-03-18",
          "2019-03-25",
          "2019-04-01",
          "2019-04-08",
          "2019-04-15",
          "2019-04-22",
          "2019-04-29",
          "2019-05-06",
          "2019-05-13",
          "2019-05-20",
          "2019-05-27",
          "2019-06-03",
          "2019-06-10",
          "2019-06-17",
          "2019-06-24",
          "2019-07-01",
          "2019-07-08",
          "2019-07-15",
          "2019-07-22",
          "2019-07-29",
          "2019-08-05",
          "2019-08-12",
          "2019-08-19",
          "2019-08-26",
          "2019-09-02",
          "2019-09-09",
          "2019-09-16",
          "2019-09-23",
          "2019-09-30",
          "2019-10-07",
          "2019-10-14",
          "2019-10-21",
          "2019-10-28",
          "2019-11-04",
          "2019-11-11",
          "2019-11-18",
          "2019-11-25",
          "2019-12-02",
          "2019-12-09",
          "2019-12-16",
          "2019-12-23",
          "2019-12-30",
          "2020-01-06",
          "2020-01-13",
          "2020-01-20",
          "2020-01-27",
          "2020-02-03",
          "2020-02-10",
          "2020-02-17",
          "2020-02-24",
          "2020-03-02",
          "2020-03-09",
          "2020-03-16",
          "2020-03-23",
          "2020-03-30",
          "2020-04-06",
          "2020-04-13",
          "2020-04-20",
          "2020-04-27",
          "2020-05-04",
          "2020-05-11",
          "2020-05-18",
          "2020-05-25",
          "2020-06-01",
          "2020-06-08",
          "2020-06-15",
          "2020-06-22",
          "2020-06-29",
          "2020-07-06",
          "2020-07-13",
          "2020-07-20",
          "2020-07-27",
          "2020-08-03",
          "2020-08-10",
          "2020-08-17",
          "2020-08-24",
          "2020-08-31",
          "2020-09-07",
          "2020-09-14",
          "2020-09-21",
          "2020-09-28",
          "2020-10-05",
          "2020-10-12",
          "2020-10-19",
          "2020-10-26",
          "2020-11-02",
          "2020-11-09",
          "2020-11-16",
          "2020-11-23",
          "2020-11-30",
          "2020-12-07",
          "2020-12-14",
          "2020-12-21",
          "2020-12-28",
          "2021-01-04",
          "2021-01-11",
          "2021-01-18",
          "2021-01-25",
          "2021-02-01",
          "2021-02-08",
          "2021-02-15",
          "2021-02-22",
          "2021-03-01",
          "2021-03-08",
          "2021-03-15",
          "2021-03-22",
          "2021-03-29",
          "2021-04-05",
          "2021-04-12",
          "2021-04-19",
          "2021-04-26",
          "2021-05-03",
          "2021-05-10",
          "2021-05-17",
          "2021-05-24",
          "2021-05-31",
          "2021-06-07",
          "2021-06-14",
          "2021-06-21",
          "2021-06-28"
         ],
         "y": [
          52591,
          52342,
          49246,
          50865,
          48577,
          47508,
          45720,
          47154,
          46498,
          46401,
          47264,
          44831,
          47033,
          49338,
          47236,
          47597,
          45869,
          46919,
          46517,
          48139,
          45873,
          45361,
          45263,
          43911,
          44015,
          43350,
          40612,
          38569,
          38031,
          40406,
          40592,
          39808,
          41543,
          41593,
          49085,
          49639,
          50815,
          49657,
          50562,
          50293,
          53228,
          52908,
          53911,
          51718,
          51804,
          49723,
          49051,
          50619,
          49422,
          49534,
          50105,
          52233,
          53141,
          55578,
          57002,
          57308,
          57661,
          58298,
          59099,
          57716,
          59616,
          58000,
          57080,
          58697,
          58367,
          61109,
          61767,
          64108,
          64308,
          61598,
          59184,
          59962,
          61559,
          60316,
          60501,
          58389,
          57937,
          60227,
          61665,
          63652,
          64521,
          66034,
          64954,
          66125,
          67748,
          66662,
          66786,
          64675,
          64210,
          63854,
          64984,
          64593,
          62826,
          63761,
          65403,
          65710,
          68222,
          62639,
          64085,
          62511,
          62211,
          61626,
          61087,
          62900,
          62322,
          65436,
          64684,
          65497,
          66898,
          67359,
          68715,
          71074,
          71923,
          73079,
          75757,
          75390,
          74294,
          76055,
          76990,
          76391,
          75976,
          73915,
          72166,
          73437,
          74157,
          72264,
          72732,
          72608,
          75187,
          76402,
          79071,
          79349,
          81220,
          85531,
          84041,
          80899,
          84525,
          87293,
          85761,
          86371,
          84886,
          84377,
          85366,
          84820,
          84334,
          85550,
          86445,
          83118,
          85220,
          83082,
          78898,
          77240,
          72942,
          70758,
          70641,
          72763,
          75010,
          76594,
          78571,
          79866,
          81435,
          76514,
          76029,
          76262,
          76678,
          76416,
          75429,
          79444,
          79342,
          82322,
          82921,
          84220,
          85720,
          88419,
          85641,
          88515,
          86230,
          89504,
          88115,
          87450,
          85697,
          87887,
          91841,
          93658,
          96097,
          97677,
          97861,
          95343,
          97526,
          97886,
          94604,
          95365,
          99137,
          93735,
          95415,
          97108,
          92875,
          94578,
          96236,
          96008,
          94258,
          89993,
          93628,
          97030,
          97821,
          98040,
          102013,
          100967,
          104089,
          103906,
          103452,
          102819,
          102674,
          103996,
          99806,
          97667,
          101135,
          102935,
          103501,
          104817,
          105078,
          102551,
          103832,
          104729,
          107364,
          108196,
          107629,
          106557,
          108692,
          108233,
          111126,
          112565,
          115121,
          116534,
          117707,
          115503,
          118478,
          118376,
          113761,
          113770,
          114381,
          113681,
          104172,
          97997,
          82678,
          67069,
          73429,
          69538,
          77682,
          78990,
          75331,
          80506,
          80263,
          77557,
          82173,
          87403,
          94637,
          92795,
          96572,
          93834,
          96765,
          100032,
          102888,
          102382,
          102912,
          102776,
          101353,
          101521,
          102143,
          101242,
          98363,
          98290,
          96999,
          94016,
          97483,
          98309,
          101260,
          93952,
          100799,
          104512,
          106042,
          110575,
          113682,
          115323,
          117679,
          117857,
          119306,
          125077,
          120502,
          117172,
          116007,
          119925,
          119116,
          118748,
          110035,
          115202,
          114160,
          116222,
          114781,
          115253,
          117670,
          121114,
          120530,
          118894,
          122038,
          121881,
          122592,
          125561,
          130126,
          129441,
          128405,
          127256,
          127622
         ]
        },
        {
         "line": {
          "color": "#B2FF66"
         },
         "name": "Média Móvel 9 Períodos",
         "opacity": 0.8,
         "type": "scatter",
         "x": [
          "2015-07-06",
          "2015-07-13",
          "2015-07-20",
          "2015-07-27",
          "2015-08-03",
          "2015-08-10",
          "2015-08-17",
          "2015-08-24",
          "2015-08-31",
          "2015-09-07",
          "2015-09-14",
          "2015-09-21",
          "2015-09-28",
          "2015-10-05",
          "2015-10-12",
          "2015-10-19",
          "2015-10-26",
          "2015-11-02",
          "2015-11-09",
          "2015-11-16",
          "2015-11-23",
          "2015-11-30",
          "2015-12-07",
          "2015-12-14",
          "2015-12-21",
          "2015-12-28",
          "2016-01-04",
          "2016-01-11",
          "2016-01-18",
          "2016-01-25",
          "2016-02-01",
          "2016-02-08",
          "2016-02-15",
          "2016-02-22",
          "2016-02-29",
          "2016-03-07",
          "2016-03-14",
          "2016-03-21",
          "2016-03-28",
          "2016-04-04",
          "2016-04-11",
          "2016-04-18",
          "2016-04-25",
          "2016-05-02",
          "2016-05-09",
          "2016-05-16",
          "2016-05-23",
          "2016-05-30",
          "2016-06-06",
          "2016-06-13",
          "2016-06-20",
          "2016-06-27",
          "2016-07-04",
          "2016-07-11",
          "2016-07-18",
          "2016-07-25",
          "2016-08-01",
          "2016-08-08",
          "2016-08-15",
          "2016-08-22",
          "2016-08-29",
          "2016-09-05",
          "2016-09-12",
          "2016-09-19",
          "2016-09-26",
          "2016-10-03",
          "2016-10-10",
          "2016-10-17",
          "2016-10-24",
          "2016-10-31",
          "2016-11-07",
          "2016-11-14",
          "2016-11-21",
          "2016-11-28",
          "2016-12-05",
          "2016-12-12",
          "2016-12-19",
          "2016-12-26",
          "2017-01-02",
          "2017-01-09",
          "2017-01-16",
          "2017-01-23",
          "2017-01-30",
          "2017-02-06",
          "2017-02-13",
          "2017-02-20",
          "2017-02-27",
          "2017-03-06",
          "2017-03-13",
          "2017-03-20",
          "2017-03-27",
          "2017-04-03",
          "2017-04-10",
          "2017-04-17",
          "2017-04-24",
          "2017-05-01",
          "2017-05-08",
          "2017-05-15",
          "2017-05-22",
          "2017-05-29",
          "2017-06-05",
          "2017-06-12",
          "2017-06-19",
          "2017-06-26",
          "2017-07-03",
          "2017-07-10",
          "2017-07-17",
          "2017-07-24",
          "2017-07-31",
          "2017-08-07",
          "2017-08-14",
          "2017-08-21",
          "2017-08-28",
          "2017-09-04",
          "2017-09-11",
          "2017-09-18",
          "2017-09-25",
          "2017-10-02",
          "2017-10-09",
          "2017-10-16",
          "2017-10-23",
          "2017-10-30",
          "2017-11-06",
          "2017-11-13",
          "2017-11-20",
          "2017-11-27",
          "2017-12-04",
          "2017-12-11",
          "2017-12-18",
          "2017-12-25",
          "2018-01-01",
          "2018-01-08",
          "2018-01-15",
          "2018-01-22",
          "2018-01-29",
          "2018-02-05",
          "2018-02-12",
          "2018-02-19",
          "2018-02-26",
          "2018-03-05",
          "2018-03-12",
          "2018-03-19",
          "2018-03-26",
          "2018-04-02",
          "2018-04-09",
          "2018-04-16",
          "2018-04-23",
          "2018-04-30",
          "2018-05-07",
          "2018-05-14",
          "2018-05-21",
          "2018-05-28",
          "2018-06-04",
          "2018-06-11",
          "2018-06-18",
          "2018-06-25",
          "2018-07-02",
          "2018-07-09",
          "2018-07-16",
          "2018-07-23",
          "2018-07-30",
          "2018-08-06",
          "2018-08-13",
          "2018-08-20",
          "2018-08-27",
          "2018-09-03",
          "2018-09-10",
          "2018-09-17",
          "2018-09-24",
          "2018-10-01",
          "2018-10-08",
          "2018-10-15",
          "2018-10-22",
          "2018-10-29",
          "2018-11-05",
          "2018-11-12",
          "2018-11-19",
          "2018-11-26",
          "2018-12-03",
          "2018-12-10",
          "2018-12-17",
          "2018-12-24",
          "2018-12-31",
          "2019-01-07",
          "2019-01-14",
          "2019-01-21",
          "2019-01-28",
          "2019-02-04",
          "2019-02-11",
          "2019-02-18",
          "2019-02-25",
          "2019-03-04",
          "2019-03-11",
          "2019-03-18",
          "2019-03-25",
          "2019-04-01",
          "2019-04-08",
          "2019-04-15",
          "2019-04-22",
          "2019-04-29",
          "2019-05-06",
          "2019-05-13",
          "2019-05-20",
          "2019-05-27",
          "2019-06-03",
          "2019-06-10",
          "2019-06-17",
          "2019-06-24",
          "2019-07-01",
          "2019-07-08",
          "2019-07-15",
          "2019-07-22",
          "2019-07-29",
          "2019-08-05",
          "2019-08-12",
          "2019-08-19",
          "2019-08-26",
          "2019-09-02",
          "2019-09-09",
          "2019-09-16",
          "2019-09-23",
          "2019-09-30",
          "2019-10-07",
          "2019-10-14",
          "2019-10-21",
          "2019-10-28",
          "2019-11-04",
          "2019-11-11",
          "2019-11-18",
          "2019-11-25",
          "2019-12-02",
          "2019-12-09",
          "2019-12-16",
          "2019-12-23",
          "2019-12-30",
          "2020-01-06",
          "2020-01-13",
          "2020-01-20",
          "2020-01-27",
          "2020-02-03",
          "2020-02-10",
          "2020-02-17",
          "2020-02-24",
          "2020-03-02",
          "2020-03-09",
          "2020-03-16",
          "2020-03-23",
          "2020-03-30",
          "2020-04-06",
          "2020-04-13",
          "2020-04-20",
          "2020-04-27",
          "2020-05-04",
          "2020-05-11",
          "2020-05-18",
          "2020-05-25",
          "2020-06-01",
          "2020-06-08",
          "2020-06-15",
          "2020-06-22",
          "2020-06-29",
          "2020-07-06",
          "2020-07-13",
          "2020-07-20",
          "2020-07-27",
          "2020-08-03",
          "2020-08-10",
          "2020-08-17",
          "2020-08-24",
          "2020-08-31",
          "2020-09-07",
          "2020-09-14",
          "2020-09-21",
          "2020-09-28",
          "2020-10-05",
          "2020-10-12",
          "2020-10-19",
          "2020-10-26",
          "2020-11-02",
          "2020-11-09",
          "2020-11-16",
          "2020-11-23",
          "2020-11-30",
          "2020-12-07",
          "2020-12-14",
          "2020-12-21",
          "2020-12-28",
          "2021-01-04",
          "2021-01-11",
          "2021-01-18",
          "2021-01-25",
          "2021-02-01",
          "2021-02-08",
          "2021-02-15",
          "2021-02-22",
          "2021-03-01",
          "2021-03-08",
          "2021-03-15",
          "2021-03-22",
          "2021-03-29",
          "2021-04-05",
          "2021-04-12",
          "2021-04-19",
          "2021-04-26",
          "2021-05-03",
          "2021-05-10",
          "2021-05-17",
          "2021-05-24",
          "2021-05-31",
          "2021-06-07",
          "2021-06-14",
          "2021-06-21",
          "2021-06-28"
         ],
         "y": [
          null,
          null,
          null,
          null,
          null,
          null,
          null,
          null,
          48944.555555555555,
          48256.77777777778,
          47692.555555555555,
          47202,
          46776.22222222222,
          46860.77777777778,
          46830.555555555555,
          47039.11111111111,
          46896.333333333336,
          46943.11111111111,
          46956,
          47053.22222222222,
          47169,
          46983.22222222222,
          46530.444444444445,
          46161,
          45763,
          45483.11111111111,
          44782.333333333336,
          43899.22222222222,
          42776.11111111111,
          42168.666666666664,
          41638.77777777778,
          41032.666666666664,
          40769.555555555555,
          40500.444444444445,
          41137.666666666664,
          42140.666666666664,
          43501.333333333336,
          44793.11111111111,
          45921.555555555555,
          46999.444444444445,
          48490.555555555555,
          49753.333333333336,
          51122,
          51414.555555555555,
          51655.11111111111,
          51533.77777777778,
          51466.444444444445,
          51472.77777777778,
          51376,
          50965.555555555555,
          50654.11111111111,
          50467.666666666664,
          50625.77777777778,
          51045.11111111111,
          51853.88888888889,
          52771.333333333336,
          53553.77777777778,
          54540,
          55602.77777777778,
          56448.444444444445,
          57268.77777777778,
          57808.666666666664,
          57975.555555555555,
          58163.88888888889,
          58281.555555555555,
          58664.666666666664,
          59050.11111111111,
          59606.666666666664,
          60339.11111111111,
          60559.333333333336,
          60690.88888888889,
          61011.11111111111,
          61329.11111111111,
          61545.666666666664,
          61478.11111111111,
          61102.77777777778,
          60417.11111111111,
          59963.666666666664,
          59971.11111111111,
          60467.555555555555,
          60974.11111111111,
          61471.333333333336,
          61986.666666666664,
          62611.555555555555,
          63651.444444444445,
          64620.88888888889,
          65349.666666666664,
          65684.11111111111,
          65746.11111111111,
          65672,
          65555.33333333333,
          65515.22222222222,
          65148.666666666664,
          64705.666666666664,
          64565.77777777778,
          64446.22222222222,
          64840.333333333336,
          64665.77777777778,
          64691.444444444445,
          64416.666666666664,
          64152,
          64018.666666666664,
          63721.555555555555,
          63443.444444444445,
          63067,
          62757.444444444445,
          62984.666666666664,
          63141.555555555555,
          63629,
          64201,
          64988.666666666664,
          66098.33333333333,
          67100.88888888889,
          68296.11111111111,
          69442.88888888889,
          70632.44444444444,
          71609.88888888889,
          72627.33333333333,
          73697.44444444444,
          74550.33333333333,
          75095,
          75316.33333333333,
          75214.88888888889,
          74957.11111111111,
          74820.11111111111,
          74594.55555555556,
          74225.33333333333,
          73738.44444444444,
          73604.66666666667,
          73652,
          74224.88888888889,
          75023,
          75887.77777777778,
          77151.55555555556,
          78460.11111111111,
          79367.55555555556,
          80691.66666666667,
          82036.77777777778,
          83076.66666666667,
          83887.77777777778,
          84503,
          84853.77777777778,
          84835.44444444444,
          84922,
          85303.66666666667,
          85417.55555555556,
          85323.33333333333,
          85029.66666666667,
          84901.77777777778,
          84701.33333333333,
          84092.55555555556,
          83189.66666666667,
          81869.88888888889,
          80361.44444444444,
          78704.88888888889,
          77184.66666666667,
          76283.77777777778,
          75325.33333333333,
          74824.11111111111,
          74931.66666666667,
          75397.77777777778,
          75794.66666666667,
          76380.33333333333,
          77004.88888888889,
          77439.88888888889,
          77596.11111111111,
          77466.66666666667,
          77563.66666666667,
          77505.44444444444,
          77604,
          78315.88888888889,
          79226,
          80276.88888888889,
          81581.44444444444,
          82606.44444444444,
          84060.44444444444,
          84814.44444444444,
          85943.55555555556,
          86587.22222222222,
          87090.44444444444,
          87254.55555555556,
          87495.33333333333,
          87875.55555555556,
          88766.33333333333,
          89608.77777777778,
          90880.66666666667,
          91809.22222222222,
          92612.33333333333,
          93731.88888888889,
          95086.22222222222,
          95832.55555555556,
          96224.11111111111,
          96832.88888888889,
          96570.44444444444,
          96319.11111111111,
          96235.44444444444,
          95961.22222222222,
          95633.66666666667,
          95450.33333333333,
          95606.33333333333,
          95483.33333333333,
          94467.33333333333,
          94455.44444444444,
          94634.88888888889,
          94714.11111111111,
          95288,
          96114.11111111111,
          96639.77777777778,
          97537.66666666667,
          98609.66666666667,
          100105.11111111111,
          101126.33333333333,
          101753.44444444444,
          102439.55555555556,
          102635.77777777778,
          102152.88888888889,
          102171.55555555556,
          102043.33333333333,
          101998.33333333333,
          102150,
          102401,
          102387.33333333333,
          102369.11111111111,
          102916.11111111111,
          103993.55555555556,
          104778.11111111111,
          105299.66666666667,
          105639.22222222222,
          106069.77777777778,
          106420.33333333333,
          107373.11111111111,
          108343.44444444444,
          109498.11111111111,
          110517,
          111573.77777777778,
          112448.66666666667,
          113773.22222222222,
          114849.22222222222,
          115463.44444444444,
          115757.22222222222,
          115959,
          115799,
          114425.44444444444,
          112235.44444444444,
          108588.22222222222,
          102876.11111111111,
          97882,
          92968.33333333333,
          88958.55555555556,
          85026.22222222222,
          80765.11111111111,
          78135.55555555556,
          76165.11111111111,
          75596.11111111111,
          77274.33333333333,
          78827,
          81615.77777777778,
          83295,
          85248.55555555556,
          87304.44444444444,
          89111,
          91307.55555555556,
          94122.11111111111,
          96367.55555555556,
          98090.77777777778,
          98995.11111111111,
          99946,
          100495.88888888889,
          101419.11111111111,
          101916.55555555556,
          101731.11111111111,
          101220.22222222222,
          100622.11111111111,
          99633.66666666667,
          99045.55555555556,
          98707.33333333333,
          98678.33333333333,
          97768.22222222222,
          97719,
          98402.22222222222,
          99263.55555555556,
          100772,
          102957.11111111111,
          104939.33333333333,
          107091.55555555556,
          108935.66666666667,
          111752.77777777778,
          114450.33333333333,
          116227,
          117463.66666666667,
          118067.22222222222,
          118760.88888888889,
          119182.33333333333,
          119301.11111111111,
          118432,
          117976,
          116763,
          116287.44444444444,
          116021.77777777778,
          115938,
          115687.44444444444,
          115909.44444444444,
          116107.44444444444,
          117091.77777777778,
          117851.33333333333,
          118709.22222222222,
          119417,
          120614.77777777778,
          122267.33333333333,
          123575.22222222222,
          124385.33333333333,
          125132.66666666667,
          126102.44444444444
         ]
        },
        {
         "line": {
          "color": "#FF00FF"
         },
         "name": "Média Móvel 17 Períodos",
         "opacity": 0.8,
         "type": "scatter",
         "x": [
          "2015-07-06",
          "2015-07-13",
          "2015-07-20",
          "2015-07-27",
          "2015-08-03",
          "2015-08-10",
          "2015-08-17",
          "2015-08-24",
          "2015-08-31",
          "2015-09-07",
          "2015-09-14",
          "2015-09-21",
          "2015-09-28",
          "2015-10-05",
          "2015-10-12",
          "2015-10-19",
          "2015-10-26",
          "2015-11-02",
          "2015-11-09",
          "2015-11-16",
          "2015-11-23",
          "2015-11-30",
          "2015-12-07",
          "2015-12-14",
          "2015-12-21",
          "2015-12-28",
          "2016-01-04",
          "2016-01-11",
          "2016-01-18",
          "2016-01-25",
          "2016-02-01",
          "2016-02-08",
          "2016-02-15",
          "2016-02-22",
          "2016-02-29",
          "2016-03-07",
          "2016-03-14",
          "2016-03-21",
          "2016-03-28",
          "2016-04-04",
          "2016-04-11",
          "2016-04-18",
          "2016-04-25",
          "2016-05-02",
          "2016-05-09",
          "2016-05-16",
          "2016-05-23",
          "2016-05-30",
          "2016-06-06",
          "2016-06-13",
          "2016-06-20",
          "2016-06-27",
          "2016-07-04",
          "2016-07-11",
          "2016-07-18",
          "2016-07-25",
          "2016-08-01",
          "2016-08-08",
          "2016-08-15",
          "2016-08-22",
          "2016-08-29",
          "2016-09-05",
          "2016-09-12",
          "2016-09-19",
          "2016-09-26",
          "2016-10-03",
          "2016-10-10",
          "2016-10-17",
          "2016-10-24",
          "2016-10-31",
          "2016-11-07",
          "2016-11-14",
          "2016-11-21",
          "2016-11-28",
          "2016-12-05",
          "2016-12-12",
          "2016-12-19",
          "2016-12-26",
          "2017-01-02",
          "2017-01-09",
          "2017-01-16",
          "2017-01-23",
          "2017-01-30",
          "2017-02-06",
          "2017-02-13",
          "2017-02-20",
          "2017-02-27",
          "2017-03-06",
          "2017-03-13",
          "2017-03-20",
          "2017-03-27",
          "2017-04-03",
          "2017-04-10",
          "2017-04-17",
          "2017-04-24",
          "2017-05-01",
          "2017-05-08",
          "2017-05-15",
          "2017-05-22",
          "2017-05-29",
          "2017-06-05",
          "2017-06-12",
          "2017-06-19",
          "2017-06-26",
          "2017-07-03",
          "2017-07-10",
          "2017-07-17",
          "2017-07-24",
          "2017-07-31",
          "2017-08-07",
          "2017-08-14",
          "2017-08-21",
          "2017-08-28",
          "2017-09-04",
          "2017-09-11",
          "2017-09-18",
          "2017-09-25",
          "2017-10-02",
          "2017-10-09",
          "2017-10-16",
          "2017-10-23",
          "2017-10-30",
          "2017-11-06",
          "2017-11-13",
          "2017-11-20",
          "2017-11-27",
          "2017-12-04",
          "2017-12-11",
          "2017-12-18",
          "2017-12-25",
          "2018-01-01",
          "2018-01-08",
          "2018-01-15",
          "2018-01-22",
          "2018-01-29",
          "2018-02-05",
          "2018-02-12",
          "2018-02-19",
          "2018-02-26",
          "2018-03-05",
          "2018-03-12",
          "2018-03-19",
          "2018-03-26",
          "2018-04-02",
          "2018-04-09",
          "2018-04-16",
          "2018-04-23",
          "2018-04-30",
          "2018-05-07",
          "2018-05-14",
          "2018-05-21",
          "2018-05-28",
          "2018-06-04",
          "2018-06-11",
          "2018-06-18",
          "2018-06-25",
          "2018-07-02",
          "2018-07-09",
          "2018-07-16",
          "2018-07-23",
          "2018-07-30",
          "2018-08-06",
          "2018-08-13",
          "2018-08-20",
          "2018-08-27",
          "2018-09-03",
          "2018-09-10",
          "2018-09-17",
          "2018-09-24",
          "2018-10-01",
          "2018-10-08",
          "2018-10-15",
          "2018-10-22",
          "2018-10-29",
          "2018-11-05",
          "2018-11-12",
          "2018-11-19",
          "2018-11-26",
          "2018-12-03",
          "2018-12-10",
          "2018-12-17",
          "2018-12-24",
          "2018-12-31",
          "2019-01-07",
          "2019-01-14",
          "2019-01-21",
          "2019-01-28",
          "2019-02-04",
          "2019-02-11",
          "2019-02-18",
          "2019-02-25",
          "2019-03-04",
          "2019-03-11",
          "2019-03-18",
          "2019-03-25",
          "2019-04-01",
          "2019-04-08",
          "2019-04-15",
          "2019-04-22",
          "2019-04-29",
          "2019-05-06",
          "2019-05-13",
          "2019-05-20",
          "2019-05-27",
          "2019-06-03",
          "2019-06-10",
          "2019-06-17",
          "2019-06-24",
          "2019-07-01",
          "2019-07-08",
          "2019-07-15",
          "2019-07-22",
          "2019-07-29",
          "2019-08-05",
          "2019-08-12",
          "2019-08-19",
          "2019-08-26",
          "2019-09-02",
          "2019-09-09",
          "2019-09-16",
          "2019-09-23",
          "2019-09-30",
          "2019-10-07",
          "2019-10-14",
          "2019-10-21",
          "2019-10-28",
          "2019-11-04",
          "2019-11-11",
          "2019-11-18",
          "2019-11-25",
          "2019-12-02",
          "2019-12-09",
          "2019-12-16",
          "2019-12-23",
          "2019-12-30",
          "2020-01-06",
          "2020-01-13",
          "2020-01-20",
          "2020-01-27",
          "2020-02-03",
          "2020-02-10",
          "2020-02-17",
          "2020-02-24",
          "2020-03-02",
          "2020-03-09",
          "2020-03-16",
          "2020-03-23",
          "2020-03-30",
          "2020-04-06",
          "2020-04-13",
          "2020-04-20",
          "2020-04-27",
          "2020-05-04",
          "2020-05-11",
          "2020-05-18",
          "2020-05-25",
          "2020-06-01",
          "2020-06-08",
          "2020-06-15",
          "2020-06-22",
          "2020-06-29",
          "2020-07-06",
          "2020-07-13",
          "2020-07-20",
          "2020-07-27",
          "2020-08-03",
          "2020-08-10",
          "2020-08-17",
          "2020-08-24",
          "2020-08-31",
          "2020-09-07",
          "2020-09-14",
          "2020-09-21",
          "2020-09-28",
          "2020-10-05",
          "2020-10-12",
          "2020-10-19",
          "2020-10-26",
          "2020-11-02",
          "2020-11-09",
          "2020-11-16",
          "2020-11-23",
          "2020-11-30",
          "2020-12-07",
          "2020-12-14",
          "2020-12-21",
          "2020-12-28",
          "2021-01-04",
          "2021-01-11",
          "2021-01-18",
          "2021-01-25",
          "2021-02-01",
          "2021-02-08",
          "2021-02-15",
          "2021-02-22",
          "2021-03-01",
          "2021-03-08",
          "2021-03-15",
          "2021-03-22",
          "2021-03-29",
          "2021-04-05",
          "2021-04-12",
          "2021-04-19",
          "2021-04-26",
          "2021-05-03",
          "2021-05-10",
          "2021-05-17",
          "2021-05-24",
          "2021-05-31",
          "2021-06-07",
          "2021-06-14",
          "2021-06-21",
          "2021-06-28"
         ],
         "y": [
          null,
          null,
          null,
          null,
          null,
          null,
          null,
          null,
          null,
          null,
          null,
          null,
          null,
          null,
          null,
          null,
          48004.117647058825,
          47670.470588235294,
          47327.82352941176,
          47262.705882352944,
          46969.05882352941,
          46779.882352941175,
          46647.82352941176,
          46541.41176470588,
          46356.76470588235,
          46171.58823529412,
          45831.05882352941,
          45319.58823529412,
          44919.58823529412,
          44529.76470588235,
          44015.294117647056,
          43578.35294117647,
          43222.23529411765,
          42970.705882352944,
          43098.117647058825,
          43281.76470588235,
          43439.17647058824,
          43661.76470588235,
          43967.705882352944,
          44263.58823529412,
          44811.64705882353,
          45334.76470588235,
          45956,
          46609.294117647056,
          47387.82352941176,
          48075.58823529412,
          48584.117647058825,
          49173.94117647059,
          49739.470588235294,
          50209.529411764706,
          50710.23529411765,
          50895.41176470588,
          51101.41176470588,
          51381.58823529412,
          51813.64705882353,
          52210.470588235294,
          52643.882352941175,
          52942.117647058825,
          53306.294117647056,
          53530.117647058825,
          53994.705882352944,
          54359.17647058824,
          54791.94117647059,
          55359.35294117647,
          55815.117647058825,
          56502.58823529412,
          57222.17647058824,
          58045.882352941175,
          58756.17647058824,
          59253.64705882353,
          59465.76470588235,
          59639.882352941175,
          59889.94117647059,
          60046.117647058825,
          60175.705882352944,
          60133.94117647059,
          60146.94117647059,
          60182.882352941175,
          60398.470588235294,
          60785.05882352941,
          61127.64705882353,
          61578.64705882353,
          61804.82352941176,
          62061.17647058824,
          62275.294117647056,
          62413.76470588235,
          62718.94117647059,
          63041.94117647059,
          63291.82352941176,
          63426.82352941176,
          63701.41176470588,
          63942.117647058825,
          64203.117647058825,
          64545.705882352944,
          64850.17647058824,
          65088.117647058825,
          65356.94117647059,
          65246.23529411765,
          65131.58823529412,
          64987.882352941175,
          64757.64705882353,
          64397.529411764706,
          64069.58823529412,
          63841,
          63702.58823529412,
          63774.705882352944,
          63823.529411764706,
          63853.705882352944,
          63989.294117647056,
          64255.94117647059,
          64547.35294117647,
          64880.94117647059,
          65246.41176470588,
          65532.117647058825,
          66303.76470588235,
          66968.76470588235,
          67661.88235294117,
          68476.23529411765,
          69380,
          70280.23529411765,
          71049.41176470589,
          71731.35294117648,
          72127.23529411765,
          72642.11764705883,
          73151.5294117647,
          73467.17647058824,
          73783.23529411765,
          74012.23529411765,
          74254.17647058824,
          74517.64705882352,
          74870.11764705883,
          75081.41176470589,
          75424.35294117648,
          76085.35294117648,
          76555.11764705883,
          76785.05882352941,
          77263.5294117647,
          77929.23529411765,
          78626.05882352941,
          79461.64705882352,
          80135.11764705883,
          80736.29411764706,
          81507,
          82218.05882352941,
          82907.82352941176,
          83517.41176470589,
          84108.17647058824,
          84346.23529411765,
          84691.58823529411,
          84801.11764705883,
          84410.94117647059,
          84010.88235294117,
          83542.82352941176,
          82733,
          81753.4705882353,
          80988.88235294117,
          80320.58823529411,
          79832.82352941176,
          79491.29411764706,
          79167.76470588235,
          78968.64705882352,
          78508.64705882352,
          77948.58823529411,
          77349.58823529411,
          76970.76470588235,
          76452.88235294117,
          76002.70588235294,
          76034.82352941176,
          76158.4705882353,
          76710.23529411765,
          77425.70588235294,
          78224.4705882353,
          78986.64705882352,
          79775.41176470589,
          80307.58823529411,
          80892.5294117647,
          81266.88235294117,
          81741.5294117647,
          82423.94117647059,
          83095.76470588235,
          83650.76470588235,
          84310.11764705883,
          85217.4705882353,
          86289.76470588235,
          87269.35294117648,
          88347.88235294117,
          89261.94117647059,
          89992.64705882352,
          90775.35294117648,
          91491,
          91854.82352941176,
          92426.82352941176,
          93051.64705882352,
          93493.11764705883,
          93840.82352941176,
          94369.82352941176,
          94688.94117647059,
          95211.35294117648,
          95702.4705882353,
          95947.58823529411,
          95982.88235294117,
          95623.82352941176,
          95385.64705882352,
          95336.76470588235,
          95482.5294117647,
          95512.76470588235,
          95755.5294117647,
          96129.82352941176,
          96643,
          96923.5294117647,
          97495.11764705883,
          97930.64705882352,
          98258.05882352941,
          98912.23529411765,
          99219.76470588235,
          99303.94117647059,
          99605.5294117647,
          100115.94117647059,
          100910.5294117647,
          101568.70588235294,
          102042.11764705883,
          102320.35294117648,
          102661.05882352941,
          102820.82352941176,
          103197.11764705883,
          103438.70588235294,
          103657.70588235294,
          103840.35294117648,
          104185.82352941176,
          104512.82352941176,
          104932.23529411765,
          105682.76470588235,
          106709.4705882353,
          107615.29411764706,
          108484.23529411765,
          109190.23529411765,
          109993.82352941176,
          110776.05882352941,
          111435.4705882353,
          112020.05882352941,
          112587.82352941176,
          112959.41176470589,
          112722.70588235294,
          112156.11764705883,
          110751.4705882353,
          108303.05882352941,
          106255.76470588235,
          103809.41176470589,
          101757.4705882353,
          99632.11764705883,
          97208.41176470589,
          95020.11764705883,
          92947.17647058824,
          90540.05882352941,
          88410.4705882353,
          86860,
          85734.5294117647,
          84464.76470588235,
          83458.35294117648,
          82850.23529411765,
          82777.76470588235,
          83798.58823529411,
          85905.58823529411,
          87608.70588235294,
          89571.88235294117,
          91048,
          92363.4705882353,
          93904.05882352941,
          95176.82352941176,
          96410.88235294117,
          97634.76470588235,
          98582.82352941176,
          99147.29411764706,
          99110.76470588235,
          99386.5294117647,
          99488.70588235294,
          99925.5294117647,
          99760.05882352941,
          99805.17647058824,
          99900.70588235294,
          100116,
          100566.76470588235,
          101208.29411764706,
          102030.05882352941,
          102980.5294117647,
          103904.88235294117,
          104967.4705882353,
          106538.88235294117,
          107845.4705882353,
          109032.11764705883,
          110325.70588235294,
          111645.82352941176,
          112869.76470588235,
          113898.4705882353,
          114844.5294117647,
          115691.76470588235,
          116259.29411764706,
          116858.11764705883,
          117105.5294117647,
          117197.94117647059,
          117336,
          117538.05882352941,
          117695.29411764706,
          117671.05882352941,
          117492.29411764706,
          117573.41176470589,
          117892.23529411765,
          118454.23529411765,
          119054.29411764706,
          119661.64705882352,
          120229.70588235294,
          121242.70588235294,
          121973.29411764706
         ]
        }
       ],
       "layout": {
        "template": {
         "data": {
          "bar": [
           {
            "error_x": {
             "color": "#2a3f5f"
            },
            "error_y": {
             "color": "#2a3f5f"
            },
            "marker": {
             "line": {
              "color": "#E5ECF6",
              "width": 0.5
             }
            },
            "type": "bar"
           }
          ],
          "barpolar": [
           {
            "marker": {
             "line": {
              "color": "#E5ECF6",
              "width": 0.5
             }
            },
            "type": "barpolar"
           }
          ],
          "carpet": [
           {
            "aaxis": {
             "endlinecolor": "#2a3f5f",
             "gridcolor": "white",
             "linecolor": "white",
             "minorgridcolor": "white",
             "startlinecolor": "#2a3f5f"
            },
            "baxis": {
             "endlinecolor": "#2a3f5f",
             "gridcolor": "white",
             "linecolor": "white",
             "minorgridcolor": "white",
             "startlinecolor": "#2a3f5f"
            },
            "type": "carpet"
           }
          ],
          "choropleth": [
           {
            "colorbar": {
             "outlinewidth": 0,
             "ticks": ""
            },
            "type": "choropleth"
           }
          ],
          "contour": [
           {
            "colorbar": {
             "outlinewidth": 0,
             "ticks": ""
            },
            "colorscale": [
             [
              0,
              "#0d0887"
             ],
             [
              0.1111111111111111,
              "#46039f"
             ],
             [
              0.2222222222222222,
              "#7201a8"
             ],
             [
              0.3333333333333333,
              "#9c179e"
             ],
             [
              0.4444444444444444,
              "#bd3786"
             ],
             [
              0.5555555555555556,
              "#d8576b"
             ],
             [
              0.6666666666666666,
              "#ed7953"
             ],
             [
              0.7777777777777778,
              "#fb9f3a"
             ],
             [
              0.8888888888888888,
              "#fdca26"
             ],
             [
              1,
              "#f0f921"
             ]
            ],
            "type": "contour"
           }
          ],
          "contourcarpet": [
           {
            "colorbar": {
             "outlinewidth": 0,
             "ticks": ""
            },
            "type": "contourcarpet"
           }
          ],
          "heatmap": [
           {
            "colorbar": {
             "outlinewidth": 0,
             "ticks": ""
            },
            "colorscale": [
             [
              0,
              "#0d0887"
             ],
             [
              0.1111111111111111,
              "#46039f"
             ],
             [
              0.2222222222222222,
              "#7201a8"
             ],
             [
              0.3333333333333333,
              "#9c179e"
             ],
             [
              0.4444444444444444,
              "#bd3786"
             ],
             [
              0.5555555555555556,
              "#d8576b"
             ],
             [
              0.6666666666666666,
              "#ed7953"
             ],
             [
              0.7777777777777778,
              "#fb9f3a"
             ],
             [
              0.8888888888888888,
              "#fdca26"
             ],
             [
              1,
              "#f0f921"
             ]
            ],
            "type": "heatmap"
           }
          ],
          "heatmapgl": [
           {
            "colorbar": {
             "outlinewidth": 0,
             "ticks": ""
            },
            "colorscale": [
             [
              0,
              "#0d0887"
             ],
             [
              0.1111111111111111,
              "#46039f"
             ],
             [
              0.2222222222222222,
              "#7201a8"
             ],
             [
              0.3333333333333333,
              "#9c179e"
             ],
             [
              0.4444444444444444,
              "#bd3786"
             ],
             [
              0.5555555555555556,
              "#d8576b"
             ],
             [
              0.6666666666666666,
              "#ed7953"
             ],
             [
              0.7777777777777778,
              "#fb9f3a"
             ],
             [
              0.8888888888888888,
              "#fdca26"
             ],
             [
              1,
              "#f0f921"
             ]
            ],
            "type": "heatmapgl"
           }
          ],
          "histogram": [
           {
            "marker": {
             "colorbar": {
              "outlinewidth": 0,
              "ticks": ""
             }
            },
            "type": "histogram"
           }
          ],
          "histogram2d": [
           {
            "colorbar": {
             "outlinewidth": 0,
             "ticks": ""
            },
            "colorscale": [
             [
              0,
              "#0d0887"
             ],
             [
              0.1111111111111111,
              "#46039f"
             ],
             [
              0.2222222222222222,
              "#7201a8"
             ],
             [
              0.3333333333333333,
              "#9c179e"
             ],
             [
              0.4444444444444444,
              "#bd3786"
             ],
             [
              0.5555555555555556,
              "#d8576b"
             ],
             [
              0.6666666666666666,
              "#ed7953"
             ],
             [
              0.7777777777777778,
              "#fb9f3a"
             ],
             [
              0.8888888888888888,
              "#fdca26"
             ],
             [
              1,
              "#f0f921"
             ]
            ],
            "type": "histogram2d"
           }
          ],
          "histogram2dcontour": [
           {
            "colorbar": {
             "outlinewidth": 0,
             "ticks": ""
            },
            "colorscale": [
             [
              0,
              "#0d0887"
             ],
             [
              0.1111111111111111,
              "#46039f"
             ],
             [
              0.2222222222222222,
              "#7201a8"
             ],
             [
              0.3333333333333333,
              "#9c179e"
             ],
             [
              0.4444444444444444,
              "#bd3786"
             ],
             [
              0.5555555555555556,
              "#d8576b"
             ],
             [
              0.6666666666666666,
              "#ed7953"
             ],
             [
              0.7777777777777778,
              "#fb9f3a"
             ],
             [
              0.8888888888888888,
              "#fdca26"
             ],
             [
              1,
              "#f0f921"
             ]
            ],
            "type": "histogram2dcontour"
           }
          ],
          "mesh3d": [
           {
            "colorbar": {
             "outlinewidth": 0,
             "ticks": ""
            },
            "type": "mesh3d"
           }
          ],
          "parcoords": [
           {
            "line": {
             "colorbar": {
              "outlinewidth": 0,
              "ticks": ""
             }
            },
            "type": "parcoords"
           }
          ],
          "pie": [
           {
            "automargin": true,
            "type": "pie"
           }
          ],
          "scatter": [
           {
            "marker": {
             "colorbar": {
              "outlinewidth": 0,
              "ticks": ""
             }
            },
            "type": "scatter"
           }
          ],
          "scatter3d": [
           {
            "line": {
             "colorbar": {
              "outlinewidth": 0,
              "ticks": ""
             }
            },
            "marker": {
             "colorbar": {
              "outlinewidth": 0,
              "ticks": ""
             }
            },
            "type": "scatter3d"
           }
          ],
          "scattercarpet": [
           {
            "marker": {
             "colorbar": {
              "outlinewidth": 0,
              "ticks": ""
             }
            },
            "type": "scattercarpet"
           }
          ],
          "scattergeo": [
           {
            "marker": {
             "colorbar": {
              "outlinewidth": 0,
              "ticks": ""
             }
            },
            "type": "scattergeo"
           }
          ],
          "scattergl": [
           {
            "marker": {
             "colorbar": {
              "outlinewidth": 0,
              "ticks": ""
             }
            },
            "type": "scattergl"
           }
          ],
          "scattermapbox": [
           {
            "marker": {
             "colorbar": {
              "outlinewidth": 0,
              "ticks": ""
             }
            },
            "type": "scattermapbox"
           }
          ],
          "scatterpolar": [
           {
            "marker": {
             "colorbar": {
              "outlinewidth": 0,
              "ticks": ""
             }
            },
            "type": "scatterpolar"
           }
          ],
          "scatterpolargl": [
           {
            "marker": {
             "colorbar": {
              "outlinewidth": 0,
              "ticks": ""
             }
            },
            "type": "scatterpolargl"
           }
          ],
          "scatterternary": [
           {
            "marker": {
             "colorbar": {
              "outlinewidth": 0,
              "ticks": ""
             }
            },
            "type": "scatterternary"
           }
          ],
          "surface": [
           {
            "colorbar": {
             "outlinewidth": 0,
             "ticks": ""
            },
            "colorscale": [
             [
              0,
              "#0d0887"
             ],
             [
              0.1111111111111111,
              "#46039f"
             ],
             [
              0.2222222222222222,
              "#7201a8"
             ],
             [
              0.3333333333333333,
              "#9c179e"
             ],
             [
              0.4444444444444444,
              "#bd3786"
             ],
             [
              0.5555555555555556,
              "#d8576b"
             ],
             [
              0.6666666666666666,
              "#ed7953"
             ],
             [
              0.7777777777777778,
              "#fb9f3a"
             ],
             [
              0.8888888888888888,
              "#fdca26"
             ],
             [
              1,
              "#f0f921"
             ]
            ],
            "type": "surface"
           }
          ],
          "table": [
           {
            "cells": {
             "fill": {
              "color": "#EBF0F8"
             },
             "line": {
              "color": "white"
             }
            },
            "header": {
             "fill": {
              "color": "#C8D4E3"
             },
             "line": {
              "color": "white"
             }
            },
            "type": "table"
           }
          ]
         },
         "layout": {
          "annotationdefaults": {
           "arrowcolor": "#2a3f5f",
           "arrowhead": 0,
           "arrowwidth": 1
          },
          "autotypenumbers": "strict",
          "coloraxis": {
           "colorbar": {
            "outlinewidth": 0,
            "ticks": ""
           }
          },
          "colorscale": {
           "diverging": [
            [
             0,
             "#8e0152"
            ],
            [
             0.1,
             "#c51b7d"
            ],
            [
             0.2,
             "#de77ae"
            ],
            [
             0.3,
             "#f1b6da"
            ],
            [
             0.4,
             "#fde0ef"
            ],
            [
             0.5,
             "#f7f7f7"
            ],
            [
             0.6,
             "#e6f5d0"
            ],
            [
             0.7,
             "#b8e186"
            ],
            [
             0.8,
             "#7fbc41"
            ],
            [
             0.9,
             "#4d9221"
            ],
            [
             1,
             "#276419"
            ]
           ],
           "sequential": [
            [
             0,
             "#0d0887"
            ],
            [
             0.1111111111111111,
             "#46039f"
            ],
            [
             0.2222222222222222,
             "#7201a8"
            ],
            [
             0.3333333333333333,
             "#9c179e"
            ],
            [
             0.4444444444444444,
             "#bd3786"
            ],
            [
             0.5555555555555556,
             "#d8576b"
            ],
            [
             0.6666666666666666,
             "#ed7953"
            ],
            [
             0.7777777777777778,
             "#fb9f3a"
            ],
            [
             0.8888888888888888,
             "#fdca26"
            ],
            [
             1,
             "#f0f921"
            ]
           ],
           "sequentialminus": [
            [
             0,
             "#0d0887"
            ],
            [
             0.1111111111111111,
             "#46039f"
            ],
            [
             0.2222222222222222,
             "#7201a8"
            ],
            [
             0.3333333333333333,
             "#9c179e"
            ],
            [
             0.4444444444444444,
             "#bd3786"
            ],
            [
             0.5555555555555556,
             "#d8576b"
            ],
            [
             0.6666666666666666,
             "#ed7953"
            ],
            [
             0.7777777777777778,
             "#fb9f3a"
            ],
            [
             0.8888888888888888,
             "#fdca26"
            ],
            [
             1,
             "#f0f921"
            ]
           ]
          },
          "colorway": [
           "#636efa",
           "#EF553B",
           "#00cc96",
           "#ab63fa",
           "#FFA15A",
           "#19d3f3",
           "#FF6692",
           "#B6E880",
           "#FF97FF",
           "#FECB52"
          ],
          "font": {
           "color": "#2a3f5f"
          },
          "geo": {
           "bgcolor": "white",
           "lakecolor": "white",
           "landcolor": "#E5ECF6",
           "showlakes": true,
           "showland": true,
           "subunitcolor": "white"
          },
          "hoverlabel": {
           "align": "left"
          },
          "hovermode": "closest",
          "mapbox": {
           "style": "light"
          },
          "paper_bgcolor": "white",
          "plot_bgcolor": "#E5ECF6",
          "polar": {
           "angularaxis": {
            "gridcolor": "white",
            "linecolor": "white",
            "ticks": ""
           },
           "bgcolor": "#E5ECF6",
           "radialaxis": {
            "gridcolor": "white",
            "linecolor": "white",
            "ticks": ""
           }
          },
          "scene": {
           "xaxis": {
            "backgroundcolor": "#E5ECF6",
            "gridcolor": "white",
            "gridwidth": 2,
            "linecolor": "white",
            "showbackground": true,
            "ticks": "",
            "zerolinecolor": "white"
           },
           "yaxis": {
            "backgroundcolor": "#E5ECF6",
            "gridcolor": "white",
            "gridwidth": 2,
            "linecolor": "white",
            "showbackground": true,
            "ticks": "",
            "zerolinecolor": "white"
           },
           "zaxis": {
            "backgroundcolor": "#E5ECF6",
            "gridcolor": "white",
            "gridwidth": 2,
            "linecolor": "white",
            "showbackground": true,
            "ticks": "",
            "zerolinecolor": "white"
           }
          },
          "shapedefaults": {
           "line": {
            "color": "#2a3f5f"
           }
          },
          "ternary": {
           "aaxis": {
            "gridcolor": "white",
            "linecolor": "white",
            "ticks": ""
           },
           "baxis": {
            "gridcolor": "white",
            "linecolor": "white",
            "ticks": ""
           },
           "bgcolor": "#E5ECF6",
           "caxis": {
            "gridcolor": "white",
            "linecolor": "white",
            "ticks": ""
           }
          },
          "title": {
           "x": 0.05
          },
          "xaxis": {
           "automargin": true,
           "gridcolor": "white",
           "linecolor": "white",
           "ticks": "",
           "title": {
            "standoff": 15
           },
           "zerolinecolor": "white",
           "zerolinewidth": 2
          },
          "yaxis": {
           "automargin": true,
           "gridcolor": "white",
           "linecolor": "white",
           "ticks": "",
           "title": {
            "standoff": 15
           },
           "zerolinecolor": "white",
           "zerolinewidth": 2
          }
         }
        }
       }
      },
      "text/html": [
       "<div>                            <div id=\"cd6af990-8b3e-41ca-b581-5daa1f8cf299\" class=\"plotly-graph-div\" style=\"height:525px; width:100%;\"></div>            <script type=\"text/javascript\">                require([\"plotly\"], function(Plotly) {                    window.PLOTLYENV=window.PLOTLYENV || {};                                    if (document.getElementById(\"cd6af990-8b3e-41ca-b581-5daa1f8cf299\")) {                    Plotly.newPlot(                        \"cd6af990-8b3e-41ca-b581-5daa1f8cf299\",                        [{\"line\": {\"color\": \"#330000\"}, \"name\": \"IBOV Close\", \"opacity\": 0.8, \"type\": \"scatter\", \"x\": [\"2015-07-06\", \"2015-07-13\", \"2015-07-20\", \"2015-07-27\", \"2015-08-03\", \"2015-08-10\", \"2015-08-17\", \"2015-08-24\", \"2015-08-31\", \"2015-09-07\", \"2015-09-14\", \"2015-09-21\", \"2015-09-28\", \"2015-10-05\", \"2015-10-12\", \"2015-10-19\", \"2015-10-26\", \"2015-11-02\", \"2015-11-09\", \"2015-11-16\", \"2015-11-23\", \"2015-11-30\", \"2015-12-07\", \"2015-12-14\", \"2015-12-21\", \"2015-12-28\", \"2016-01-04\", \"2016-01-11\", \"2016-01-18\", \"2016-01-25\", \"2016-02-01\", \"2016-02-08\", \"2016-02-15\", \"2016-02-22\", \"2016-02-29\", \"2016-03-07\", \"2016-03-14\", \"2016-03-21\", \"2016-03-28\", \"2016-04-04\", \"2016-04-11\", \"2016-04-18\", \"2016-04-25\", \"2016-05-02\", \"2016-05-09\", \"2016-05-16\", \"2016-05-23\", \"2016-05-30\", \"2016-06-06\", \"2016-06-13\", \"2016-06-20\", \"2016-06-27\", \"2016-07-04\", \"2016-07-11\", \"2016-07-18\", \"2016-07-25\", \"2016-08-01\", \"2016-08-08\", \"2016-08-15\", \"2016-08-22\", \"2016-08-29\", \"2016-09-05\", \"2016-09-12\", \"2016-09-19\", \"2016-09-26\", \"2016-10-03\", \"2016-10-10\", \"2016-10-17\", \"2016-10-24\", \"2016-10-31\", \"2016-11-07\", \"2016-11-14\", \"2016-11-21\", \"2016-11-28\", \"2016-12-05\", \"2016-12-12\", \"2016-12-19\", \"2016-12-26\", \"2017-01-02\", \"2017-01-09\", \"2017-01-16\", \"2017-01-23\", \"2017-01-30\", \"2017-02-06\", \"2017-02-13\", \"2017-02-20\", \"2017-02-27\", \"2017-03-06\", \"2017-03-13\", \"2017-03-20\", \"2017-03-27\", \"2017-04-03\", \"2017-04-10\", \"2017-04-17\", \"2017-04-24\", \"2017-05-01\", \"2017-05-08\", \"2017-05-15\", \"2017-05-22\", \"2017-05-29\", \"2017-06-05\", \"2017-06-12\", \"2017-06-19\", \"2017-06-26\", \"2017-07-03\", \"2017-07-10\", \"2017-07-17\", \"2017-07-24\", \"2017-07-31\", \"2017-08-07\", \"2017-08-14\", \"2017-08-21\", \"2017-08-28\", \"2017-09-04\", \"2017-09-11\", \"2017-09-18\", \"2017-09-25\", \"2017-10-02\", \"2017-10-09\", \"2017-10-16\", \"2017-10-23\", \"2017-10-30\", \"2017-11-06\", \"2017-11-13\", \"2017-11-20\", \"2017-11-27\", \"2017-12-04\", \"2017-12-11\", \"2017-12-18\", \"2017-12-25\", \"2018-01-01\", \"2018-01-08\", \"2018-01-15\", \"2018-01-22\", \"2018-01-29\", \"2018-02-05\", \"2018-02-12\", \"2018-02-19\", \"2018-02-26\", \"2018-03-05\", \"2018-03-12\", \"2018-03-19\", \"2018-03-26\", \"2018-04-02\", \"2018-04-09\", \"2018-04-16\", \"2018-04-23\", \"2018-04-30\", \"2018-05-07\", \"2018-05-14\", \"2018-05-21\", \"2018-05-28\", \"2018-06-04\", \"2018-06-11\", \"2018-06-18\", \"2018-06-25\", \"2018-07-02\", \"2018-07-09\", \"2018-07-16\", \"2018-07-23\", \"2018-07-30\", \"2018-08-06\", \"2018-08-13\", \"2018-08-20\", \"2018-08-27\", \"2018-09-03\", \"2018-09-10\", \"2018-09-17\", \"2018-09-24\", \"2018-10-01\", \"2018-10-08\", \"2018-10-15\", \"2018-10-22\", \"2018-10-29\", \"2018-11-05\", \"2018-11-12\", \"2018-11-19\", \"2018-11-26\", \"2018-12-03\", \"2018-12-10\", \"2018-12-17\", \"2018-12-24\", \"2018-12-31\", \"2019-01-07\", \"2019-01-14\", \"2019-01-21\", \"2019-01-28\", \"2019-02-04\", \"2019-02-11\", \"2019-02-18\", \"2019-02-25\", \"2019-03-04\", \"2019-03-11\", \"2019-03-18\", \"2019-03-25\", \"2019-04-01\", \"2019-04-08\", \"2019-04-15\", \"2019-04-22\", \"2019-04-29\", \"2019-05-06\", \"2019-05-13\", \"2019-05-20\", \"2019-05-27\", \"2019-06-03\", \"2019-06-10\", \"2019-06-17\", \"2019-06-24\", \"2019-07-01\", \"2019-07-08\", \"2019-07-15\", \"2019-07-22\", \"2019-07-29\", \"2019-08-05\", \"2019-08-12\", \"2019-08-19\", \"2019-08-26\", \"2019-09-02\", \"2019-09-09\", \"2019-09-16\", \"2019-09-23\", \"2019-09-30\", \"2019-10-07\", \"2019-10-14\", \"2019-10-21\", \"2019-10-28\", \"2019-11-04\", \"2019-11-11\", \"2019-11-18\", \"2019-11-25\", \"2019-12-02\", \"2019-12-09\", \"2019-12-16\", \"2019-12-23\", \"2019-12-30\", \"2020-01-06\", \"2020-01-13\", \"2020-01-20\", \"2020-01-27\", \"2020-02-03\", \"2020-02-10\", \"2020-02-17\", \"2020-02-24\", \"2020-03-02\", \"2020-03-09\", \"2020-03-16\", \"2020-03-23\", \"2020-03-30\", \"2020-04-06\", \"2020-04-13\", \"2020-04-20\", \"2020-04-27\", \"2020-05-04\", \"2020-05-11\", \"2020-05-18\", \"2020-05-25\", \"2020-06-01\", \"2020-06-08\", \"2020-06-15\", \"2020-06-22\", \"2020-06-29\", \"2020-07-06\", \"2020-07-13\", \"2020-07-20\", \"2020-07-27\", \"2020-08-03\", \"2020-08-10\", \"2020-08-17\", \"2020-08-24\", \"2020-08-31\", \"2020-09-07\", \"2020-09-14\", \"2020-09-21\", \"2020-09-28\", \"2020-10-05\", \"2020-10-12\", \"2020-10-19\", \"2020-10-26\", \"2020-11-02\", \"2020-11-09\", \"2020-11-16\", \"2020-11-23\", \"2020-11-30\", \"2020-12-07\", \"2020-12-14\", \"2020-12-21\", \"2020-12-28\", \"2021-01-04\", \"2021-01-11\", \"2021-01-18\", \"2021-01-25\", \"2021-02-01\", \"2021-02-08\", \"2021-02-15\", \"2021-02-22\", \"2021-03-01\", \"2021-03-08\", \"2021-03-15\", \"2021-03-22\", \"2021-03-29\", \"2021-04-05\", \"2021-04-12\", \"2021-04-19\", \"2021-04-26\", \"2021-05-03\", \"2021-05-10\", \"2021-05-17\", \"2021-05-24\", \"2021-05-31\", \"2021-06-07\", \"2021-06-14\", \"2021-06-21\", \"2021-06-28\"], \"y\": [52591.0, 52342.0, 49246.0, 50865.0, 48577.0, 47508.0, 45720.0, 47154.0, 46498.0, 46401.0, 47264.0, 44831.0, 47033.0, 49338.0, 47236.0, 47597.0, 45869.0, 46919.0, 46517.0, 48139.0, 45873.0, 45361.0, 45263.0, 43911.0, 44015.0, 43350.0, 40612.0, 38569.0, 38031.0, 40406.0, 40592.0, 39808.0, 41543.0, 41593.0, 49085.0, 49639.0, 50815.0, 49657.0, 50562.0, 50293.0, 53228.0, 52908.0, 53911.0, 51718.0, 51804.0, 49723.0, 49051.0, 50619.0, 49422.0, 49534.0, 50105.0, 52233.0, 53141.0, 55578.0, 57002.0, 57308.0, 57661.0, 58298.0, 59099.0, 57716.0, 59616.0, 58000.0, 57080.0, 58697.0, 58367.0, 61109.0, 61767.0, 64108.0, 64308.0, 61598.0, 59184.0, 59962.0, 61559.0, 60316.0, 60501.0, 58389.0, 57937.0, 60227.0, 61665.0, 63652.0, 64521.0, 66034.0, 64954.0, 66125.0, 67748.0, 66662.0, 66786.0, 64675.0, 64210.0, 63854.0, 64984.0, 64593.0, 62826.0, 63761.0, 65403.0, 65710.0, 68222.0, 62639.0, 64085.0, 62511.0, 62211.0, 61626.0, 61087.0, 62900.0, 62322.0, 65436.0, 64684.0, 65497.0, 66898.0, 67359.0, 68715.0, 71074.0, 71923.0, 73079.0, 75757.0, 75390.0, 74294.0, 76055.0, 76990.0, 76391.0, 75976.0, 73915.0, 72166.0, 73437.0, 74157.0, 72264.0, 72732.0, 72608.0, 75187.0, 76402.0, 79071.0, 79349.0, 81220.0, 85531.0, 84041.0, 80899.0, 84525.0, 87293.0, 85761.0, 86371.0, 84886.0, 84377.0, 85366.0, 84820.0, 84334.0, 85550.0, 86445.0, 83118.0, 85220.0, 83082.0, 78898.0, 77240.0, 72942.0, 70758.0, 70641.0, 72763.0, 75010.0, 76594.0, 78571.0, 79866.0, 81435.0, 76514.0, 76029.0, 76262.0, 76678.0, 76416.0, 75429.0, 79444.0, 79342.0, 82322.0, 82921.0, 84220.0, 85720.0, 88419.0, 85641.0, 88515.0, 86230.0, 89504.0, 88115.0, 87450.0, 85697.0, 87887.0, 91841.0, 93658.0, 96097.0, 97677.0, 97861.0, 95343.0, 97526.0, 97886.0, 94604.0, 95365.0, 99137.0, 93735.0, 95415.0, 97108.0, 92875.0, 94578.0, 96236.0, 96008.0, 94258.0, 89993.0, 93628.0, 97030.0, 97821.0, 98040.0, 102013.0, 100967.0, 104089.0, 103906.0, 103452.0, 102819.0, 102674.0, 103996.0, 99806.0, 97667.0, 101135.0, 102935.0, 103501.0, 104817.0, 105078.0, 102551.0, 103832.0, 104729.0, 107364.0, 108196.0, 107629.0, 106557.0, 108692.0, 108233.0, 111126.0, 112565.0, 115121.0, 116534.0, 117707.0, 115503.0, 118478.0, 118376.0, 113761.0, 113770.0, 114381.0, 113681.0, 104172.0, 97997.0, 82678.0, 67069.0, 73429.0, 69538.0, 77682.0, 78990.0, 75331.0, 80506.0, 80263.0, 77557.0, 82173.0, 87403.0, 94637.0, 92795.0, 96572.0, 93834.0, 96765.0, 100032.0, 102888.0, 102382.0, 102912.0, 102776.0, 101353.0, 101521.0, 102143.0, 101242.0, 98363.0, 98290.0, 96999.0, 94016.0, 97483.0, 98309.0, 101260.0, 93952.0, 100799.0, 104512.0, 106042.0, 110575.0, 113682.0, 115323.0, 117679.0, 117857.0, 119306.0, 125077.0, 120502.0, 117172.0, 116007.0, 119925.0, 119116.0, 118748.0, 110035.0, 115202.0, 114160.0, 116222.0, 114781.0, 115253.0, 117670.0, 121114.0, 120530.0, 118894.0, 122038.0, 121881.0, 122592.0, 125561.0, 130126.0, 129441.0, 128405.0, 127256.0, 127622.0]}, {\"line\": {\"color\": \"#B2FF66\"}, \"name\": \"M\\u00e9dia M\\u00f3vel 9 Per\\u00edodos\", \"opacity\": 0.8, \"type\": \"scatter\", \"x\": [\"2015-07-06\", \"2015-07-13\", \"2015-07-20\", \"2015-07-27\", \"2015-08-03\", \"2015-08-10\", \"2015-08-17\", \"2015-08-24\", \"2015-08-31\", \"2015-09-07\", \"2015-09-14\", \"2015-09-21\", \"2015-09-28\", \"2015-10-05\", \"2015-10-12\", \"2015-10-19\", \"2015-10-26\", \"2015-11-02\", \"2015-11-09\", \"2015-11-16\", \"2015-11-23\", \"2015-11-30\", \"2015-12-07\", \"2015-12-14\", \"2015-12-21\", \"2015-12-28\", \"2016-01-04\", \"2016-01-11\", \"2016-01-18\", \"2016-01-25\", \"2016-02-01\", \"2016-02-08\", \"2016-02-15\", \"2016-02-22\", \"2016-02-29\", \"2016-03-07\", \"2016-03-14\", \"2016-03-21\", \"2016-03-28\", \"2016-04-04\", \"2016-04-11\", \"2016-04-18\", \"2016-04-25\", \"2016-05-02\", \"2016-05-09\", \"2016-05-16\", \"2016-05-23\", \"2016-05-30\", \"2016-06-06\", \"2016-06-13\", \"2016-06-20\", \"2016-06-27\", \"2016-07-04\", \"2016-07-11\", \"2016-07-18\", \"2016-07-25\", \"2016-08-01\", \"2016-08-08\", \"2016-08-15\", \"2016-08-22\", \"2016-08-29\", \"2016-09-05\", \"2016-09-12\", \"2016-09-19\", \"2016-09-26\", \"2016-10-03\", \"2016-10-10\", \"2016-10-17\", \"2016-10-24\", \"2016-10-31\", \"2016-11-07\", \"2016-11-14\", \"2016-11-21\", \"2016-11-28\", \"2016-12-05\", \"2016-12-12\", \"2016-12-19\", \"2016-12-26\", \"2017-01-02\", \"2017-01-09\", \"2017-01-16\", \"2017-01-23\", \"2017-01-30\", \"2017-02-06\", \"2017-02-13\", \"2017-02-20\", \"2017-02-27\", \"2017-03-06\", \"2017-03-13\", \"2017-03-20\", \"2017-03-27\", \"2017-04-03\", \"2017-04-10\", \"2017-04-17\", \"2017-04-24\", \"2017-05-01\", \"2017-05-08\", \"2017-05-15\", \"2017-05-22\", \"2017-05-29\", \"2017-06-05\", \"2017-06-12\", \"2017-06-19\", \"2017-06-26\", \"2017-07-03\", \"2017-07-10\", \"2017-07-17\", \"2017-07-24\", \"2017-07-31\", \"2017-08-07\", \"2017-08-14\", \"2017-08-21\", \"2017-08-28\", \"2017-09-04\", \"2017-09-11\", \"2017-09-18\", \"2017-09-25\", \"2017-10-02\", \"2017-10-09\", \"2017-10-16\", \"2017-10-23\", \"2017-10-30\", \"2017-11-06\", \"2017-11-13\", \"2017-11-20\", \"2017-11-27\", \"2017-12-04\", \"2017-12-11\", \"2017-12-18\", \"2017-12-25\", \"2018-01-01\", \"2018-01-08\", \"2018-01-15\", \"2018-01-22\", \"2018-01-29\", \"2018-02-05\", \"2018-02-12\", \"2018-02-19\", \"2018-02-26\", \"2018-03-05\", \"2018-03-12\", \"2018-03-19\", \"2018-03-26\", \"2018-04-02\", \"2018-04-09\", \"2018-04-16\", \"2018-04-23\", \"2018-04-30\", \"2018-05-07\", \"2018-05-14\", \"2018-05-21\", \"2018-05-28\", \"2018-06-04\", \"2018-06-11\", \"2018-06-18\", \"2018-06-25\", \"2018-07-02\", \"2018-07-09\", \"2018-07-16\", \"2018-07-23\", \"2018-07-30\", \"2018-08-06\", \"2018-08-13\", \"2018-08-20\", \"2018-08-27\", \"2018-09-03\", \"2018-09-10\", \"2018-09-17\", \"2018-09-24\", \"2018-10-01\", \"2018-10-08\", \"2018-10-15\", \"2018-10-22\", \"2018-10-29\", \"2018-11-05\", \"2018-11-12\", \"2018-11-19\", \"2018-11-26\", \"2018-12-03\", \"2018-12-10\", \"2018-12-17\", \"2018-12-24\", \"2018-12-31\", \"2019-01-07\", \"2019-01-14\", \"2019-01-21\", \"2019-01-28\", \"2019-02-04\", \"2019-02-11\", \"2019-02-18\", \"2019-02-25\", \"2019-03-04\", \"2019-03-11\", \"2019-03-18\", \"2019-03-25\", \"2019-04-01\", \"2019-04-08\", \"2019-04-15\", \"2019-04-22\", \"2019-04-29\", \"2019-05-06\", \"2019-05-13\", \"2019-05-20\", \"2019-05-27\", \"2019-06-03\", \"2019-06-10\", \"2019-06-17\", \"2019-06-24\", \"2019-07-01\", \"2019-07-08\", \"2019-07-15\", \"2019-07-22\", \"2019-07-29\", \"2019-08-05\", \"2019-08-12\", \"2019-08-19\", \"2019-08-26\", \"2019-09-02\", \"2019-09-09\", \"2019-09-16\", \"2019-09-23\", \"2019-09-30\", \"2019-10-07\", \"2019-10-14\", \"2019-10-21\", \"2019-10-28\", \"2019-11-04\", \"2019-11-11\", \"2019-11-18\", \"2019-11-25\", \"2019-12-02\", \"2019-12-09\", \"2019-12-16\", \"2019-12-23\", \"2019-12-30\", \"2020-01-06\", \"2020-01-13\", \"2020-01-20\", \"2020-01-27\", \"2020-02-03\", \"2020-02-10\", \"2020-02-17\", \"2020-02-24\", \"2020-03-02\", \"2020-03-09\", \"2020-03-16\", \"2020-03-23\", \"2020-03-30\", \"2020-04-06\", \"2020-04-13\", \"2020-04-20\", \"2020-04-27\", \"2020-05-04\", \"2020-05-11\", \"2020-05-18\", \"2020-05-25\", \"2020-06-01\", \"2020-06-08\", \"2020-06-15\", \"2020-06-22\", \"2020-06-29\", \"2020-07-06\", \"2020-07-13\", \"2020-07-20\", \"2020-07-27\", \"2020-08-03\", \"2020-08-10\", \"2020-08-17\", \"2020-08-24\", \"2020-08-31\", \"2020-09-07\", \"2020-09-14\", \"2020-09-21\", \"2020-09-28\", \"2020-10-05\", \"2020-10-12\", \"2020-10-19\", \"2020-10-26\", \"2020-11-02\", \"2020-11-09\", \"2020-11-16\", \"2020-11-23\", \"2020-11-30\", \"2020-12-07\", \"2020-12-14\", \"2020-12-21\", \"2020-12-28\", \"2021-01-04\", \"2021-01-11\", \"2021-01-18\", \"2021-01-25\", \"2021-02-01\", \"2021-02-08\", \"2021-02-15\", \"2021-02-22\", \"2021-03-01\", \"2021-03-08\", \"2021-03-15\", \"2021-03-22\", \"2021-03-29\", \"2021-04-05\", \"2021-04-12\", \"2021-04-19\", \"2021-04-26\", \"2021-05-03\", \"2021-05-10\", \"2021-05-17\", \"2021-05-24\", \"2021-05-31\", \"2021-06-07\", \"2021-06-14\", \"2021-06-21\", \"2021-06-28\"], \"y\": [null, null, null, null, null, null, null, null, 48944.555555555555, 48256.77777777778, 47692.555555555555, 47202.0, 46776.22222222222, 46860.77777777778, 46830.555555555555, 47039.11111111111, 46896.333333333336, 46943.11111111111, 46956.0, 47053.22222222222, 47169.0, 46983.22222222222, 46530.444444444445, 46161.0, 45763.0, 45483.11111111111, 44782.333333333336, 43899.22222222222, 42776.11111111111, 42168.666666666664, 41638.77777777778, 41032.666666666664, 40769.555555555555, 40500.444444444445, 41137.666666666664, 42140.666666666664, 43501.333333333336, 44793.11111111111, 45921.555555555555, 46999.444444444445, 48490.555555555555, 49753.333333333336, 51122.0, 51414.555555555555, 51655.11111111111, 51533.77777777778, 51466.444444444445, 51472.77777777778, 51376.0, 50965.555555555555, 50654.11111111111, 50467.666666666664, 50625.77777777778, 51045.11111111111, 51853.88888888889, 52771.333333333336, 53553.77777777778, 54540.0, 55602.77777777778, 56448.444444444445, 57268.77777777778, 57808.666666666664, 57975.555555555555, 58163.88888888889, 58281.555555555555, 58664.666666666664, 59050.11111111111, 59606.666666666664, 60339.11111111111, 60559.333333333336, 60690.88888888889, 61011.11111111111, 61329.11111111111, 61545.666666666664, 61478.11111111111, 61102.77777777778, 60417.11111111111, 59963.666666666664, 59971.11111111111, 60467.555555555555, 60974.11111111111, 61471.333333333336, 61986.666666666664, 62611.555555555555, 63651.444444444445, 64620.88888888889, 65349.666666666664, 65684.11111111111, 65746.11111111111, 65672.0, 65555.33333333333, 65515.22222222222, 65148.666666666664, 64705.666666666664, 64565.77777777778, 64446.22222222222, 64840.333333333336, 64665.77777777778, 64691.444444444445, 64416.666666666664, 64152.0, 64018.666666666664, 63721.555555555555, 63443.444444444445, 63067.0, 62757.444444444445, 62984.666666666664, 63141.555555555555, 63629.0, 64201.0, 64988.666666666664, 66098.33333333333, 67100.88888888889, 68296.11111111111, 69442.88888888889, 70632.44444444444, 71609.88888888889, 72627.33333333333, 73697.44444444444, 74550.33333333333, 75095.0, 75316.33333333333, 75214.88888888889, 74957.11111111111, 74820.11111111111, 74594.55555555556, 74225.33333333333, 73738.44444444444, 73604.66666666667, 73652.0, 74224.88888888889, 75023.0, 75887.77777777778, 77151.55555555556, 78460.11111111111, 79367.55555555556, 80691.66666666667, 82036.77777777778, 83076.66666666667, 83887.77777777778, 84503.0, 84853.77777777778, 84835.44444444444, 84922.0, 85303.66666666667, 85417.55555555556, 85323.33333333333, 85029.66666666667, 84901.77777777778, 84701.33333333333, 84092.55555555556, 83189.66666666667, 81869.88888888889, 80361.44444444444, 78704.88888888889, 77184.66666666667, 76283.77777777778, 75325.33333333333, 74824.11111111111, 74931.66666666667, 75397.77777777778, 75794.66666666667, 76380.33333333333, 77004.88888888889, 77439.88888888889, 77596.11111111111, 77466.66666666667, 77563.66666666667, 77505.44444444444, 77604.0, 78315.88888888889, 79226.0, 80276.88888888889, 81581.44444444444, 82606.44444444444, 84060.44444444444, 84814.44444444444, 85943.55555555556, 86587.22222222222, 87090.44444444444, 87254.55555555556, 87495.33333333333, 87875.55555555556, 88766.33333333333, 89608.77777777778, 90880.66666666667, 91809.22222222222, 92612.33333333333, 93731.88888888889, 95086.22222222222, 95832.55555555556, 96224.11111111111, 96832.88888888889, 96570.44444444444, 96319.11111111111, 96235.44444444444, 95961.22222222222, 95633.66666666667, 95450.33333333333, 95606.33333333333, 95483.33333333333, 94467.33333333333, 94455.44444444444, 94634.88888888889, 94714.11111111111, 95288.0, 96114.11111111111, 96639.77777777778, 97537.66666666667, 98609.66666666667, 100105.11111111111, 101126.33333333333, 101753.44444444444, 102439.55555555556, 102635.77777777778, 102152.88888888889, 102171.55555555556, 102043.33333333333, 101998.33333333333, 102150.0, 102401.0, 102387.33333333333, 102369.11111111111, 102916.11111111111, 103993.55555555556, 104778.11111111111, 105299.66666666667, 105639.22222222222, 106069.77777777778, 106420.33333333333, 107373.11111111111, 108343.44444444444, 109498.11111111111, 110517.0, 111573.77777777778, 112448.66666666667, 113773.22222222222, 114849.22222222222, 115463.44444444444, 115757.22222222222, 115959.0, 115799.0, 114425.44444444444, 112235.44444444444, 108588.22222222222, 102876.11111111111, 97882.0, 92968.33333333333, 88958.55555555556, 85026.22222222222, 80765.11111111111, 78135.55555555556, 76165.11111111111, 75596.11111111111, 77274.33333333333, 78827.0, 81615.77777777778, 83295.0, 85248.55555555556, 87304.44444444444, 89111.0, 91307.55555555556, 94122.11111111111, 96367.55555555556, 98090.77777777778, 98995.11111111111, 99946.0, 100495.88888888889, 101419.11111111111, 101916.55555555556, 101731.11111111111, 101220.22222222222, 100622.11111111111, 99633.66666666667, 99045.55555555556, 98707.33333333333, 98678.33333333333, 97768.22222222222, 97719.0, 98402.22222222222, 99263.55555555556, 100772.0, 102957.11111111111, 104939.33333333333, 107091.55555555556, 108935.66666666667, 111752.77777777778, 114450.33333333333, 116227.0, 117463.66666666667, 118067.22222222222, 118760.88888888889, 119182.33333333333, 119301.11111111111, 118432.0, 117976.0, 116763.0, 116287.44444444444, 116021.77777777778, 115938.0, 115687.44444444444, 115909.44444444444, 116107.44444444444, 117091.77777777778, 117851.33333333333, 118709.22222222222, 119417.0, 120614.77777777778, 122267.33333333333, 123575.22222222222, 124385.33333333333, 125132.66666666667, 126102.44444444444]}, {\"line\": {\"color\": \"#FF00FF\"}, \"name\": \"M\\u00e9dia M\\u00f3vel 17 Per\\u00edodos\", \"opacity\": 0.8, \"type\": \"scatter\", \"x\": [\"2015-07-06\", \"2015-07-13\", \"2015-07-20\", \"2015-07-27\", \"2015-08-03\", \"2015-08-10\", \"2015-08-17\", \"2015-08-24\", \"2015-08-31\", \"2015-09-07\", \"2015-09-14\", \"2015-09-21\", \"2015-09-28\", \"2015-10-05\", \"2015-10-12\", \"2015-10-19\", \"2015-10-26\", \"2015-11-02\", \"2015-11-09\", \"2015-11-16\", \"2015-11-23\", \"2015-11-30\", \"2015-12-07\", \"2015-12-14\", \"2015-12-21\", \"2015-12-28\", \"2016-01-04\", \"2016-01-11\", \"2016-01-18\", \"2016-01-25\", \"2016-02-01\", \"2016-02-08\", \"2016-02-15\", \"2016-02-22\", \"2016-02-29\", \"2016-03-07\", \"2016-03-14\", \"2016-03-21\", \"2016-03-28\", \"2016-04-04\", \"2016-04-11\", \"2016-04-18\", \"2016-04-25\", \"2016-05-02\", \"2016-05-09\", \"2016-05-16\", \"2016-05-23\", \"2016-05-30\", \"2016-06-06\", \"2016-06-13\", \"2016-06-20\", \"2016-06-27\", \"2016-07-04\", \"2016-07-11\", \"2016-07-18\", \"2016-07-25\", \"2016-08-01\", \"2016-08-08\", \"2016-08-15\", \"2016-08-22\", \"2016-08-29\", \"2016-09-05\", \"2016-09-12\", \"2016-09-19\", \"2016-09-26\", \"2016-10-03\", \"2016-10-10\", \"2016-10-17\", \"2016-10-24\", \"2016-10-31\", \"2016-11-07\", \"2016-11-14\", \"2016-11-21\", \"2016-11-28\", \"2016-12-05\", \"2016-12-12\", \"2016-12-19\", \"2016-12-26\", \"2017-01-02\", \"2017-01-09\", \"2017-01-16\", \"2017-01-23\", \"2017-01-30\", \"2017-02-06\", \"2017-02-13\", \"2017-02-20\", \"2017-02-27\", \"2017-03-06\", \"2017-03-13\", \"2017-03-20\", \"2017-03-27\", \"2017-04-03\", \"2017-04-10\", \"2017-04-17\", \"2017-04-24\", \"2017-05-01\", \"2017-05-08\", \"2017-05-15\", \"2017-05-22\", \"2017-05-29\", \"2017-06-05\", \"2017-06-12\", \"2017-06-19\", \"2017-06-26\", \"2017-07-03\", \"2017-07-10\", \"2017-07-17\", \"2017-07-24\", \"2017-07-31\", \"2017-08-07\", \"2017-08-14\", \"2017-08-21\", \"2017-08-28\", \"2017-09-04\", \"2017-09-11\", \"2017-09-18\", \"2017-09-25\", \"2017-10-02\", \"2017-10-09\", \"2017-10-16\", \"2017-10-23\", \"2017-10-30\", \"2017-11-06\", \"2017-11-13\", \"2017-11-20\", \"2017-11-27\", \"2017-12-04\", \"2017-12-11\", \"2017-12-18\", \"2017-12-25\", \"2018-01-01\", \"2018-01-08\", \"2018-01-15\", \"2018-01-22\", \"2018-01-29\", \"2018-02-05\", \"2018-02-12\", \"2018-02-19\", \"2018-02-26\", \"2018-03-05\", \"2018-03-12\", \"2018-03-19\", \"2018-03-26\", \"2018-04-02\", \"2018-04-09\", \"2018-04-16\", \"2018-04-23\", \"2018-04-30\", \"2018-05-07\", \"2018-05-14\", \"2018-05-21\", \"2018-05-28\", \"2018-06-04\", \"2018-06-11\", \"2018-06-18\", \"2018-06-25\", \"2018-07-02\", \"2018-07-09\", \"2018-07-16\", \"2018-07-23\", \"2018-07-30\", \"2018-08-06\", \"2018-08-13\", \"2018-08-20\", \"2018-08-27\", \"2018-09-03\", \"2018-09-10\", \"2018-09-17\", \"2018-09-24\", \"2018-10-01\", \"2018-10-08\", \"2018-10-15\", \"2018-10-22\", \"2018-10-29\", \"2018-11-05\", \"2018-11-12\", \"2018-11-19\", \"2018-11-26\", \"2018-12-03\", \"2018-12-10\", \"2018-12-17\", \"2018-12-24\", \"2018-12-31\", \"2019-01-07\", \"2019-01-14\", \"2019-01-21\", \"2019-01-28\", \"2019-02-04\", \"2019-02-11\", \"2019-02-18\", \"2019-02-25\", \"2019-03-04\", \"2019-03-11\", \"2019-03-18\", \"2019-03-25\", \"2019-04-01\", \"2019-04-08\", \"2019-04-15\", \"2019-04-22\", \"2019-04-29\", \"2019-05-06\", \"2019-05-13\", \"2019-05-20\", \"2019-05-27\", \"2019-06-03\", \"2019-06-10\", \"2019-06-17\", \"2019-06-24\", \"2019-07-01\", \"2019-07-08\", \"2019-07-15\", \"2019-07-22\", \"2019-07-29\", \"2019-08-05\", \"2019-08-12\", \"2019-08-19\", \"2019-08-26\", \"2019-09-02\", \"2019-09-09\", \"2019-09-16\", \"2019-09-23\", \"2019-09-30\", \"2019-10-07\", \"2019-10-14\", \"2019-10-21\", \"2019-10-28\", \"2019-11-04\", \"2019-11-11\", \"2019-11-18\", \"2019-11-25\", \"2019-12-02\", \"2019-12-09\", \"2019-12-16\", \"2019-12-23\", \"2019-12-30\", \"2020-01-06\", \"2020-01-13\", \"2020-01-20\", \"2020-01-27\", \"2020-02-03\", \"2020-02-10\", \"2020-02-17\", \"2020-02-24\", \"2020-03-02\", \"2020-03-09\", \"2020-03-16\", \"2020-03-23\", \"2020-03-30\", \"2020-04-06\", \"2020-04-13\", \"2020-04-20\", \"2020-04-27\", \"2020-05-04\", \"2020-05-11\", \"2020-05-18\", \"2020-05-25\", \"2020-06-01\", \"2020-06-08\", \"2020-06-15\", \"2020-06-22\", \"2020-06-29\", \"2020-07-06\", \"2020-07-13\", \"2020-07-20\", \"2020-07-27\", \"2020-08-03\", \"2020-08-10\", \"2020-08-17\", \"2020-08-24\", \"2020-08-31\", \"2020-09-07\", \"2020-09-14\", \"2020-09-21\", \"2020-09-28\", \"2020-10-05\", \"2020-10-12\", \"2020-10-19\", \"2020-10-26\", \"2020-11-02\", \"2020-11-09\", \"2020-11-16\", \"2020-11-23\", \"2020-11-30\", \"2020-12-07\", \"2020-12-14\", \"2020-12-21\", \"2020-12-28\", \"2021-01-04\", \"2021-01-11\", \"2021-01-18\", \"2021-01-25\", \"2021-02-01\", \"2021-02-08\", \"2021-02-15\", \"2021-02-22\", \"2021-03-01\", \"2021-03-08\", \"2021-03-15\", \"2021-03-22\", \"2021-03-29\", \"2021-04-05\", \"2021-04-12\", \"2021-04-19\", \"2021-04-26\", \"2021-05-03\", \"2021-05-10\", \"2021-05-17\", \"2021-05-24\", \"2021-05-31\", \"2021-06-07\", \"2021-06-14\", \"2021-06-21\", \"2021-06-28\"], \"y\": [null, null, null, null, null, null, null, null, null, null, null, null, null, null, null, null, 48004.117647058825, 47670.470588235294, 47327.82352941176, 47262.705882352944, 46969.05882352941, 46779.882352941175, 46647.82352941176, 46541.41176470588, 46356.76470588235, 46171.58823529412, 45831.05882352941, 45319.58823529412, 44919.58823529412, 44529.76470588235, 44015.294117647056, 43578.35294117647, 43222.23529411765, 42970.705882352944, 43098.117647058825, 43281.76470588235, 43439.17647058824, 43661.76470588235, 43967.705882352944, 44263.58823529412, 44811.64705882353, 45334.76470588235, 45956.0, 46609.294117647056, 47387.82352941176, 48075.58823529412, 48584.117647058825, 49173.94117647059, 49739.470588235294, 50209.529411764706, 50710.23529411765, 50895.41176470588, 51101.41176470588, 51381.58823529412, 51813.64705882353, 52210.470588235294, 52643.882352941175, 52942.117647058825, 53306.294117647056, 53530.117647058825, 53994.705882352944, 54359.17647058824, 54791.94117647059, 55359.35294117647, 55815.117647058825, 56502.58823529412, 57222.17647058824, 58045.882352941175, 58756.17647058824, 59253.64705882353, 59465.76470588235, 59639.882352941175, 59889.94117647059, 60046.117647058825, 60175.705882352944, 60133.94117647059, 60146.94117647059, 60182.882352941175, 60398.470588235294, 60785.05882352941, 61127.64705882353, 61578.64705882353, 61804.82352941176, 62061.17647058824, 62275.294117647056, 62413.76470588235, 62718.94117647059, 63041.94117647059, 63291.82352941176, 63426.82352941176, 63701.41176470588, 63942.117647058825, 64203.117647058825, 64545.705882352944, 64850.17647058824, 65088.117647058825, 65356.94117647059, 65246.23529411765, 65131.58823529412, 64987.882352941175, 64757.64705882353, 64397.529411764706, 64069.58823529412, 63841.0, 63702.58823529412, 63774.705882352944, 63823.529411764706, 63853.705882352944, 63989.294117647056, 64255.94117647059, 64547.35294117647, 64880.94117647059, 65246.41176470588, 65532.117647058825, 66303.76470588235, 66968.76470588235, 67661.88235294117, 68476.23529411765, 69380.0, 70280.23529411765, 71049.41176470589, 71731.35294117648, 72127.23529411765, 72642.11764705883, 73151.5294117647, 73467.17647058824, 73783.23529411765, 74012.23529411765, 74254.17647058824, 74517.64705882352, 74870.11764705883, 75081.41176470589, 75424.35294117648, 76085.35294117648, 76555.11764705883, 76785.05882352941, 77263.5294117647, 77929.23529411765, 78626.05882352941, 79461.64705882352, 80135.11764705883, 80736.29411764706, 81507.0, 82218.05882352941, 82907.82352941176, 83517.41176470589, 84108.17647058824, 84346.23529411765, 84691.58823529411, 84801.11764705883, 84410.94117647059, 84010.88235294117, 83542.82352941176, 82733.0, 81753.4705882353, 80988.88235294117, 80320.58823529411, 79832.82352941176, 79491.29411764706, 79167.76470588235, 78968.64705882352, 78508.64705882352, 77948.58823529411, 77349.58823529411, 76970.76470588235, 76452.88235294117, 76002.70588235294, 76034.82352941176, 76158.4705882353, 76710.23529411765, 77425.70588235294, 78224.4705882353, 78986.64705882352, 79775.41176470589, 80307.58823529411, 80892.5294117647, 81266.88235294117, 81741.5294117647, 82423.94117647059, 83095.76470588235, 83650.76470588235, 84310.11764705883, 85217.4705882353, 86289.76470588235, 87269.35294117648, 88347.88235294117, 89261.94117647059, 89992.64705882352, 90775.35294117648, 91491.0, 91854.82352941176, 92426.82352941176, 93051.64705882352, 93493.11764705883, 93840.82352941176, 94369.82352941176, 94688.94117647059, 95211.35294117648, 95702.4705882353, 95947.58823529411, 95982.88235294117, 95623.82352941176, 95385.64705882352, 95336.76470588235, 95482.5294117647, 95512.76470588235, 95755.5294117647, 96129.82352941176, 96643.0, 96923.5294117647, 97495.11764705883, 97930.64705882352, 98258.05882352941, 98912.23529411765, 99219.76470588235, 99303.94117647059, 99605.5294117647, 100115.94117647059, 100910.5294117647, 101568.70588235294, 102042.11764705883, 102320.35294117648, 102661.05882352941, 102820.82352941176, 103197.11764705883, 103438.70588235294, 103657.70588235294, 103840.35294117648, 104185.82352941176, 104512.82352941176, 104932.23529411765, 105682.76470588235, 106709.4705882353, 107615.29411764706, 108484.23529411765, 109190.23529411765, 109993.82352941176, 110776.05882352941, 111435.4705882353, 112020.05882352941, 112587.82352941176, 112959.41176470589, 112722.70588235294, 112156.11764705883, 110751.4705882353, 108303.05882352941, 106255.76470588235, 103809.41176470589, 101757.4705882353, 99632.11764705883, 97208.41176470589, 95020.11764705883, 92947.17647058824, 90540.05882352941, 88410.4705882353, 86860.0, 85734.5294117647, 84464.76470588235, 83458.35294117648, 82850.23529411765, 82777.76470588235, 83798.58823529411, 85905.58823529411, 87608.70588235294, 89571.88235294117, 91048.0, 92363.4705882353, 93904.05882352941, 95176.82352941176, 96410.88235294117, 97634.76470588235, 98582.82352941176, 99147.29411764706, 99110.76470588235, 99386.5294117647, 99488.70588235294, 99925.5294117647, 99760.05882352941, 99805.17647058824, 99900.70588235294, 100116.0, 100566.76470588235, 101208.29411764706, 102030.05882352941, 102980.5294117647, 103904.88235294117, 104967.4705882353, 106538.88235294117, 107845.4705882353, 109032.11764705883, 110325.70588235294, 111645.82352941176, 112869.76470588235, 113898.4705882353, 114844.5294117647, 115691.76470588235, 116259.29411764706, 116858.11764705883, 117105.5294117647, 117197.94117647059, 117336.0, 117538.05882352941, 117695.29411764706, 117671.05882352941, 117492.29411764706, 117573.41176470589, 117892.23529411765, 118454.23529411765, 119054.29411764706, 119661.64705882352, 120229.70588235294, 121242.70588235294, 121973.29411764706]}],                        {\"template\": {\"data\": {\"bar\": [{\"error_x\": {\"color\": \"#2a3f5f\"}, \"error_y\": {\"color\": \"#2a3f5f\"}, \"marker\": {\"line\": {\"color\": \"#E5ECF6\", \"width\": 0.5}}, \"type\": \"bar\"}], \"barpolar\": [{\"marker\": {\"line\": {\"color\": \"#E5ECF6\", \"width\": 0.5}}, \"type\": \"barpolar\"}], \"carpet\": [{\"aaxis\": {\"endlinecolor\": \"#2a3f5f\", \"gridcolor\": \"white\", \"linecolor\": \"white\", \"minorgridcolor\": \"white\", \"startlinecolor\": \"#2a3f5f\"}, \"baxis\": {\"endlinecolor\": \"#2a3f5f\", \"gridcolor\": \"white\", \"linecolor\": \"white\", \"minorgridcolor\": \"white\", \"startlinecolor\": \"#2a3f5f\"}, \"type\": \"carpet\"}], \"choropleth\": [{\"colorbar\": {\"outlinewidth\": 0, \"ticks\": \"\"}, \"type\": \"choropleth\"}], \"contour\": [{\"colorbar\": {\"outlinewidth\": 0, \"ticks\": \"\"}, \"colorscale\": [[0.0, \"#0d0887\"], [0.1111111111111111, \"#46039f\"], [0.2222222222222222, \"#7201a8\"], [0.3333333333333333, \"#9c179e\"], [0.4444444444444444, \"#bd3786\"], [0.5555555555555556, \"#d8576b\"], [0.6666666666666666, \"#ed7953\"], [0.7777777777777778, \"#fb9f3a\"], [0.8888888888888888, \"#fdca26\"], [1.0, \"#f0f921\"]], \"type\": \"contour\"}], \"contourcarpet\": [{\"colorbar\": {\"outlinewidth\": 0, \"ticks\": \"\"}, \"type\": \"contourcarpet\"}], \"heatmap\": [{\"colorbar\": {\"outlinewidth\": 0, \"ticks\": \"\"}, \"colorscale\": [[0.0, \"#0d0887\"], [0.1111111111111111, \"#46039f\"], [0.2222222222222222, \"#7201a8\"], [0.3333333333333333, \"#9c179e\"], [0.4444444444444444, \"#bd3786\"], [0.5555555555555556, \"#d8576b\"], [0.6666666666666666, \"#ed7953\"], [0.7777777777777778, \"#fb9f3a\"], [0.8888888888888888, \"#fdca26\"], [1.0, \"#f0f921\"]], \"type\": \"heatmap\"}], \"heatmapgl\": [{\"colorbar\": {\"outlinewidth\": 0, \"ticks\": \"\"}, \"colorscale\": [[0.0, \"#0d0887\"], [0.1111111111111111, \"#46039f\"], [0.2222222222222222, \"#7201a8\"], [0.3333333333333333, \"#9c179e\"], [0.4444444444444444, \"#bd3786\"], [0.5555555555555556, \"#d8576b\"], [0.6666666666666666, \"#ed7953\"], [0.7777777777777778, \"#fb9f3a\"], [0.8888888888888888, \"#fdca26\"], [1.0, \"#f0f921\"]], \"type\": \"heatmapgl\"}], \"histogram\": [{\"marker\": {\"colorbar\": {\"outlinewidth\": 0, \"ticks\": \"\"}}, \"type\": \"histogram\"}], \"histogram2d\": [{\"colorbar\": {\"outlinewidth\": 0, \"ticks\": \"\"}, \"colorscale\": [[0.0, \"#0d0887\"], [0.1111111111111111, \"#46039f\"], [0.2222222222222222, \"#7201a8\"], [0.3333333333333333, \"#9c179e\"], [0.4444444444444444, \"#bd3786\"], [0.5555555555555556, \"#d8576b\"], [0.6666666666666666, \"#ed7953\"], [0.7777777777777778, \"#fb9f3a\"], [0.8888888888888888, \"#fdca26\"], [1.0, \"#f0f921\"]], \"type\": \"histogram2d\"}], \"histogram2dcontour\": [{\"colorbar\": {\"outlinewidth\": 0, \"ticks\": \"\"}, \"colorscale\": [[0.0, \"#0d0887\"], [0.1111111111111111, \"#46039f\"], [0.2222222222222222, \"#7201a8\"], [0.3333333333333333, \"#9c179e\"], [0.4444444444444444, \"#bd3786\"], [0.5555555555555556, \"#d8576b\"], [0.6666666666666666, \"#ed7953\"], [0.7777777777777778, \"#fb9f3a\"], [0.8888888888888888, \"#fdca26\"], [1.0, \"#f0f921\"]], \"type\": \"histogram2dcontour\"}], \"mesh3d\": [{\"colorbar\": {\"outlinewidth\": 0, \"ticks\": \"\"}, \"type\": \"mesh3d\"}], \"parcoords\": [{\"line\": {\"colorbar\": {\"outlinewidth\": 0, \"ticks\": \"\"}}, \"type\": \"parcoords\"}], \"pie\": [{\"automargin\": true, \"type\": \"pie\"}], \"scatter\": [{\"marker\": {\"colorbar\": {\"outlinewidth\": 0, \"ticks\": \"\"}}, \"type\": \"scatter\"}], \"scatter3d\": [{\"line\": {\"colorbar\": {\"outlinewidth\": 0, \"ticks\": \"\"}}, \"marker\": {\"colorbar\": {\"outlinewidth\": 0, \"ticks\": \"\"}}, \"type\": \"scatter3d\"}], \"scattercarpet\": [{\"marker\": {\"colorbar\": {\"outlinewidth\": 0, \"ticks\": \"\"}}, \"type\": \"scattercarpet\"}], \"scattergeo\": [{\"marker\": {\"colorbar\": {\"outlinewidth\": 0, \"ticks\": \"\"}}, \"type\": \"scattergeo\"}], \"scattergl\": [{\"marker\": {\"colorbar\": {\"outlinewidth\": 0, \"ticks\": \"\"}}, \"type\": \"scattergl\"}], \"scattermapbox\": [{\"marker\": {\"colorbar\": {\"outlinewidth\": 0, \"ticks\": \"\"}}, \"type\": \"scattermapbox\"}], \"scatterpolar\": [{\"marker\": {\"colorbar\": {\"outlinewidth\": 0, \"ticks\": \"\"}}, \"type\": \"scatterpolar\"}], \"scatterpolargl\": [{\"marker\": {\"colorbar\": {\"outlinewidth\": 0, \"ticks\": \"\"}}, \"type\": \"scatterpolargl\"}], \"scatterternary\": [{\"marker\": {\"colorbar\": {\"outlinewidth\": 0, \"ticks\": \"\"}}, \"type\": \"scatterternary\"}], \"surface\": [{\"colorbar\": {\"outlinewidth\": 0, \"ticks\": \"\"}, \"colorscale\": [[0.0, \"#0d0887\"], [0.1111111111111111, \"#46039f\"], [0.2222222222222222, \"#7201a8\"], [0.3333333333333333, \"#9c179e\"], [0.4444444444444444, \"#bd3786\"], [0.5555555555555556, \"#d8576b\"], [0.6666666666666666, \"#ed7953\"], [0.7777777777777778, \"#fb9f3a\"], [0.8888888888888888, \"#fdca26\"], [1.0, \"#f0f921\"]], \"type\": \"surface\"}], \"table\": [{\"cells\": {\"fill\": {\"color\": \"#EBF0F8\"}, \"line\": {\"color\": \"white\"}}, \"header\": {\"fill\": {\"color\": \"#C8D4E3\"}, \"line\": {\"color\": \"white\"}}, \"type\": \"table\"}]}, \"layout\": {\"annotationdefaults\": {\"arrowcolor\": \"#2a3f5f\", \"arrowhead\": 0, \"arrowwidth\": 1}, \"autotypenumbers\": \"strict\", \"coloraxis\": {\"colorbar\": {\"outlinewidth\": 0, \"ticks\": \"\"}}, \"colorscale\": {\"diverging\": [[0, \"#8e0152\"], [0.1, \"#c51b7d\"], [0.2, \"#de77ae\"], [0.3, \"#f1b6da\"], [0.4, \"#fde0ef\"], [0.5, \"#f7f7f7\"], [0.6, \"#e6f5d0\"], [0.7, \"#b8e186\"], [0.8, \"#7fbc41\"], [0.9, \"#4d9221\"], [1, \"#276419\"]], \"sequential\": [[0.0, \"#0d0887\"], [0.1111111111111111, \"#46039f\"], [0.2222222222222222, \"#7201a8\"], [0.3333333333333333, \"#9c179e\"], [0.4444444444444444, \"#bd3786\"], [0.5555555555555556, \"#d8576b\"], [0.6666666666666666, \"#ed7953\"], [0.7777777777777778, \"#fb9f3a\"], [0.8888888888888888, \"#fdca26\"], [1.0, \"#f0f921\"]], \"sequentialminus\": [[0.0, \"#0d0887\"], [0.1111111111111111, \"#46039f\"], [0.2222222222222222, \"#7201a8\"], [0.3333333333333333, \"#9c179e\"], [0.4444444444444444, \"#bd3786\"], [0.5555555555555556, \"#d8576b\"], [0.6666666666666666, \"#ed7953\"], [0.7777777777777778, \"#fb9f3a\"], [0.8888888888888888, \"#fdca26\"], [1.0, \"#f0f921\"]]}, \"colorway\": [\"#636efa\", \"#EF553B\", \"#00cc96\", \"#ab63fa\", \"#FFA15A\", \"#19d3f3\", \"#FF6692\", \"#B6E880\", \"#FF97FF\", \"#FECB52\"], \"font\": {\"color\": \"#2a3f5f\"}, \"geo\": {\"bgcolor\": \"white\", \"lakecolor\": \"white\", \"landcolor\": \"#E5ECF6\", \"showlakes\": true, \"showland\": true, \"subunitcolor\": \"white\"}, \"hoverlabel\": {\"align\": \"left\"}, \"hovermode\": \"closest\", \"mapbox\": {\"style\": \"light\"}, \"paper_bgcolor\": \"white\", \"plot_bgcolor\": \"#E5ECF6\", \"polar\": {\"angularaxis\": {\"gridcolor\": \"white\", \"linecolor\": \"white\", \"ticks\": \"\"}, \"bgcolor\": \"#E5ECF6\", \"radialaxis\": {\"gridcolor\": \"white\", \"linecolor\": \"white\", \"ticks\": \"\"}}, \"scene\": {\"xaxis\": {\"backgroundcolor\": \"#E5ECF6\", \"gridcolor\": \"white\", \"gridwidth\": 2, \"linecolor\": \"white\", \"showbackground\": true, \"ticks\": \"\", \"zerolinecolor\": \"white\"}, \"yaxis\": {\"backgroundcolor\": \"#E5ECF6\", \"gridcolor\": \"white\", \"gridwidth\": 2, \"linecolor\": \"white\", \"showbackground\": true, \"ticks\": \"\", \"zerolinecolor\": \"white\"}, \"zaxis\": {\"backgroundcolor\": \"#E5ECF6\", \"gridcolor\": \"white\", \"gridwidth\": 2, \"linecolor\": \"white\", \"showbackground\": true, \"ticks\": \"\", \"zerolinecolor\": \"white\"}}, \"shapedefaults\": {\"line\": {\"color\": \"#2a3f5f\"}}, \"ternary\": {\"aaxis\": {\"gridcolor\": \"white\", \"linecolor\": \"white\", \"ticks\": \"\"}, \"baxis\": {\"gridcolor\": \"white\", \"linecolor\": \"white\", \"ticks\": \"\"}, \"bgcolor\": \"#E5ECF6\", \"caxis\": {\"gridcolor\": \"white\", \"linecolor\": \"white\", \"ticks\": \"\"}}, \"title\": {\"x\": 0.05}, \"xaxis\": {\"automargin\": true, \"gridcolor\": \"white\", \"linecolor\": \"white\", \"ticks\": \"\", \"title\": {\"standoff\": 15}, \"zerolinecolor\": \"white\", \"zerolinewidth\": 2}, \"yaxis\": {\"automargin\": true, \"gridcolor\": \"white\", \"linecolor\": \"white\", \"ticks\": \"\", \"title\": {\"standoff\": 15}, \"zerolinecolor\": \"white\", \"zerolinewidth\": 2}}}},                        {\"responsive\": true}                    ).then(function(){\n",
       "                            \n",
       "var gd = document.getElementById('cd6af990-8b3e-41ca-b581-5daa1f8cf299');\n",
       "var x = new MutationObserver(function (mutations, observer) {{\n",
       "        var display = window.getComputedStyle(gd).display;\n",
       "        if (!display || display === 'none') {{\n",
       "            console.log([gd, 'removed!']);\n",
       "            Plotly.purge(gd);\n",
       "            observer.disconnect();\n",
       "        }}\n",
       "}});\n",
       "\n",
       "// Listen for the removal of the full notebook cells\n",
       "var notebookContainer = gd.closest('#notebook-container');\n",
       "if (notebookContainer) {{\n",
       "    x.observe(notebookContainer, {childList: true});\n",
       "}}\n",
       "\n",
       "// Listen for the clearing of the current output cell\n",
       "var outputEl = gd.closest('.output');\n",
       "if (outputEl) {{\n",
       "    x.observe(outputEl, {childList: true});\n",
       "}}\n",
       "\n",
       "                        })                };                });            </script>        </div>"
      ]
     },
     "metadata": {},
     "output_type": "display_data"
    }
   ],
   "source": [
    "close = go.Scatter(x=df.Date,\n",
    "                   y=df.Close,\n",
    "                   name = \"IBOV Close\",\n",
    "                   line = dict(color = '#330000'),\n",
    "                   opacity = 0.8)\n",
    "\n",
    "MM_9 = go.Scatter(x=df.Date,\n",
    "                  y=df['MM_9'],\n",
    "                  name = \"Média Móvel 9 Períodos\",\n",
    "                  line = dict(color = '#B2FF66'),\n",
    "                  opacity = 0.8)\n",
    "\n",
    "MM_17 = go.Scatter(x=df.Date,\n",
    "                   y=df['MM_17'],\n",
    "                   name = \"Média Móvel 17 Períodos\",\n",
    "                   line = dict(color = '#FF00FF'),\n",
    "                   opacity = 0.8)\n",
    "\n",
    "data = [close, MM_9, MM_17]\n",
    "\n",
    "py.iplot(data)"
   ]
  },
  {
   "cell_type": "code",
   "execution_count": null,
   "id": "66540f1f",
   "metadata": {},
   "outputs": [],
   "source": []
  }
 ],
 "metadata": {
  "kernelspec": {
   "display_name": "Python 3",
   "language": "python",
   "name": "python3"
  },
  "language_info": {
   "codemirror_mode": {
    "name": "ipython",
    "version": 3
   },
   "file_extension": ".py",
   "mimetype": "text/x-python",
   "name": "python",
   "nbconvert_exporter": "python",
   "pygments_lexer": "ipython3",
   "version": "3.7.10"
  }
 },
 "nbformat": 4,
 "nbformat_minor": 5
}
